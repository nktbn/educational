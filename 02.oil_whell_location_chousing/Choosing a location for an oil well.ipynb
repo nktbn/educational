{
 "cells": [
  {
   "cell_type": "markdown",
   "metadata": {},
   "source": [
    "# Выбор локации для скважины"
   ]
  },
  {
   "cell_type": "markdown",
   "metadata": {},
   "source": [
    "Предоставлены данные пробы нефти в трёх регионах: в каждом 10 000 месторождений, где измерили качество нефти и объём её запасов. \n",
    "\n",
    "**Задачи:**\n",
    "- Построить модель машинного обучения, которая поможет определить регион, где добыча принесёт наибольшую прибыль. \n",
    "- Проанализировать возможную прибыль и риски.\n",
    "\n",
    "**Условия задач:**\n",
    "- Бюджет на разработку скважин в регионе — 10 млрд рублей\n",
    "- Доход с каждой единицы продукта - 450 тыс. рублей\n",
    "- Оставить лишь те регионы, в которых вероятность убытков меньше 2.5%\n",
    "- При обучении модели использовать линейную регрессию\n",
    "\n"
   ]
  },
  {
   "cell_type": "markdown",
   "metadata": {},
   "source": [
    "### Импорт библиотек"
   ]
  },
  {
   "cell_type": "code",
   "execution_count": 70,
   "metadata": {
    "tags": []
   },
   "outputs": [],
   "source": [
    "import pandas as pd\n",
    "import matplotlib.pyplot as plt\n",
    "import numpy as np\n",
    "import math\n",
    "\n",
    "from sklearn.model_selection import train_test_split\n",
    "from sklearn.linear_model import LinearRegression\n",
    "from sklearn.metrics import mean_squared_error\n",
    "from sklearn.pipeline import Pipeline\n",
    "from sklearn.preprocessing import MinMaxScaler, StandardScaler"
   ]
  },
  {
   "cell_type": "markdown",
   "metadata": {},
   "source": [
    "### Константы"
   ]
  },
  {
   "cell_type": "code",
   "execution_count": 72,
   "metadata": {
    "tags": []
   },
   "outputs": [],
   "source": [
    "RANDOM_STATE = 0\n",
    "RS = np.random.RandomState(RANDOM_STATE)"
   ]
  },
  {
   "cell_type": "code",
   "execution_count": 73,
   "metadata": {},
   "outputs": [],
   "source": [
    "PRODUCT_PRICE = 450  # доход с единицы продукта тыс.руб.\n",
    "WELLS_FOR_RESEARCH = 500  # кол-во точек для исследования\n",
    "WELLS_FOR_USE = 200  # кол-во лучших точек для разработки скважин\n",
    "BUDGET = 10**7  # бюджет на регион\n",
    "ALPHA = .025"
   ]
  },
  {
   "cell_type": "markdown",
   "metadata": {},
   "source": [
    "## Загрузка и подготовка данных"
   ]
  },
  {
   "cell_type": "code",
   "execution_count": 75,
   "metadata": {
    "tags": []
   },
   "outputs": [],
   "source": [
    "geo_data_0 = pd.read_csv('geo_data_0.csv')\n",
    "geo_data_1 = pd.read_csv('geo_data_1.csv')\n",
    "geo_data_2 = pd.read_csv('geo_data_2.csv')\n",
    "geo_data_all = [geo_data_0, geo_data_1, geo_data_2]"
   ]
  },
  {
   "cell_type": "markdown",
   "metadata": {},
   "source": [
    "Данные загружены, следует посмотреть на них."
   ]
  },
  {
   "cell_type": "code",
   "execution_count": 77,
   "metadata": {
    "tags": []
   },
   "outputs": [
    {
     "name": "stdout",
     "output_type": "stream",
     "text": [
      "                                             geo_data_0                                             \n",
      "Метод .info()\n",
      "<class 'pandas.core.frame.DataFrame'>\n",
      "RangeIndex: 100000 entries, 0 to 99999\n",
      "Data columns (total 5 columns):\n",
      " #   Column   Non-Null Count   Dtype  \n",
      "---  ------   --------------   -----  \n",
      " 0   id       100000 non-null  object \n",
      " 1   f0       100000 non-null  float64\n",
      " 2   f1       100000 non-null  float64\n",
      " 3   f2       100000 non-null  float64\n",
      " 4   product  100000 non-null  float64\n",
      "dtypes: float64(4), object(1)\n",
      "memory usage: 3.8+ MB\n",
      "\n",
      "\n",
      " Пример данных\n"
     ]
    },
    {
     "data": {
      "text/html": [
       "<div>\n",
       "<style scoped>\n",
       "    .dataframe tbody tr th:only-of-type {\n",
       "        vertical-align: middle;\n",
       "    }\n",
       "\n",
       "    .dataframe tbody tr th {\n",
       "        vertical-align: top;\n",
       "    }\n",
       "\n",
       "    .dataframe thead th {\n",
       "        text-align: right;\n",
       "    }\n",
       "</style>\n",
       "<table border=\"1\" class=\"dataframe\">\n",
       "  <thead>\n",
       "    <tr style=\"text-align: right;\">\n",
       "      <th></th>\n",
       "      <th>id</th>\n",
       "      <th>f0</th>\n",
       "      <th>f1</th>\n",
       "      <th>f2</th>\n",
       "      <th>product</th>\n",
       "    </tr>\n",
       "  </thead>\n",
       "  <tbody>\n",
       "    <tr>\n",
       "      <th>26301</th>\n",
       "      <td>AVKWB</td>\n",
       "      <td>1.614116</td>\n",
       "      <td>-0.512059</td>\n",
       "      <td>1.374490</td>\n",
       "      <td>81.260278</td>\n",
       "    </tr>\n",
       "    <tr>\n",
       "      <th>4178</th>\n",
       "      <td>YqGRe</td>\n",
       "      <td>-1.012346</td>\n",
       "      <td>0.624864</td>\n",
       "      <td>1.069448</td>\n",
       "      <td>100.952284</td>\n",
       "    </tr>\n",
       "    <tr>\n",
       "      <th>97071</th>\n",
       "      <td>0B1oH</td>\n",
       "      <td>-0.289952</td>\n",
       "      <td>1.023344</td>\n",
       "      <td>6.444955</td>\n",
       "      <td>147.218163</td>\n",
       "    </tr>\n",
       "  </tbody>\n",
       "</table>\n",
       "</div>"
      ],
      "text/plain": [
       "          id        f0        f1        f2     product\n",
       "26301  AVKWB  1.614116 -0.512059  1.374490   81.260278\n",
       "4178   YqGRe -1.012346  0.624864  1.069448  100.952284\n",
       "97071  0B1oH -0.289952  1.023344  6.444955  147.218163"
      ]
     },
     "metadata": {},
     "output_type": "display_data"
    },
    {
     "name": "stdout",
     "output_type": "stream",
     "text": [
      "Построчных дубликатов: 0\n",
      "Дубликатов в id: 10\n",
      "Дубликатов в значимых переменных: 0\n",
      "\n",
      "\n",
      "Метод .describe()\n"
     ]
    },
    {
     "data": {
      "text/html": [
       "<div>\n",
       "<style scoped>\n",
       "    .dataframe tbody tr th:only-of-type {\n",
       "        vertical-align: middle;\n",
       "    }\n",
       "\n",
       "    .dataframe tbody tr th {\n",
       "        vertical-align: top;\n",
       "    }\n",
       "\n",
       "    .dataframe thead th {\n",
       "        text-align: right;\n",
       "    }\n",
       "</style>\n",
       "<table border=\"1\" class=\"dataframe\">\n",
       "  <thead>\n",
       "    <tr style=\"text-align: right;\">\n",
       "      <th></th>\n",
       "      <th>f0</th>\n",
       "      <th>f1</th>\n",
       "      <th>f2</th>\n",
       "      <th>product</th>\n",
       "    </tr>\n",
       "  </thead>\n",
       "  <tbody>\n",
       "    <tr>\n",
       "      <th>count</th>\n",
       "      <td>100000.000000</td>\n",
       "      <td>100000.000000</td>\n",
       "      <td>100000.000000</td>\n",
       "      <td>100000.000000</td>\n",
       "    </tr>\n",
       "    <tr>\n",
       "      <th>mean</th>\n",
       "      <td>0.500419</td>\n",
       "      <td>0.250143</td>\n",
       "      <td>2.502647</td>\n",
       "      <td>92.500000</td>\n",
       "    </tr>\n",
       "    <tr>\n",
       "      <th>std</th>\n",
       "      <td>0.871832</td>\n",
       "      <td>0.504433</td>\n",
       "      <td>3.248248</td>\n",
       "      <td>44.288691</td>\n",
       "    </tr>\n",
       "    <tr>\n",
       "      <th>min</th>\n",
       "      <td>-1.408605</td>\n",
       "      <td>-0.848218</td>\n",
       "      <td>-12.088328</td>\n",
       "      <td>0.000000</td>\n",
       "    </tr>\n",
       "    <tr>\n",
       "      <th>25%</th>\n",
       "      <td>-0.072580</td>\n",
       "      <td>-0.200881</td>\n",
       "      <td>0.287748</td>\n",
       "      <td>56.497507</td>\n",
       "    </tr>\n",
       "    <tr>\n",
       "      <th>50%</th>\n",
       "      <td>0.502360</td>\n",
       "      <td>0.250252</td>\n",
       "      <td>2.515969</td>\n",
       "      <td>91.849972</td>\n",
       "    </tr>\n",
       "    <tr>\n",
       "      <th>75%</th>\n",
       "      <td>1.073581</td>\n",
       "      <td>0.700646</td>\n",
       "      <td>4.715088</td>\n",
       "      <td>128.564089</td>\n",
       "    </tr>\n",
       "    <tr>\n",
       "      <th>max</th>\n",
       "      <td>2.362331</td>\n",
       "      <td>1.343769</td>\n",
       "      <td>16.003790</td>\n",
       "      <td>185.364347</td>\n",
       "    </tr>\n",
       "  </tbody>\n",
       "</table>\n",
       "</div>"
      ],
      "text/plain": [
       "                  f0             f1             f2        product\n",
       "count  100000.000000  100000.000000  100000.000000  100000.000000\n",
       "mean        0.500419       0.250143       2.502647      92.500000\n",
       "std         0.871832       0.504433       3.248248      44.288691\n",
       "min        -1.408605      -0.848218     -12.088328       0.000000\n",
       "25%        -0.072580      -0.200881       0.287748      56.497507\n",
       "50%         0.502360       0.250252       2.515969      91.849972\n",
       "75%         1.073581       0.700646       4.715088     128.564089\n",
       "max         2.362331       1.343769      16.003790     185.364347"
      ]
     },
     "metadata": {},
     "output_type": "display_data"
    },
    {
     "name": "stdout",
     "output_type": "stream",
     "text": [
      "====================================================================================================\n",
      "                                             geo_data_1                                             \n",
      "Метод .info()\n",
      "<class 'pandas.core.frame.DataFrame'>\n",
      "RangeIndex: 100000 entries, 0 to 99999\n",
      "Data columns (total 5 columns):\n",
      " #   Column   Non-Null Count   Dtype  \n",
      "---  ------   --------------   -----  \n",
      " 0   id       100000 non-null  object \n",
      " 1   f0       100000 non-null  float64\n",
      " 2   f1       100000 non-null  float64\n",
      " 3   f2       100000 non-null  float64\n",
      " 4   product  100000 non-null  float64\n",
      "dtypes: float64(4), object(1)\n",
      "memory usage: 3.8+ MB\n",
      "\n",
      "\n",
      " Пример данных\n"
     ]
    },
    {
     "data": {
      "text/html": [
       "<div>\n",
       "<style scoped>\n",
       "    .dataframe tbody tr th:only-of-type {\n",
       "        vertical-align: middle;\n",
       "    }\n",
       "\n",
       "    .dataframe tbody tr th {\n",
       "        vertical-align: top;\n",
       "    }\n",
       "\n",
       "    .dataframe thead th {\n",
       "        text-align: right;\n",
       "    }\n",
       "</style>\n",
       "<table border=\"1\" class=\"dataframe\">\n",
       "  <thead>\n",
       "    <tr style=\"text-align: right;\">\n",
       "      <th></th>\n",
       "      <th>id</th>\n",
       "      <th>f0</th>\n",
       "      <th>f1</th>\n",
       "      <th>f2</th>\n",
       "      <th>product</th>\n",
       "    </tr>\n",
       "  </thead>\n",
       "  <tbody>\n",
       "    <tr>\n",
       "      <th>48440</th>\n",
       "      <td>hXWO3</td>\n",
       "      <td>6.974782</td>\n",
       "      <td>-5.313980</td>\n",
       "      <td>2.003249</td>\n",
       "      <td>53.906522</td>\n",
       "    </tr>\n",
       "    <tr>\n",
       "      <th>23178</th>\n",
       "      <td>caLG4</td>\n",
       "      <td>2.845327</td>\n",
       "      <td>3.105171</td>\n",
       "      <td>4.991196</td>\n",
       "      <td>134.766305</td>\n",
       "    </tr>\n",
       "    <tr>\n",
       "      <th>77101</th>\n",
       "      <td>r2R1e</td>\n",
       "      <td>15.846632</td>\n",
       "      <td>-2.162240</td>\n",
       "      <td>3.999058</td>\n",
       "      <td>107.813044</td>\n",
       "    </tr>\n",
       "  </tbody>\n",
       "</table>\n",
       "</div>"
      ],
      "text/plain": [
       "          id         f0        f1        f2     product\n",
       "48440  hXWO3   6.974782 -5.313980  2.003249   53.906522\n",
       "23178  caLG4   2.845327  3.105171  4.991196  134.766305\n",
       "77101  r2R1e  15.846632 -2.162240  3.999058  107.813044"
      ]
     },
     "metadata": {},
     "output_type": "display_data"
    },
    {
     "name": "stdout",
     "output_type": "stream",
     "text": [
      "Построчных дубликатов: 0\n",
      "Дубликатов в id: 4\n",
      "Дубликатов в значимых переменных: 0\n",
      "\n",
      "\n",
      "Метод .describe()\n"
     ]
    },
    {
     "data": {
      "text/html": [
       "<div>\n",
       "<style scoped>\n",
       "    .dataframe tbody tr th:only-of-type {\n",
       "        vertical-align: middle;\n",
       "    }\n",
       "\n",
       "    .dataframe tbody tr th {\n",
       "        vertical-align: top;\n",
       "    }\n",
       "\n",
       "    .dataframe thead th {\n",
       "        text-align: right;\n",
       "    }\n",
       "</style>\n",
       "<table border=\"1\" class=\"dataframe\">\n",
       "  <thead>\n",
       "    <tr style=\"text-align: right;\">\n",
       "      <th></th>\n",
       "      <th>f0</th>\n",
       "      <th>f1</th>\n",
       "      <th>f2</th>\n",
       "      <th>product</th>\n",
       "    </tr>\n",
       "  </thead>\n",
       "  <tbody>\n",
       "    <tr>\n",
       "      <th>count</th>\n",
       "      <td>100000.000000</td>\n",
       "      <td>100000.000000</td>\n",
       "      <td>100000.000000</td>\n",
       "      <td>100000.000000</td>\n",
       "    </tr>\n",
       "    <tr>\n",
       "      <th>mean</th>\n",
       "      <td>1.141296</td>\n",
       "      <td>-4.796579</td>\n",
       "      <td>2.494541</td>\n",
       "      <td>68.825000</td>\n",
       "    </tr>\n",
       "    <tr>\n",
       "      <th>std</th>\n",
       "      <td>8.965932</td>\n",
       "      <td>5.119872</td>\n",
       "      <td>1.703572</td>\n",
       "      <td>45.944423</td>\n",
       "    </tr>\n",
       "    <tr>\n",
       "      <th>min</th>\n",
       "      <td>-31.609576</td>\n",
       "      <td>-26.358598</td>\n",
       "      <td>-0.018144</td>\n",
       "      <td>0.000000</td>\n",
       "    </tr>\n",
       "    <tr>\n",
       "      <th>25%</th>\n",
       "      <td>-6.298551</td>\n",
       "      <td>-8.267985</td>\n",
       "      <td>1.000021</td>\n",
       "      <td>26.953261</td>\n",
       "    </tr>\n",
       "    <tr>\n",
       "      <th>50%</th>\n",
       "      <td>1.153055</td>\n",
       "      <td>-4.813172</td>\n",
       "      <td>2.011479</td>\n",
       "      <td>57.085625</td>\n",
       "    </tr>\n",
       "    <tr>\n",
       "      <th>75%</th>\n",
       "      <td>8.621015</td>\n",
       "      <td>-1.332816</td>\n",
       "      <td>3.999904</td>\n",
       "      <td>107.813044</td>\n",
       "    </tr>\n",
       "    <tr>\n",
       "      <th>max</th>\n",
       "      <td>29.421755</td>\n",
       "      <td>18.734063</td>\n",
       "      <td>5.019721</td>\n",
       "      <td>137.945408</td>\n",
       "    </tr>\n",
       "  </tbody>\n",
       "</table>\n",
       "</div>"
      ],
      "text/plain": [
       "                  f0             f1             f2        product\n",
       "count  100000.000000  100000.000000  100000.000000  100000.000000\n",
       "mean        1.141296      -4.796579       2.494541      68.825000\n",
       "std         8.965932       5.119872       1.703572      45.944423\n",
       "min       -31.609576     -26.358598      -0.018144       0.000000\n",
       "25%        -6.298551      -8.267985       1.000021      26.953261\n",
       "50%         1.153055      -4.813172       2.011479      57.085625\n",
       "75%         8.621015      -1.332816       3.999904     107.813044\n",
       "max        29.421755      18.734063       5.019721     137.945408"
      ]
     },
     "metadata": {},
     "output_type": "display_data"
    },
    {
     "name": "stdout",
     "output_type": "stream",
     "text": [
      "====================================================================================================\n",
      "                                             geo_data_2                                             \n",
      "Метод .info()\n",
      "<class 'pandas.core.frame.DataFrame'>\n",
      "RangeIndex: 100000 entries, 0 to 99999\n",
      "Data columns (total 5 columns):\n",
      " #   Column   Non-Null Count   Dtype  \n",
      "---  ------   --------------   -----  \n",
      " 0   id       100000 non-null  object \n",
      " 1   f0       100000 non-null  float64\n",
      " 2   f1       100000 non-null  float64\n",
      " 3   f2       100000 non-null  float64\n",
      " 4   product  100000 non-null  float64\n",
      "dtypes: float64(4), object(1)\n",
      "memory usage: 3.8+ MB\n",
      "\n",
      "\n",
      " Пример данных\n"
     ]
    },
    {
     "data": {
      "text/html": [
       "<div>\n",
       "<style scoped>\n",
       "    .dataframe tbody tr th:only-of-type {\n",
       "        vertical-align: middle;\n",
       "    }\n",
       "\n",
       "    .dataframe tbody tr th {\n",
       "        vertical-align: top;\n",
       "    }\n",
       "\n",
       "    .dataframe thead th {\n",
       "        text-align: right;\n",
       "    }\n",
       "</style>\n",
       "<table border=\"1\" class=\"dataframe\">\n",
       "  <thead>\n",
       "    <tr style=\"text-align: right;\">\n",
       "      <th></th>\n",
       "      <th>id</th>\n",
       "      <th>f0</th>\n",
       "      <th>f1</th>\n",
       "      <th>f2</th>\n",
       "      <th>product</th>\n",
       "    </tr>\n",
       "  </thead>\n",
       "  <tbody>\n",
       "    <tr>\n",
       "      <th>34592</th>\n",
       "      <td>WQxBW</td>\n",
       "      <td>-1.578006</td>\n",
       "      <td>2.006387</td>\n",
       "      <td>-0.152390</td>\n",
       "      <td>123.246008</td>\n",
       "    </tr>\n",
       "    <tr>\n",
       "      <th>57835</th>\n",
       "      <td>MVFBk</td>\n",
       "      <td>-0.378476</td>\n",
       "      <td>1.650281</td>\n",
       "      <td>6.330137</td>\n",
       "      <td>92.369530</td>\n",
       "    </tr>\n",
       "    <tr>\n",
       "      <th>40038</th>\n",
       "      <td>V14hw</td>\n",
       "      <td>1.887855</td>\n",
       "      <td>-3.444073</td>\n",
       "      <td>-0.000920</td>\n",
       "      <td>105.431164</td>\n",
       "    </tr>\n",
       "  </tbody>\n",
       "</table>\n",
       "</div>"
      ],
      "text/plain": [
       "          id        f0        f1        f2     product\n",
       "34592  WQxBW -1.578006  2.006387 -0.152390  123.246008\n",
       "57835  MVFBk -0.378476  1.650281  6.330137   92.369530\n",
       "40038  V14hw  1.887855 -3.444073 -0.000920  105.431164"
      ]
     },
     "metadata": {},
     "output_type": "display_data"
    },
    {
     "name": "stdout",
     "output_type": "stream",
     "text": [
      "Построчных дубликатов: 0\n",
      "Дубликатов в id: 4\n",
      "Дубликатов в значимых переменных: 0\n",
      "\n",
      "\n",
      "Метод .describe()\n"
     ]
    },
    {
     "data": {
      "text/html": [
       "<div>\n",
       "<style scoped>\n",
       "    .dataframe tbody tr th:only-of-type {\n",
       "        vertical-align: middle;\n",
       "    }\n",
       "\n",
       "    .dataframe tbody tr th {\n",
       "        vertical-align: top;\n",
       "    }\n",
       "\n",
       "    .dataframe thead th {\n",
       "        text-align: right;\n",
       "    }\n",
       "</style>\n",
       "<table border=\"1\" class=\"dataframe\">\n",
       "  <thead>\n",
       "    <tr style=\"text-align: right;\">\n",
       "      <th></th>\n",
       "      <th>f0</th>\n",
       "      <th>f1</th>\n",
       "      <th>f2</th>\n",
       "      <th>product</th>\n",
       "    </tr>\n",
       "  </thead>\n",
       "  <tbody>\n",
       "    <tr>\n",
       "      <th>count</th>\n",
       "      <td>100000.000000</td>\n",
       "      <td>100000.000000</td>\n",
       "      <td>100000.000000</td>\n",
       "      <td>100000.000000</td>\n",
       "    </tr>\n",
       "    <tr>\n",
       "      <th>mean</th>\n",
       "      <td>0.002023</td>\n",
       "      <td>-0.002081</td>\n",
       "      <td>2.495128</td>\n",
       "      <td>95.000000</td>\n",
       "    </tr>\n",
       "    <tr>\n",
       "      <th>std</th>\n",
       "      <td>1.732045</td>\n",
       "      <td>1.730417</td>\n",
       "      <td>3.473445</td>\n",
       "      <td>44.749921</td>\n",
       "    </tr>\n",
       "    <tr>\n",
       "      <th>min</th>\n",
       "      <td>-8.760004</td>\n",
       "      <td>-7.084020</td>\n",
       "      <td>-11.970335</td>\n",
       "      <td>0.000000</td>\n",
       "    </tr>\n",
       "    <tr>\n",
       "      <th>25%</th>\n",
       "      <td>-1.162288</td>\n",
       "      <td>-1.174820</td>\n",
       "      <td>0.130359</td>\n",
       "      <td>59.450441</td>\n",
       "    </tr>\n",
       "    <tr>\n",
       "      <th>50%</th>\n",
       "      <td>0.009424</td>\n",
       "      <td>-0.009482</td>\n",
       "      <td>2.484236</td>\n",
       "      <td>94.925613</td>\n",
       "    </tr>\n",
       "    <tr>\n",
       "      <th>75%</th>\n",
       "      <td>1.158535</td>\n",
       "      <td>1.163678</td>\n",
       "      <td>4.858794</td>\n",
       "      <td>130.595027</td>\n",
       "    </tr>\n",
       "    <tr>\n",
       "      <th>max</th>\n",
       "      <td>7.238262</td>\n",
       "      <td>7.844801</td>\n",
       "      <td>16.739402</td>\n",
       "      <td>190.029838</td>\n",
       "    </tr>\n",
       "  </tbody>\n",
       "</table>\n",
       "</div>"
      ],
      "text/plain": [
       "                  f0             f1             f2        product\n",
       "count  100000.000000  100000.000000  100000.000000  100000.000000\n",
       "mean        0.002023      -0.002081       2.495128      95.000000\n",
       "std         1.732045       1.730417       3.473445      44.749921\n",
       "min        -8.760004      -7.084020     -11.970335       0.000000\n",
       "25%        -1.162288      -1.174820       0.130359      59.450441\n",
       "50%         0.009424      -0.009482       2.484236      94.925613\n",
       "75%         1.158535       1.163678       4.858794     130.595027\n",
       "max         7.238262       7.844801      16.739402     190.029838"
      ]
     },
     "metadata": {},
     "output_type": "display_data"
    },
    {
     "name": "stdout",
     "output_type": "stream",
     "text": [
      "====================================================================================================\n"
     ]
    }
   ],
   "source": [
    "for geo_data, i in zip(geo_data_all, range(len(geo_data_all))):\n",
    "    print('{:^100}'.format(f'geo_data_{i}'), 'Метод .info()', sep='\\n')                         \n",
    "    geo_data.info()\n",
    "    print('\\n\\n Пример данных')\n",
    "    display(geo_data.sample(3))\n",
    "    print(f'Построчных дубликатов: {geo_data.duplicated().sum()}')\n",
    "    print(f'Дубликатов в id: {geo_data[\"id\"].duplicated().sum()}')\n",
    "    print(f'Дубликатов в значимых переменных: {geo_data[[\"f0\",\"f1\", \"f2\"]].duplicated().sum()}')\n",
    "    print('\\n\\nМетод .describe()')  \n",
    "    display(geo_data.describe())\n",
    "    print('='*100)\n",
    "    "
   ]
  },
  {
   "cell_type": "markdown",
   "metadata": {},
   "source": [
    "В данных нет пропусков, но есть дубликаты `id`. Так-как записей очень много, а дубликатов наооборот, немного то дублирующиеся записи можно удалить целиком. Однако, так-как строки не дублируются в колонках значимых признаков то на модель такие дубликаты никак повлиять не должны."
   ]
  },
  {
   "cell_type": "code",
   "execution_count": 79,
   "metadata": {},
   "outputs": [],
   "source": [
    "geo_data_0 = geo_data_0[~geo_data_0[\"id\"].duplicated(keep=False)]\n",
    "geo_data_1 = geo_data_1[~geo_data_1[\"id\"].duplicated(keep=False)]\n",
    "geo_data_2 = geo_data_2[~geo_data_2[\"id\"].duplicated(keep=False)]"
   ]
  },
  {
   "cell_type": "code",
   "execution_count": 80,
   "metadata": {},
   "outputs": [],
   "source": [
    "geo_data_0 = geo_data_0.reset_index(drop=True)\n",
    "geo_data_1 = geo_data_1.reset_index(drop=True)\n",
    "geo_data_2 = geo_data_2.reset_index(drop=True)"
   ]
  },
  {
   "cell_type": "markdown",
   "metadata": {},
   "source": [
    "Распределения признаков:"
   ]
  },
  {
   "cell_type": "code",
   "execution_count": 184,
   "metadata": {
    "tags": []
   },
   "outputs": [
    {
     "data": {
      "image/png": "[encoded data removed]",
      "text/plain": [
       "<Figure size 1200x500 with 4 Axes>"
      ]
     },
     "metadata": {},
     "output_type": "display_data"
    },
    {
     "data": {
      "image/png": "[encoded data removed]",
      "text/plain": [
       "<Figure size 1200x500 with 4 Axes>"
      ]
     },
     "metadata": {},
     "output_type": "display_data"
    },
    {
     "data": {
      "image/png": "[encoded data removed]",
      "text/plain": [
       "<Figure size 1200x500 with 4 Axes>"
      ]
     },
     "metadata": {},
     "output_type": "display_data"
    }
   ],
   "source": [
    "for geo_data in geo_data_all:\n",
    "    geo_data.hist(bins=50, figsize=(12,5))\n",
    "    plt.show();\n"
   ]
  },
  {
   "cell_type": "markdown",
   "metadata": {},
   "source": [
    "## Обучение и проверка модели"
   ]
  },
  {
   "cell_type": "markdown",
   "metadata": {},
   "source": [
    "###  Разбивка даннх на обучающую и валидационную выборки в соотношении 3/1."
   ]
  },
  {
   "cell_type": "code",
   "execution_count": 85,
   "metadata": {},
   "outputs": [],
   "source": [
    "geo_data_selection = []\n",
    "for geo_data in geo_data_all:\n",
    "    geo_data_selection.append(train_test_split(\n",
    "        geo_data.drop(['product', 'id'], axis=1),\n",
    "        geo_data['product'],\n",
    "        test_size=0.25,\n",
    "        random_state = RANDOM_STATE\n",
    "    ))"
   ]
  },
  {
   "cell_type": "markdown",
   "metadata": {},
   "source": [
    "### Обучение модели. Предсказания на валидационной выборке."
   ]
  },
  {
   "cell_type": "code",
   "execution_count": 87,
   "metadata": {
    "scrolled": true
   },
   "outputs": [
    {
     "name": "stdout",
     "output_type": "stream",
     "text": [
      "rmse:  37.48, mean_product  92.27\n",
      "rmse:   0.89, mean_product  69.15\n",
      "rmse:  40.31, mean_product  94.71\n"
     ]
    }
   ],
   "source": [
    "models = []\n",
    "for X_train, X_test, y_train, y_test in geo_data_selection:\n",
    "    model = LinearRegression()\n",
    "    model.fit(X_train, y_train)\n",
    "    y_pred =  model.predict(X_test)\n",
    "    rmse = mean_squared_error(y_test, y_pred, squared=False)\n",
    "    print(f'rmse: {rmse:6.2f}, mean_product {y_pred.mean():6.2f}')\n",
    "    models.append({\n",
    "        'model': model,\n",
    "        'rmse': rmse,\n",
    "        'predict': y_pred,\n",
    "        'true': y_test,\n",
    "        'pred_true': pd.DataFrame(\n",
    "            [\n",
    "                pd.Series(y_test.values, name='true'),\n",
    "                pd.Series(y_pred, name='pred')\n",
    "            ]\n",
    "        ).T.set_index(y_test.index)\n",
    "    })\n"
   ]
  },
  {
   "cell_type": "markdown",
   "metadata": {},
   "source": [
    "### Выводы.\n",
    "\n",
    "Из трёх моделей сильно отличается модель региона `1`. Столь разительно отличающиеся показатели метрики похожи на утечку целевого признака, кроме того, ещё на этапе знакомства с данными были замечены странности в распределении параметров. Я бы попросил отдел занимающийся сбором и предоставлением данных перепроверить данные региона `1`. \n",
    "Другие две модели показывают параметры `rmse` схожие со стандартным отклонение данных показанным с помощью метода `.describe()`"
   ]
  },
  {
   "cell_type": "markdown",
   "metadata": {},
   "source": [
    "## Подготовка к расчёту прибыли"
   ]
  },
  {
   "cell_type": "markdown",
   "metadata": {},
   "source": [
    "Глобальные константы"
   ]
  },
  {
   "cell_type": "code",
   "execution_count": 91,
   "metadata": {
    "scrolled": true
   },
   "outputs": [
    {
     "name": "stdout",
     "output_type": "stream",
     "text": [
      "Бюджет на 1 скважину: 50000 тыс.руб.\n",
      "Минимальный запас нефти для окупаемости: >111.1111\n",
      "Средние запасы в регионах:\n",
      "    Регион 0: 92.50\n",
      "    Регион 1: 68.82\n",
      "    Регион 2: 95.00\n",
      "\n"
     ]
    }
   ],
   "source": [
    "budget_per_well = BUDGET/WELLS_FOR_USE\n",
    "min_product_amount = budget_per_well/PRODUCT_PRICE\n",
    "print(f'''Бюджет на 1 скважину: {budget_per_well:.0f} тыс.руб.\n",
    "Минимальный запас нефти для окупаемости: >{min_product_amount:.4f}\n",
    "Средние запасы в регионах:\n",
    "    Регион 0: {geo_data_0['product'].mean():.2f}\n",
    "    Регион 1: {geo_data_1['product'].mean():.2f}\n",
    "    Регион 2: {geo_data_2['product'].mean():.2f}\n",
    "''')"
   ]
  },
  {
   "cell_type": "markdown",
   "metadata": {},
   "source": [
    "**Вывод**: Необходимый минимальный запас сырья для безубыточной разработки скважины: более 111, что превышает средние запасы в регионах. Из двух регионов, по показателю средних запасов нефти более перспективным выглядин регион `2`."
   ]
  },
  {
   "cell_type": "markdown",
   "metadata": {},
   "source": [
    "## Расчёт прибыли и рисков "
   ]
  },
  {
   "cell_type": "markdown",
   "metadata": {},
   "source": [
    "### Функция расчёта прибыли"
   ]
  },
  {
   "cell_type": "code",
   "execution_count": 95,
   "metadata": {
    "scrolled": true
   },
   "outputs": [
    {
     "data": {
      "text/plain": [
       "2623878683.5164165"
      ]
     },
     "execution_count": 95,
     "metadata": {},
     "output_type": "execute_result"
    }
   ],
   "source": [
    "def income_calculation(df, count, price): \n",
    "    \"\"\"Возвращает сумарную прибыль в рублях count лучших скважин по предсказанному значению \n",
    "    запасов нефти за вычетом бюджета на разработку месторождений \n",
    "    \"\"\"\n",
    "    return (df.sort_values(by='pred',ascending=False).head(count)['true'].sum() * price - BUDGET) * 1000\n",
    "\n",
    "income_calculation(models[2]['pred_true'], WELLS_FOR_USE, PRODUCT_PRICE)"
   ]
  },
  {
   "cell_type": "markdown",
   "metadata": {},
   "source": [
    "### Нахождение распределения прибыли на 1000 выборок."
   ]
  },
  {
   "cell_type": "code",
   "execution_count": 199,
   "metadata": {},
   "outputs": [],
   "source": [
    "income=[]\n",
    "t = []\n",
    "for model in models:\n",
    "    for i in range(1000):\n",
    "        sample = model['pred_true'].sample(WELLS_FOR_RESEARCH, replace=True, random_state=RS)\n",
    "        t.append(income_calculation(sample, WELLS_FOR_USE, PRODUCT_PRICE))\n",
    "    income.append(pd.Series(t))\n",
    "    t.clear()"
   ]
  },
  {
   "cell_type": "markdown",
   "metadata": {},
   "source": [
    "Распределение прибыли"
   ]
  },
  {
   "cell_type": "code",
   "execution_count": 219,
   "metadata": {},
   "outputs": [
    {
     "data": {
      "image/png": "[encoded data removed]",
      "text/plain": [
       "<Figure size 1200x500 with 1 Axes>"
      ]
     },
     "metadata": {},
     "output_type": "display_data"
    },
    {
     "name": "stdout",
     "output_type": "stream",
     "text": [
      "Средняя прибыль: 448,123,601₽ \n",
      "95% доверительный интервал: 4,467,510 - 920,776,964 ₽\n",
      "Вероятность убытков 2.30% \n",
      "\n",
      "\n",
      "\n"
     ]
    },
    {
     "data": {
      "image/png": "[encoded data removed]",
      "text/plain": [
       "<Figure size 1200x500 with 1 Axes>"
      ]
     },
     "metadata": {},
     "output_type": "display_data"
    },
    {
     "name": "stdout",
     "output_type": "stream",
     "text": [
      "Средняя прибыль: 472,176,694₽ \n",
      "95% доверительный интервал: 75,262,703 - 870,175,016 ₽\n",
      "Вероятность убытков 1.00% \n",
      "\n",
      "\n",
      "\n"
     ]
    },
    {
     "data": {
      "image/png": "[encoded data removed]",
      "text/plain": [
       "<Figure size 1200x500 with 1 Axes>"
      ]
     },
     "metadata": {},
     "output_type": "display_data"
    },
    {
     "name": "stdout",
     "output_type": "stream",
     "text": [
      "Средняя прибыль: 409,167,417₽ \n",
      "95% доверительный интервал: -87,513,885 - 918,096,822 ₽\n",
      "Вероятность убытков 6.10% \n",
      "\n",
      "\n",
      "\n"
     ]
    }
   ],
   "source": [
    "for model_income in income:\n",
    "    model_income.hist(\n",
    "        figsize=(12,5),\n",
    "        bins=(t:=np.array(range(-8,15))*10**8)\n",
    "    )\n",
    "    plt.title('Распределение прибыли')\n",
    "    plt.xlabel('Прибыль, млн. ₽')\n",
    "    plt.ylabel('Кол-во выборок')\n",
    "    lower = model_income.quantile(ALPHA)\n",
    "    upper = model_income.quantile(1-ALPHA)\n",
    "    plt.axvline(lower, color='green')\n",
    "    plt.axvline(upper, color='green')\n",
    "    plt.axvline(0, color='gray')\n",
    "    plt.fill_betweenx([0,180],lower,upper, color='y', alpha=0.1)\n",
    "    plt.xticks(ticks=t, labels=t//1000000)\n",
    "    plt.yticks(np.array(range(0,181,10)))\n",
    "    plt.ylim(top=180)\n",
    "    plt.show();\n",
    "    print(f'Средняя прибыль: {math.floor(model_income.mean()):,d}₽ ')\n",
    "    print(f\"95% доверительный интервал: {lower:,.0f} - {upper:,.0f} ₽\")\n",
    "    print(f'Вероятность убытков {1-model_income[model_income>0].shape[0] / model_income.shape[0]:.2%}', '\\n'*3)\n",
    "    "
   ]
  },
  {
   "cell_type": "markdown",
   "metadata": {
    "tags": []
   },
   "source": [
    "# Вывод:\n",
    "По результатам построения модели и анализа возможной прибыли и рисков было установлено что:  \n",
    "**Наиболее перспективным** является регион `geo_data_1`:\n",
    " - Удовлетворяет поставленным условиям\n",
    " - Имеет минимальные риски убытков\n",
    " - Имеет наибольшую среднюю прибыль по 1000 случайным выборкам \n",
    " \n",
    "**Итоги**:  \n",
    "Только регион `geo_data_1` удовлетворяет условию, а также имеет лучшие параметры указанные выше. Именно данную локацию стоит выбрать для разработки нефтянных месторождений."
   ]
  }
 ],
 "metadata": {
  "ExecuteTimeLog": [
   {
    "duration": 409,
    "start_time": "2024-03-22T12:29:58.766Z"
   },
   {
    "duration": 798,
    "start_time": "2024-03-22T12:31:08.104Z"
   },
   {
    "duration": 18,
    "start_time": "2024-03-22T12:31:17.583Z"
   },
   {
    "duration": 16,
    "start_time": "2024-03-22T12:31:31.882Z"
   },
   {
    "duration": 19,
    "start_time": "2024-03-22T12:31:37.851Z"
   },
   {
    "duration": 14,
    "start_time": "2024-03-22T12:31:44.829Z"
   },
   {
    "duration": 39,
    "start_time": "2024-03-22T14:45:37.890Z"
   },
   {
    "duration": 895,
    "start_time": "2024-03-22T14:46:05.375Z"
   },
   {
    "duration": 3,
    "start_time": "2024-03-22T14:47:51.769Z"
   },
   {
    "duration": 1057,
    "start_time": "2024-03-22T14:48:05.379Z"
   },
   {
    "duration": 62,
    "start_time": "2024-03-22T14:51:01.869Z"
   },
   {
    "duration": 56,
    "start_time": "2024-03-22T14:51:18.487Z"
   },
   {
    "duration": 53,
    "start_time": "2024-03-22T14:51:23.624Z"
   },
   {
    "duration": 67,
    "start_time": "2024-03-22T14:54:00.294Z"
   },
   {
    "duration": 3,
    "start_time": "2024-03-22T15:17:23.725Z"
   },
   {
    "duration": 143,
    "start_time": "2024-03-22T15:35:21.421Z"
   },
   {
    "duration": 15,
    "start_time": "2024-03-22T15:35:45.744Z"
   },
   {
    "duration": 6,
    "start_time": "2024-03-22T15:36:15.996Z"
   },
   {
    "duration": 81,
    "start_time": "2024-03-22T15:36:22.199Z"
   },
   {
    "duration": 56,
    "start_time": "2024-03-22T15:37:01.521Z"
   },
   {
    "duration": 2,
    "start_time": "2024-03-22T15:37:39.363Z"
   },
   {
    "duration": 3,
    "start_time": "2024-03-22T15:53:56.161Z"
   },
   {
    "duration": 20,
    "start_time": "2024-03-22T15:55:43.194Z"
   },
   {
    "duration": 68,
    "start_time": "2024-03-22T15:55:48.863Z"
   },
   {
    "duration": 28,
    "start_time": "2024-03-22T15:55:50.432Z"
   },
   {
    "duration": 34,
    "start_time": "2024-03-22T15:57:27.319Z"
   },
   {
    "duration": 201,
    "start_time": "2024-03-22T15:57:28.784Z"
   },
   {
    "duration": 13,
    "start_time": "2024-03-22T16:00:09.257Z"
   },
   {
    "duration": 13,
    "start_time": "2024-03-22T16:02:27.428Z"
   },
   {
    "duration": 124,
    "start_time": "2024-03-22T16:02:33.468Z"
   },
   {
    "duration": 7,
    "start_time": "2024-03-22T16:02:34.952Z"
   },
   {
    "duration": 5,
    "start_time": "2024-03-22T16:02:48.762Z"
   },
   {
    "duration": 6,
    "start_time": "2024-03-22T16:03:07.238Z"
   },
   {
    "duration": 234,
    "start_time": "2024-03-22T16:10:48.178Z"
   },
   {
    "duration": 171,
    "start_time": "2024-03-22T16:11:04.523Z"
   },
   {
    "duration": 86,
    "start_time": "2024-03-22T16:11:21.100Z"
   },
   {
    "duration": 100,
    "start_time": "2024-03-24T08:21:42.799Z"
   },
   {
    "duration": 42,
    "start_time": "2024-03-24T08:21:57.011Z"
   },
   {
    "duration": 5,
    "start_time": "2024-03-24T08:22:04.503Z"
   },
   {
    "duration": 2,
    "start_time": "2024-03-24T08:22:06.892Z"
   },
   {
    "duration": 7,
    "start_time": "2024-03-24T08:22:09.673Z"
   },
   {
    "duration": 3,
    "start_time": "2024-03-24T08:22:19.139Z"
   },
   {
    "duration": 3,
    "start_time": "2024-03-24T08:22:21.497Z"
   },
   {
    "duration": 3,
    "start_time": "2024-03-24T08:22:47.644Z"
   },
   {
    "duration": 5,
    "start_time": "2024-03-24T08:25:57.441Z"
   },
   {
    "duration": 2,
    "start_time": "2024-03-24T08:26:01.165Z"
   },
   {
    "duration": 3,
    "start_time": "2024-03-24T08:26:02.960Z"
   },
   {
    "duration": 3,
    "start_time": "2024-03-24T08:26:51.346Z"
   },
   {
    "duration": 6,
    "start_time": "2024-03-24T08:27:11.506Z"
   },
   {
    "duration": 6,
    "start_time": "2024-03-24T08:27:17.821Z"
   },
   {
    "duration": 3,
    "start_time": "2024-03-24T08:27:29.410Z"
   },
   {
    "duration": 3,
    "start_time": "2024-03-24T08:27:49.352Z"
   },
   {
    "duration": 5,
    "start_time": "2024-03-24T08:29:45.476Z"
   },
   {
    "duration": 3,
    "start_time": "2024-03-24T08:29:50.352Z"
   },
   {
    "duration": 3,
    "start_time": "2024-03-24T08:31:06.541Z"
   },
   {
    "duration": 3,
    "start_time": "2024-03-24T08:31:37.207Z"
   },
   {
    "duration": 3,
    "start_time": "2024-03-24T08:31:45.966Z"
   },
   {
    "duration": 3,
    "start_time": "2024-03-24T08:31:56.849Z"
   },
   {
    "duration": 3,
    "start_time": "2024-03-24T08:33:09.600Z"
   },
   {
    "duration": 2,
    "start_time": "2024-03-24T08:33:21.567Z"
   },
   {
    "duration": 3,
    "start_time": "2024-03-24T08:34:02.545Z"
   },
   {
    "duration": 3,
    "start_time": "2024-03-24T08:34:08.411Z"
   },
   {
    "duration": 6,
    "start_time": "2024-03-24T08:57:35.380Z"
   },
   {
    "duration": 1507,
    "start_time": "2024-03-24T08:57:40.322Z"
   },
   {
    "duration": 3,
    "start_time": "2024-03-24T08:57:41.831Z"
   },
   {
    "duration": 1677,
    "start_time": "2024-03-24T08:57:41.835Z"
   },
   {
    "duration": 60,
    "start_time": "2024-03-24T08:57:43.514Z"
   },
   {
    "duration": 1046,
    "start_time": "2024-03-24T08:57:43.575Z"
   },
   {
    "duration": 54,
    "start_time": "2024-03-24T08:57:44.622Z"
   },
   {
    "duration": 28,
    "start_time": "2024-03-24T08:57:44.677Z"
   },
   {
    "duration": 263,
    "start_time": "2024-03-24T08:57:44.707Z"
   },
   {
    "duration": 4,
    "start_time": "2024-03-24T08:57:44.972Z"
   },
   {
    "duration": 140,
    "start_time": "2024-03-24T08:57:44.980Z"
   },
   {
    "duration": 13,
    "start_time": "2024-03-24T08:58:01.030Z"
   },
   {
    "duration": 92,
    "start_time": "2024-03-24T08:58:59.943Z"
   },
   {
    "duration": 16,
    "start_time": "2024-03-24T08:59:05.775Z"
   },
   {
    "duration": 16,
    "start_time": "2024-03-24T08:59:37.392Z"
   },
   {
    "duration": 16,
    "start_time": "2024-03-24T08:59:48.887Z"
   },
   {
    "duration": 329,
    "start_time": "2024-03-24T09:02:34.278Z"
   },
   {
    "duration": 18,
    "start_time": "2024-03-24T09:02:45.499Z"
   },
   {
    "duration": 15,
    "start_time": "2024-03-24T09:02:59.164Z"
   },
   {
    "duration": 17,
    "start_time": "2024-03-24T09:03:23.582Z"
   },
   {
    "duration": 138,
    "start_time": "2024-03-24T09:04:17.090Z"
   },
   {
    "duration": 172,
    "start_time": "2024-03-24T09:04:29.915Z"
   },
   {
    "duration": 205,
    "start_time": "2024-03-24T09:04:38.723Z"
   },
   {
    "duration": 255,
    "start_time": "2024-03-24T09:04:48.169Z"
   },
   {
    "duration": 5,
    "start_time": "2024-03-24T09:05:21.376Z"
   },
   {
    "duration": 4,
    "start_time": "2024-03-24T09:05:25.920Z"
   },
   {
    "duration": 8,
    "start_time": "2024-03-24T09:07:38.122Z"
   },
   {
    "duration": 10,
    "start_time": "2024-03-24T09:07:47.387Z"
   },
   {
    "duration": 8,
    "start_time": "2024-03-24T09:07:52.163Z"
   },
   {
    "duration": 243,
    "start_time": "2024-03-24T09:08:28.960Z"
   },
   {
    "duration": 326,
    "start_time": "2024-03-24T09:08:47.557Z"
   },
   {
    "duration": 240,
    "start_time": "2024-03-24T09:08:59.285Z"
   },
   {
    "duration": 259,
    "start_time": "2024-03-24T09:09:09.948Z"
   },
   {
    "duration": 231,
    "start_time": "2024-03-24T09:09:38.323Z"
   },
   {
    "duration": 234,
    "start_time": "2024-03-24T09:09:44.299Z"
   },
   {
    "duration": 339,
    "start_time": "2024-03-24T09:09:50.530Z"
   },
   {
    "duration": 389,
    "start_time": "2024-03-24T12:01:52.151Z"
   },
   {
    "duration": 58,
    "start_time": "2024-03-24T12:02:01.088Z"
   },
   {
    "duration": 46,
    "start_time": "2024-03-24T12:02:14.354Z"
   },
   {
    "duration": 44,
    "start_time": "2024-03-24T12:02:35.441Z"
   },
   {
    "duration": 44,
    "start_time": "2024-03-24T12:02:42.792Z"
   },
   {
    "duration": 44,
    "start_time": "2024-03-24T12:02:47.566Z"
   },
   {
    "duration": 386,
    "start_time": "2024-03-24T12:02:55.371Z"
   },
   {
    "duration": 47,
    "start_time": "2024-03-24T12:03:01.338Z"
   },
   {
    "duration": 22,
    "start_time": "2024-03-24T12:03:34.049Z"
   },
   {
    "duration": 23,
    "start_time": "2024-03-24T12:03:43.012Z"
   },
   {
    "duration": 48,
    "start_time": "2024-03-27T06:37:21.196Z"
   },
   {
    "duration": 6,
    "start_time": "2024-03-27T06:37:43.892Z"
   },
   {
    "duration": 5,
    "start_time": "2024-03-27T06:37:56.159Z"
   },
   {
    "duration": 1562,
    "start_time": "2024-03-27T06:38:10.802Z"
   },
   {
    "duration": 4,
    "start_time": "2024-03-27T06:38:14.875Z"
   },
   {
    "duration": 658,
    "start_time": "2024-03-27T06:38:22.233Z"
   },
   {
    "duration": 67,
    "start_time": "2024-03-27T06:38:50.641Z"
   },
   {
    "duration": 94,
    "start_time": "2024-03-27T08:04:40.414Z"
   },
   {
    "duration": 3,
    "start_time": "2024-03-27T08:05:00.304Z"
   },
   {
    "duration": 15,
    "start_time": "2024-03-27T08:05:03.760Z"
   },
   {
    "duration": 11,
    "start_time": "2024-03-27T08:05:15.773Z"
   },
   {
    "duration": 10,
    "start_time": "2024-03-27T08:05:57.181Z"
   },
   {
    "duration": 6,
    "start_time": "2024-03-27T09:25:40.337Z"
   },
   {
    "duration": 10,
    "start_time": "2024-03-27T09:26:04.538Z"
   },
   {
    "duration": 10,
    "start_time": "2024-03-27T09:26:20.696Z"
   },
   {
    "duration": 290,
    "start_time": "2024-03-27T10:01:47.132Z"
   },
   {
    "duration": 271,
    "start_time": "2024-03-27T10:02:04.163Z"
   },
   {
    "duration": 16,
    "start_time": "2024-03-27T10:58:56.979Z"
   },
   {
    "duration": 10,
    "start_time": "2024-03-27T10:59:06.309Z"
   },
   {
    "duration": 14,
    "start_time": "2024-03-27T10:59:12.827Z"
   },
   {
    "duration": 366,
    "start_time": "2024-03-27T10:59:23.784Z"
   },
   {
    "duration": 3,
    "start_time": "2024-03-27T11:49:15.626Z"
   },
   {
    "duration": 1753,
    "start_time": "2024-03-28T04:38:07.146Z"
   },
   {
    "duration": 2,
    "start_time": "2024-03-28T04:39:12.049Z"
   },
   {
    "duration": 3,
    "start_time": "2024-03-28T04:39:33.930Z"
   },
   {
    "duration": 21,
    "start_time": "2024-03-28T04:39:33.936Z"
   },
   {
    "duration": 1796,
    "start_time": "2024-03-28T04:39:33.959Z"
   },
   {
    "duration": 73,
    "start_time": "2024-03-28T04:39:35.758Z"
   },
   {
    "duration": 1164,
    "start_time": "2024-03-28T04:39:35.832Z"
   },
   {
    "duration": 300,
    "start_time": "2024-03-28T04:39:37.001Z"
   },
   {
    "duration": 3,
    "start_time": "2024-03-28T04:39:37.303Z"
   },
   {
    "duration": 150,
    "start_time": "2024-03-28T04:39:54.080Z"
   },
   {
    "duration": 42,
    "start_time": "2024-03-28T04:40:02.082Z"
   },
   {
    "duration": 11,
    "start_time": "2024-03-28T04:40:04.462Z"
   },
   {
    "duration": 4,
    "start_time": "2024-03-28T04:40:37.326Z"
   },
   {
    "duration": 282,
    "start_time": "2024-03-28T04:40:39.892Z"
   },
   {
    "duration": 185,
    "start_time": "2024-03-28T04:40:46.898Z"
   },
   {
    "duration": 36,
    "start_time": "2024-03-28T04:40:52.340Z"
   },
   {
    "duration": 157,
    "start_time": "2024-03-28T05:57:59.019Z"
   },
   {
    "duration": 293,
    "start_time": "2024-03-28T05:58:10.737Z"
   },
   {
    "duration": 708,
    "start_time": "2024-03-28T05:58:40.542Z"
   },
   {
    "duration": 562,
    "start_time": "2024-03-28T05:58:46.282Z"
   },
   {
    "duration": 3132,
    "start_time": "2024-03-28T05:58:56.250Z"
   },
   {
    "duration": 765,
    "start_time": "2024-03-28T05:59:05.249Z"
   },
   {
    "duration": 824,
    "start_time": "2024-03-28T09:01:41.558Z"
   },
   {
    "duration": 972,
    "start_time": "2024-03-28T09:01:50.969Z"
   },
   {
    "duration": 744,
    "start_time": "2024-03-28T09:01:59.243Z"
   },
   {
    "duration": 920,
    "start_time": "2024-03-28T09:02:42.714Z"
   },
   {
    "duration": 4,
    "start_time": "2024-03-28T09:03:01.000Z"
   },
   {
    "duration": 813,
    "start_time": "2024-03-28T09:03:04.147Z"
   },
   {
    "duration": 987,
    "start_time": "2024-03-28T09:06:10.155Z"
   },
   {
    "duration": 826,
    "start_time": "2024-03-28T09:06:20.004Z"
   },
   {
    "duration": 51,
    "start_time": "2024-03-28T09:08:50.453Z"
   },
   {
    "duration": 48,
    "start_time": "2024-03-28T09:08:58.975Z"
   },
   {
    "duration": 18,
    "start_time": "2024-03-28T09:09:09.095Z"
   },
   {
    "duration": 21,
    "start_time": "2024-03-28T09:09:36.821Z"
   },
   {
    "duration": 725,
    "start_time": "2024-03-28T09:38:42.728Z"
   },
   {
    "duration": 223,
    "start_time": "2024-03-28T12:54:37.709Z"
   },
   {
    "duration": 231,
    "start_time": "2024-03-28T12:54:55.275Z"
   },
   {
    "duration": 218,
    "start_time": "2024-03-28T12:55:03.868Z"
   },
   {
    "duration": 90,
    "start_time": "2024-03-28T12:57:03.456Z"
   },
   {
    "duration": 14,
    "start_time": "2024-03-28T12:57:23.447Z"
   },
   {
    "duration": 217,
    "start_time": "2024-03-28T12:57:31.319Z"
   },
   {
    "duration": 11,
    "start_time": "2024-03-28T12:58:49.527Z"
   },
   {
    "duration": 213,
    "start_time": "2024-03-28T12:58:53.730Z"
   },
   {
    "duration": 10,
    "start_time": "2024-03-28T12:59:03.091Z"
   },
   {
    "duration": 10,
    "start_time": "2024-03-28T12:59:13.530Z"
   },
   {
    "duration": 10,
    "start_time": "2024-03-28T13:00:34.219Z"
   },
   {
    "duration": 10,
    "start_time": "2024-03-28T13:00:37.958Z"
   },
   {
    "duration": 10,
    "start_time": "2024-03-28T13:00:48.759Z"
   },
   {
    "duration": 11,
    "start_time": "2024-03-28T13:01:13.586Z"
   },
   {
    "duration": 11,
    "start_time": "2024-03-28T13:01:20.426Z"
   },
   {
    "duration": 231,
    "start_time": "2024-03-28T13:01:23.760Z"
   },
   {
    "duration": 271,
    "start_time": "2024-03-28T13:01:29.964Z"
   },
   {
    "duration": 11,
    "start_time": "2024-03-28T13:01:45.677Z"
   },
   {
    "duration": 224,
    "start_time": "2024-03-28T13:01:54.156Z"
   },
   {
    "duration": 239,
    "start_time": "2024-03-28T13:02:29.922Z"
   },
   {
    "duration": 215,
    "start_time": "2024-03-28T13:03:15.741Z"
   },
   {
    "duration": 228,
    "start_time": "2024-03-28T13:03:26.187Z"
   },
   {
    "duration": 244,
    "start_time": "2024-03-28T13:03:52.975Z"
   },
   {
    "duration": 242,
    "start_time": "2024-03-28T13:03:59.563Z"
   },
   {
    "duration": 220,
    "start_time": "2024-03-28T13:04:05.327Z"
   },
   {
    "duration": 96,
    "start_time": "2024-03-28T13:04:50.975Z"
   },
   {
    "duration": 261,
    "start_time": "2024-03-28T13:05:06.182Z"
   },
   {
    "duration": 343,
    "start_time": "2024-03-28T13:05:43.107Z"
   },
   {
    "duration": 362,
    "start_time": "2024-03-28T13:05:55.518Z"
   },
   {
    "duration": 125,
    "start_time": "2024-03-28T13:06:07.158Z"
   },
   {
    "duration": 371,
    "start_time": "2024-03-28T13:06:16.009Z"
   },
   {
    "duration": 564,
    "start_time": "2024-03-28T13:16:40.458Z"
   },
   {
    "duration": 580,
    "start_time": "2024-03-28T13:16:46.726Z"
   },
   {
    "duration": 717,
    "start_time": "2024-03-28T13:17:23.962Z"
   },
   {
    "duration": 512,
    "start_time": "2024-03-28T13:17:34.546Z"
   },
   {
    "duration": 1494,
    "start_time": "2024-03-29T12:15:56.267Z"
   },
   {
    "duration": 3,
    "start_time": "2024-03-29T12:15:59.414Z"
   },
   {
    "duration": 666,
    "start_time": "2024-03-29T12:16:01.085Z"
   },
   {
    "duration": 344,
    "start_time": "2024-03-29T12:16:18.069Z"
   },
   {
    "duration": 371,
    "start_time": "2024-03-29T12:20:05.297Z"
   },
   {
    "duration": 91,
    "start_time": "2024-03-29T12:25:09.578Z"
   },
   {
    "duration": 42,
    "start_time": "2024-03-29T12:25:14.606Z"
   },
   {
    "duration": 33,
    "start_time": "2024-03-29T12:25:25.156Z"
   },
   {
    "duration": 28,
    "start_time": "2024-03-29T12:25:32.686Z"
   },
   {
    "duration": 72,
    "start_time": "2024-03-29T12:26:12.177Z"
   },
   {
    "duration": 917,
    "start_time": "2024-03-29T12:26:20.641Z"
   },
   {
    "duration": 648,
    "start_time": "2024-03-29T12:26:25.242Z"
   },
   {
    "duration": 13,
    "start_time": "2024-03-29T12:28:42.953Z"
   },
   {
    "duration": 908,
    "start_time": "2024-03-29T12:28:45.345Z"
   },
   {
    "duration": 24,
    "start_time": "2024-03-29T12:28:50.427Z"
   },
   {
    "duration": 22,
    "start_time": "2024-03-29T12:29:45.430Z"
   },
   {
    "duration": 14,
    "start_time": "2024-03-29T12:29:46.896Z"
   },
   {
    "duration": 117,
    "start_time": "2024-03-29T12:29:56.531Z"
   },
   {
    "duration": 9,
    "start_time": "2024-03-29T12:31:36.762Z"
   },
   {
    "duration": 10,
    "start_time": "2024-03-29T12:31:47.158Z"
   },
   {
    "duration": 5,
    "start_time": "2024-03-29T12:32:14.423Z"
   },
   {
    "duration": 9,
    "start_time": "2024-03-29T12:32:35.019Z"
   },
   {
    "duration": 4,
    "start_time": "2024-03-29T12:32:40.049Z"
   },
   {
    "duration": 8,
    "start_time": "2024-03-29T12:33:00.614Z"
   },
   {
    "duration": 4,
    "start_time": "2024-03-29T12:33:12.297Z"
   },
   {
    "duration": 33,
    "start_time": "2024-03-29T12:33:28.989Z"
   },
   {
    "duration": 125,
    "start_time": "2024-03-29T12:33:32.623Z"
   },
   {
    "duration": 3,
    "start_time": "2024-03-29T12:33:35.511Z"
   },
   {
    "duration": 3,
    "start_time": "2024-03-29T13:10:13.051Z"
   },
   {
    "duration": 3,
    "start_time": "2024-03-29T13:10:15.291Z"
   },
   {
    "duration": 3,
    "start_time": "2024-03-29T13:11:47.360Z"
   },
   {
    "duration": 3,
    "start_time": "2024-03-29T13:11:55.830Z"
   },
   {
    "duration": 4,
    "start_time": "2024-03-29T13:12:02.005Z"
   },
   {
    "duration": 6,
    "start_time": "2024-03-29T13:12:39.793Z"
   },
   {
    "duration": 5,
    "start_time": "2024-03-29T13:13:20.736Z"
   },
   {
    "duration": 4,
    "start_time": "2024-03-29T13:19:49.911Z"
   },
   {
    "duration": 7,
    "start_time": "2024-03-29T13:20:49.668Z"
   },
   {
    "duration": 11,
    "start_time": "2024-03-29T13:21:16.349Z"
   },
   {
    "duration": 4,
    "start_time": "2024-03-29T13:21:33.239Z"
   },
   {
    "duration": 3,
    "start_time": "2024-03-29T13:21:42.236Z"
   },
   {
    "duration": 4,
    "start_time": "2024-03-29T13:21:48.680Z"
   },
   {
    "duration": 5,
    "start_time": "2024-03-29T13:22:01.244Z"
   },
   {
    "duration": 16,
    "start_time": "2024-03-29T13:22:20.186Z"
   },
   {
    "duration": 15,
    "start_time": "2024-03-29T13:22:50.946Z"
   },
   {
    "duration": 15,
    "start_time": "2024-03-29T13:22:53.058Z"
   },
   {
    "duration": 11,
    "start_time": "2024-03-29T13:23:15.685Z"
   },
   {
    "duration": 12,
    "start_time": "2024-03-29T13:23:43.179Z"
   },
   {
    "duration": 12,
    "start_time": "2024-03-29T13:24:13.690Z"
   },
   {
    "duration": 15,
    "start_time": "2024-03-29T13:24:49.839Z"
   },
   {
    "duration": 12,
    "start_time": "2024-03-29T13:25:04.869Z"
   },
   {
    "duration": 13,
    "start_time": "2024-03-29T13:25:23.433Z"
   },
   {
    "duration": 20,
    "start_time": "2024-03-29T13:29:09.048Z"
   },
   {
    "duration": 15,
    "start_time": "2024-03-29T13:29:35.323Z"
   },
   {
    "duration": 11,
    "start_time": "2024-03-29T13:30:10.836Z"
   },
   {
    "duration": 12,
    "start_time": "2024-03-29T13:30:57.082Z"
   },
   {
    "duration": 1078,
    "start_time": "2024-03-29T13:32:25.450Z"
   },
   {
    "duration": 12,
    "start_time": "2024-03-29T13:32:44.690Z"
   },
   {
    "duration": 5,
    "start_time": "2024-03-29T13:32:54.344Z"
   },
   {
    "duration": 8,
    "start_time": "2024-03-29T13:33:06.319Z"
   },
   {
    "duration": 4,
    "start_time": "2024-03-29T13:33:10.747Z"
   },
   {
    "duration": 636,
    "start_time": "2024-03-29T13:34:12.175Z"
   },
   {
    "duration": 639,
    "start_time": "2024-03-29T13:34:18.008Z"
   },
   {
    "duration": 4,
    "start_time": "2024-03-29T13:35:27.260Z"
   },
   {
    "duration": 604,
    "start_time": "2024-03-29T13:35:35.553Z"
   },
   {
    "duration": 399,
    "start_time": "2024-03-29T13:35:46.691Z"
   },
   {
    "duration": 396,
    "start_time": "2024-03-29T13:35:58.719Z"
   },
   {
    "duration": 422,
    "start_time": "2024-03-29T13:37:56.794Z"
   },
   {
    "duration": 573,
    "start_time": "2024-03-29T13:38:22.879Z"
   },
   {
    "duration": 419,
    "start_time": "2024-03-29T13:39:56.478Z"
   },
   {
    "duration": 439,
    "start_time": "2024-03-29T13:40:07.215Z"
   },
   {
    "duration": 1937,
    "start_time": "2024-03-29T13:40:45.628Z"
   },
   {
    "duration": 9,
    "start_time": "2024-03-29T13:41:09.886Z"
   },
   {
    "duration": 12,
    "start_time": "2024-03-29T13:45:45.153Z"
   },
   {
    "duration": 8,
    "start_time": "2024-03-29T13:45:58.806Z"
   },
   {
    "duration": 7,
    "start_time": "2024-03-29T13:46:12.081Z"
   },
   {
    "duration": 8,
    "start_time": "2024-03-29T13:47:41.795Z"
   },
   {
    "duration": 698,
    "start_time": "2024-03-29T13:51:31.616Z"
   },
   {
    "duration": 7,
    "start_time": "2024-03-29T13:51:47.458Z"
   },
   {
    "duration": 110,
    "start_time": "2024-03-29T13:51:55.194Z"
   },
   {
    "duration": 5,
    "start_time": "2024-03-29T13:52:04.929Z"
   },
   {
    "duration": 1085,
    "start_time": "2024-03-29T13:52:17.981Z"
   },
   {
    "duration": 6,
    "start_time": "2024-03-29T13:52:19.842Z"
   },
   {
    "duration": 10,
    "start_time": "2024-03-29T13:53:30.846Z"
   },
   {
    "duration": 7,
    "start_time": "2024-03-29T13:53:55.047Z"
   },
   {
    "duration": 7,
    "start_time": "2024-03-29T13:54:12.115Z"
   },
   {
    "duration": 6,
    "start_time": "2024-03-29T13:54:13.319Z"
   },
   {
    "duration": 7,
    "start_time": "2024-03-29T13:54:14.465Z"
   },
   {
    "duration": 7,
    "start_time": "2024-03-29T13:54:24.669Z"
   },
   {
    "duration": 7,
    "start_time": "2024-03-29T13:55:00.168Z"
   },
   {
    "duration": 6,
    "start_time": "2024-03-29T13:55:01.275Z"
   },
   {
    "duration": 7,
    "start_time": "2024-03-29T13:55:02.191Z"
   },
   {
    "duration": 7,
    "start_time": "2024-03-29T13:55:03.027Z"
   },
   {
    "duration": 6,
    "start_time": "2024-03-29T13:55:09.384Z"
   },
   {
    "duration": 6,
    "start_time": "2024-03-29T13:55:10.179Z"
   },
   {
    "duration": 6,
    "start_time": "2024-03-29T13:55:10.954Z"
   },
   {
    "duration": 6,
    "start_time": "2024-03-29T13:55:11.625Z"
   },
   {
    "duration": 7,
    "start_time": "2024-03-29T13:55:12.205Z"
   },
   {
    "duration": 6,
    "start_time": "2024-03-29T13:55:12.681Z"
   },
   {
    "duration": 6,
    "start_time": "2024-03-29T13:55:13.127Z"
   },
   {
    "duration": 6,
    "start_time": "2024-03-29T13:55:13.556Z"
   },
   {
    "duration": 6,
    "start_time": "2024-03-29T13:55:13.990Z"
   },
   {
    "duration": 6,
    "start_time": "2024-03-29T13:55:14.854Z"
   },
   {
    "duration": 6,
    "start_time": "2024-03-29T13:55:15.476Z"
   },
   {
    "duration": 6,
    "start_time": "2024-03-29T13:55:16.029Z"
   },
   {
    "duration": 6,
    "start_time": "2024-03-29T13:55:16.642Z"
   },
   {
    "duration": 528,
    "start_time": "2024-03-29T13:56:01.564Z"
   },
   {
    "duration": 5,
    "start_time": "2024-03-29T13:56:03.424Z"
   },
   {
    "duration": 116,
    "start_time": "2024-03-29T13:56:12.959Z"
   },
   {
    "duration": 247,
    "start_time": "2024-03-29T13:56:37.994Z"
   },
   {
    "duration": 142,
    "start_time": "2024-03-29T13:56:44.113Z"
   },
   {
    "duration": 4,
    "start_time": "2024-03-29T13:57:27.713Z"
   },
   {
    "duration": 4,
    "start_time": "2024-03-29T13:57:39.555Z"
   },
   {
    "duration": 76,
    "start_time": "2024-03-29T13:58:00.371Z"
   },
   {
    "duration": 9,
    "start_time": "2024-03-29T13:58:52.684Z"
   },
   {
    "duration": 3,
    "start_time": "2024-03-29T13:59:09.722Z"
   },
   {
    "duration": 3,
    "start_time": "2024-03-29T13:59:16.381Z"
   },
   {
    "duration": 503,
    "start_time": "2024-03-29T13:59:19.584Z"
   },
   {
    "duration": 152,
    "start_time": "2024-03-29T13:59:21.555Z"
   },
   {
    "duration": 500,
    "start_time": "2024-03-29T14:01:20.500Z"
   },
   {
    "duration": 156,
    "start_time": "2024-03-29T14:01:28.994Z"
   },
   {
    "duration": 6,
    "start_time": "2024-03-29T14:03:53.906Z"
   },
   {
    "duration": 9,
    "start_time": "2024-03-29T14:04:35.130Z"
   },
   {
    "duration": 6,
    "start_time": "2024-03-29T14:04:41.945Z"
   },
   {
    "duration": 6,
    "start_time": "2024-03-29T14:05:14.338Z"
   },
   {
    "duration": 542,
    "start_time": "2024-03-29T14:06:36.854Z"
   },
   {
    "duration": 149,
    "start_time": "2024-03-29T14:06:38.794Z"
   },
   {
    "duration": 5,
    "start_time": "2024-03-29T14:06:42.179Z"
   },
   {
    "duration": 534,
    "start_time": "2024-03-29T14:07:07.076Z"
   },
   {
    "duration": 161,
    "start_time": "2024-03-29T14:07:10.323Z"
   },
   {
    "duration": 6,
    "start_time": "2024-03-29T14:07:12.768Z"
   },
   {
    "duration": 510,
    "start_time": "2024-03-29T14:07:18.188Z"
   },
   {
    "duration": 161,
    "start_time": "2024-03-29T14:07:20.471Z"
   },
   {
    "duration": 6,
    "start_time": "2024-03-29T14:07:22.477Z"
   },
   {
    "duration": 3,
    "start_time": "2024-03-29T14:10:19.486Z"
   },
   {
    "duration": 10,
    "start_time": "2024-03-29T14:10:19.491Z"
   },
   {
    "duration": 395,
    "start_time": "2024-03-29T14:10:19.503Z"
   },
   {
    "duration": 365,
    "start_time": "2024-03-29T14:10:19.900Z"
   },
   {
    "duration": 51,
    "start_time": "2024-03-29T14:10:20.267Z"
   },
   {
    "duration": 27,
    "start_time": "2024-03-29T14:10:20.319Z"
   },
   {
    "duration": 1088,
    "start_time": "2024-03-29T14:10:20.347Z"
   },
   {
    "duration": 440,
    "start_time": "2024-03-29T14:10:21.436Z"
   },
   {
    "duration": 22,
    "start_time": "2024-03-29T14:10:21.878Z"
   },
   {
    "duration": 1944,
    "start_time": "2024-03-29T14:10:21.902Z"
   },
   {
    "duration": 3,
    "start_time": "2024-03-29T14:10:23.847Z"
   },
   {
    "duration": 13,
    "start_time": "2024-03-29T14:10:23.851Z"
   },
   {
    "duration": 12,
    "start_time": "2024-03-29T14:10:23.865Z"
   },
   {
    "duration": 495,
    "start_time": "2024-03-29T14:10:23.878Z"
   },
   {
    "duration": 163,
    "start_time": "2024-03-29T14:10:24.375Z"
   },
   {
    "duration": 8,
    "start_time": "2024-03-29T14:10:24.540Z"
   },
   {
    "duration": 523,
    "start_time": "2024-03-29T14:10:24.550Z"
   },
   {
    "duration": 164,
    "start_time": "2024-03-29T14:10:25.074Z"
   },
   {
    "duration": 10,
    "start_time": "2024-03-29T14:10:25.239Z"
   },
   {
    "duration": 1147,
    "start_time": "2024-03-29T18:21:07.196Z"
   },
   {
    "duration": 2,
    "start_time": "2024-03-29T18:21:08.345Z"
   },
   {
    "duration": 665,
    "start_time": "2024-03-29T18:21:08.349Z"
   },
   {
    "duration": 442,
    "start_time": "2024-03-29T18:21:09.016Z"
   },
   {
    "duration": 81,
    "start_time": "2024-03-29T18:21:09.460Z"
   },
   {
    "duration": 24,
    "start_time": "2024-03-29T18:21:09.543Z"
   },
   {
    "duration": 1028,
    "start_time": "2024-03-29T18:21:09.569Z"
   },
   {
    "duration": 591,
    "start_time": "2024-03-29T18:21:10.599Z"
   },
   {
    "duration": 35,
    "start_time": "2024-03-29T18:21:11.191Z"
   },
   {
    "duration": 1978,
    "start_time": "2024-03-29T18:21:11.228Z"
   },
   {
    "duration": 3,
    "start_time": "2024-03-29T18:21:13.208Z"
   },
   {
    "duration": 13,
    "start_time": "2024-03-29T18:21:13.213Z"
   },
   {
    "duration": 29,
    "start_time": "2024-03-29T18:21:13.228Z"
   },
   {
    "duration": 600,
    "start_time": "2024-03-29T18:21:13.258Z"
   },
   {
    "duration": 238,
    "start_time": "2024-03-29T18:21:13.860Z"
   },
   {
    "duration": 6,
    "start_time": "2024-03-29T18:21:14.100Z"
   },
   {
    "duration": 593,
    "start_time": "2024-03-29T18:21:14.107Z"
   },
   {
    "duration": 180,
    "start_time": "2024-03-29T18:21:14.701Z"
   },
   {
    "duration": 5,
    "start_time": "2024-03-29T18:21:14.882Z"
   },
   {
    "duration": 10,
    "start_time": "2024-03-29T18:21:31.124Z"
   },
   {
    "duration": 10,
    "start_time": "2024-03-29T18:21:56.787Z"
   },
   {
    "duration": 1534,
    "start_time": "2024-03-30T03:29:42.066Z"
   },
   {
    "duration": 2,
    "start_time": "2024-03-30T03:29:43.602Z"
   },
   {
    "duration": 1606,
    "start_time": "2024-03-30T03:29:43.605Z"
   },
   {
    "duration": 373,
    "start_time": "2024-03-30T03:29:45.213Z"
   },
   {
    "duration": 59,
    "start_time": "2024-03-30T03:29:45.587Z"
   },
   {
    "duration": 10,
    "start_time": "2024-03-30T03:29:45.647Z"
   },
   {
    "duration": 1022,
    "start_time": "2024-03-30T03:29:45.658Z"
   },
   {
    "duration": 432,
    "start_time": "2024-03-30T03:29:46.690Z"
   },
   {
    "duration": 31,
    "start_time": "2024-03-30T03:29:47.124Z"
   },
   {
    "duration": 1913,
    "start_time": "2024-03-30T03:29:47.157Z"
   },
   {
    "duration": 4,
    "start_time": "2024-03-30T03:29:49.072Z"
   },
   {
    "duration": 105,
    "start_time": "2024-03-30T03:29:49.077Z"
   },
   {
    "duration": 0,
    "start_time": "2024-03-30T03:29:49.184Z"
   },
   {
    "duration": 0,
    "start_time": "2024-03-30T03:29:49.193Z"
   },
   {
    "duration": 0,
    "start_time": "2024-03-30T03:29:49.195Z"
   },
   {
    "duration": 0,
    "start_time": "2024-03-30T03:29:49.196Z"
   },
   {
    "duration": 0,
    "start_time": "2024-03-30T03:29:49.197Z"
   },
   {
    "duration": 0,
    "start_time": "2024-03-30T03:29:49.198Z"
   },
   {
    "duration": 0,
    "start_time": "2024-03-30T03:29:49.200Z"
   },
   {
    "duration": 8,
    "start_time": "2024-03-30T03:30:06.031Z"
   },
   {
    "duration": 8,
    "start_time": "2024-03-30T03:31:26.551Z"
   },
   {
    "duration": 4,
    "start_time": "2024-03-30T03:31:34.308Z"
   },
   {
    "duration": 4,
    "start_time": "2024-03-30T03:31:37.043Z"
   },
   {
    "duration": 13,
    "start_time": "2024-03-30T03:31:48.314Z"
   },
   {
    "duration": 117,
    "start_time": "2024-03-30T03:32:46.697Z"
   },
   {
    "duration": 13,
    "start_time": "2024-03-30T03:33:12.731Z"
   },
   {
    "duration": 16,
    "start_time": "2024-03-30T03:33:30.525Z"
   },
   {
    "duration": 8,
    "start_time": "2024-03-30T03:34:02.165Z"
   },
   {
    "duration": 98,
    "start_time": "2024-03-30T03:37:12.107Z"
   },
   {
    "duration": 2091,
    "start_time": "2024-03-30T03:37:21.701Z"
   },
   {
    "duration": 9,
    "start_time": "2024-03-30T03:38:47.465Z"
   },
   {
    "duration": 8,
    "start_time": "2024-03-30T03:39:31.299Z"
   },
   {
    "duration": 3,
    "start_time": "2024-03-30T03:45:50.512Z"
   },
   {
    "duration": 8,
    "start_time": "2024-03-30T03:46:48.255Z"
   },
   {
    "duration": 16,
    "start_time": "2024-03-30T03:48:45.859Z"
   },
   {
    "duration": 9,
    "start_time": "2024-03-30T03:49:50.086Z"
   },
   {
    "duration": 7,
    "start_time": "2024-03-30T03:50:35.853Z"
   },
   {
    "duration": 4,
    "start_time": "2024-03-30T03:50:45.676Z"
   },
   {
    "duration": 4,
    "start_time": "2024-03-30T03:51:13.494Z"
   },
   {
    "duration": 4,
    "start_time": "2024-03-30T03:51:27.734Z"
   },
   {
    "duration": 5,
    "start_time": "2024-03-30T03:55:41.907Z"
   },
   {
    "duration": 12,
    "start_time": "2024-03-30T03:56:26.804Z"
   },
   {
    "duration": 5,
    "start_time": "2024-03-30T03:56:33.197Z"
   },
   {
    "duration": 5,
    "start_time": "2024-03-30T03:57:15.362Z"
   },
   {
    "duration": 12,
    "start_time": "2024-03-30T03:58:59.834Z"
   },
   {
    "duration": 5,
    "start_time": "2024-03-30T03:59:07.769Z"
   },
   {
    "duration": 16,
    "start_time": "2024-03-30T04:02:00.149Z"
   },
   {
    "duration": 5,
    "start_time": "2024-03-30T04:02:38.748Z"
   },
   {
    "duration": 5,
    "start_time": "2024-03-30T04:09:47.451Z"
   },
   {
    "duration": 4,
    "start_time": "2024-03-30T04:10:23.844Z"
   },
   {
    "duration": 3,
    "start_time": "2024-03-30T04:10:36.402Z"
   },
   {
    "duration": 4,
    "start_time": "2024-03-30T04:11:06.190Z"
   },
   {
    "duration": 4,
    "start_time": "2024-03-30T04:11:10.303Z"
   },
   {
    "duration": 4,
    "start_time": "2024-03-30T04:11:15.558Z"
   },
   {
    "duration": 10,
    "start_time": "2024-03-30T04:12:11.093Z"
   },
   {
    "duration": 10,
    "start_time": "2024-03-30T04:14:32.125Z"
   },
   {
    "duration": 10,
    "start_time": "2024-03-30T04:14:40.582Z"
   },
   {
    "duration": 11,
    "start_time": "2024-03-30T04:15:18.254Z"
   },
   {
    "duration": 1981,
    "start_time": "2024-03-30T04:16:28.849Z"
   },
   {
    "duration": 496,
    "start_time": "2024-03-30T04:16:43.383Z"
   },
   {
    "duration": 170,
    "start_time": "2024-03-30T04:18:15.992Z"
   },
   {
    "duration": 170,
    "start_time": "2024-03-30T04:18:40.937Z"
   },
   {
    "duration": 167,
    "start_time": "2024-03-30T04:18:59.654Z"
   },
   {
    "duration": 672,
    "start_time": "2024-03-30T04:19:17.031Z"
   },
   {
    "duration": 498,
    "start_time": "2024-03-30T04:20:39.916Z"
   },
   {
    "duration": 533,
    "start_time": "2024-03-30T04:21:08.525Z"
   },
   {
    "duration": 528,
    "start_time": "2024-03-30T04:21:14.838Z"
   },
   {
    "duration": 554,
    "start_time": "2024-03-30T04:21:21.816Z"
   },
   {
    "duration": 631,
    "start_time": "2024-03-30T04:21:27.873Z"
   },
   {
    "duration": 5,
    "start_time": "2024-03-30T04:26:40.019Z"
   },
   {
    "duration": 10,
    "start_time": "2024-03-30T04:26:52.735Z"
   },
   {
    "duration": 7,
    "start_time": "2024-03-30T04:27:11.493Z"
   },
   {
    "duration": 4,
    "start_time": "2024-03-30T04:28:02.174Z"
   },
   {
    "duration": 5,
    "start_time": "2024-03-30T04:28:49.408Z"
   },
   {
    "duration": 514,
    "start_time": "2024-03-30T04:29:24.914Z"
   },
   {
    "duration": 525,
    "start_time": "2024-03-30T04:29:33.181Z"
   },
   {
    "duration": 630,
    "start_time": "2024-03-30T04:29:41.723Z"
   },
   {
    "duration": 1456,
    "start_time": "2024-03-30T17:58:17.822Z"
   },
   {
    "duration": 9,
    "start_time": "2024-03-30T17:58:21.566Z"
   }
  ],
  "kernelspec": {
   "display_name": "Python 3 (ipykernel)",
   "language": "python",
   "name": "python3"
  },
  "language_info": {
   "codemirror_mode": {
    "name": "ipython",
    "version": 3
   },
   "file_extension": ".py",
   "mimetype": "text/x-python",
   "name": "python",
   "nbconvert_exporter": "python",
   "pygments_lexer": "ipython3",
   "version": "3.11.7"
  },
  "toc": {
   "base_numbering": 1,
   "nav_menu": {},
   "number_sections": true,
   "sideBar": true,
   "skip_h1_title": true,
   "title_cell": "Table of Contents",
   "title_sidebar": "Contents",
   "toc_cell": false,
   "toc_position": {
    "height": "calc(100% - 180px)",
    "left": "10px",
    "top": "150px",
    "width": "347.628px"
   },
   "toc_section_display": true,
   "toc_window_display": true
  }
 },
 "nbformat": 4,
 "nbformat_minor": 4
}
