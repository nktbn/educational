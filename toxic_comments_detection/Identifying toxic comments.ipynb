{
 "cells": [
  {
   "cell_type": "markdown",
   "metadata": {},
   "source": [
    "# Определение токсичных комментариев."
   ]
  },
  {
   "cell_type": "markdown",
   "metadata": {},
   "source": [
    "Интернет-магазин  запускает новый сервис. Теперь пользователи могут редактировать и дополнять описания товаров, как в вики-сообществах. То есть клиенты предлагают свои правки и комментируют изменения других. Магазину нужен инструмент, который будет искать токсичные комментарии и отправлять их на модерацию. \n",
    "\n",
    "**Нужно:**\n",
    "- Обучить модель классификации комментариев на позитивные и негативные.\n",
    "\n",
    "**Требования**\n",
    " - значение метрики *F1* не меньше 0.75. \n",
    "\n",
    "**Описание данных:**\n",
    "Данные находятся в файле `toxic_comments.csv`. Столбец *text* в нём содержит текст комментария, а *toxic* — целевой признак."
   ]
  },
  {
   "cell_type": "markdown",
   "metadata": {},
   "source": [
    "## Подготовка"
   ]
  },
  {
   "cell_type": "markdown",
   "metadata": {},
   "source": [
    "Импорт библиотек"
   ]
  },
  {
   "cell_type": "code",
   "execution_count": 45,
   "metadata": {
    "scrolled": true,
    "tags": []
   },
   "outputs": [],
   "source": [
    "import pandas as pd\n",
    "import re\n",
    "#from pymystem3 import Mystem\n",
    "import tqdm\n",
    "\n",
    "from sklearn.base import BaseEstimator, TransformerMixin\n",
    "from sklearn.pipeline import Pipeline\n",
    "\n",
    "from sklearn.feature_extraction.text import CountVectorizer\n",
    "from sklearn.linear_model import LogisticRegression\n",
    "from sklearn.linear_model import RidgeClassifier\n",
    "from sklearn.svm import SVC\n",
    "from sklearn.tree import DecisionTreeClassifier\n",
    "\n",
    "from sklearn.model_selection import train_test_split\n",
    "from sklearn.metrics import accuracy_score, f1_score\n",
    "\n",
    "import nltk \n",
    "from nltk.corpus import stopwords\n",
    "from nltk.corpus import wordnet\n",
    "from nltk.stem import WordNetLemmatizer\n",
    "from nltk.tokenize import word_tokenize\n",
    "\n",
    "#отслеживание прогресса\n",
    "from tqdm.notebook import tqdm\n",
    "from IPython.display import display\n",
    "import time"
   ]
  },
  {
   "cell_type": "code",
   "execution_count": 46,
   "metadata": {
    "tags": []
   },
   "outputs": [
    {
     "name": "stderr",
     "output_type": "stream",
     "text": [
      "[nltk_data] Downloading package stopwords to\n",
      "[nltk_data]     C:\\Users\\user\\AppData\\Roaming\\nltk_data...\n",
      "[nltk_data]   Package stopwords is already up-to-date!\n",
      "[nltk_data] Downloading package omw-1.4 to\n",
      "[nltk_data]     C:\\Users\\user\\AppData\\Roaming\\nltk_data...\n",
      "[nltk_data]   Package omw-1.4 is already up-to-date!\n",
      "[nltk_data] Downloading package averaged_perceptron_tagger to\n",
      "[nltk_data]     C:\\Users\\user\\AppData\\Roaming\\nltk_data...\n",
      "[nltk_data]   Package averaged_perceptron_tagger is already up-to-\n",
      "[nltk_data]       date!\n"
     ]
    },
    {
     "data": {
      "text/plain": [
       "True"
      ]
     },
     "execution_count": 46,
     "metadata": {},
     "output_type": "execute_result"
    }
   ],
   "source": [
    "nltk.download('stopwords')\n",
    "nltk.download('omw-1.4')\n",
    "nltk.download('averaged_perceptron_tagger')"
   ]
  },
  {
   "cell_type": "markdown",
   "metadata": {},
   "source": [
    "Загрузка датасета и просмотр нескольких записей в нём для того-чтобы убедится в корректности загрузки и первично ознакомится с данными."
   ]
  },
  {
   "cell_type": "code",
   "execution_count": 48,
   "metadata": {
    "tags": []
   },
   "outputs": [
    {
     "data": {
      "text/html": [
       "<div>\n",
       "<style scoped>\n",
       "    .dataframe tbody tr th:only-of-type {\n",
       "        vertical-align: middle;\n",
       "    }\n",
       "\n",
       "    .dataframe tbody tr th {\n",
       "        vertical-align: top;\n",
       "    }\n",
       "\n",
       "    .dataframe thead th {\n",
       "        text-align: right;\n",
       "    }\n",
       "</style>\n",
       "<table border=\"1\" class=\"dataframe\">\n",
       "  <thead>\n",
       "    <tr style=\"text-align: right;\">\n",
       "      <th></th>\n",
       "      <th>text</th>\n",
       "      <th>toxic</th>\n",
       "    </tr>\n",
       "  </thead>\n",
       "  <tbody>\n",
       "    <tr>\n",
       "      <th>6752</th>\n",
       "      <td>Yachts \\n\\nOn a decidedly trivial note, I read...</td>\n",
       "      <td>0</td>\n",
       "    </tr>\n",
       "    <tr>\n",
       "      <th>31863</th>\n",
       "      <td>\"\\n\\n I agree with  first suggestion his neutr...</td>\n",
       "      <td>0</td>\n",
       "    </tr>\n",
       "    <tr>\n",
       "      <th>74257</th>\n",
       "      <td>\", 1 January 2008 (UTC)\\n\\nThanks for asking. ...</td>\n",
       "      <td>0</td>\n",
       "    </tr>\n",
       "    <tr>\n",
       "      <th>94139</th>\n",
       "      <td>No vandalism. Simply removing my original cont...</td>\n",
       "      <td>0</td>\n",
       "    </tr>\n",
       "    <tr>\n",
       "      <th>32334</th>\n",
       "      <td>\"\\nRead what he said. \"\"\"\"If someone talks of ...</td>\n",
       "      <td>0</td>\n",
       "    </tr>\n",
       "    <tr>\n",
       "      <th>100801</th>\n",
       "      <td>Ban expired. Now what, moron -P</td>\n",
       "      <td>1</td>\n",
       "    </tr>\n",
       "    <tr>\n",
       "      <th>29155</th>\n",
       "      <td>Tripolis Massacre\\n\\nHecrtoian. Your sick fana...</td>\n",
       "      <td>1</td>\n",
       "    </tr>\n",
       "    <tr>\n",
       "      <th>95913</th>\n",
       "      <td>Probably another station named Ridgewood. I'm ...</td>\n",
       "      <td>0</td>\n",
       "    </tr>\n",
       "    <tr>\n",
       "      <th>102711</th>\n",
       "      <td>\"\\n\\nI have reported User:Tedickey for spam. H...</td>\n",
       "      <td>0</td>\n",
       "    </tr>\n",
       "    <tr>\n",
       "      <th>16815</th>\n",
       "      <td>was vandilising come to my house and ill show ...</td>\n",
       "      <td>0</td>\n",
       "    </tr>\n",
       "    <tr>\n",
       "      <th>114290</th>\n",
       "      <td>\"\\n\\nFirst, you excuse your attack and are cri...</td>\n",
       "      <td>0</td>\n",
       "    </tr>\n",
       "    <tr>\n",
       "      <th>24827</th>\n",
       "      <td>Who is IAN? Please do not remove this message ...</td>\n",
       "      <td>0</td>\n",
       "    </tr>\n",
       "    <tr>\n",
       "      <th>46393</th>\n",
       "      <td>I've been censored! \\n\\nWHY HAVE I BEEN CENSORED?</td>\n",
       "      <td>0</td>\n",
       "    </tr>\n",
       "    <tr>\n",
       "      <th>7793</th>\n",
       "      <td>\"\\n\\nTell me More!\\nOk, how that i've reached ...</td>\n",
       "      <td>0</td>\n",
       "    </tr>\n",
       "    <tr>\n",
       "      <th>156480</th>\n",
       "      <td>I agree with Laser brain here. Just like links...</td>\n",
       "      <td>0</td>\n",
       "    </tr>\n",
       "    <tr>\n",
       "      <th>30770</th>\n",
       "      <td>Please ban me \\n\\nThis pedia is a wiki pedia a...</td>\n",
       "      <td>1</td>\n",
       "    </tr>\n",
       "    <tr>\n",
       "      <th>47285</th>\n",
       "      <td>Zs... \\n\\nBongwarrior's page should be protected.</td>\n",
       "      <td>0</td>\n",
       "    </tr>\n",
       "    <tr>\n",
       "      <th>117704</th>\n",
       "      <td>Unregistered punk think's he's so cool</td>\n",
       "      <td>0</td>\n",
       "    </tr>\n",
       "    <tr>\n",
       "      <th>2798</th>\n",
       "      <td>a , please improve Typhoon Mekkhala's page bec...</td>\n",
       "      <td>0</td>\n",
       "    </tr>\n",
       "    <tr>\n",
       "      <th>150843</th>\n",
       "      <td>Not sure, however my guess is he won't, since ...</td>\n",
       "      <td>0</td>\n",
       "    </tr>\n",
       "  </tbody>\n",
       "</table>\n",
       "</div>"
      ],
      "text/plain": [
       "                                                     text  toxic\n",
       "6752    Yachts \\n\\nOn a decidedly trivial note, I read...      0\n",
       "31863   \"\\n\\n I agree with  first suggestion his neutr...      0\n",
       "74257   \", 1 January 2008 (UTC)\\n\\nThanks for asking. ...      0\n",
       "94139   No vandalism. Simply removing my original cont...      0\n",
       "32334   \"\\nRead what he said. \"\"\"\"If someone talks of ...      0\n",
       "100801                    Ban expired. Now what, moron -P      1\n",
       "29155   Tripolis Massacre\\n\\nHecrtoian. Your sick fana...      1\n",
       "95913   Probably another station named Ridgewood. I'm ...      0\n",
       "102711  \"\\n\\nI have reported User:Tedickey for spam. H...      0\n",
       "16815   was vandilising come to my house and ill show ...      0\n",
       "114290  \"\\n\\nFirst, you excuse your attack and are cri...      0\n",
       "24827   Who is IAN? Please do not remove this message ...      0\n",
       "46393   I've been censored! \\n\\nWHY HAVE I BEEN CENSORED?      0\n",
       "7793    \"\\n\\nTell me More!\\nOk, how that i've reached ...      0\n",
       "156480  I agree with Laser brain here. Just like links...      0\n",
       "30770   Please ban me \\n\\nThis pedia is a wiki pedia a...      1\n",
       "47285   Zs... \\n\\nBongwarrior's page should be protected.      0\n",
       "117704             Unregistered punk think's he's so cool      0\n",
       "2798    a , please improve Typhoon Mekkhala's page bec...      0\n",
       "150843  Not sure, however my guess is he won't, since ...      0"
      ]
     },
     "execution_count": 48,
     "metadata": {},
     "output_type": "execute_result"
    }
   ],
   "source": [
    "df = pd.read_csv('toxic_comments.csv', index_col='Unnamed: 0')\n",
    "df.sample(20)"
   ]
  },
  {
   "cell_type": "code",
   "execution_count": 49,
   "metadata": {
    "tags": []
   },
   "outputs": [
    {
     "name": "stdout",
     "output_type": "stream",
     "text": [
      "<class 'pandas.core.frame.DataFrame'>\n",
      "Int64Index: 159292 entries, 0 to 159450\n",
      "Data columns (total 2 columns):\n",
      " #   Column  Non-Null Count   Dtype \n",
      "---  ------  --------------   ----- \n",
      " 0   text    159292 non-null  object\n",
      " 1   toxic   159292 non-null  int64 \n",
      "dtypes: int64(1), object(1)\n",
      "memory usage: 3.6+ MB\n"
     ]
    }
   ],
   "source": [
    "df.info()"
   ]
  },
  {
   "cell_type": "code",
   "execution_count": 50,
   "metadata": {
    "tags": []
   },
   "outputs": [],
   "source": [
    "df = df.reset_index(drop=True)"
   ]
  },
  {
   "cell_type": "markdown",
   "metadata": {},
   "source": [
    "Пропусков нет. Посмотрю на соотношение значений целевого признака."
   ]
  },
  {
   "cell_type": "code",
   "execution_count": 52,
   "metadata": {
    "scrolled": true
   },
   "outputs": [
    {
     "data": {
      "text/plain": [
       "0    89.838787\n",
       "1    10.161213\n",
       "Name: toxic, dtype: float64"
      ]
     },
     "execution_count": 52,
     "metadata": {},
     "output_type": "execute_result"
    }
   ],
   "source": [
    "df['toxic'].value_counts()/df.shape[0]*100"
   ]
  },
  {
   "cell_type": "markdown",
   "metadata": {},
   "source": [
    "### Векторизация"
   ]
  },
  {
   "cell_type": "markdown",
   "metadata": {},
   "source": [
    "Создам небольшой список текстов для тестирования."
   ]
  },
  {
   "cell_type": "code",
   "execution_count": 55,
   "metadata": {},
   "outputs": [],
   "source": [
    "test_text = df['text'].iloc[:3]"
   ]
  },
  {
   "cell_type": "markdown",
   "metadata": {},
   "source": [
    "Создам класс для лемматизации текстов"
   ]
  },
  {
   "cell_type": "markdown",
   "metadata": {},
   "source": [
    "Создам функцию подготавлювающую текст к лемматизации."
   ]
  },
  {
   "cell_type": "code",
   "execution_count": 58,
   "metadata": {
    "scrolled": true
   },
   "outputs": [
    {
     "data": {
      "text/plain": [
       "[\"d'aww\",\n",
       " 'he',\n",
       " 'matches',\n",
       " 'this',\n",
       " 'background',\n",
       " 'colour',\n",
       " \"i'm\",\n",
       " 'seemingly',\n",
       " 'stuck',\n",
       " 'with',\n",
       " 'thanks',\n",
       " 'talk',\n",
       " 'january',\n",
       " 'utc']"
      ]
     },
     "execution_count": 58,
     "metadata": {},
     "output_type": "execute_result"
    }
   ],
   "source": [
    "def text_prep(txt):\n",
    "    return re.sub(r'[^a-zA-Z\\']', ' ', txt.lower()).split()\n",
    "    #return ' '.join(re.sub(r'[^a-zA-Z\\']', ' ', txt.lower()).split()).strip().split() \n",
    "    #return ' '.join(re.sub(r'[^a-zA-Z\\']', ' ', ' '.join(nltk.word_tokenize(txt.lower())) ).split())\n",
    "text_prep(df['text'].iloc[1])\n"
   ]
  },
  {
   "cell_type": "markdown",
   "metadata": {},
   "source": [
    "Использую функцию для получения POS-тэга. "
   ]
  },
  {
   "cell_type": "code",
   "execution_count": 60,
   "metadata": {
    "scrolled": true
   },
   "outputs": [],
   "source": [
    "def get_wordnet_pos(word):\n",
    "    \"\"\"Map POS tag to first character lemmatize() accepts\"\"\"\n",
    "    tag = nltk.pos_tag([word])[0][1][0].upper()\n",
    "    tag_dict = {\"J\": wordnet.ADJ,\n",
    "                \"N\": wordnet.NOUN,\n",
    "                \"V\": wordnet.VERB,\n",
    "                \"R\": wordnet.ADV}\n",
    "    return tag_dict.get(tag, wordnet.NOUN)\n"
   ]
  },
  {
   "cell_type": "markdown",
   "metadata": {},
   "source": [
    "Напишу класс-лемматизатор"
   ]
  },
  {
   "cell_type": "code",
   "execution_count": 62,
   "metadata": {},
   "outputs": [],
   "source": [
    "class Lemmatizer(BaseEstimator, TransformerMixin):\n",
    "    \n",
    "    def __init__(self):\n",
    "        self.lemmatizer = WordNetLemmatizer()\n",
    "        \n",
    "    @staticmethod    \n",
    "    def text_prep(txt):\n",
    "        return re.sub(r'[^a-zA-Z\\']', ' ', txt.lower()).split()\n",
    "    \n",
    "    @staticmethod \n",
    "    def get_wordnet_pos(word):\n",
    "        \"\"\"Map POS tag to first character lemmatize() accepts\"\"\"\n",
    "        tag = nltk.pos_tag([word])[0][1][0].upper()\n",
    "        tag_dict = {\"J\": wordnet.ADJ,\n",
    "                    \"N\": wordnet.NOUN,\n",
    "                    \"V\": wordnet.VERB,\n",
    "                    \"R\": wordnet.ADV}\n",
    "        return tag_dict.get(tag, wordnet.NOUN)\n",
    "    \n",
    "    def fit(self, X, y=None):\n",
    "        return self\n",
    "\n",
    "    def transform(self, X):\n",
    "        return [ ' '.join(\n",
    "            [self.lemmatizer.lemmatize( word, self.get_wordnet_pos(word)) for word in self.text_prep(x)]\n",
    "        )\n",
    "                for x in tqdm(X, 'lemmatization')]"
   ]
  },
  {
   "cell_type": "code",
   "execution_count": 63,
   "metadata": {},
   "outputs": [],
   "source": [
    "lemmatizer = Lemmatizer()"
   ]
  },
  {
   "cell_type": "code",
   "execution_count": 64,
   "metadata": {},
   "outputs": [
    {
     "data": {
      "application/vnd.jupyter.widget-view+json": {
       "model_id": "f97b5cdbaa9e442d8f7584e661b92883",
       "version_major": 2,
       "version_minor": 0
      },
      "text/plain": [
       "lemmatization:   0%|          | 0/3 [00:00<?, ?it/s]"
      ]
     },
     "metadata": {},
     "output_type": "display_data"
    },
    {
     "data": {
      "text/plain": [
       "[\"explanation why the edits make under my username hardcore metallica fan be revert they weren't vandalism just closure on some gas after i vote at new york doll fac and please don't remove the template from the talk page since i'm retire now\",\n",
       " \"d'aww he match this background colour i'm seemingly stuck with thanks talk january utc\",\n",
       " \"hey man i'm really not try to edit war it's just that this guy be constantly remove relevant information and talk to me through edits instead of my talk page he seem to care more about the format than the actual info\"]"
      ]
     },
     "execution_count": 64,
     "metadata": {},
     "output_type": "execute_result"
    }
   ],
   "source": [
    "lemmatizer.transform(df['text'].iloc[:3])"
   ]
  },
  {
   "cell_type": "markdown",
   "metadata": {},
   "source": [
    "Данный класс будет использован в пайплайне."
   ]
  },
  {
   "cell_type": "markdown",
   "metadata": {},
   "source": [
    "### Создание мешка слов. Стоп слова"
   ]
  },
  {
   "cell_type": "code",
   "execution_count": 67,
   "metadata": {},
   "outputs": [],
   "source": [
    "stop_words = set(stopwords.words('english'))"
   ]
  },
  {
   "cell_type": "code",
   "execution_count": 68,
   "metadata": {},
   "outputs": [],
   "source": [
    "class BowCreator(BaseEstimator, TransformerMixin):\n",
    "    def __init__(self):\n",
    "        self.stop_words = list(stopwords.words('english'))\n",
    "        self.count_vect = CountVectorizer(stop_words=self.stop_words)\n",
    "        \n",
    "    def fit(self, X, y=None):\n",
    "        t = time.time()\n",
    "        display('count_vect fit start')\n",
    "        self.count_vect.fit(X)\n",
    "        t = time.time() - t\n",
    "        display(f'count_vect fit end [{t:.3f}]sec.')\n",
    "        return self\n",
    "    \n",
    "    def transform(self, X):\n",
    "    # X - лемматизированные тексты\n",
    "        display('bow creation process starting')\n",
    "        t = time.time()\n",
    "        bow = self.count_vect.transform(X)\n",
    "        t = time.time() - t\n",
    "        display(f'bow creation process ended [{t:.3f}]sec.')\n",
    "        display(f'shape {bow.shape}')\n",
    "        return bow"
   ]
  },
  {
   "cell_type": "code",
   "execution_count": 69,
   "metadata": {},
   "outputs": [],
   "source": [
    "bow_creator = BowCreator()"
   ]
  },
  {
   "cell_type": "code",
   "execution_count": 70,
   "metadata": {},
   "outputs": [
    {
     "data": {
      "application/vnd.jupyter.widget-view+json": {
       "model_id": "5b690d7f7ffc4aa896ba8291426fa679",
       "version_major": 2,
       "version_minor": 0
      },
      "text/plain": [
       "lemmatization:   0%|          | 0/3 [00:00<?, ?it/s]"
      ]
     },
     "metadata": {},
     "output_type": "display_data"
    },
    {
     "data": {
      "text/plain": [
       "'count_vect fit start'"
      ]
     },
     "metadata": {},
     "output_type": "display_data"
    },
    {
     "data": {
      "text/plain": [
       "'count_vect fit end [0.002]sec.'"
      ]
     },
     "metadata": {},
     "output_type": "display_data"
    },
    {
     "data": {
      "text/plain": [
       "'bow creation process starting'"
      ]
     },
     "metadata": {},
     "output_type": "display_data"
    },
    {
     "data": {
      "text/plain": [
       "'bow creation process ended [0.000]sec.'"
      ]
     },
     "metadata": {},
     "output_type": "display_data"
    },
    {
     "data": {
      "text/plain": [
       "'shape (3, 48)'"
      ]
     },
     "metadata": {},
     "output_type": "display_data"
    },
    {
     "data": {
      "text/plain": [
       "array([[0, 0, 0, 0, 1, 0, 0, 1, 0, 1, 1, 1, 1, 0, 1, 0, 1, 0, 0, 0, 0, 0,\n",
       "        1, 0, 0, 1, 1, 1, 1, 0, 0, 1, 1, 1, 0, 0, 1, 0, 1, 1, 0, 0, 1, 0,\n",
       "        1, 1, 0, 1],\n",
       "       [0, 1, 1, 0, 0, 1, 0, 0, 0, 0, 0, 0, 0, 0, 0, 0, 0, 0, 0, 0, 0, 1,\n",
       "        0, 0, 1, 0, 0, 0, 0, 0, 0, 0, 0, 0, 0, 1, 0, 1, 1, 0, 1, 0, 0, 1,\n",
       "        0, 0, 0, 0],\n",
       "       [1, 0, 0, 1, 0, 0, 1, 0, 1, 1, 0, 0, 0, 1, 0, 1, 0, 1, 1, 1, 1, 0,\n",
       "        0, 1, 0, 0, 0, 1, 0, 1, 1, 1, 0, 0, 1, 0, 0, 0, 2, 0, 0, 1, 0, 0,\n",
       "        0, 0, 1, 0]], dtype=int64)"
      ]
     },
     "execution_count": 70,
     "metadata": {},
     "output_type": "execute_result"
    }
   ],
   "source": [
    "bow_creator.fit_transform(lemmatizer.fit_transform(test_text)).toarray()"
   ]
  },
  {
   "cell_type": "markdown",
   "metadata": {},
   "source": [
    "Данный класс также будет использоваться в пайплайне."
   ]
  },
  {
   "cell_type": "markdown",
   "metadata": {},
   "source": [
    "## Обучение"
   ]
  },
  {
   "cell_type": "markdown",
   "metadata": {},
   "source": [
    "### Создание выборок"
   ]
  },
  {
   "cell_type": "code",
   "execution_count": 74,
   "metadata": {},
   "outputs": [],
   "source": [
    "RANDOM_STATE = 0\n",
    "X_train,X_test, y_train, y_test = train_test_split(\n",
    "    df['text'],\n",
    "    df['toxic'],\n",
    "    shuffle=False,\n",
    "    random_state=RANDOM_STATE,\n",
    "    test_size = .4\n",
    ")\n",
    "\n",
    "X_valid, X_test, y_valid, y_test = train_test_split(\n",
    "    X_test,\n",
    "    y_test,\n",
    "    shuffle=False,\n",
    "    random_state=RANDOM_STATE,\n",
    "    test_size = .5\n",
    ")"
   ]
  },
  {
   "cell_type": "markdown",
   "metadata": {},
   "source": [
    "### Создание пайплайна\n",
    "Данные преобразую заранее так-как этот процесс занимает очень много времени."
   ]
  },
  {
   "cell_type": "code",
   "execution_count": 76,
   "metadata": {},
   "outputs": [],
   "source": [
    "pipe = Pipeline([\n",
    "    ('lemmatizer', Lemmatizer()),\n",
    "    ('vectorizer', BowCreator())\n",
    "])"
   ]
  },
  {
   "cell_type": "code",
   "execution_count": 77,
   "metadata": {},
   "outputs": [
    {
     "data": {
      "application/vnd.jupyter.widget-view+json": {
       "model_id": "ba1b9e9d10734d3baba8ebbe3ee637b2",
       "version_major": 2,
       "version_minor": 0
      },
      "text/plain": [
       "lemmatization:   0%|          | 0/95575 [00:00<?, ?it/s]"
      ]
     },
     "metadata": {},
     "output_type": "display_data"
    },
    {
     "data": {
      "text/plain": [
       "'count_vect fit start'"
      ]
     },
     "metadata": {},
     "output_type": "display_data"
    },
    {
     "data": {
      "text/plain": [
       "'count_vect fit end [4.295]sec.'"
      ]
     },
     "metadata": {},
     "output_type": "display_data"
    },
    {
     "data": {
      "text/plain": [
       "'bow creation process starting'"
      ]
     },
     "metadata": {},
     "output_type": "display_data"
    },
    {
     "data": {
      "text/plain": [
       "'bow creation process ended [4.112]sec.'"
      ]
     },
     "metadata": {},
     "output_type": "display_data"
    },
    {
     "data": {
      "text/plain": [
       "'shape (95575, 112107)'"
      ]
     },
     "metadata": {},
     "output_type": "display_data"
    },
    {
     "data": {
      "application/vnd.jupyter.widget-view+json": {
       "model_id": "14453175abae41f5a514ff387fdacff0",
       "version_major": 2,
       "version_minor": 0
      },
      "text/plain": [
       "lemmatization:   0%|          | 0/31858 [00:00<?, ?it/s]"
      ]
     },
     "metadata": {},
     "output_type": "display_data"
    },
    {
     "data": {
      "text/plain": [
       "'bow creation process starting'"
      ]
     },
     "metadata": {},
     "output_type": "display_data"
    },
    {
     "data": {
      "text/plain": [
       "'bow creation process ended [1.349]sec.'"
      ]
     },
     "metadata": {},
     "output_type": "display_data"
    },
    {
     "data": {
      "text/plain": [
       "'shape (31858, 112107)'"
      ]
     },
     "metadata": {},
     "output_type": "display_data"
    },
    {
     "data": {
      "application/vnd.jupyter.widget-view+json": {
       "model_id": "879711925ff24ed286cc6d1265dae8dd",
       "version_major": 2,
       "version_minor": 0
      },
      "text/plain": [
       "lemmatization:   0%|          | 0/31859 [00:00<?, ?it/s]"
      ]
     },
     "metadata": {},
     "output_type": "display_data"
    },
    {
     "data": {
      "text/plain": [
       "'bow creation process starting'"
      ]
     },
     "metadata": {},
     "output_type": "display_data"
    },
    {
     "data": {
      "text/plain": [
       "'bow creation process ended [1.389]sec.'"
      ]
     },
     "metadata": {},
     "output_type": "display_data"
    },
    {
     "data": {
      "text/plain": [
       "'shape (31859, 112107)'"
      ]
     },
     "metadata": {},
     "output_type": "display_data"
    }
   ],
   "source": [
    "X_train = pipe.fit_transform(X_train)\n",
    "X_valid = pipe.transform(X_valid)\n",
    "X_test = pipe.transform(X_test)"
   ]
  },
  {
   "cell_type": "markdown",
   "metadata": {},
   "source": [
    "### Обучение модели"
   ]
  },
  {
   "cell_type": "markdown",
   "metadata": {},
   "source": [
    "#### LogisticRegression"
   ]
  },
  {
   "cell_type": "code",
   "execution_count": 80,
   "metadata": {},
   "outputs": [
    {
     "name": "stdout",
     "output_type": "stream",
     "text": [
      "Linear f1: 75.41%\n",
      "CPU times: total: 12.8 s\n",
      "Wall time: 12.9 s\n"
     ]
    }
   ],
   "source": [
    "%%time\n",
    "linear = LogisticRegression(max_iter=1000)\n",
    "linear.fit(X_train, y_train)\n",
    "preds = linear.predict(X_valid)\n",
    "print(f'Linear f1: {(score_linear := f1_score(y_valid, preds)):.2%}')"
   ]
  },
  {
   "cell_type": "markdown",
   "metadata": {},
   "source": [
    "#### RidgeClassifier"
   ]
  },
  {
   "cell_type": "code",
   "execution_count": 82,
   "metadata": {},
   "outputs": [
    {
     "name": "stdout",
     "output_type": "stream",
     "text": [
      "Linear with l2 f1: 43.68%\n",
      "CPU times: total: 49.4 s\n",
      "Wall time: 48.5 s\n"
     ]
    }
   ],
   "source": [
    "%%time\n",
    "ridge = RidgeClassifier(alpha=1, max_iter=1000)\n",
    "ridge.fit(X_train, y_train)\n",
    "preds = ridge.predict(X_valid)\n",
    "print(f'Linear with l2 f1: {(score_ridge := f1_score(y_valid, preds)):.2%}')"
   ]
  },
  {
   "cell_type": "markdown",
   "metadata": {},
   "source": [
    "#### Tree"
   ]
  },
  {
   "cell_type": "code",
   "execution_count": 84,
   "metadata": {},
   "outputs": [
    {
     "name": "stdout",
     "output_type": "stream",
     "text": [
      "Decision Tree f1: 69.44%\n",
      "CPU times: total: 2min 36s\n",
      "Wall time: 2min 38s\n"
     ]
    }
   ],
   "source": [
    "%%time\n",
    "tree = DecisionTreeClassifier(random_state=RANDOM_STATE)\n",
    "tree.fit(X_train, y_train)\n",
    "preds = tree.predict(X_valid)\n",
    "print(f'Decision Tree f1: {(score_tree := f1_score(y_valid, preds)):.2%}')"
   ]
  },
  {
   "cell_type": "markdown",
   "metadata": {},
   "source": [
    "### Проверка лучшей модели на тестовых данных"
   ]
  },
  {
   "cell_type": "code",
   "execution_count": 86,
   "metadata": {
    "scrolled": true,
    "tags": []
   },
   "outputs": [
    {
     "name": "stdout",
     "output_type": "stream",
     "text": [
      "Linear f1: 75.35%\n"
     ]
    }
   ],
   "source": [
    "preds = linear.predict(X_test)\n",
    "print(f'Linear f1: {(score_linear := f1_score(y_test, preds)):.2%}')"
   ]
  },
  {
   "cell_type": "markdown",
   "metadata": {},
   "source": [
    "## Выводы"
   ]
  },
  {
   "cell_type": "markdown",
   "metadata": {},
   "source": [
    "Для выполнения работы по обучению модели классификации отзывов были использованны предварительно размеченные данные. Эти данные были лемматизированы с помощью инструментов библиотеки `nltk`, так-как это одна из библиотек которая моддерживает лемматизацию англоязычных текстов, далее эти тексты были векторизированы с удалением стоп-слов.   \n",
    "Полученный набор данных был использован при обучении моделей, из которых была выбрана лучшая.  \n",
    "Лучшая модель показала значения метрики на тестовых данных удовлетворяющие условиям."
   ]
  }
 ],
 "metadata": {
  "ExecuteTimeLog": [
   {
    "duration": 366,
    "start_time": "2024-05-25T13:26:17.220Z"
   },
   {
    "duration": 2481,
    "start_time": "2024-05-25T13:26:19.416Z"
   },
   {
    "duration": 2118,
    "start_time": "2024-05-25T13:26:26.602Z"
   },
   {
    "duration": 36,
    "start_time": "2024-05-25T13:26:45.446Z"
   },
   {
    "duration": 2216,
    "start_time": "2024-05-25T13:27:26.952Z"
   },
   {
    "duration": 1879,
    "start_time": "2024-05-25T13:27:38.515Z"
   },
   {
    "duration": 1966,
    "start_time": "2024-05-25T13:28:29.570Z"
   },
   {
    "duration": 2447,
    "start_time": "2024-05-25T13:28:44.234Z"
   },
   {
    "duration": 18,
    "start_time": "2024-05-25T13:30:30.622Z"
   },
   {
    "duration": 634,
    "start_time": "2024-05-25T13:30:50.168Z"
   },
   {
    "duration": 6,
    "start_time": "2024-05-25T13:31:04.435Z"
   },
   {
    "duration": 6,
    "start_time": "2024-05-25T13:31:33.919Z"
   },
   {
    "duration": 5,
    "start_time": "2024-05-25T13:31:39.027Z"
   },
   {
    "duration": 11,
    "start_time": "2024-05-25T13:31:53.851Z"
   },
   {
    "duration": 8,
    "start_time": "2024-05-25T13:32:01.772Z"
   },
   {
    "duration": 2594,
    "start_time": "2024-05-25T14:15:14.439Z"
   },
   {
    "duration": 1281,
    "start_time": "2024-05-26T11:13:11.093Z"
   },
   {
    "duration": 2605,
    "start_time": "2024-05-26T11:13:12.376Z"
   },
   {
    "duration": 39,
    "start_time": "2024-05-26T11:13:14.984Z"
   },
   {
    "duration": 72,
    "start_time": "2024-05-26T11:13:15.024Z"
   },
   {
    "duration": 33,
    "start_time": "2024-05-26T11:13:15.098Z"
   },
   {
    "duration": 2,
    "start_time": "2024-05-26T11:13:22.264Z"
   },
   {
    "duration": 7,
    "start_time": "2024-05-26T15:07:53.218Z"
   },
   {
    "duration": 1408,
    "start_time": "2024-05-26T15:09:21.972Z"
   },
   {
    "duration": 2699,
    "start_time": "2024-05-26T15:09:23.382Z"
   },
   {
    "duration": 32,
    "start_time": "2024-05-26T15:09:26.083Z"
   },
   {
    "duration": 8,
    "start_time": "2024-05-26T15:09:26.117Z"
   },
   {
    "duration": 15,
    "start_time": "2024-05-26T15:09:26.126Z"
   },
   {
    "duration": 1195,
    "start_time": "2024-05-26T15:22:39.302Z"
   },
   {
    "duration": 1087,
    "start_time": "2024-05-27T05:08:03.599Z"
   },
   {
    "duration": 2447,
    "start_time": "2024-05-27T05:08:04.688Z"
   },
   {
    "duration": 33,
    "start_time": "2024-05-27T05:08:07.137Z"
   },
   {
    "duration": 8,
    "start_time": "2024-05-27T05:08:07.171Z"
   },
   {
    "duration": 14,
    "start_time": "2024-05-27T05:08:07.180Z"
   },
   {
    "duration": 107,
    "start_time": "2024-05-27T05:08:33.783Z"
   },
   {
    "duration": 14,
    "start_time": "2024-05-27T05:08:46.987Z"
   },
   {
    "duration": 740,
    "start_time": "2024-05-27T05:08:57.743Z"
   },
   {
    "duration": 26,
    "start_time": "2024-05-27T05:10:26.404Z"
   },
   {
    "duration": 3,
    "start_time": "2024-05-27T05:10:38.299Z"
   },
   {
    "duration": 676,
    "start_time": "2024-05-27T05:10:41.898Z"
   },
   {
    "duration": 55,
    "start_time": "2024-05-27T05:11:06.723Z"
   },
   {
    "duration": 55,
    "start_time": "2024-05-27T05:11:33.708Z"
   },
   {
    "duration": 705,
    "start_time": "2024-05-27T05:12:02.888Z"
   },
   {
    "duration": 666,
    "start_time": "2024-05-27T05:12:17.743Z"
   },
   {
    "duration": 656,
    "start_time": "2024-05-27T05:14:08.102Z"
   },
   {
    "duration": 679,
    "start_time": "2024-05-27T05:14:33.133Z"
   },
   {
    "duration": 101570,
    "start_time": "2024-05-27T05:15:47.733Z"
   },
   {
    "duration": 1225,
    "start_time": "2024-05-27T05:41:20.950Z"
   },
   {
    "duration": 2592,
    "start_time": "2024-05-27T05:41:22.177Z"
   },
   {
    "duration": 43,
    "start_time": "2024-05-27T05:41:24.771Z"
   },
   {
    "duration": 9,
    "start_time": "2024-05-27T05:41:24.816Z"
   },
   {
    "duration": 37,
    "start_time": "2024-05-27T05:41:24.828Z"
   },
   {
    "duration": 54,
    "start_time": "2024-05-27T05:41:24.867Z"
   },
   {
    "duration": 107807,
    "start_time": "2024-05-27T05:41:33.110Z"
   },
   {
    "duration": 5,
    "start_time": "2024-05-27T05:43:20.919Z"
   },
   {
    "duration": 5,
    "start_time": "2024-05-27T05:43:30.862Z"
   },
   {
    "duration": 7167,
    "start_time": "2024-05-27T05:43:36.200Z"
   },
   {
    "duration": 250,
    "start_time": "2024-05-27T07:15:58.082Z"
   },
   {
    "duration": 130,
    "start_time": "2024-05-27T07:16:19.329Z"
   },
   {
    "duration": 4,
    "start_time": "2024-05-27T07:16:59.933Z"
   },
   {
    "duration": 6757,
    "start_time": "2024-05-27T07:17:15.265Z"
   },
   {
    "duration": 117,
    "start_time": "2024-05-27T07:17:31.376Z"
   },
   {
    "duration": 4,
    "start_time": "2024-05-27T07:17:35.204Z"
   },
   {
    "duration": 8,
    "start_time": "2024-05-27T07:17:42.660Z"
   },
   {
    "duration": 4,
    "start_time": "2024-05-27T07:17:53.114Z"
   },
   {
    "duration": 7,
    "start_time": "2024-05-27T07:36:07.583Z"
   },
   {
    "duration": 10,
    "start_time": "2024-05-27T07:37:34.379Z"
   },
   {
    "duration": 14,
    "start_time": "2024-05-27T07:37:41.853Z"
   },
   {
    "duration": 16,
    "start_time": "2024-05-27T07:38:05.196Z"
   },
   {
    "duration": 4,
    "start_time": "2024-05-27T07:38:13.189Z"
   },
   {
    "duration": 5,
    "start_time": "2024-05-27T07:38:27.352Z"
   },
   {
    "duration": 4,
    "start_time": "2024-05-27T07:38:38.283Z"
   },
   {
    "duration": 24,
    "start_time": "2024-05-27T07:38:58.399Z"
   },
   {
    "duration": 48519,
    "start_time": "2024-05-27T07:39:12.954Z"
   },
   {
    "duration": 46800,
    "start_time": "2024-05-27T07:41:58.268Z"
   },
   {
    "duration": 47877,
    "start_time": "2024-05-27T08:53:26.896Z"
   },
   {
    "duration": 5,
    "start_time": "2024-05-27T09:11:21.724Z"
   },
   {
    "duration": 7,
    "start_time": "2024-05-27T09:13:04.236Z"
   },
   {
    "duration": 6,
    "start_time": "2024-05-27T09:13:15.851Z"
   },
   {
    "duration": 5,
    "start_time": "2024-05-27T09:13:22.872Z"
   },
   {
    "duration": 7,
    "start_time": "2024-05-27T09:14:41.886Z"
   },
   {
    "duration": 634,
    "start_time": "2024-05-27T15:35:03.204Z"
   },
   {
    "duration": 1357,
    "start_time": "2024-05-27T15:36:57.461Z"
   },
   {
    "duration": 5,
    "start_time": "2024-05-27T15:37:30.291Z"
   },
   {
    "duration": 5,
    "start_time": "2024-05-27T15:38:58.210Z"
   },
   {
    "duration": 5,
    "start_time": "2024-05-27T15:39:48.146Z"
   },
   {
    "duration": 3,
    "start_time": "2024-05-27T15:40:26.967Z"
   },
   {
    "duration": 13,
    "start_time": "2024-05-27T15:40:35.676Z"
   },
   {
    "duration": 5,
    "start_time": "2024-05-27T15:40:44.630Z"
   },
   {
    "duration": 4,
    "start_time": "2024-05-27T15:41:02.654Z"
   },
   {
    "duration": 4,
    "start_time": "2024-05-27T15:42:05.505Z"
   },
   {
    "duration": 4,
    "start_time": "2024-05-27T15:42:22.670Z"
   },
   {
    "duration": 5,
    "start_time": "2024-05-27T15:43:05.484Z"
   },
   {
    "duration": 4320,
    "start_time": "2024-05-27T15:43:53.562Z"
   },
   {
    "duration": 4,
    "start_time": "2024-05-27T15:44:01.671Z"
   },
   {
    "duration": 4,
    "start_time": "2024-05-27T15:44:09.485Z"
   },
   {
    "duration": 6624,
    "start_time": "2024-05-27T15:44:16.358Z"
   },
   {
    "duration": 5,
    "start_time": "2024-05-27T15:44:33.608Z"
   },
   {
    "duration": 17,
    "start_time": "2024-05-27T15:44:51.417Z"
   },
   {
    "duration": 223398,
    "start_time": "2024-05-27T15:44:56.071Z"
   },
   {
    "duration": 59,
    "start_time": "2024-05-27T15:49:25.372Z"
   },
   {
    "duration": 14,
    "start_time": "2024-05-27T15:50:05.880Z"
   },
   {
    "duration": 12,
    "start_time": "2024-05-27T15:50:16.121Z"
   },
   {
    "duration": 7,
    "start_time": "2024-05-27T16:09:30.762Z"
   },
   {
    "duration": 21,
    "start_time": "2024-05-27T16:09:41.774Z"
   },
   {
    "duration": 11,
    "start_time": "2024-05-27T16:38:12.161Z"
   },
   {
    "duration": 189,
    "start_time": "2024-05-27T16:38:33.969Z"
   },
   {
    "duration": 11,
    "start_time": "2024-05-27T16:38:38.858Z"
   },
   {
    "duration": 0,
    "start_time": "2024-05-27T17:04:42.500Z"
   },
   {
    "duration": 2305,
    "start_time": "2024-05-29T04:18:20.964Z"
   },
   {
    "duration": 2577,
    "start_time": "2024-05-29T04:18:23.272Z"
   },
   {
    "duration": 30,
    "start_time": "2024-05-29T04:18:25.850Z"
   },
   {
    "duration": 9,
    "start_time": "2024-05-29T04:18:25.891Z"
   },
   {
    "duration": 1255,
    "start_time": "2024-05-29T04:18:25.901Z"
   },
   {
    "duration": 4643,
    "start_time": "2024-05-29T04:18:27.158Z"
   },
   {
    "duration": 6,
    "start_time": "2024-05-29T04:18:31.803Z"
   },
   {
    "duration": 69,
    "start_time": "2024-05-29T04:18:31.811Z"
   },
   {
    "duration": 7163,
    "start_time": "2024-05-29T04:18:31.881Z"
   },
   {
    "duration": 4,
    "start_time": "2024-05-29T04:18:39.046Z"
   },
   {
    "duration": 43,
    "start_time": "2024-05-29T04:18:39.052Z"
   },
   {
    "duration": 219407,
    "start_time": "2024-05-29T04:18:39.097Z"
   },
   {
    "duration": 27592,
    "start_time": "2024-05-29T04:28:30.892Z"
   },
   {
    "duration": 45111,
    "start_time": "2024-05-29T06:46:59.367Z"
   },
   {
    "duration": 268,
    "start_time": "2024-05-29T06:47:44.531Z"
   },
   {
    "duration": 2545,
    "start_time": "2024-05-29T06:47:44.802Z"
   },
   {
    "duration": 31,
    "start_time": "2024-05-29T06:47:47.349Z"
   },
   {
    "duration": 33,
    "start_time": "2024-05-29T06:47:47.382Z"
   },
   {
    "duration": 5,
    "start_time": "2024-05-29T06:47:47.423Z"
   },
   {
    "duration": 5869,
    "start_time": "2024-05-29T06:47:47.430Z"
   },
   {
    "duration": 14,
    "start_time": "2024-05-29T06:47:53.302Z"
   },
   {
    "duration": 7,
    "start_time": "2024-05-29T06:47:53.320Z"
   },
   {
    "duration": 8408,
    "start_time": "2024-05-29T06:47:53.329Z"
   },
   {
    "duration": 18,
    "start_time": "2024-05-29T06:48:01.739Z"
   },
   {
    "duration": 245050,
    "start_time": "2024-05-29T06:48:01.758Z"
   },
   {
    "duration": 38,
    "start_time": "2024-05-29T06:52:06.815Z"
   },
   {
    "duration": 2015,
    "start_time": "2024-05-30T15:03:48.645Z"
   },
   {
    "duration": 2900,
    "start_time": "2024-05-30T15:03:54.553Z"
   },
   {
    "duration": 56,
    "start_time": "2024-05-30T15:04:01.380Z"
   },
   {
    "duration": 2007,
    "start_time": "2024-05-30T15:04:01.437Z"
   },
   {
    "duration": 15,
    "start_time": "2024-05-30T15:04:03.445Z"
   },
   {
    "duration": 37,
    "start_time": "2024-05-30T15:04:03.461Z"
   },
   {
    "duration": 9,
    "start_time": "2024-05-30T15:10:25.321Z"
   },
   {
    "duration": 5,
    "start_time": "2024-05-30T15:10:58.346Z"
   },
   {
    "duration": 4,
    "start_time": "2024-05-30T15:11:32.903Z"
   },
   {
    "duration": 105,
    "start_time": "2024-05-30T15:12:16.748Z"
   },
   {
    "duration": 4,
    "start_time": "2024-05-30T15:12:54.334Z"
   },
   {
    "duration": 1131,
    "start_time": "2024-05-30T15:13:16.979Z"
   },
   {
    "duration": 4,
    "start_time": "2024-05-30T15:13:36.000Z"
   },
   {
    "duration": 6,
    "start_time": "2024-05-30T15:14:43.021Z"
   },
   {
    "duration": 5,
    "start_time": "2024-05-30T15:15:16.713Z"
   },
   {
    "duration": 4,
    "start_time": "2024-05-30T15:15:38.538Z"
   },
   {
    "duration": 4,
    "start_time": "2024-05-30T15:16:37.462Z"
   },
   {
    "duration": 4,
    "start_time": "2024-05-30T15:17:01.806Z"
   },
   {
    "duration": 14,
    "start_time": "2024-05-30T15:20:22.456Z"
   },
   {
    "duration": 4,
    "start_time": "2024-05-30T15:20:28.459Z"
   },
   {
    "duration": 4,
    "start_time": "2024-05-30T15:20:47.223Z"
   },
   {
    "duration": 4,
    "start_time": "2024-05-30T15:21:02.718Z"
   },
   {
    "duration": 5,
    "start_time": "2024-05-30T15:21:21.840Z"
   },
   {
    "duration": 5,
    "start_time": "2024-05-30T15:21:37.198Z"
   },
   {
    "duration": 6,
    "start_time": "2024-05-30T15:22:08.864Z"
   },
   {
    "duration": 5,
    "start_time": "2024-05-30T15:23:07.010Z"
   },
   {
    "duration": 4,
    "start_time": "2024-05-30T15:23:48.479Z"
   },
   {
    "duration": 4,
    "start_time": "2024-05-30T15:25:55.934Z"
   },
   {
    "duration": 4,
    "start_time": "2024-05-30T15:26:45.235Z"
   },
   {
    "duration": 3,
    "start_time": "2024-05-30T15:27:28.644Z"
   },
   {
    "duration": 4,
    "start_time": "2024-05-30T15:28:03.153Z"
   },
   {
    "duration": 4,
    "start_time": "2024-05-30T15:28:34.423Z"
   },
   {
    "duration": 6,
    "start_time": "2024-05-30T15:30:38.831Z"
   },
   {
    "duration": 18,
    "start_time": "2024-05-30T15:31:41.219Z"
   },
   {
    "duration": 287,
    "start_time": "2024-05-30T15:32:05.326Z"
   },
   {
    "duration": 4,
    "start_time": "2024-05-30T15:32:08.741Z"
   },
   {
    "duration": 95,
    "start_time": "2024-05-30T15:32:13.159Z"
   },
   {
    "duration": 63,
    "start_time": "2024-05-30T15:34:20.995Z"
   },
   {
    "duration": 10,
    "start_time": "2024-05-30T15:34:26.176Z"
   },
   {
    "duration": 7,
    "start_time": "2024-05-30T15:34:32.886Z"
   },
   {
    "duration": 6,
    "start_time": "2024-05-30T15:35:27.876Z"
   },
   {
    "duration": 10,
    "start_time": "2024-05-30T15:36:13.663Z"
   },
   {
    "duration": 60,
    "start_time": "2024-05-30T15:36:42.546Z"
   },
   {
    "duration": 9,
    "start_time": "2024-05-30T15:36:50.058Z"
   },
   {
    "duration": 67,
    "start_time": "2024-05-30T15:38:07.812Z"
   },
   {
    "duration": 4,
    "start_time": "2024-05-30T15:38:26.276Z"
   },
   {
    "duration": 5,
    "start_time": "2024-05-30T15:39:33.266Z"
   },
   {
    "duration": 3,
    "start_time": "2024-05-30T15:40:04.898Z"
   },
   {
    "duration": 15,
    "start_time": "2024-05-30T15:40:36.180Z"
   },
   {
    "duration": 4,
    "start_time": "2024-05-30T15:40:56.127Z"
   },
   {
    "duration": 2,
    "start_time": "2024-05-30T15:40:57.895Z"
   },
   {
    "duration": 18,
    "start_time": "2024-05-30T15:40:59.129Z"
   },
   {
    "duration": 5,
    "start_time": "2024-05-30T15:41:21.859Z"
   },
   {
    "duration": 3,
    "start_time": "2024-05-30T15:41:23.413Z"
   },
   {
    "duration": 14,
    "start_time": "2024-05-30T15:41:24.608Z"
   },
   {
    "duration": 3,
    "start_time": "2024-05-30T15:56:25.995Z"
   },
   {
    "duration": 2,
    "start_time": "2024-05-30T15:57:53.478Z"
   },
   {
    "duration": 10,
    "start_time": "2024-05-30T15:58:10.840Z"
   },
   {
    "duration": 58,
    "start_time": "2024-05-30T15:58:25.646Z"
   },
   {
    "duration": 3,
    "start_time": "2024-05-30T15:58:42.672Z"
   },
   {
    "duration": 3,
    "start_time": "2024-05-30T15:58:45.147Z"
   },
   {
    "duration": 19,
    "start_time": "2024-05-30T15:59:40.914Z"
   },
   {
    "duration": 3,
    "start_time": "2024-05-30T16:00:13.779Z"
   },
   {
    "duration": 2,
    "start_time": "2024-05-30T16:00:16.267Z"
   },
   {
    "duration": 15,
    "start_time": "2024-05-30T16:00:17.444Z"
   },
   {
    "duration": 20,
    "start_time": "2024-05-30T16:00:25.596Z"
   },
   {
    "duration": 15,
    "start_time": "2024-05-30T16:00:30.006Z"
   },
   {
    "duration": 3,
    "start_time": "2024-05-30T16:05:10.133Z"
   },
   {
    "duration": 57,
    "start_time": "2024-05-30T16:05:23.699Z"
   },
   {
    "duration": 7,
    "start_time": "2024-05-30T16:05:27.861Z"
   },
   {
    "duration": 17,
    "start_time": "2024-05-30T16:05:43.995Z"
   },
   {
    "duration": 565679,
    "start_time": "2024-05-30T16:05:48.506Z"
   },
   {
    "duration": 32,
    "start_time": "2024-05-30T16:15:21.262Z"
   },
   {
    "duration": 4,
    "start_time": "2024-05-30T16:16:02.895Z"
   },
   {
    "duration": 2,
    "start_time": "2024-05-30T16:16:07.206Z"
   },
   {
    "duration": 33,
    "start_time": "2024-05-30T16:16:08.695Z"
   },
   {
    "duration": 12068,
    "start_time": "2024-05-30T16:17:40.784Z"
   },
   {
    "duration": 3,
    "start_time": "2024-05-30T16:17:56.085Z"
   },
   {
    "duration": 420024,
    "start_time": "2024-05-30T16:17:59.283Z"
   },
   {
    "duration": 4,
    "start_time": "2024-05-30T16:25:05.871Z"
   },
   {
    "duration": 3,
    "start_time": "2024-05-30T16:27:01.416Z"
   },
   {
    "duration": 3,
    "start_time": "2024-05-30T16:27:02.561Z"
   },
   {
    "duration": 43,
    "start_time": "2024-05-30T16:27:04.053Z"
   },
   {
    "duration": 4,
    "start_time": "2024-05-30T16:27:28.481Z"
   },
   {
    "duration": 4,
    "start_time": "2024-05-30T16:28:40.661Z"
   },
   {
    "duration": 2,
    "start_time": "2024-05-30T16:28:43.761Z"
   },
   {
    "duration": 31,
    "start_time": "2024-05-30T16:28:44.906Z"
   },
   {
    "duration": 3,
    "start_time": "2024-05-30T16:28:57.662Z"
   },
   {
    "duration": 2,
    "start_time": "2024-05-30T16:29:00.291Z"
   },
   {
    "duration": 29,
    "start_time": "2024-05-30T16:29:01.403Z"
   },
   {
    "duration": 876070,
    "start_time": "2024-05-30T16:33:45.804Z"
   },
   {
    "duration": 47259,
    "start_time": "2024-05-30T16:48:41.298Z"
   },
   {
    "duration": 1272,
    "start_time": "2024-05-31T08:18:55.436Z"
   },
   {
    "duration": 1094,
    "start_time": "2024-05-31T08:18:56.709Z"
   },
   {
    "duration": 2301,
    "start_time": "2024-05-31T08:18:57.804Z"
   },
   {
    "duration": 21,
    "start_time": "2024-05-31T08:19:00.106Z"
   },
   {
    "duration": 27,
    "start_time": "2024-05-31T08:19:00.128Z"
   },
   {
    "duration": 12,
    "start_time": "2024-05-31T08:19:00.156Z"
   },
   {
    "duration": 134,
    "start_time": "2024-05-31T08:19:00.169Z"
   },
   {
    "duration": 0,
    "start_time": "2024-05-31T08:19:00.304Z"
   },
   {
    "duration": 0,
    "start_time": "2024-05-31T08:19:00.306Z"
   },
   {
    "duration": 0,
    "start_time": "2024-05-31T08:19:00.307Z"
   },
   {
    "duration": 0,
    "start_time": "2024-05-31T08:19:00.308Z"
   },
   {
    "duration": 0,
    "start_time": "2024-05-31T08:19:00.309Z"
   },
   {
    "duration": 0,
    "start_time": "2024-05-31T08:19:00.310Z"
   },
   {
    "duration": 0,
    "start_time": "2024-05-31T08:19:00.311Z"
   },
   {
    "duration": 0,
    "start_time": "2024-05-31T08:19:00.312Z"
   },
   {
    "duration": 0,
    "start_time": "2024-05-31T08:19:00.313Z"
   },
   {
    "duration": 0,
    "start_time": "2024-05-31T08:19:00.314Z"
   },
   {
    "duration": 0,
    "start_time": "2024-05-31T08:19:00.315Z"
   },
   {
    "duration": 0,
    "start_time": "2024-05-31T08:19:00.316Z"
   },
   {
    "duration": 3,
    "start_time": "2024-05-31T09:40:35.112Z"
   },
   {
    "duration": 233,
    "start_time": "2024-05-31T09:40:35.117Z"
   },
   {
    "duration": 2627,
    "start_time": "2024-05-31T09:40:35.352Z"
   },
   {
    "duration": 28,
    "start_time": "2024-05-31T09:40:37.980Z"
   },
   {
    "duration": 9,
    "start_time": "2024-05-31T09:40:38.010Z"
   },
   {
    "duration": 18,
    "start_time": "2024-05-31T09:40:38.020Z"
   },
   {
    "duration": 26,
    "start_time": "2024-05-31T09:40:38.039Z"
   },
   {
    "duration": 45,
    "start_time": "2024-05-31T09:40:38.067Z"
   },
   {
    "duration": 0,
    "start_time": "2024-05-31T09:40:38.114Z"
   },
   {
    "duration": 0,
    "start_time": "2024-05-31T09:40:38.115Z"
   },
   {
    "duration": 0,
    "start_time": "2024-05-31T09:40:38.117Z"
   },
   {
    "duration": 0,
    "start_time": "2024-05-31T09:40:38.118Z"
   },
   {
    "duration": 1,
    "start_time": "2024-05-31T09:40:38.119Z"
   },
   {
    "duration": 0,
    "start_time": "2024-05-31T09:40:38.121Z"
   },
   {
    "duration": 0,
    "start_time": "2024-05-31T09:40:38.122Z"
   },
   {
    "duration": 0,
    "start_time": "2024-05-31T09:40:38.123Z"
   },
   {
    "duration": 0,
    "start_time": "2024-05-31T09:40:38.124Z"
   },
   {
    "duration": 0,
    "start_time": "2024-05-31T09:40:38.126Z"
   },
   {
    "duration": 0,
    "start_time": "2024-05-31T09:40:38.127Z"
   },
   {
    "duration": 3,
    "start_time": "2024-05-31T11:38:16.453Z"
   },
   {
    "duration": 5,
    "start_time": "2024-05-31T11:38:18.256Z"
   },
   {
    "duration": 2,
    "start_time": "2024-05-31T11:38:24.922Z"
   },
   {
    "duration": 1195,
    "start_time": "2024-05-31T11:38:31.563Z"
   },
   {
    "duration": 12,
    "start_time": "2024-05-31T11:43:10.187Z"
   },
   {
    "duration": 9,
    "start_time": "2024-05-31T11:43:12.897Z"
   },
   {
    "duration": 4,
    "start_time": "2024-05-31T11:43:15.926Z"
   },
   {
    "duration": 90,
    "start_time": "2024-05-31T11:43:19.834Z"
   },
   {
    "duration": 3,
    "start_time": "2024-05-31T11:43:22.781Z"
   },
   {
    "duration": 54644,
    "start_time": "2024-05-31T11:43:24.862Z"
   },
   {
    "duration": 2,
    "start_time": "2024-05-31T11:51:20.499Z"
   },
   {
    "duration": 47,
    "start_time": "2024-05-31T11:51:21.794Z"
   },
   {
    "duration": 37,
    "start_time": "2024-05-31T11:51:36.155Z"
   },
   {
    "duration": 50,
    "start_time": "2024-05-31T11:52:02.755Z"
   },
   {
    "duration": 4,
    "start_time": "2024-05-31T11:52:12.078Z"
   },
   {
    "duration": 3,
    "start_time": "2024-05-31T11:52:13.802Z"
   },
   {
    "duration": 37,
    "start_time": "2024-05-31T11:52:14.637Z"
   },
   {
    "duration": 35,
    "start_time": "2024-05-31T11:53:04.676Z"
   },
   {
    "duration": 6,
    "start_time": "2024-05-31T11:53:50.376Z"
   },
   {
    "duration": 2,
    "start_time": "2024-05-31T11:53:51.783Z"
   },
   {
    "duration": 44,
    "start_time": "2024-05-31T11:53:53.195Z"
   },
   {
    "duration": 69,
    "start_time": "2024-05-31T11:54:00.596Z"
   },
   {
    "duration": 16,
    "start_time": "2024-05-31T11:54:22.432Z"
   },
   {
    "duration": 3,
    "start_time": "2024-05-31T11:54:36.901Z"
   },
   {
    "duration": 18822,
    "start_time": "2024-05-31T11:54:38.678Z"
   },
   {
    "duration": 2,
    "start_time": "2024-05-31T11:55:26.592Z"
   },
   {
    "duration": 4,
    "start_time": "2024-05-31T11:55:28.705Z"
   },
   {
    "duration": 3,
    "start_time": "2024-05-31T11:55:30.548Z"
   },
   {
    "duration": 3713,
    "start_time": "2024-05-31T11:55:32.256Z"
   },
   {
    "duration": 1223,
    "start_time": "2024-05-31T11:55:41.843Z"
   },
   {
    "duration": 3,
    "start_time": "2024-05-31T11:56:12.753Z"
   },
   {
    "duration": 4,
    "start_time": "2024-05-31T11:56:13.691Z"
   },
   {
    "duration": 3,
    "start_time": "2024-05-31T11:56:15.104Z"
   },
   {
    "duration": 3587,
    "start_time": "2024-05-31T11:56:16.472Z"
   },
   {
    "duration": 1256,
    "start_time": "2024-05-31T11:56:22.000Z"
   },
   {
    "duration": 1490,
    "start_time": "2024-05-31T11:56:46.711Z"
   },
   {
    "duration": 3740,
    "start_time": "2024-05-31T11:57:19.516Z"
   },
   {
    "duration": 1485,
    "start_time": "2024-05-31T11:57:24.093Z"
   },
   {
    "duration": 3,
    "start_time": "2024-05-31T13:00:51.857Z"
   },
   {
    "duration": 58,
    "start_time": "2024-05-31T13:02:28.816Z"
   },
   {
    "duration": 4,
    "start_time": "2024-05-31T13:02:41.070Z"
   },
   {
    "duration": 3,
    "start_time": "2024-05-31T13:03:29.676Z"
   },
   {
    "duration": 4,
    "start_time": "2024-05-31T13:03:52.131Z"
   },
   {
    "duration": 3665,
    "start_time": "2024-05-31T13:04:04.141Z"
   },
   {
    "duration": 1543,
    "start_time": "2024-05-31T13:04:13.399Z"
   },
   {
    "duration": 3,
    "start_time": "2024-05-31T13:06:37.725Z"
   },
   {
    "duration": 3778,
    "start_time": "2024-05-31T13:06:39.036Z"
   },
   {
    "duration": 1433,
    "start_time": "2024-05-31T13:06:44.936Z"
   },
   {
    "duration": 3,
    "start_time": "2024-05-31T13:07:03.633Z"
   },
   {
    "duration": 3747,
    "start_time": "2024-05-31T13:07:05.887Z"
   },
   {
    "duration": 1419,
    "start_time": "2024-05-31T13:07:11.365Z"
   },
   {
    "duration": 4,
    "start_time": "2024-05-31T13:07:43.773Z"
   },
   {
    "duration": 3,
    "start_time": "2024-05-31T13:08:16.010Z"
   },
   {
    "duration": 3616,
    "start_time": "2024-05-31T13:08:18.068Z"
   },
   {
    "duration": 1395,
    "start_time": "2024-05-31T13:08:23.861Z"
   },
   {
    "duration": 3,
    "start_time": "2024-05-31T13:08:48.302Z"
   },
   {
    "duration": 257,
    "start_time": "2024-05-31T13:08:48.307Z"
   },
   {
    "duration": 2331,
    "start_time": "2024-05-31T13:08:48.565Z"
   },
   {
    "duration": 22,
    "start_time": "2024-05-31T13:08:50.897Z"
   },
   {
    "duration": 9,
    "start_time": "2024-05-31T13:08:50.921Z"
   },
   {
    "duration": 7,
    "start_time": "2024-05-31T13:08:50.931Z"
   },
   {
    "duration": 4,
    "start_time": "2024-05-31T13:08:50.939Z"
   },
   {
    "duration": 7,
    "start_time": "2024-05-31T13:08:50.944Z"
   },
   {
    "duration": 4,
    "start_time": "2024-05-31T13:08:50.952Z"
   },
   {
    "duration": 7,
    "start_time": "2024-05-31T13:08:50.957Z"
   },
   {
    "duration": 49,
    "start_time": "2024-05-31T13:08:50.965Z"
   },
   {
    "duration": 2,
    "start_time": "2024-05-31T13:08:51.016Z"
   },
   {
    "duration": 54,
    "start_time": "2024-05-31T13:08:51.020Z"
   },
   {
    "duration": 112,
    "start_time": "2024-05-31T13:08:51.076Z"
   },
   {
    "duration": 234,
    "start_time": "2024-05-31T13:08:51.189Z"
   },
   {
    "duration": 43,
    "start_time": "2024-05-31T13:08:51.425Z"
   },
   {
    "duration": 2,
    "start_time": "2024-05-31T13:08:51.470Z"
   },
   {
    "duration": 722232,
    "start_time": "2024-05-31T13:08:51.474Z"
   },
   {
    "duration": 184831,
    "start_time": "2024-05-31T13:20:53.707Z"
   },
   {
    "duration": 3,
    "start_time": "2024-05-31T13:23:58.539Z"
   },
   {
    "duration": 687960,
    "start_time": "2024-05-31T13:23:58.543Z"
   },
   {
    "duration": 186552,
    "start_time": "2024-05-31T13:35:26.505Z"
   },
   {
    "duration": 3,
    "start_time": "2024-05-31T13:38:33.058Z"
   },
   {
    "duration": 639389,
    "start_time": "2024-05-31T13:38:33.062Z"
   },
   {
    "duration": 189578,
    "start_time": "2024-05-31T13:49:12.453Z"
   },
   {
    "duration": 188747,
    "start_time": "2024-05-31T14:26:29.557Z"
   },
   {
    "duration": 2,
    "start_time": "2024-05-31T14:40:33.129Z"
   },
   {
    "duration": 734216,
    "start_time": "2024-05-31T14:40:34.691Z"
   },
   {
    "duration": 188047,
    "start_time": "2024-05-31T14:52:48.909Z"
   },
   {
    "duration": 23,
    "start_time": "2024-05-31T15:51:17.086Z"
   },
   {
    "duration": 3,
    "start_time": "2024-05-31T15:51:19.141Z"
   },
   {
    "duration": 949162,
    "start_time": "2024-05-31T15:51:21.982Z"
   },
   {
    "duration": 151863,
    "start_time": "2024-05-31T16:07:19.739Z"
   },
   {
    "duration": 120698,
    "start_time": "2024-05-31T16:09:51.604Z"
   },
   {
    "duration": 66988,
    "start_time": "2024-05-31T16:11:52.304Z"
   },
   {
    "duration": 14,
    "start_time": "2024-05-31T16:17:41.536Z"
   },
   {
    "duration": 4,
    "start_time": "2024-05-31T16:18:59.763Z"
   },
   {
    "duration": 10,
    "start_time": "2024-05-31T16:19:11.580Z"
   },
   {
    "duration": 4,
    "start_time": "2024-05-31T16:19:24.329Z"
   },
   {
    "duration": 4,
    "start_time": "2024-05-31T16:19:30.965Z"
   },
   {
    "duration": 4,
    "start_time": "2024-05-31T16:19:37.007Z"
   },
   {
    "duration": 4,
    "start_time": "2024-05-31T16:19:41.218Z"
   },
   {
    "duration": 4,
    "start_time": "2024-05-31T16:20:04.816Z"
   },
   {
    "duration": 391756,
    "start_time": "2024-05-31T16:22:53.848Z"
   }
  ],
  "kernelspec": {
   "display_name": "Python 3 (ipykernel)",
   "language": "python",
   "name": "python3"
  },
  "language_info": {
   "codemirror_mode": {
    "name": "ipython",
    "version": 3
   },
   "file_extension": ".py",
   "mimetype": "text/x-python",
   "name": "python",
   "nbconvert_exporter": "python",
   "pygments_lexer": "ipython3",
   "version": "3.11.7"
  },
  "toc": {
   "base_numbering": 1,
   "nav_menu": {},
   "number_sections": true,
   "sideBar": true,
   "skip_h1_title": true,
   "title_cell": "Содержание",
   "title_sidebar": "Contents",
   "toc_cell": true,
   "toc_position": {
    "height": "calc(100% - 180px)",
    "left": "10px",
    "top": "150px",
    "width": "183px"
   },
   "toc_section_display": true,
   "toc_window_display": true
  }
 },
 "nbformat": 4,
 "nbformat_minor": 4
}
