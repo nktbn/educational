{
 "cells": [
  {
   "cell_type": "markdown",
   "metadata": {},
   "source": [
    "# Определение стоимости автомобилей с пробегом."
   ]
  },
  {
   "cell_type": "markdown",
   "metadata": {},
   "source": [
    "Сервис по продаже автомобилей с пробегом  разрабатывает приложение для привлечения новых клиентов. В нём можно будет быстро узнать рыночную стоимость своего автомобиля.\n",
    "\n",
    "**Задача:**  \n",
    "Потстроение модели определяющей стоимость подержанного автомобиля\n",
    "\n",
    "**Данные:**  \n",
    "Исторические данные содержащие технические характеристики и цену проданных автомобилей.\n",
    "\n",
    "**Заказчику важны:**\n",
    "- качество предсказания;\n",
    "- скорость предсказания;\n",
    "- время обучения."
   ]
  },
  {
   "cell_type": "markdown",
   "metadata": {},
   "source": [
    "## Подготовка данных"
   ]
  },
  {
   "cell_type": "markdown",
   "metadata": {},
   "source": [
    "### Импорт"
   ]
  },
  {
   "cell_type": "code",
   "execution_count": 20,
   "metadata": {
    "tags": []
   },
   "outputs": [],
   "source": [
    "import pandas as pd\n",
    "import io\n",
    "import matplotlib.pyplot as plt\n",
    "import sklearn\n",
    "import phik\n",
    "from phik.report import plot_correlation_matrix\n",
    "from phik import phik_matrix\n",
    "from time import time\n",
    "\n",
    "from sklearn.model_selection import train_test_split\n",
    "# pipe\n",
    "from sklearn.pipeline import Pipeline\n",
    "from sklearn.compose import ColumnTransformer\n",
    "# preprocessing\n",
    "from sklearn.preprocessing import StandardScaler\n",
    "from sklearn.preprocessing import OrdinalEncoder, OneHotEncoder\n",
    "\n",
    "# модели\n",
    "from sklearn.tree import DecisionTreeRegressor\n",
    "from lightgbm import LGBMRegressor\n",
    "from sklearn.dummy import DummyRegressor \n",
    "\n",
    "# тюнинг гиперпараметров\n",
    "from optuna_integration import LightGBMTunerCV\n",
    "from optuna_integration import OptunaSearchCV\n",
    "from optuna import distributions\n",
    "\n",
    "# crossval\n",
    "from sklearn.model_selection import cross_val_score\n",
    "from sklearn.model_selection import RepeatedKFold\n",
    "\n",
    "\n",
    "#метрики\n",
    "from sklearn.metrics import mean_squared_error"
   ]
  },
  {
   "cell_type": "markdown",
   "metadata": {},
   "source": [
    "### Константы"
   ]
  },
  {
   "cell_type": "code",
   "execution_count": 22,
   "metadata": {},
   "outputs": [],
   "source": [
    "SZ_1 = (17,5) #size of the plots\n",
    "RANDOM_STATE = 0"
   ]
  },
  {
   "cell_type": "markdown",
   "metadata": {},
   "source": [
    "### Настройки"
   ]
  },
  {
   "cell_type": "code",
   "execution_count": 24,
   "metadata": {},
   "outputs": [],
   "source": [
    "plt.rcParams[\"figure.figsize\"] = SZ_1"
   ]
  },
  {
   "cell_type": "markdown",
   "metadata": {},
   "source": [
    "### Загрузка данных"
   ]
  },
  {
   "cell_type": "code",
   "execution_count": 26,
   "metadata": {},
   "outputs": [],
   "source": [
    "df = pd.read_csv('autos.csv')"
   ]
  },
  {
   "cell_type": "code",
   "execution_count": 27,
   "metadata": {
    "scrolled": true
   },
   "outputs": [
    {
     "name": "stdout",
     "output_type": "stream",
     "text": [
      "<class 'pandas.core.frame.DataFrame'>\n",
      "RangeIndex: 354369 entries, 0 to 354368\n",
      "Data columns (total 16 columns):\n",
      " #   Column             Non-Null Count   Dtype \n",
      "---  ------             --------------   ----- \n",
      " 0   DateCrawled        354369 non-null  object\n",
      " 1   Price              354369 non-null  int64 \n",
      " 2   VehicleType        316879 non-null  object\n",
      " 3   RegistrationYear   354369 non-null  int64 \n",
      " 4   Gearbox            334536 non-null  object\n",
      " 5   Power              354369 non-null  int64 \n",
      " 6   Model              334664 non-null  object\n",
      " 7   Kilometer          354369 non-null  int64 \n",
      " 8   RegistrationMonth  354369 non-null  int64 \n",
      " 9   FuelType           321474 non-null  object\n",
      " 10  Brand              354369 non-null  object\n",
      " 11  Repaired           283215 non-null  object\n",
      " 12  DateCreated        354369 non-null  object\n",
      " 13  NumberOfPictures   354369 non-null  int64 \n",
      " 14  PostalCode         354369 non-null  int64 \n",
      " 15  LastSeen           354369 non-null  object\n",
      "dtypes: int64(7), object(9)\n",
      "memory usage: 43.3+ MB\n"
     ]
    }
   ],
   "source": [
    "df.info()"
   ]
  },
  {
   "cell_type": "code",
   "execution_count": 28,
   "metadata": {},
   "outputs": [
    {
     "data": {
      "text/html": [
       "<div>\n",
       "<style scoped>\n",
       "    .dataframe tbody tr th:only-of-type {\n",
       "        vertical-align: middle;\n",
       "    }\n",
       "\n",
       "    .dataframe tbody tr th {\n",
       "        vertical-align: top;\n",
       "    }\n",
       "\n",
       "    .dataframe thead th {\n",
       "        text-align: right;\n",
       "    }\n",
       "</style>\n",
       "<table border=\"1\" class=\"dataframe\">\n",
       "  <thead>\n",
       "    <tr style=\"text-align: right;\">\n",
       "      <th></th>\n",
       "      <th>DateCrawled</th>\n",
       "      <th>Price</th>\n",
       "      <th>VehicleType</th>\n",
       "      <th>RegistrationYear</th>\n",
       "      <th>Gearbox</th>\n",
       "      <th>Power</th>\n",
       "      <th>Model</th>\n",
       "      <th>Kilometer</th>\n",
       "      <th>RegistrationMonth</th>\n",
       "      <th>FuelType</th>\n",
       "      <th>Brand</th>\n",
       "      <th>Repaired</th>\n",
       "      <th>DateCreated</th>\n",
       "      <th>NumberOfPictures</th>\n",
       "      <th>PostalCode</th>\n",
       "      <th>LastSeen</th>\n",
       "    </tr>\n",
       "  </thead>\n",
       "  <tbody>\n",
       "    <tr>\n",
       "      <th>77187</th>\n",
       "      <td>2016-03-15 14:47:50</td>\n",
       "      <td>15500</td>\n",
       "      <td>NaN</td>\n",
       "      <td>1990</td>\n",
       "      <td>manual</td>\n",
       "      <td>315</td>\n",
       "      <td>5er</td>\n",
       "      <td>100000</td>\n",
       "      <td>0</td>\n",
       "      <td>petrol</td>\n",
       "      <td>bmw</td>\n",
       "      <td>NaN</td>\n",
       "      <td>2016-03-15 00:00:00</td>\n",
       "      <td>0</td>\n",
       "      <td>46244</td>\n",
       "      <td>2016-03-15 14:47:50</td>\n",
       "    </tr>\n",
       "    <tr>\n",
       "      <th>6958</th>\n",
       "      <td>2016-03-24 12:54:47</td>\n",
       "      <td>1000</td>\n",
       "      <td>bus</td>\n",
       "      <td>1999</td>\n",
       "      <td>manual</td>\n",
       "      <td>115</td>\n",
       "      <td>alhambra</td>\n",
       "      <td>150000</td>\n",
       "      <td>0</td>\n",
       "      <td>NaN</td>\n",
       "      <td>seat</td>\n",
       "      <td>NaN</td>\n",
       "      <td>2016-03-24 00:00:00</td>\n",
       "      <td>0</td>\n",
       "      <td>19079</td>\n",
       "      <td>2016-04-07 03:46:41</td>\n",
       "    </tr>\n",
       "    <tr>\n",
       "      <th>319435</th>\n",
       "      <td>2016-04-07 01:36:18</td>\n",
       "      <td>599</td>\n",
       "      <td>small</td>\n",
       "      <td>1996</td>\n",
       "      <td>NaN</td>\n",
       "      <td>45</td>\n",
       "      <td>polo</td>\n",
       "      <td>150000</td>\n",
       "      <td>6</td>\n",
       "      <td>petrol</td>\n",
       "      <td>volkswagen</td>\n",
       "      <td>NaN</td>\n",
       "      <td>2016-04-07 00:00:00</td>\n",
       "      <td>0</td>\n",
       "      <td>48527</td>\n",
       "      <td>2016-04-07 01:36:18</td>\n",
       "    </tr>\n",
       "    <tr>\n",
       "      <th>28854</th>\n",
       "      <td>2016-03-16 20:50:21</td>\n",
       "      <td>11500</td>\n",
       "      <td>NaN</td>\n",
       "      <td>2017</td>\n",
       "      <td>manual</td>\n",
       "      <td>131</td>\n",
       "      <td>NaN</td>\n",
       "      <td>150000</td>\n",
       "      <td>5</td>\n",
       "      <td>NaN</td>\n",
       "      <td>opel</td>\n",
       "      <td>NaN</td>\n",
       "      <td>2016-03-16 00:00:00</td>\n",
       "      <td>0</td>\n",
       "      <td>23816</td>\n",
       "      <td>2016-04-07 07:45:45</td>\n",
       "    </tr>\n",
       "    <tr>\n",
       "      <th>108695</th>\n",
       "      <td>2016-03-17 19:48:55</td>\n",
       "      <td>12200</td>\n",
       "      <td>bus</td>\n",
       "      <td>2014</td>\n",
       "      <td>manual</td>\n",
       "      <td>95</td>\n",
       "      <td>b_max</td>\n",
       "      <td>30000</td>\n",
       "      <td>1</td>\n",
       "      <td>gasoline</td>\n",
       "      <td>ford</td>\n",
       "      <td>no</td>\n",
       "      <td>2016-03-17 00:00:00</td>\n",
       "      <td>0</td>\n",
       "      <td>13053</td>\n",
       "      <td>2016-03-19 20:15:22</td>\n",
       "    </tr>\n",
       "  </tbody>\n",
       "</table>\n",
       "</div>"
      ],
      "text/plain": [
       "                DateCrawled  Price VehicleType  RegistrationYear Gearbox  \\\n",
       "77187   2016-03-15 14:47:50  15500         NaN              1990  manual   \n",
       "6958    2016-03-24 12:54:47   1000         bus              1999  manual   \n",
       "319435  2016-04-07 01:36:18    599       small              1996     NaN   \n",
       "28854   2016-03-16 20:50:21  11500         NaN              2017  manual   \n",
       "108695  2016-03-17 19:48:55  12200         bus              2014  manual   \n",
       "\n",
       "        Power     Model  Kilometer  RegistrationMonth  FuelType       Brand  \\\n",
       "77187     315       5er     100000                  0    petrol         bmw   \n",
       "6958      115  alhambra     150000                  0       NaN        seat   \n",
       "319435     45      polo     150000                  6    petrol  volkswagen   \n",
       "28854     131       NaN     150000                  5       NaN        opel   \n",
       "108695     95     b_max      30000                  1  gasoline        ford   \n",
       "\n",
       "       Repaired          DateCreated  NumberOfPictures  PostalCode  \\\n",
       "77187       NaN  2016-03-15 00:00:00                 0       46244   \n",
       "6958        NaN  2016-03-24 00:00:00                 0       19079   \n",
       "319435      NaN  2016-04-07 00:00:00                 0       48527   \n",
       "28854       NaN  2016-03-16 00:00:00                 0       23816   \n",
       "108695       no  2016-03-17 00:00:00                 0       13053   \n",
       "\n",
       "                   LastSeen  \n",
       "77187   2016-03-15 14:47:50  \n",
       "6958    2016-04-07 03:46:41  \n",
       "319435  2016-04-07 01:36:18  \n",
       "28854   2016-04-07 07:45:45  \n",
       "108695  2016-03-19 20:15:22  "
      ]
     },
     "execution_count": 28,
     "metadata": {},
     "output_type": "execute_result"
    }
   ],
   "source": [
    "df.sample(5)"
   ]
  },
  {
   "cell_type": "markdown",
   "metadata": {},
   "source": [
    "Признаки `DateCreated`, `NumberOfPictures`, `PostalCode`, `LastSeen`, `DateCrawled` не значимы для данной задачи так как не связаны со стоимостью автомобиля и могут быть удалены."
   ]
  },
  {
   "cell_type": "code",
   "execution_count": 30,
   "metadata": {},
   "outputs": [],
   "source": [
    "date_crawled = df['DateCrawled'].astype('datetime64').max()\n",
    "df=df.drop(['DateCreated', 'NumberOfPictures', 'PostalCode', 'LastSeen', 'DateCrawled', 'RegistrationMonth'], axis=1)\n"
   ]
  },
  {
   "cell_type": "markdown",
   "metadata": {},
   "source": [
    "Изучение пропущенных значений"
   ]
  },
  {
   "cell_type": "code",
   "execution_count": 32,
   "metadata": {
    "scrolled": true
   },
   "outputs": [
    {
     "name": "stdout",
     "output_type": "stream",
     "text": [
      "Данных без пропусках во всех признаках: 245814 69.37%\n"
     ]
    },
    {
     "data": {
      "image/png": "[encoded data removed]",
      "text/plain": [
       "<Figure size 1700x500 with 1 Axes>"
      ]
     },
     "metadata": {},
     "output_type": "display_data"
    }
   ],
   "source": [
    "print(f'Данных без пропусках во всех признаках: {(t:=df.dropna().shape[0])} {t/df.shape[0]:.2%}')\n",
    "((df.isna().mean()*100)\n",
    ".to_frame()\n",
    ".rename(columns={0:'percents'})\n",
    ".query('percents>0')\\\n",
    ".sort_values(by='percents')\n",
    ".plot(kind = 'barh', title='Процент пропусков в столбцах', xlabel='Столбцы')\n",
    ");\n",
    "#s.where(s>0).dropna().plot(kind='barh', xlabel='Кол-во пропусков в %');"
   ]
  },
  {
   "cell_type": "markdown",
   "metadata": {},
   "source": [
    "Больше данных пропущено в признаке `Repaired`, суммарно пропуски есть чуть больше чем в 30% данных"
   ]
  },
  {
   "cell_type": "markdown",
   "metadata": {},
   "source": [
    "Изучение распределения признаков\n"
   ]
  },
  {
   "cell_type": "code",
   "execution_count": 35,
   "metadata": {},
   "outputs": [
    {
     "data": {
      "image/png": "[encoded data removed]",
      "text/plain": [
       "<Figure size 1500x1500 with 4 Axes>"
      ]
     },
     "metadata": {},
     "output_type": "display_data"
    }
   ],
   "source": [
    "df.hist(figsize=(15,15));"
   ]
  },
  {
   "cell_type": "markdown",
   "metadata": {},
   "source": [
    "Распределения странные, очевидно наличие выбросов. От них следует избавится."
   ]
  },
  {
   "cell_type": "markdown",
   "metadata": {},
   "source": [
    "***"
   ]
  },
  {
   "cell_type": "code",
   "execution_count": 38,
   "metadata": {},
   "outputs": [
    {
     "name": "stdout",
     "output_type": "stream",
     "text": [
      "Пропусков: 10.58%\n"
     ]
    },
    {
     "data": {
      "image/png": "[encoded data removed]",
      "text/plain": [
       "<Figure size 1700x300 with 1 Axes>"
      ]
     },
     "metadata": {},
     "output_type": "display_data"
    }
   ],
   "source": [
    "print(f'Пропусков: {df[\"VehicleType\"].isna().mean():.2%}')\n",
    "df['VehicleType'].value_counts().plot(\n",
    "    kind='bar',\n",
    "    figsize=(17,3), \n",
    "    rot=0, \n",
    "    title='Распределение типов кузова в  VehicleType',\n",
    "    xlabel = 'Типы кузова',\n",
    "    ylabel = 'Кол-во'\n",
    ");"
   ]
  },
  {
   "cell_type": "markdown",
   "metadata": {},
   "source": [
    "***"
   ]
  },
  {
   "cell_type": "code",
   "execution_count": 40,
   "metadata": {},
   "outputs": [
    {
     "name": "stdout",
     "output_type": "stream",
     "text": [
      "count    354369.000000\n",
      "mean       2004.234448\n",
      "std          90.227958\n",
      "min        1000.000000\n",
      "1%         1980.000000\n",
      "25%        1999.000000\n",
      "50%        2003.000000\n",
      "max        9999.000000\n",
      "Name: RegistrationYear, dtype: float64\n",
      "[1000 1001 1039 1111 1200 1234 1253 1255 1300 1400 1500 1600 1602 1688\n",
      " 1800 1910 1915 1919 1920 1923 1925 1927 1928 1929 1930 1931 1932 1933\n",
      " 1934 1935 1936 1937 1938 1940 1941 1942 1943 1944 1945 1946 1947 1948\n",
      " 1949 1950 1951 1952 1953 1954 1955 1956 1957 1958 1959 1960 1961 1962\n",
      " 1963 1964 1965 1966 1967 1968 1969 1970 1971 1972 1973 1974 1975 1976\n",
      " 1977 1978 1979 1980 1981 1982 1983 1984 1985 1986 1987 1988 1989 1990\n",
      " 1991 1992 1993 1994 1995 1996 1997 1998 1999 2000 2001 2002 2003 2004\n",
      " 2005 2006 2007 2008 2009 2010 2011 2012 2013 2014 2015 2016 2017 2018\n",
      " 2019 2066 2200 2222 2290 2500 2800 2900 3000 3200 3500 3700 3800 4000\n",
      " 4100 4500 4800 5000 5300 5555 5600 5900 5911 6000 6500 7000 7100 7500\n",
      " 7800 8000 8200 8455 8500 8888 9000 9229 9450 9996 9999]\n"
     ]
    },
    {
     "data": {
      "text/plain": [
       "RegistrationYear    315792\n",
       "dtype: int64"
      ]
     },
     "execution_count": 40,
     "metadata": {},
     "output_type": "execute_result"
    },
    {
     "data": {
      "image/png": "[encoded data removed]",
      "text/plain": [
       "<Figure size 1700x1000 with 1 Axes>"
      ]
     },
     "metadata": {},
     "output_type": "display_data"
    }
   ],
   "source": [
    "print(df['RegistrationYear'].describe(percentiles=[0.01, 0.25, .5]))\n",
    "print(df['RegistrationYear'].sort_values().unique())\n",
    "(t:=df['RegistrationYear'].value_counts().sort_index().to_frame()).loc[1980:2019].plot(\n",
    "    kind='bar',\n",
    "    figsize=(17,10),\n",
    "    title='Распределение авто по году регистрации',\n",
    "    xlabel='Годы',\n",
    "    ylabel = 'Кол-во авто'\n",
    "    \n",
    ");\n",
    "t.query('RegistrationYear>5000').sum()"
   ]
  },
  {
   "cell_type": "markdown",
   "metadata": {},
   "source": [
    "Посмотрев на уникальные значения дат я отсёк сверху по 2019 году, так как за 2020 записей нет, а снизу по 1% перцентилю. При этом на графике видно что за 2019 записей крайне мало, так что и его можно отсечь."
   ]
  },
  {
   "cell_type": "code",
   "execution_count": 42,
   "metadata": {},
   "outputs": [],
   "source": [
    "df = df.query('1980<=RegistrationYear<@date_crawled.year')"
   ]
  },
  {
   "cell_type": "markdown",
   "metadata": {},
   "source": [
    "***"
   ]
  },
  {
   "cell_type": "code",
   "execution_count": 44,
   "metadata": {
    "scrolled": true
   },
   "outputs": [
    {
     "data": {
      "text/plain": [
       "petrol      202956\n",
       "gasoline     94927\n",
       "lpg           5049\n",
       "cng            526\n",
       "hybrid         216\n",
       "other          158\n",
       "electric        85\n",
       "Name: FuelType, dtype: int64"
      ]
     },
     "execution_count": 44,
     "metadata": {},
     "output_type": "execute_result"
    }
   ],
   "source": [
    "df[\"FuelType\"].value_counts()"
   ]
  },
  {
   "cell_type": "markdown",
   "metadata": {},
   "source": [
    "Так как petrol и gasoline  одно и тоже то перреименую gasoline в petrol."
   ]
  },
  {
   "cell_type": "code",
   "execution_count": 46,
   "metadata": {},
   "outputs": [],
   "source": [
    "df.loc[df[\"FuelType\"]=='gasoline',\"FuelType\"] = \"petrol\""
   ]
  },
  {
   "cell_type": "markdown",
   "metadata": {},
   "source": [
    "***"
   ]
  },
  {
   "cell_type": "code",
   "execution_count": 48,
   "metadata": {},
   "outputs": [
    {
     "name": "stdout",
     "output_type": "stream",
     "text": [
      "['manual' 'auto' nan] Пропусков 4.86%\n"
     ]
    },
    {
     "data": {
      "text/plain": [
       "manual    248253\n",
       "auto       62661\n",
       "Name: Gearbox, dtype: int64"
      ]
     },
     "execution_count": 48,
     "metadata": {},
     "output_type": "execute_result"
    }
   ],
   "source": [
    "print(df['Gearbox'].unique(), f'Пропусков {df[\"Gearbox\"].isna().mean():.2%}')\n",
    "df['Gearbox'].value_counts()"
   ]
  },
  {
   "cell_type": "code",
   "execution_count": 49,
   "metadata": {},
   "outputs": [
    {
     "name": "stdout",
     "output_type": "stream",
     "text": [
      "count    326788.000000\n",
      "mean        112.284402\n",
      "std         180.916863\n",
      "min           0.000000\n",
      "1%            0.000000\n",
      "50%         105.000000\n",
      "99%         300.000000\n",
      "max       20000.000000\n",
      "Name: Power, dtype: float64\n"
     ]
    },
    {
     "data": {
      "image/png": "[encoded data removed]",
      "text/plain": [
       "<Figure size 1700x500 with 1 Axes>"
      ]
     },
     "metadata": {},
     "output_type": "display_data"
    }
   ],
   "source": [
    "print(df[\"Power\"].describe(percentiles=([.01,.5, .99])))\n",
    "df.query('30<Power<300')[\"Power\"].plot(\n",
    "    kind='hist', \n",
    "    bins=100, \n",
    "    title ='Распределение мошьностей двигателей, л.с.',\n",
    ");"
   ]
  },
  {
   "cell_type": "code",
   "execution_count": 50,
   "metadata": {},
   "outputs": [],
   "source": [
    "df = df.query('30<Power<300')"
   ]
  },
  {
   "cell_type": "code",
   "execution_count": 51,
   "metadata": {},
   "outputs": [
    {
     "name": "stdout",
     "output_type": "stream",
     "text": [
      "count    290136.000000\n",
      "mean       4712.344921\n",
      "std        4551.400979\n",
      "min           0.000000\n",
      "25%        1250.000000\n",
      "50%        3000.000000\n",
      "75%        6899.000000\n",
      "max       20000.000000\n",
      "Name: Price, dtype: float64\n"
     ]
    },
    {
     "data": {
      "image/png": "[encoded data removed]",
      "text/plain": [
       "<Figure size 1700x500 with 1 Axes>"
      ]
     },
     "metadata": {},
     "output_type": "display_data"
    },
    {
     "data": {
      "image/png": "[encoded data removed]",
      "text/plain": [
       "<Figure size 1700x500 with 1 Axes>"
      ]
     },
     "metadata": {},
     "output_type": "display_data"
    }
   ],
   "source": [
    "print(df['Price'].describe())\n",
    "df['Price'].plot(kind='hist', bins=100, title='Распределение стоимости авто');\n",
    "plt.show()\n",
    "df['Price'].plot(kind='box', vert=False, title='Распределение стоимости авто');"
   ]
  },
  {
   "cell_type": "markdown",
   "metadata": {},
   "source": [
    "В целевом признаки можно удалить выбросы по правому усу боксплота. А также нулевые значения."
   ]
  },
  {
   "cell_type": "code",
   "execution_count": 53,
   "metadata": {},
   "outputs": [],
   "source": [
    "r_mustache = 1.5*(df['Price'].quantile(.75) - df['Price'].quantile(.25)) + df['Price'].quantile(.75)\n",
    "df = df.query('0 < Price < @r_mustache')"
   ]
  },
  {
   "cell_type": "markdown",
   "metadata": {},
   "source": [
    "***"
   ]
  },
  {
   "cell_type": "code",
   "execution_count": 55,
   "metadata": {},
   "outputs": [
    {
     "name": "stdout",
     "output_type": "stream",
     "text": [
      "13\n",
      "[125000 150000  90000  30000 100000  60000   5000  70000  80000  50000\n",
      "  40000  20000  10000]\n"
     ]
    },
    {
     "data": {
      "image/png": "[encoded data removed]",
      "text/plain": [
       "<Figure size 1700x500 with 1 Axes>"
      ]
     },
     "metadata": {},
     "output_type": "display_data"
    }
   ],
   "source": [
    "print(df[\"Kilometer\"].nunique())\n",
    "print(df[\"Kilometer\"].unique())\n",
    "df[\"Kilometer\"].value_counts().sort_index().plot(\n",
    "    kind='bar',\n",
    "    title =\"Распроеделение пробега автомобилей\",\n",
    "    xlabel='Пробег, км.',\n",
    "    ylabel = 'Автомобилей, шт.',\n",
    "    rot=0\n",
    ");"
   ]
  },
  {
   "cell_type": "code",
   "execution_count": 56,
   "metadata": {
    "scrolled": true
   },
   "outputs": [
    {
     "name": "stdout",
     "output_type": "stream",
     "text": [
      "0.14253013999087336\n"
     ]
    },
    {
     "data": {
      "text/plain": [
       "no     205582\n",
       "yes     27420\n",
       "Name: Repaired, dtype: int64"
      ]
     },
     "execution_count": 56,
     "metadata": {},
     "output_type": "execute_result"
    }
   ],
   "source": [
    "print(df[\"Repaired\"].isna().mean())\n",
    "df[\"Repaired\"].value_counts()"
   ]
  },
  {
   "cell_type": "markdown",
   "metadata": {},
   "source": [
    "***"
   ]
  },
  {
   "cell_type": "code",
   "execution_count": 58,
   "metadata": {},
   "outputs": [
    {
     "data": {
      "text/plain": [
       "(217345, 10)"
      ]
     },
     "execution_count": 58,
     "metadata": {},
     "output_type": "execute_result"
    }
   ],
   "source": [
    "df.dropna().shape"
   ]
  },
  {
   "cell_type": "markdown",
   "metadata": {},
   "source": [
    "Даже если просто избавится от всех пропусков размер данных всё ещё останется довольно большим, поэтому так и поступлю"
   ]
  },
  {
   "cell_type": "code",
   "execution_count": 60,
   "metadata": {},
   "outputs": [],
   "source": [
    "df = df.dropna()"
   ]
  },
  {
   "cell_type": "markdown",
   "metadata": {},
   "source": [
    "Проверка на новые явные дубликаты"
   ]
  },
  {
   "cell_type": "code",
   "execution_count": 62,
   "metadata": {},
   "outputs": [
    {
     "data": {
      "text/plain": [
       "34239"
      ]
     },
     "execution_count": 62,
     "metadata": {},
     "output_type": "execute_result"
    }
   ],
   "source": [
    "df.duplicated().sum()"
   ]
  },
  {
   "cell_type": "code",
   "execution_count": 63,
   "metadata": {},
   "outputs": [],
   "source": [
    "df = df.drop_duplicates()"
   ]
  },
  {
   "cell_type": "code",
   "execution_count": 64,
   "metadata": {},
   "outputs": [
    {
     "data": {
      "text/plain": [
       "(183106, 10)"
      ]
     },
     "execution_count": 64,
     "metadata": {},
     "output_type": "execute_result"
    }
   ],
   "source": [
    "df.shape"
   ]
  },
  {
   "cell_type": "markdown",
   "metadata": {},
   "source": [
    "Окончательный размер данных."
   ]
  },
  {
   "cell_type": "markdown",
   "metadata": {},
   "source": [
    "## Обучение моделей"
   ]
  },
  {
   "cell_type": "markdown",
   "metadata": {},
   "source": [
    "### Предобработка"
   ]
  },
  {
   "cell_type": "code",
   "execution_count": 68,
   "metadata": {},
   "outputs": [],
   "source": [
    "ord_cols = ['VehicleType', 'Model', 'FuelType', 'Brand']\n",
    "ohe_cols = ['Gearbox', 'Repaired'] \n",
    "trans = ColumnTransformer(\n",
    "    [\n",
    "        ('ohe', OneHotEncoder(drop='first'), ohe_cols),\n",
    "        ('ord', OrdinalEncoder(handle_unknown='use_encoded_value', unknown_value=-1\n",
    "         ), ord_cols)\n",
    "    ], \n",
    "    remainder='passthrough'\n",
    ")\n",
    "cols = df.drop('Price', axis=1).columns\n",
    "df_boost = pd.DataFrame(\n",
    "    trans.fit_transform(\n",
    "        df.drop('Price', axis=1)\n",
    "    ),\n",
    "    columns=ohe_cols+ord_cols+['RegistrationYear', 'Power', 'Kilometer']\n",
    "\n",
    ")"
   ]
  },
  {
   "cell_type": "markdown",
   "metadata": {},
   "source": [
    "Категориальные признаки закодированны."
   ]
  },
  {
   "cell_type": "code",
   "execution_count": 70,
   "metadata": {},
   "outputs": [
    {
     "data": {
      "text/html": [
       "<div>\n",
       "<style scoped>\n",
       "    .dataframe tbody tr th:only-of-type {\n",
       "        vertical-align: middle;\n",
       "    }\n",
       "\n",
       "    .dataframe tbody tr th {\n",
       "        vertical-align: top;\n",
       "    }\n",
       "\n",
       "    .dataframe thead th {\n",
       "        text-align: right;\n",
       "    }\n",
       "</style>\n",
       "<table border=\"1\" class=\"dataframe\">\n",
       "  <thead>\n",
       "    <tr style=\"text-align: right;\">\n",
       "      <th></th>\n",
       "      <th>Gearbox</th>\n",
       "      <th>Repaired</th>\n",
       "      <th>VehicleType</th>\n",
       "      <th>Model</th>\n",
       "      <th>FuelType</th>\n",
       "      <th>Brand</th>\n",
       "      <th>RegistrationYear</th>\n",
       "      <th>Power</th>\n",
       "      <th>Kilometer</th>\n",
       "    </tr>\n",
       "  </thead>\n",
       "  <tbody>\n",
       "    <tr>\n",
       "      <th>0</th>\n",
       "      <td>1.0</td>\n",
       "      <td>0.0</td>\n",
       "      <td>5.0</td>\n",
       "      <td>116.0</td>\n",
       "      <td>5.0</td>\n",
       "      <td>37.0</td>\n",
       "      <td>2001.0</td>\n",
       "      <td>75.0</td>\n",
       "      <td>150000.0</td>\n",
       "    </tr>\n",
       "    <tr>\n",
       "      <th>1</th>\n",
       "      <td>1.0</td>\n",
       "      <td>0.0</td>\n",
       "      <td>5.0</td>\n",
       "      <td>101.0</td>\n",
       "      <td>5.0</td>\n",
       "      <td>31.0</td>\n",
       "      <td>2008.0</td>\n",
       "      <td>69.0</td>\n",
       "      <td>90000.0</td>\n",
       "    </tr>\n",
       "    <tr>\n",
       "      <th>2</th>\n",
       "      <td>1.0</td>\n",
       "      <td>1.0</td>\n",
       "      <td>4.0</td>\n",
       "      <td>11.0</td>\n",
       "      <td>5.0</td>\n",
       "      <td>2.0</td>\n",
       "      <td>1995.0</td>\n",
       "      <td>102.0</td>\n",
       "      <td>150000.0</td>\n",
       "    </tr>\n",
       "    <tr>\n",
       "      <th>3</th>\n",
       "      <td>1.0</td>\n",
       "      <td>0.0</td>\n",
       "      <td>1.0</td>\n",
       "      <td>8.0</td>\n",
       "      <td>5.0</td>\n",
       "      <td>25.0</td>\n",
       "      <td>2004.0</td>\n",
       "      <td>109.0</td>\n",
       "      <td>150000.0</td>\n",
       "    </tr>\n",
       "    <tr>\n",
       "      <th>4</th>\n",
       "      <td>1.0</td>\n",
       "      <td>0.0</td>\n",
       "      <td>4.0</td>\n",
       "      <td>10.0</td>\n",
       "      <td>5.0</td>\n",
       "      <td>19.0</td>\n",
       "      <td>2004.0</td>\n",
       "      <td>105.0</td>\n",
       "      <td>150000.0</td>\n",
       "    </tr>\n",
       "    <tr>\n",
       "      <th>...</th>\n",
       "      <td>...</td>\n",
       "      <td>...</td>\n",
       "      <td>...</td>\n",
       "      <td>...</td>\n",
       "      <td>...</td>\n",
       "      <td>...</td>\n",
       "      <td>...</td>\n",
       "      <td>...</td>\n",
       "      <td>...</td>\n",
       "    </tr>\n",
       "    <tr>\n",
       "      <th>183101</th>\n",
       "      <td>1.0</td>\n",
       "      <td>0.0</td>\n",
       "      <td>4.0</td>\n",
       "      <td>28.0</td>\n",
       "      <td>5.0</td>\n",
       "      <td>1.0</td>\n",
       "      <td>1997.0</td>\n",
       "      <td>150.0</td>\n",
       "      <td>150000.0</td>\n",
       "    </tr>\n",
       "    <tr>\n",
       "      <th>183102</th>\n",
       "      <td>0.0</td>\n",
       "      <td>1.0</td>\n",
       "      <td>4.0</td>\n",
       "      <td>95.0</td>\n",
       "      <td>5.0</td>\n",
       "      <td>20.0</td>\n",
       "      <td>2003.0</td>\n",
       "      <td>260.0</td>\n",
       "      <td>150000.0</td>\n",
       "    </tr>\n",
       "    <tr>\n",
       "      <th>183103</th>\n",
       "      <td>1.0</td>\n",
       "      <td>1.0</td>\n",
       "      <td>4.0</td>\n",
       "      <td>140.0</td>\n",
       "      <td>5.0</td>\n",
       "      <td>30.0</td>\n",
       "      <td>2004.0</td>\n",
       "      <td>225.0</td>\n",
       "      <td>150000.0</td>\n",
       "    </tr>\n",
       "    <tr>\n",
       "      <th>183104</th>\n",
       "      <td>0.0</td>\n",
       "      <td>0.0</td>\n",
       "      <td>1.0</td>\n",
       "      <td>106.0</td>\n",
       "      <td>5.0</td>\n",
       "      <td>32.0</td>\n",
       "      <td>2000.0</td>\n",
       "      <td>101.0</td>\n",
       "      <td>125000.0</td>\n",
       "    </tr>\n",
       "    <tr>\n",
       "      <th>183105</th>\n",
       "      <td>1.0</td>\n",
       "      <td>0.0</td>\n",
       "      <td>0.0</td>\n",
       "      <td>221.0</td>\n",
       "      <td>5.0</td>\n",
       "      <td>37.0</td>\n",
       "      <td>1996.0</td>\n",
       "      <td>102.0</td>\n",
       "      <td>150000.0</td>\n",
       "    </tr>\n",
       "  </tbody>\n",
       "</table>\n",
       "<p>183106 rows × 9 columns</p>\n",
       "</div>"
      ],
      "text/plain": [
       "        Gearbox  Repaired  VehicleType  Model  FuelType  Brand  \\\n",
       "0           1.0       0.0          5.0  116.0       5.0   37.0   \n",
       "1           1.0       0.0          5.0  101.0       5.0   31.0   \n",
       "2           1.0       1.0          4.0   11.0       5.0    2.0   \n",
       "3           1.0       0.0          1.0    8.0       5.0   25.0   \n",
       "4           1.0       0.0          4.0   10.0       5.0   19.0   \n",
       "...         ...       ...          ...    ...       ...    ...   \n",
       "183101      1.0       0.0          4.0   28.0       5.0    1.0   \n",
       "183102      0.0       1.0          4.0   95.0       5.0   20.0   \n",
       "183103      1.0       1.0          4.0  140.0       5.0   30.0   \n",
       "183104      0.0       0.0          1.0  106.0       5.0   32.0   \n",
       "183105      1.0       0.0          0.0  221.0       5.0   37.0   \n",
       "\n",
       "        RegistrationYear  Power  Kilometer  \n",
       "0                 2001.0   75.0   150000.0  \n",
       "1                 2008.0   69.0    90000.0  \n",
       "2                 1995.0  102.0   150000.0  \n",
       "3                 2004.0  109.0   150000.0  \n",
       "4                 2004.0  105.0   150000.0  \n",
       "...                  ...    ...        ...  \n",
       "183101            1997.0  150.0   150000.0  \n",
       "183102            2003.0  260.0   150000.0  \n",
       "183103            2004.0  225.0   150000.0  \n",
       "183104            2000.0  101.0   125000.0  \n",
       "183105            1996.0  102.0   150000.0  \n",
       "\n",
       "[183106 rows x 9 columns]"
      ]
     },
     "execution_count": 70,
     "metadata": {},
     "output_type": "execute_result"
    }
   ],
   "source": [
    "df_boost"
   ]
  },
  {
   "cell_type": "markdown",
   "metadata": {},
   "source": [
    "### Подготовка выборок\n"
   ]
  },
  {
   "cell_type": "code",
   "execution_count": 72,
   "metadata": {},
   "outputs": [],
   "source": [
    "X_train, X_test, y_train, y_test = train_test_split(\n",
    "    df_boost,\n",
    "    df['Price'],\n",
    "    train_size = 0.8,\n",
    "    random_state=RANDOM_STATE,\n",
    "    shuffle = True\n",
    ")"
   ]
  },
  {
   "cell_type": "markdown",
   "metadata": {},
   "source": [
    "Восстановление порядка индексов"
   ]
  },
  {
   "cell_type": "code",
   "execution_count": 74,
   "metadata": {},
   "outputs": [],
   "source": [
    "X_train = X_train.reset_index(drop=True)\n",
    "X_test = X_test.reset_index(drop=True)\n",
    "\n",
    "y_train = y_train.reset_index(drop=True)\n",
    "y_test = y_test.reset_index(drop=True)\n"
   ]
  },
  {
   "cell_type": "code",
   "execution_count": 75,
   "metadata": {},
   "outputs": [
    {
     "data": {
      "text/html": [
       "<div>\n",
       "<style scoped>\n",
       "    .dataframe tbody tr th:only-of-type {\n",
       "        vertical-align: middle;\n",
       "    }\n",
       "\n",
       "    .dataframe tbody tr th {\n",
       "        vertical-align: top;\n",
       "    }\n",
       "\n",
       "    .dataframe thead th {\n",
       "        text-align: right;\n",
       "    }\n",
       "</style>\n",
       "<table border=\"1\" class=\"dataframe\">\n",
       "  <thead>\n",
       "    <tr style=\"text-align: right;\">\n",
       "      <th></th>\n",
       "      <th>Gearbox</th>\n",
       "      <th>Repaired</th>\n",
       "      <th>VehicleType</th>\n",
       "      <th>Model</th>\n",
       "      <th>FuelType</th>\n",
       "      <th>Brand</th>\n",
       "      <th>RegistrationYear</th>\n",
       "      <th>Power</th>\n",
       "      <th>Kilometer</th>\n",
       "    </tr>\n",
       "  </thead>\n",
       "  <tbody>\n",
       "    <tr>\n",
       "      <th>0</th>\n",
       "      <td>0.0</td>\n",
       "      <td>0.0</td>\n",
       "      <td>7.0</td>\n",
       "      <td>170.0</td>\n",
       "      <td>5.0</td>\n",
       "      <td>37.0</td>\n",
       "      <td>2002.0</td>\n",
       "      <td>131.0</td>\n",
       "      <td>150000.0</td>\n",
       "    </tr>\n",
       "    <tr>\n",
       "      <th>1</th>\n",
       "      <td>1.0</td>\n",
       "      <td>0.0</td>\n",
       "      <td>0.0</td>\n",
       "      <td>150.0</td>\n",
       "      <td>5.0</td>\n",
       "      <td>24.0</td>\n",
       "      <td>2005.0</td>\n",
       "      <td>101.0</td>\n",
       "      <td>150000.0</td>\n",
       "    </tr>\n",
       "    <tr>\n",
       "      <th>2</th>\n",
       "      <td>1.0</td>\n",
       "      <td>0.0</td>\n",
       "      <td>5.0</td>\n",
       "      <td>83.0</td>\n",
       "      <td>5.0</td>\n",
       "      <td>24.0</td>\n",
       "      <td>1996.0</td>\n",
       "      <td>45.0</td>\n",
       "      <td>125000.0</td>\n",
       "    </tr>\n",
       "    <tr>\n",
       "      <th>3</th>\n",
       "      <td>1.0</td>\n",
       "      <td>0.0</td>\n",
       "      <td>4.0</td>\n",
       "      <td>59.0</td>\n",
       "      <td>5.0</td>\n",
       "      <td>20.0</td>\n",
       "      <td>1994.0</td>\n",
       "      <td>122.0</td>\n",
       "      <td>150000.0</td>\n",
       "    </tr>\n",
       "    <tr>\n",
       "      <th>4</th>\n",
       "      <td>1.0</td>\n",
       "      <td>0.0</td>\n",
       "      <td>5.0</td>\n",
       "      <td>173.0</td>\n",
       "      <td>5.0</td>\n",
       "      <td>37.0</td>\n",
       "      <td>2011.0</td>\n",
       "      <td>86.0</td>\n",
       "      <td>40000.0</td>\n",
       "    </tr>\n",
       "    <tr>\n",
       "      <th>...</th>\n",
       "      <td>...</td>\n",
       "      <td>...</td>\n",
       "      <td>...</td>\n",
       "      <td>...</td>\n",
       "      <td>...</td>\n",
       "      <td>...</td>\n",
       "      <td>...</td>\n",
       "      <td>...</td>\n",
       "      <td>...</td>\n",
       "    </tr>\n",
       "    <tr>\n",
       "      <th>146479</th>\n",
       "      <td>0.0</td>\n",
       "      <td>1.0</td>\n",
       "      <td>6.0</td>\n",
       "      <td>218.0</td>\n",
       "      <td>5.0</td>\n",
       "      <td>37.0</td>\n",
       "      <td>2005.0</td>\n",
       "      <td>174.0</td>\n",
       "      <td>150000.0</td>\n",
       "    </tr>\n",
       "    <tr>\n",
       "      <th>146480</th>\n",
       "      <td>1.0</td>\n",
       "      <td>0.0</td>\n",
       "      <td>2.0</td>\n",
       "      <td>76.0</td>\n",
       "      <td>3.0</td>\n",
       "      <td>20.0</td>\n",
       "      <td>2002.0</td>\n",
       "      <td>188.0</td>\n",
       "      <td>150000.0</td>\n",
       "    </tr>\n",
       "    <tr>\n",
       "      <th>146481</th>\n",
       "      <td>0.0</td>\n",
       "      <td>1.0</td>\n",
       "      <td>6.0</td>\n",
       "      <td>206.0</td>\n",
       "      <td>5.0</td>\n",
       "      <td>15.0</td>\n",
       "      <td>2005.0</td>\n",
       "      <td>140.0</td>\n",
       "      <td>150000.0</td>\n",
       "    </tr>\n",
       "    <tr>\n",
       "      <th>146482</th>\n",
       "      <td>1.0</td>\n",
       "      <td>1.0</td>\n",
       "      <td>4.0</td>\n",
       "      <td>149.0</td>\n",
       "      <td>5.0</td>\n",
       "      <td>27.0</td>\n",
       "      <td>1999.0</td>\n",
       "      <td>90.0</td>\n",
       "      <td>150000.0</td>\n",
       "    </tr>\n",
       "    <tr>\n",
       "      <th>146483</th>\n",
       "      <td>1.0</td>\n",
       "      <td>0.0</td>\n",
       "      <td>7.0</td>\n",
       "      <td>166.0</td>\n",
       "      <td>5.0</td>\n",
       "      <td>15.0</td>\n",
       "      <td>2009.0</td>\n",
       "      <td>146.0</td>\n",
       "      <td>125000.0</td>\n",
       "    </tr>\n",
       "  </tbody>\n",
       "</table>\n",
       "<p>146484 rows × 9 columns</p>\n",
       "</div>"
      ],
      "text/plain": [
       "        Gearbox  Repaired  VehicleType  Model  FuelType  Brand  \\\n",
       "0           0.0       0.0          7.0  170.0       5.0   37.0   \n",
       "1           1.0       0.0          0.0  150.0       5.0   24.0   \n",
       "2           1.0       0.0          5.0   83.0       5.0   24.0   \n",
       "3           1.0       0.0          4.0   59.0       5.0   20.0   \n",
       "4           1.0       0.0          5.0  173.0       5.0   37.0   \n",
       "...         ...       ...          ...    ...       ...    ...   \n",
       "146479      0.0       1.0          6.0  218.0       5.0   37.0   \n",
       "146480      1.0       0.0          2.0   76.0       3.0   20.0   \n",
       "146481      0.0       1.0          6.0  206.0       5.0   15.0   \n",
       "146482      1.0       1.0          4.0  149.0       5.0   27.0   \n",
       "146483      1.0       0.0          7.0  166.0       5.0   15.0   \n",
       "\n",
       "        RegistrationYear  Power  Kilometer  \n",
       "0                 2002.0  131.0   150000.0  \n",
       "1                 2005.0  101.0   150000.0  \n",
       "2                 1996.0   45.0   125000.0  \n",
       "3                 1994.0  122.0   150000.0  \n",
       "4                 2011.0   86.0    40000.0  \n",
       "...                  ...    ...        ...  \n",
       "146479            2005.0  174.0   150000.0  \n",
       "146480            2002.0  188.0   150000.0  \n",
       "146481            2005.0  140.0   150000.0  \n",
       "146482            1999.0   90.0   150000.0  \n",
       "146483            2009.0  146.0   125000.0  \n",
       "\n",
       "[146484 rows x 9 columns]"
      ]
     },
     "execution_count": 75,
     "metadata": {},
     "output_type": "execute_result"
    }
   ],
   "source": [
    "X_train"
   ]
  },
  {
   "cell_type": "markdown",
   "metadata": {},
   "source": [
    "### LightGBM"
   ]
  },
  {
   "cell_type": "markdown",
   "metadata": {},
   "source": [
    "Модель с дефолтными гиперпарметрами."
   ]
  },
  {
   "cell_type": "code",
   "execution_count": 78,
   "metadata": {},
   "outputs": [
    {
     "name": "stdout",
     "output_type": "stream",
     "text": [
      "[LightGBM] [Info] Auto-choosing row-wise multi-threading, the overhead of testing was 0.004522 seconds.\n",
      "You can set `force_row_wise=true` to remove the overhead.\n",
      "And if memory is not enough, you can set `force_col_wise=true`.\n",
      "[LightGBM] [Info] Total Bins 528\n",
      "[LightGBM] [Info] Number of data points in the train set: 146484, number of used features: 9\n",
      "[LightGBM] [Info] Start training from score 4653.254963\n",
      "CPU times: total: 1.66 s\n",
      "Wall time: 552 ms\n"
     ]
    },
    {
     "data": {
      "text/html": [
       "<style>#sk-container-id-1 {color: black;background-color: white;}#sk-container-id-1 pre{padding: 0;}#sk-container-id-1 div.sk-toggleable {background-color: white;}#sk-container-id-1 label.sk-toggleable__label {cursor: pointer;display: block;width: 100%;margin-bottom: 0;padding: 0.3em;box-sizing: border-box;text-align: center;}#sk-container-id-1 label.sk-toggleable__label-arrow:before {content: \"▸\";float: left;margin-right: 0.25em;color: #696969;}#sk-container-id-1 label.sk-toggleable__label-arrow:hover:before {color: black;}#sk-container-id-1 div.sk-estimator:hover label.sk-toggleable__label-arrow:before {color: black;}#sk-container-id-1 div.sk-toggleable__content {max-height: 0;max-width: 0;overflow: hidden;text-align: left;background-color: #f0f8ff;}#sk-container-id-1 div.sk-toggleable__content pre {margin: 0.2em;color: black;border-radius: 0.25em;background-color: #f0f8ff;}#sk-container-id-1 input.sk-toggleable__control:checked~div.sk-toggleable__content {max-height: 200px;max-width: 100%;overflow: auto;}#sk-container-id-1 input.sk-toggleable__control:checked~label.sk-toggleable__label-arrow:before {content: \"▾\";}#sk-container-id-1 div.sk-estimator input.sk-toggleable__control:checked~label.sk-toggleable__label {background-color: #d4ebff;}#sk-container-id-1 div.sk-label input.sk-toggleable__control:checked~label.sk-toggleable__label {background-color: #d4ebff;}#sk-container-id-1 input.sk-hidden--visually {border: 0;clip: rect(1px 1px 1px 1px);clip: rect(1px, 1px, 1px, 1px);height: 1px;margin: -1px;overflow: hidden;padding: 0;position: absolute;width: 1px;}#sk-container-id-1 div.sk-estimator {font-family: monospace;background-color: #f0f8ff;border: 1px dotted black;border-radius: 0.25em;box-sizing: border-box;margin-bottom: 0.5em;}#sk-container-id-1 div.sk-estimator:hover {background-color: #d4ebff;}#sk-container-id-1 div.sk-parallel-item::after {content: \"\";width: 100%;border-bottom: 1px solid gray;flex-grow: 1;}#sk-container-id-1 div.sk-label:hover label.sk-toggleable__label {background-color: #d4ebff;}#sk-container-id-1 div.sk-serial::before {content: \"\";position: absolute;border-left: 1px solid gray;box-sizing: border-box;top: 0;bottom: 0;left: 50%;z-index: 0;}#sk-container-id-1 div.sk-serial {display: flex;flex-direction: column;align-items: center;background-color: white;padding-right: 0.2em;padding-left: 0.2em;position: relative;}#sk-container-id-1 div.sk-item {position: relative;z-index: 1;}#sk-container-id-1 div.sk-parallel {display: flex;align-items: stretch;justify-content: center;background-color: white;position: relative;}#sk-container-id-1 div.sk-item::before, #sk-container-id-1 div.sk-parallel-item::before {content: \"\";position: absolute;border-left: 1px solid gray;box-sizing: border-box;top: 0;bottom: 0;left: 50%;z-index: -1;}#sk-container-id-1 div.sk-parallel-item {display: flex;flex-direction: column;z-index: 1;position: relative;background-color: white;}#sk-container-id-1 div.sk-parallel-item:first-child::after {align-self: flex-end;width: 50%;}#sk-container-id-1 div.sk-parallel-item:last-child::after {align-self: flex-start;width: 50%;}#sk-container-id-1 div.sk-parallel-item:only-child::after {width: 0;}#sk-container-id-1 div.sk-dashed-wrapped {border: 1px dashed gray;margin: 0 0.4em 0.5em 0.4em;box-sizing: border-box;padding-bottom: 0.4em;background-color: white;}#sk-container-id-1 div.sk-label label {font-family: monospace;font-weight: bold;display: inline-block;line-height: 1.2em;}#sk-container-id-1 div.sk-label-container {text-align: center;}#sk-container-id-1 div.sk-container {/* jupyter's `normalize.less` sets `[hidden] { display: none; }` but bootstrap.min.css set `[hidden] { display: none !important; }` so we also need the `!important` here to be able to override the default hidden behavior on the sphinx rendered scikit-learn.org. See: https://github.com/scikit-learn/scikit-learn/issues/21755 */display: inline-block !important;position: relative;}#sk-container-id-1 div.sk-text-repr-fallback {display: none;}</style><div id=\"sk-container-id-1\" class=\"sk-top-container\"><div class=\"sk-text-repr-fallback\"><pre>LGBMRegressor(random_state=0)</pre><b>In a Jupyter environment, please rerun this cell to show the HTML representation or trust the notebook. <br />On GitHub, the HTML representation is unable to render, please try loading this page with nbviewer.org.</b></div><div class=\"sk-container\" hidden><div class=\"sk-item\"><div class=\"sk-estimator sk-toggleable\"><input class=\"sk-toggleable__control sk-hidden--visually\" id=\"sk-estimator-id-1\" type=\"checkbox\" checked><label for=\"sk-estimator-id-1\" class=\"sk-toggleable__label sk-toggleable__label-arrow\">LGBMRegressor</label><div class=\"sk-toggleable__content\"><pre>LGBMRegressor(random_state=0)</pre></div></div></div></div></div>"
      ],
      "text/plain": [
       "LGBMRegressor(random_state=0)"
      ]
     },
     "execution_count": 78,
     "metadata": {},
     "output_type": "execute_result"
    }
   ],
   "source": [
    "%%time\n",
    "lgbm = LGBMRegressor(random_state=RANDOM_STATE)\n",
    "lgbm.fit(X_train, y_train)"
   ]
  },
  {
   "cell_type": "code",
   "execution_count": 79,
   "metadata": {},
   "outputs": [],
   "source": [
    "cv = RepeatedKFold(n_splits=5, n_repeats=5, random_state=RANDOM_STATE)\n",
    "n_scores = cross_val_score(lgbm, X_train, y_train, scoring='neg_root_mean_squared_error', cv=cv, n_jobs=-1, error_score='raise')"
   ]
  },
  {
   "cell_type": "markdown",
   "metadata": {},
   "source": [
    "RMSE на кросс валидации"
   ]
  },
  {
   "cell_type": "code",
   "execution_count": 81,
   "metadata": {},
   "outputs": [
    {
     "data": {
      "text/plain": [
       "1439.29415497225"
      ]
     },
     "execution_count": 81,
     "metadata": {},
     "output_type": "execute_result"
    }
   ],
   "source": [
    "abs(n_scores.mean())"
   ]
  },
  {
   "cell_type": "markdown",
   "metadata": {},
   "source": [
    "### Optuna"
   ]
  },
  {
   "cell_type": "code",
   "execution_count": 83,
   "metadata": {},
   "outputs": [
    {
     "name": "stderr",
     "output_type": "stream",
     "text": [
      "C:\\Users\\user\\AppData\\Local\\Temp\\ipykernel_5504\\150832101.py:6: ExperimentalWarning: OptunaSearchCV is experimental (supported from v0.17.0). The interface can change in the future.\n",
      "  lgbm_optuna = OptunaSearchCV(\n"
     ]
    }
   ],
   "source": [
    "param_dist = {\n",
    "    'n_estimators': distributions.IntDistribution(10, 150),\n",
    "    'num_leaves': distributions.IntDistribution(1, 20),\n",
    "    'max_depth': distributions.IntDistribution(-1, 10),\n",
    "}\n",
    "lgbm_optuna = OptunaSearchCV(\n",
    "    LGBMRegressor(random_state=RANDOM_STATE),\n",
    "    param_dist,\n",
    "    cv = 5,\n",
    "    random_state=RANDOM_STATE,\n",
    "    n_jobs=-1,\n",
    "    scoring = 'neg_root_mean_squared_error',\n",
    "    n_trials=100\n",
    "    \n",
    ")"
   ]
  },
  {
   "cell_type": "code",
   "execution_count": 84,
   "metadata": {
    "scrolled": true
   },
   "outputs": [
    {
     "name": "stderr",
     "output_type": "stream",
     "text": [
      "[I 2024-08-11 15:36:02,507] A new study created in memory with name: no-name-ad980a28-0e7c-4635-a57f-812ef6a4ad44\n",
      "[I 2024-08-11 15:36:05,344] Trial 3 finished with value: -2394.3034752599983 and parameters: {'n_estimators': 12, 'num_leaves': 5, 'max_depth': 9}. Best is trial 3 with value: -2394.3034752599983.\n",
      "[I 2024-08-11 15:36:07,413] Trial 13 finished with value: -2049.313286878676 and parameters: {'n_estimators': 20, 'num_leaves': 6, 'max_depth': 6}. Best is trial 13 with value: -2049.313286878676.\n",
      "[I 2024-08-11 15:36:08,511] Trial 6 finished with value: -1918.053888281845 and parameters: {'n_estimators': 43, 'num_leaves': 20, 'max_depth': 2}. Best is trial 6 with value: -1918.053888281845.\n",
      "[I 2024-08-11 15:36:09,018] Trial 0 finished with value: -1883.038638140498 and parameters: {'n_estimators': 28, 'num_leaves': 20, 'max_depth': 3}. Best is trial 0 with value: -1883.038638140498.\n",
      "[I 2024-08-11 15:36:09,680] Trial 16 finished with value: -1986.954865744742 and parameters: {'n_estimators': 43, 'num_leaves': 3, 'max_depth': 10}. Best is trial 0 with value: -1883.038638140498.\n",
      "[I 2024-08-11 15:36:10,327] Trial 1 finished with value: -2039.6515250189882 and parameters: {'n_estimators': 92, 'num_leaves': 8, 'max_depth': 1}. Best is trial 0 with value: -1883.038638140498.\n",
      "[I 2024-08-11 15:36:12,243] Trial 15 finished with value: -1990.5745780862665 and parameters: {'n_estimators': 120, 'num_leaves': 19, 'max_depth': 1}. Best is trial 0 with value: -1883.038638140498.\n",
      "[I 2024-08-11 15:36:14,256] Trial 8 finished with value: -1895.7962895604146 and parameters: {'n_estimators': 18, 'num_leaves': 17, 'max_depth': 10}. Best is trial 0 with value: -1883.038638140498.\n",
      "[I 2024-08-11 15:36:15,295] Trial 18 finished with value: -2032.9061340120365 and parameters: {'n_estimators': 95, 'num_leaves': 5, 'max_depth': 1}. Best is trial 0 with value: -1883.038638140498.\n",
      "[I 2024-08-11 15:36:16,329] Trial 17 finished with value: -1991.8864250165147 and parameters: {'n_estimators': 119, 'num_leaves': 17, 'max_depth': 1}. Best is trial 0 with value: -1883.038638140498.\n",
      "[I 2024-08-11 15:36:18,536] Trial 14 finished with value: -1651.8697141910338 and parameters: {'n_estimators': 131, 'num_leaves': 4, 'max_depth': 4}. Best is trial 14 with value: -1651.8697141910338.\n",
      "[I 2024-08-11 15:36:18,701] Trial 24 finished with value: -2125.8143741170875 and parameters: {'n_estimators': 24, 'num_leaves': 14, 'max_depth': 2}. Best is trial 14 with value: -1651.8697141910338.\n",
      "[I 2024-08-11 15:36:19,008] Trial 9 finished with value: -1614.3193081922338 and parameters: {'n_estimators': 90, 'num_leaves': 6, 'max_depth': 9}. Best is trial 9 with value: -1614.3193081922338.\n",
      "D:\\progs\\Anaconda\\Lib\\site-packages\\optuna_integration\\sklearn.py:377: RuntimeWarning: Mean of empty slice\n",
      "  trial.set_user_attr(\"mean_{}\".format(name), np.nanmean(array))\n",
      "D:\\progs\\Anaconda\\Lib\\site-packages\\numpy\\lib\\nanfunctions.py:1872: RuntimeWarning: Degrees of freedom <= 0 for slice.\n",
      "  var = nanvar(a, axis=axis, dtype=dtype, out=out, ddof=ddof,\n",
      "[W 2024-08-11 15:36:19,231] Trial 28 failed with parameters: {'n_estimators': 146, 'num_leaves': 1, 'max_depth': 6} because of the following error: The value nan is not acceptable.\n",
      "[W 2024-08-11 15:36:19,232] Trial 28 failed with value nan.\n",
      "[W 2024-08-11 15:36:19,351] Trial 29 failed with parameters: {'n_estimators': 150, 'num_leaves': 1, 'max_depth': 6} because of the following error: The value nan is not acceptable.\n",
      "[W 2024-08-11 15:36:19,352] Trial 29 failed with value nan.\n",
      "[I 2024-08-11 15:36:19,423] Trial 5 finished with value: -1683.8104868050036 and parameters: {'n_estimators': 28, 'num_leaves': 20, 'max_depth': 8}. Best is trial 9 with value: -1614.3193081922338.\n",
      "D:\\progs\\Anaconda\\Lib\\site-packages\\optuna_integration\\sklearn.py:377: RuntimeWarning: Mean of empty slice\n",
      "  trial.set_user_attr(\"mean_{}\".format(name), np.nanmean(array))\n",
      "D:\\progs\\Anaconda\\Lib\\site-packages\\numpy\\lib\\nanfunctions.py:1872: RuntimeWarning: Degrees of freedom <= 0 for slice.\n",
      "  var = nanvar(a, axis=axis, dtype=dtype, out=out, ddof=ddof,\n",
      "[W 2024-08-11 15:36:19,522] Trial 30 failed with parameters: {'n_estimators': 150, 'num_leaves': 1, 'max_depth': 6} because of the following error: The value nan is not acceptable.\n",
      "[W 2024-08-11 15:36:19,522] Trial 30 failed with value nan.\n",
      "D:\\progs\\Anaconda\\Lib\\site-packages\\optuna_integration\\sklearn.py:377: RuntimeWarning: Mean of empty slice\n",
      "  trial.set_user_attr(\"mean_{}\".format(name), np.nanmean(array))\n",
      "D:\\progs\\Anaconda\\Lib\\site-packages\\numpy\\lib\\nanfunctions.py:1872: RuntimeWarning: Degrees of freedom <= 0 for slice.\n",
      "  var = nanvar(a, axis=axis, dtype=dtype, out=out, ddof=ddof,\n",
      "[W 2024-08-11 15:36:19,665] Trial 32 failed with parameters: {'n_estimators': 141, 'num_leaves': 1, 'max_depth': 5} because of the following error: The value nan is not acceptable.\n",
      "[W 2024-08-11 15:36:19,666] Trial 32 failed with value nan.\n",
      "[I 2024-08-11 15:36:19,787] Trial 20 finished with value: -1759.1630681645463 and parameters: {'n_estimators': 28, 'num_leaves': 12, 'max_depth': 9}. Best is trial 9 with value: -1614.3193081922338.\n",
      "D:\\progs\\Anaconda\\Lib\\site-packages\\optuna_integration\\sklearn.py:377: RuntimeWarning: Mean of empty slice\n",
      "  trial.set_user_attr(\"mean_{}\".format(name), np.nanmean(array))\n",
      "D:\\progs\\Anaconda\\Lib\\site-packages\\numpy\\lib\\nanfunctions.py:1872: RuntimeWarning: Degrees of freedom <= 0 for slice.\n",
      "  var = nanvar(a, axis=axis, dtype=dtype, out=out, ddof=ddof,\n",
      "[W 2024-08-11 15:36:19,903] Trial 34 failed with parameters: {'n_estimators': 141, 'num_leaves': 1, 'max_depth': 5} because of the following error: The value nan is not acceptable.\n",
      "[W 2024-08-11 15:36:19,904] Trial 34 failed with value nan.\n",
      "[W 2024-08-11 15:36:20,018] Trial 35 failed with parameters: {'n_estimators': 144, 'num_leaves': 1, 'max_depth': 5} because of the following error: The value nan is not acceptable.\n",
      "[W 2024-08-11 15:36:20,019] Trial 35 failed with value nan.\n",
      "[W 2024-08-11 15:36:20,139] Trial 36 failed with parameters: {'n_estimators': 149, 'num_leaves': 1, 'max_depth': 5} because of the following error: The value nan is not acceptable.\n",
      "[W 2024-08-11 15:36:20,140] Trial 36 failed with value nan.\n",
      "D:\\progs\\Anaconda\\Lib\\site-packages\\optuna_integration\\sklearn.py:377: RuntimeWarning: Mean of empty slice\n",
      "  trial.set_user_attr(\"mean_{}\".format(name), np.nanmean(array))\n",
      "D:\\progs\\Anaconda\\Lib\\site-packages\\numpy\\lib\\nanfunctions.py:1872: RuntimeWarning: Degrees of freedom <= 0 for slice.\n",
      "  var = nanvar(a, axis=axis, dtype=dtype, out=out, ddof=ddof,\n",
      "[W 2024-08-11 15:36:20,299] Trial 37 failed with parameters: {'n_estimators': 149, 'num_leaves': 1, 'max_depth': 5} because of the following error: The value nan is not acceptable.\n",
      "[W 2024-08-11 15:36:20,300] Trial 37 failed with value nan.\n",
      "[W 2024-08-11 15:36:20,419] Trial 38 failed with parameters: {'n_estimators': 140, 'num_leaves': 1, 'max_depth': 5} because of the following error: The value nan is not acceptable.\n",
      "[W 2024-08-11 15:36:20,420] Trial 38 failed with value nan.\n",
      "D:\\progs\\Anaconda\\Lib\\site-packages\\optuna_integration\\sklearn.py:377: RuntimeWarning: Mean of empty slice\n",
      "  trial.set_user_attr(\"mean_{}\".format(name), np.nanmean(array))\n",
      "D:\\progs\\Anaconda\\Lib\\site-packages\\numpy\\lib\\nanfunctions.py:1872: RuntimeWarning: Degrees of freedom <= 0 for slice.\n",
      "  var = nanvar(a, axis=axis, dtype=dtype, out=out, ddof=ddof,\n",
      "[W 2024-08-11 15:36:20,585] Trial 39 failed with parameters: {'n_estimators': 149, 'num_leaves': 1, 'max_depth': 5} because of the following error: The value nan is not acceptable.\n",
      "[W 2024-08-11 15:36:20,586] Trial 39 failed with value nan.\n",
      "[I 2024-08-11 15:36:21,622] Trial 2 finished with value: -1605.9893464199527 and parameters: {'n_estimators': 96, 'num_leaves': 12, 'max_depth': 3}. Best is trial 2 with value: -1605.9893464199527.\n",
      "[I 2024-08-11 15:36:22,187] Trial 23 finished with value: -1965.9823191369615 and parameters: {'n_estimators': 142, 'num_leaves': 2, 'max_depth': 1}. Best is trial 2 with value: -1605.9893464199527.\n",
      "[I 2024-08-11 15:36:23,021] Trial 4 finished with value: -1580.0103196913192 and parameters: {'n_estimators': 65, 'num_leaves': 14, 'max_depth': 4}. Best is trial 4 with value: -1580.0103196913192.\n",
      "[I 2024-08-11 15:36:27,943] Trial 40 finished with value: -1959.6967904498438 and parameters: {'n_estimators': 149, 'num_leaves': 2, 'max_depth': 5}. Best is trial 4 with value: -1580.0103196913192.\n",
      "[I 2024-08-11 15:36:29,325] Trial 19 finished with value: -1589.4011474301376 and parameters: {'n_estimators': 110, 'num_leaves': 20, 'max_depth': 3}. Best is trial 4 with value: -1580.0103196913192.\n",
      "[I 2024-08-11 15:36:30,633] Trial 22 finished with value: -1578.071679905405 and parameters: {'n_estimators': 98, 'num_leaves': 7, 'max_depth': -1}. Best is trial 22 with value: -1578.071679905405.\n",
      "[I 2024-08-11 15:36:33,592] Trial 10 finished with value: -1515.7747410884235 and parameters: {'n_estimators': 128, 'num_leaves': 10, 'max_depth': 6}. Best is trial 10 with value: -1515.7747410884235.\n",
      "[I 2024-08-11 15:36:33,983] Trial 41 finished with value: -1606.6545478713263 and parameters: {'n_estimators': 69, 'num_leaves': 8, 'max_depth': 6}. Best is trial 10 with value: -1515.7747410884235.\n",
      "[I 2024-08-11 15:36:34,395] Trial 11 finished with value: -1519.303092845145 and parameters: {'n_estimators': 134, 'num_leaves': 9, 'max_depth': 9}. Best is trial 10 with value: -1515.7747410884235.\n",
      "[I 2024-08-11 15:36:34,530] Trial 25 finished with value: -1562.8005557905733 and parameters: {'n_estimators': 65, 'num_leaves': 13, 'max_depth': 5}. Best is trial 10 with value: -1515.7747410884235.\n",
      "[I 2024-08-11 15:36:34,686] Trial 42 finished with value: -1600.959459432764 and parameters: {'n_estimators': 65, 'num_leaves': 9, 'max_depth': 5}. Best is trial 10 with value: -1515.7747410884235.\n",
      "[I 2024-08-11 15:36:34,798] Trial 21 finished with value: -1539.664440682876 and parameters: {'n_estimators': 88, 'num_leaves': 16, 'max_depth': 4}. Best is trial 10 with value: -1515.7747410884235.\n",
      "[I 2024-08-11 15:36:35,829] Trial 12 finished with value: -1501.6031672457418 and parameters: {'n_estimators': 90, 'num_leaves': 15, 'max_depth': 10}. Best is trial 12 with value: -1501.6031672457418.\n",
      "[I 2024-08-11 15:36:38,068] Trial 43 finished with value: -1579.685212331656 and parameters: {'n_estimators': 68, 'num_leaves': 10, 'max_depth': -1}. Best is trial 12 with value: -1501.6031672457418.\n",
      "[I 2024-08-11 15:36:42,249] Trial 44 finished with value: -1581.6347231647705 and parameters: {'n_estimators': 67, 'num_leaves': 10, 'max_depth': -1}. Best is trial 12 with value: -1501.6031672457418.\n",
      "[I 2024-08-11 15:36:43,890] Trial 46 finished with value: -1592.228843320198 and parameters: {'n_estimators': 68, 'num_leaves': 9, 'max_depth': -1}. Best is trial 12 with value: -1501.6031672457418.\n",
      "[I 2024-08-11 15:36:45,986] Trial 47 finished with value: -1600.3077032106098 and parameters: {'n_estimators': 64, 'num_leaves': 9, 'max_depth': -1}. Best is trial 12 with value: -1501.6031672457418.\n",
      "[I 2024-08-11 15:36:48,712] Trial 26 finished with value: -1502.2970374030344 and parameters: {'n_estimators': 147, 'num_leaves': 12, 'max_depth': 4}. Best is trial 12 with value: -1501.6031672457418.\n",
      "[I 2024-08-11 15:36:48,912] Trial 27 finished with value: -1499.1033461333495 and parameters: {'n_estimators': 144, 'num_leaves': 11, 'max_depth': 5}. Best is trial 27 with value: -1499.1033461333495.\n",
      "[I 2024-08-11 15:36:49,070] Trial 48 finished with value: -1579.8025673926722 and parameters: {'n_estimators': 75, 'num_leaves': 9, 'max_depth': -1}. Best is trial 27 with value: -1499.1033461333495.\n",
      "[I 2024-08-11 15:36:49,319] Trial 31 finished with value: -1507.1907132452761 and parameters: {'n_estimators': 145, 'num_leaves': 10, 'max_depth': 5}. Best is trial 27 with value: -1499.1033461333495.\n",
      "[I 2024-08-11 15:36:49,723] Trial 50 finished with value: -1567.0152884932108 and parameters: {'n_estimators': 67, 'num_leaves': 11, 'max_depth': 7}. Best is trial 27 with value: -1499.1033461333495.\n",
      "[I 2024-08-11 15:36:50,617] Trial 33 finished with value: -1496.8994682772122 and parameters: {'n_estimators': 148, 'num_leaves': 11, 'max_depth': 5}. Best is trial 33 with value: -1496.8994682772122.\n",
      "[I 2024-08-11 15:36:50,997] Trial 7 finished with value: -1466.6339935449605 and parameters: {'n_estimators': 115, 'num_leaves': 20, 'max_depth': 6}. Best is trial 7 with value: -1466.6339935449605.\n",
      "[I 2024-08-11 15:36:51,065] Trial 51 finished with value: -1559.0888075669527 and parameters: {'n_estimators': 80, 'num_leaves': 10, 'max_depth': 7}. Best is trial 7 with value: -1466.6339935449605.\n",
      "[I 2024-08-11 15:36:53,209] Trial 45 finished with value: -1523.3239977011624 and parameters: {'n_estimators': 70, 'num_leaves': 16, 'max_depth': -1}. Best is trial 7 with value: -1466.6339935449605.\n",
      "[I 2024-08-11 15:36:58,232] Trial 49 finished with value: -1520.111617346201 and parameters: {'n_estimators': 133, 'num_leaves': 9, 'max_depth': -1}. Best is trial 7 with value: -1466.6339935449605.\n",
      "[I 2024-08-11 15:37:00,826] Trial 52 finished with value: -1512.3755203439482 and parameters: {'n_estimators': 130, 'num_leaves': 10, 'max_depth': 7}. Best is trial 7 with value: -1466.6339935449605.\n",
      "[I 2024-08-11 15:37:01,838] Trial 53 finished with value: -1512.3755203439482 and parameters: {'n_estimators': 130, 'num_leaves': 10, 'max_depth': 7}. Best is trial 7 with value: -1466.6339935449605.\n",
      "[I 2024-08-11 15:37:06,898] Trial 54 finished with value: -1498.4206440975695 and parameters: {'n_estimators': 134, 'num_leaves': 11, 'max_depth': 7}. Best is trial 7 with value: -1466.6339935449605.\n",
      "[I 2024-08-11 15:37:11,363] Trial 66 finished with value: -1565.3904062745994 and parameters: {'n_estimators': 137, 'num_leaves': 12, 'max_depth': 3}. Best is trial 7 with value: -1466.6339935449605.\n",
      "[I 2024-08-11 15:37:13,615] Trial 56 finished with value: -1482.540081917687 and parameters: {'n_estimators': 108, 'num_leaves': 16, 'max_depth': 7}. Best is trial 7 with value: -1466.6339935449605.\n",
      "[I 2024-08-11 15:37:15,223] Trial 58 finished with value: -1498.4206440975695 and parameters: {'n_estimators': 134, 'num_leaves': 11, 'max_depth': 7}. Best is trial 7 with value: -1466.6339935449605.\n",
      "[I 2024-08-11 15:37:15,428] Trial 55 finished with value: -1488.392172268478 and parameters: {'n_estimators': 138, 'num_leaves': 12, 'max_depth': 7}. Best is trial 7 with value: -1466.6339935449605.\n",
      "[I 2024-08-11 15:37:15,953] Trial 57 finished with value: -1482.540081917687 and parameters: {'n_estimators': 108, 'num_leaves': 16, 'max_depth': 7}. Best is trial 7 with value: -1466.6339935449605.\n",
      "[I 2024-08-11 15:37:17,751] Trial 59 finished with value: -1493.6120261044532 and parameters: {'n_estimators': 129, 'num_leaves': 12, 'max_depth': 7}. Best is trial 7 with value: -1466.6339935449605.\n",
      "[I 2024-08-11 15:37:18,669] Trial 68 finished with value: -1563.3333120391774 and parameters: {'n_estimators': 140, 'num_leaves': 12, 'max_depth': 3}. Best is trial 7 with value: -1466.6339935449605.\n",
      "[I 2024-08-11 15:37:19,580] Trial 64 finished with value: -1488.00855124349 and parameters: {'n_estimators': 108, 'num_leaves': 15, 'max_depth': 7}. Best is trial 7 with value: -1466.6339935449605.\n",
      "[I 2024-08-11 15:37:19,734] Trial 61 finished with value: -1482.5435043579303 and parameters: {'n_estimators': 149, 'num_leaves': 12, 'max_depth': 7}. Best is trial 7 with value: -1466.6339935449605.\n",
      "[I 2024-08-11 15:37:19,838] Trial 60 finished with value: -1481.8878801936926 and parameters: {'n_estimators': 150, 'num_leaves': 12, 'max_depth': 7}. Best is trial 7 with value: -1466.6339935449605.\n",
      "[I 2024-08-11 15:37:20,073] Trial 69 finished with value: -1563.99815280021 and parameters: {'n_estimators': 139, 'num_leaves': 12, 'max_depth': 3}. Best is trial 7 with value: -1466.6339935449605.\n",
      "[I 2024-08-11 15:37:20,142] Trial 65 finished with value: -1486.2961516413134 and parameters: {'n_estimators': 103, 'num_leaves': 16, 'max_depth': 7}. Best is trial 7 with value: -1466.6339935449605.\n",
      "[I 2024-08-11 15:37:25,523] Trial 67 finished with value: -1487.8473575810485 and parameters: {'n_estimators': 139, 'num_leaves': 12, 'max_depth': 7}. Best is trial 7 with value: -1466.6339935449605.\n",
      "[I 2024-08-11 15:37:26,448] Trial 63 finished with value: -1468.4748482329542 and parameters: {'n_estimators': 140, 'num_leaves': 15, 'max_depth': 7}. Best is trial 7 with value: -1466.6339935449605.\n",
      "[I 2024-08-11 15:37:27,768] Trial 62 finished with value: -1463.935090819948 and parameters: {'n_estimators': 149, 'num_leaves': 15, 'max_depth': 7}. Best is trial 62 with value: -1463.935090819948.\n",
      "[I 2024-08-11 15:37:32,763] Trial 70 finished with value: -1490.5426803080054 and parameters: {'n_estimators': 110, 'num_leaves': 14, 'max_depth': 8}. Best is trial 62 with value: -1463.935090819948.\n",
      "[I 2024-08-11 15:37:36,912] Trial 71 finished with value: -1482.93372036339 and parameters: {'n_estimators': 121, 'num_leaves': 14, 'max_depth': 8}. Best is trial 62 with value: -1463.935090819948.\n",
      "[I 2024-08-11 15:37:43,507] Trial 72 finished with value: -1472.5715231960523 and parameters: {'n_estimators': 108, 'num_leaves': 18, 'max_depth': 8}. Best is trial 62 with value: -1463.935090819948.\n",
      "[I 2024-08-11 15:37:45,827] Trial 75 finished with value: -1470.8500877286142 and parameters: {'n_estimators': 106, 'num_leaves': 19, 'max_depth': 8}. Best is trial 62 with value: -1463.935090819948.\n",
      "[I 2024-08-11 15:37:46,844] Trial 79 finished with value: -1474.2118698515399 and parameters: {'n_estimators': 106, 'num_leaves': 18, 'max_depth': 8}. Best is trial 62 with value: -1463.935090819948.\n",
      "[I 2024-08-11 15:37:46,991] Trial 81 finished with value: -1474.2118698515399 and parameters: {'n_estimators': 106, 'num_leaves': 18, 'max_depth': 8}. Best is trial 62 with value: -1463.935090819948.\n",
      "[I 2024-08-11 15:37:47,619] Trial 76 finished with value: -1467.029771436274 and parameters: {'n_estimators': 111, 'num_leaves': 19, 'max_depth': 8}. Best is trial 62 with value: -1463.935090819948.\n",
      "[I 2024-08-11 15:37:48,148] Trial 80 finished with value: -1470.3852588855734 and parameters: {'n_estimators': 111, 'num_leaves': 18, 'max_depth': 8}. Best is trial 62 with value: -1463.935090819948.\n",
      "[I 2024-08-11 15:37:48,729] Trial 78 finished with value: -1468.277093754659 and parameters: {'n_estimators': 114, 'num_leaves': 18, 'max_depth': 8}. Best is trial 62 with value: -1463.935090819948.\n",
      "[I 2024-08-11 15:37:49,283] Trial 73 finished with value: -1464.8078567977666 and parameters: {'n_estimators': 120, 'num_leaves': 18, 'max_depth': 8}. Best is trial 62 with value: -1463.935090819948.\n",
      "[I 2024-08-11 15:37:49,986] Trial 74 finished with value: -1463.509527772043 and parameters: {'n_estimators': 122, 'num_leaves': 18, 'max_depth': 8}. Best is trial 74 with value: -1463.509527772043.\n",
      "[I 2024-08-11 15:37:50,307] Trial 82 finished with value: -1465.2848558343296 and parameters: {'n_estimators': 119, 'num_leaves': 18, 'max_depth': 8}. Best is trial 74 with value: -1463.509527772043.\n",
      "[I 2024-08-11 15:37:51,157] Trial 77 finished with value: -1464.2167064739256 and parameters: {'n_estimators': 121, 'num_leaves': 18, 'max_depth': 8}. Best is trial 74 with value: -1463.509527772043.\n",
      "[I 2024-08-11 15:37:55,250] Trial 84 finished with value: -1468.1584714213957 and parameters: {'n_estimators': 122, 'num_leaves': 17, 'max_depth': 8}. Best is trial 74 with value: -1463.509527772043.\n",
      "[I 2024-08-11 15:37:58,710] Trial 83 finished with value: -1462.1282533604076 and parameters: {'n_estimators': 120, 'num_leaves': 19, 'max_depth': 8}. Best is trial 83 with value: -1462.1282533604076.\n",
      "[I 2024-08-11 15:37:59,017] Trial 85 finished with value: -1464.8078567977666 and parameters: {'n_estimators': 120, 'num_leaves': 18, 'max_depth': 8}. Best is trial 83 with value: -1462.1282533604076.\n",
      "[I 2024-08-11 15:38:03,630] Trial 86 finished with value: -1462.990269484804 and parameters: {'n_estimators': 123, 'num_leaves': 18, 'max_depth': 8}. Best is trial 83 with value: -1462.1282533604076.\n",
      "[I 2024-08-11 15:38:06,049] Trial 87 finished with value: -1466.5045134356158 and parameters: {'n_estimators': 117, 'num_leaves': 18, 'max_depth': 8}. Best is trial 83 with value: -1462.1282533604076.\n",
      "[I 2024-08-11 15:38:10,335] Trial 88 finished with value: -1464.7160595676355 and parameters: {'n_estimators': 115, 'num_leaves': 19, 'max_depth': 8}. Best is trial 83 with value: -1462.1282533604076.\n",
      "[I 2024-08-11 15:38:12,887] Trial 91 finished with value: -1463.668514000488 and parameters: {'n_estimators': 117, 'num_leaves': 19, 'max_depth': 8}. Best is trial 83 with value: -1462.1282533604076.\n",
      "[I 2024-08-11 15:38:12,970] Trial 92 finished with value: -1464.7160595676355 and parameters: {'n_estimators': 115, 'num_leaves': 19, 'max_depth': 8}. Best is trial 83 with value: -1462.1282533604076.\n",
      "[I 2024-08-11 15:38:13,218] Trial 89 finished with value: -1459.7679877102187 and parameters: {'n_estimators': 124, 'num_leaves': 19, 'max_depth': 8}. Best is trial 89 with value: -1459.7679877102187.\n",
      "[I 2024-08-11 15:38:13,920] Trial 94 finished with value: -1463.5739796695736 and parameters: {'n_estimators': 116, 'num_leaves': 19, 'max_depth': 9}. Best is trial 89 with value: -1459.7679877102187.\n",
      "[I 2024-08-11 15:38:14,176] Trial 95 finished with value: -1463.5739796695736 and parameters: {'n_estimators': 116, 'num_leaves': 19, 'max_depth': 9}. Best is trial 89 with value: -1459.7679877102187.\n",
      "[I 2024-08-11 15:38:14,376] Trial 90 finished with value: -1459.7679877102187 and parameters: {'n_estimators': 124, 'num_leaves': 19, 'max_depth': 8}. Best is trial 89 with value: -1459.7679877102187.\n",
      "[I 2024-08-11 15:38:14,614] Trial 98 finished with value: -1464.2684391530565 and parameters: {'n_estimators': 115, 'num_leaves': 19, 'max_depth': 9}. Best is trial 89 with value: -1459.7679877102187.\n",
      "[I 2024-08-11 15:38:14,770] Trial 93 finished with value: -1463.5739796695736 and parameters: {'n_estimators': 116, 'num_leaves': 19, 'max_depth': 9}. Best is trial 89 with value: -1459.7679877102187.\n",
      "[I 2024-08-11 15:38:14,803] Trial 96 finished with value: -1464.2684391530565 and parameters: {'n_estimators': 115, 'num_leaves': 19, 'max_depth': 9}. Best is trial 89 with value: -1459.7679877102187.\n",
      "[I 2024-08-11 15:38:15,128] Trial 97 finished with value: -1459.517425060529 and parameters: {'n_estimators': 123, 'num_leaves': 19, 'max_depth': 9}. Best is trial 97 with value: -1459.517425060529.\n",
      "[I 2024-08-11 15:38:15,517] Trial 99 finished with value: -1458.7703651301606 and parameters: {'n_estimators': 124, 'num_leaves': 19, 'max_depth': 9}. Best is trial 99 with value: -1458.7703651301606.\n"
     ]
    },
    {
     "name": "stdout",
     "output_type": "stream",
     "text": [
      "[LightGBM] [Info] Auto-choosing row-wise multi-threading, the overhead of testing was 0.004373 seconds.\n",
      "You can set `force_row_wise=true` to remove the overhead.\n",
      "And if memory is not enough, you can set `force_col_wise=true`.\n",
      "[LightGBM] [Info] Total Bins 528\n",
      "[LightGBM] [Info] Number of data points in the train set: 146484, number of used features: 9\n",
      "[LightGBM] [Info] Start training from score 4653.254963\n",
      "CPU times: total: 8min 29s\n",
      "Wall time: 2min 13s\n"
     ]
    },
    {
     "data": {
      "text/html": [
       "<style>#sk-container-id-2 {color: black;background-color: white;}#sk-container-id-2 pre{padding: 0;}#sk-container-id-2 div.sk-toggleable {background-color: white;}#sk-container-id-2 label.sk-toggleable__label {cursor: pointer;display: block;width: 100%;margin-bottom: 0;padding: 0.3em;box-sizing: border-box;text-align: center;}#sk-container-id-2 label.sk-toggleable__label-arrow:before {content: \"▸\";float: left;margin-right: 0.25em;color: #696969;}#sk-container-id-2 label.sk-toggleable__label-arrow:hover:before {color: black;}#sk-container-id-2 div.sk-estimator:hover label.sk-toggleable__label-arrow:before {color: black;}#sk-container-id-2 div.sk-toggleable__content {max-height: 0;max-width: 0;overflow: hidden;text-align: left;background-color: #f0f8ff;}#sk-container-id-2 div.sk-toggleable__content pre {margin: 0.2em;color: black;border-radius: 0.25em;background-color: #f0f8ff;}#sk-container-id-2 input.sk-toggleable__control:checked~div.sk-toggleable__content {max-height: 200px;max-width: 100%;overflow: auto;}#sk-container-id-2 input.sk-toggleable__control:checked~label.sk-toggleable__label-arrow:before {content: \"▾\";}#sk-container-id-2 div.sk-estimator input.sk-toggleable__control:checked~label.sk-toggleable__label {background-color: #d4ebff;}#sk-container-id-2 div.sk-label input.sk-toggleable__control:checked~label.sk-toggleable__label {background-color: #d4ebff;}#sk-container-id-2 input.sk-hidden--visually {border: 0;clip: rect(1px 1px 1px 1px);clip: rect(1px, 1px, 1px, 1px);height: 1px;margin: -1px;overflow: hidden;padding: 0;position: absolute;width: 1px;}#sk-container-id-2 div.sk-estimator {font-family: monospace;background-color: #f0f8ff;border: 1px dotted black;border-radius: 0.25em;box-sizing: border-box;margin-bottom: 0.5em;}#sk-container-id-2 div.sk-estimator:hover {background-color: #d4ebff;}#sk-container-id-2 div.sk-parallel-item::after {content: \"\";width: 100%;border-bottom: 1px solid gray;flex-grow: 1;}#sk-container-id-2 div.sk-label:hover label.sk-toggleable__label {background-color: #d4ebff;}#sk-container-id-2 div.sk-serial::before {content: \"\";position: absolute;border-left: 1px solid gray;box-sizing: border-box;top: 0;bottom: 0;left: 50%;z-index: 0;}#sk-container-id-2 div.sk-serial {display: flex;flex-direction: column;align-items: center;background-color: white;padding-right: 0.2em;padding-left: 0.2em;position: relative;}#sk-container-id-2 div.sk-item {position: relative;z-index: 1;}#sk-container-id-2 div.sk-parallel {display: flex;align-items: stretch;justify-content: center;background-color: white;position: relative;}#sk-container-id-2 div.sk-item::before, #sk-container-id-2 div.sk-parallel-item::before {content: \"\";position: absolute;border-left: 1px solid gray;box-sizing: border-box;top: 0;bottom: 0;left: 50%;z-index: -1;}#sk-container-id-2 div.sk-parallel-item {display: flex;flex-direction: column;z-index: 1;position: relative;background-color: white;}#sk-container-id-2 div.sk-parallel-item:first-child::after {align-self: flex-end;width: 50%;}#sk-container-id-2 div.sk-parallel-item:last-child::after {align-self: flex-start;width: 50%;}#sk-container-id-2 div.sk-parallel-item:only-child::after {width: 0;}#sk-container-id-2 div.sk-dashed-wrapped {border: 1px dashed gray;margin: 0 0.4em 0.5em 0.4em;box-sizing: border-box;padding-bottom: 0.4em;background-color: white;}#sk-container-id-2 div.sk-label label {font-family: monospace;font-weight: bold;display: inline-block;line-height: 1.2em;}#sk-container-id-2 div.sk-label-container {text-align: center;}#sk-container-id-2 div.sk-container {/* jupyter's `normalize.less` sets `[hidden] { display: none; }` but bootstrap.min.css set `[hidden] { display: none !important; }` so we also need the `!important` here to be able to override the default hidden behavior on the sphinx rendered scikit-learn.org. See: https://github.com/scikit-learn/scikit-learn/issues/21755 */display: inline-block !important;position: relative;}#sk-container-id-2 div.sk-text-repr-fallback {display: none;}</style><div id=\"sk-container-id-2\" class=\"sk-top-container\"><div class=\"sk-text-repr-fallback\"><pre>OptunaSearchCV(cv=5, estimator=LGBMRegressor(random_state=0), n_jobs=-1,\n",
       "               n_trials=100,\n",
       "               param_distributions={&#x27;max_depth&#x27;: IntDistribution(high=10, log=False, low=-1, step=1),\n",
       "                                    &#x27;n_estimators&#x27;: IntDistribution(high=150, log=False, low=10, step=1),\n",
       "                                    &#x27;num_leaves&#x27;: IntDistribution(high=20, log=False, low=1, step=1)},\n",
       "               random_state=0, scoring=&#x27;neg_root_mean_squared_error&#x27;)</pre><b>In a Jupyter environment, please rerun this cell to show the HTML representation or trust the notebook. <br />On GitHub, the HTML representation is unable to render, please try loading this page with nbviewer.org.</b></div><div class=\"sk-container\" hidden><div class=\"sk-item sk-dashed-wrapped\"><div class=\"sk-label-container\"><div class=\"sk-label sk-toggleable\"><input class=\"sk-toggleable__control sk-hidden--visually\" id=\"sk-estimator-id-2\" type=\"checkbox\" ><label for=\"sk-estimator-id-2\" class=\"sk-toggleable__label sk-toggleable__label-arrow\">OptunaSearchCV</label><div class=\"sk-toggleable__content\"><pre>OptunaSearchCV(cv=5, estimator=LGBMRegressor(random_state=0), n_jobs=-1,\n",
       "               n_trials=100,\n",
       "               param_distributions={&#x27;max_depth&#x27;: IntDistribution(high=10, log=False, low=-1, step=1),\n",
       "                                    &#x27;n_estimators&#x27;: IntDistribution(high=150, log=False, low=10, step=1),\n",
       "                                    &#x27;num_leaves&#x27;: IntDistribution(high=20, log=False, low=1, step=1)},\n",
       "               random_state=0, scoring=&#x27;neg_root_mean_squared_error&#x27;)</pre></div></div></div><div class=\"sk-parallel\"><div class=\"sk-parallel-item\"><div class=\"sk-item\"><div class=\"sk-label-container\"><div class=\"sk-label sk-toggleable\"><input class=\"sk-toggleable__control sk-hidden--visually\" id=\"sk-estimator-id-3\" type=\"checkbox\" ><label for=\"sk-estimator-id-3\" class=\"sk-toggleable__label sk-toggleable__label-arrow\">estimator: LGBMRegressor</label><div class=\"sk-toggleable__content\"><pre>LGBMRegressor(random_state=0)</pre></div></div></div><div class=\"sk-serial\"><div class=\"sk-item\"><div class=\"sk-estimator sk-toggleable\"><input class=\"sk-toggleable__control sk-hidden--visually\" id=\"sk-estimator-id-4\" type=\"checkbox\" ><label for=\"sk-estimator-id-4\" class=\"sk-toggleable__label sk-toggleable__label-arrow\">LGBMRegressor</label><div class=\"sk-toggleable__content\"><pre>LGBMRegressor(random_state=0)</pre></div></div></div></div></div></div></div></div></div></div>"
      ],
      "text/plain": [
       "OptunaSearchCV(cv=5, estimator=LGBMRegressor(random_state=0), n_jobs=-1,\n",
       "               n_trials=100,\n",
       "               param_distributions={'max_depth': IntDistribution(high=10, log=False, low=-1, step=1),\n",
       "                                    'n_estimators': IntDistribution(high=150, log=False, low=10, step=1),\n",
       "                                    'num_leaves': IntDistribution(high=20, log=False, low=1, step=1)},\n",
       "               random_state=0, scoring='neg_root_mean_squared_error')"
      ]
     },
     "execution_count": 84,
     "metadata": {},
     "output_type": "execute_result"
    }
   ],
   "source": [
    "%%time\n",
    "lgbm_optuna.fit(X_train, y_train)"
   ]
  },
  {
   "cell_type": "code",
   "execution_count": 85,
   "metadata": {},
   "outputs": [
    {
     "name": "stdout",
     "output_type": "stream",
     "text": [
      "Лучший результат RMSE: 1458.77\n"
     ]
    }
   ],
   "source": [
    "print(f'Лучший результат RMSE: {(lgbm_best_score := abs(lgbm_optuna.best_score_)):.2f}')"
   ]
  },
  {
   "cell_type": "code",
   "execution_count": 86,
   "metadata": {},
   "outputs": [],
   "source": [
    "lgbm_best_model = lgbm_optuna.best_estimator_"
   ]
  },
  {
   "cell_type": "markdown",
   "metadata": {},
   "source": [
    "Сохраняю лучшую модель"
   ]
  },
  {
   "cell_type": "code",
   "execution_count": 88,
   "metadata": {},
   "outputs": [
    {
     "name": "stdout",
     "output_type": "stream",
     "text": [
      "[LightGBM] [Info] Auto-choosing row-wise multi-threading, the overhead of testing was 0.004310 seconds.\n",
      "You can set `force_row_wise=true` to remove the overhead.\n",
      "And if memory is not enough, you can set `force_col_wise=true`.\n",
      "[LightGBM] [Info] Total Bins 528\n",
      "[LightGBM] [Info] Number of data points in the train set: 146484, number of used features: 9\n",
      "[LightGBM] [Info] Start training from score 4653.254963\n",
      "Лучшая модель:\n",
      "\n",
      "Время обучения 0.47 сек.\n",
      "Время предсказания 0.31 сек.\n",
      "RMSE: 1458.77\n",
      "\n"
     ]
    }
   ],
   "source": [
    "t_start = time()\n",
    "lgbm_best_model.fit(X_train, y_train)\n",
    "t_end = time()\n",
    "\n",
    "lgbm_best_model_fit_time = t_end - t_start\n",
    "\n",
    "t_start = time()\n",
    "lgbm_best_model.predict(X_train)\n",
    "t_end = time()\n",
    "\n",
    "lgbm_best_model_predict_time = t_end - t_start\n",
    "print(f'''Лучшая модель:\n",
    "\n",
    "Время обучения {lgbm_best_model_fit_time:.2f} сек.\n",
    "Время предсказания {lgbm_best_model_predict_time:.2f} сек.\n",
    "RMSE: {lgbm_best_score:.2f}\n",
    "''')"
   ]
  },
  {
   "cell_type": "markdown",
   "metadata": {},
   "source": [
    "### Дерево"
   ]
  },
  {
   "cell_type": "code",
   "execution_count": 90,
   "metadata": {},
   "outputs": [
    {
     "name": "stdout",
     "output_type": "stream",
     "text": [
      "CPU times: total: 688 ms\n",
      "Wall time: 517 ms\n"
     ]
    },
    {
     "data": {
      "text/html": [
       "<style>#sk-container-id-3 {color: black;background-color: white;}#sk-container-id-3 pre{padding: 0;}#sk-container-id-3 div.sk-toggleable {background-color: white;}#sk-container-id-3 label.sk-toggleable__label {cursor: pointer;display: block;width: 100%;margin-bottom: 0;padding: 0.3em;box-sizing: border-box;text-align: center;}#sk-container-id-3 label.sk-toggleable__label-arrow:before {content: \"▸\";float: left;margin-right: 0.25em;color: #696969;}#sk-container-id-3 label.sk-toggleable__label-arrow:hover:before {color: black;}#sk-container-id-3 div.sk-estimator:hover label.sk-toggleable__label-arrow:before {color: black;}#sk-container-id-3 div.sk-toggleable__content {max-height: 0;max-width: 0;overflow: hidden;text-align: left;background-color: #f0f8ff;}#sk-container-id-3 div.sk-toggleable__content pre {margin: 0.2em;color: black;border-radius: 0.25em;background-color: #f0f8ff;}#sk-container-id-3 input.sk-toggleable__control:checked~div.sk-toggleable__content {max-height: 200px;max-width: 100%;overflow: auto;}#sk-container-id-3 input.sk-toggleable__control:checked~label.sk-toggleable__label-arrow:before {content: \"▾\";}#sk-container-id-3 div.sk-estimator input.sk-toggleable__control:checked~label.sk-toggleable__label {background-color: #d4ebff;}#sk-container-id-3 div.sk-label input.sk-toggleable__control:checked~label.sk-toggleable__label {background-color: #d4ebff;}#sk-container-id-3 input.sk-hidden--visually {border: 0;clip: rect(1px 1px 1px 1px);clip: rect(1px, 1px, 1px, 1px);height: 1px;margin: -1px;overflow: hidden;padding: 0;position: absolute;width: 1px;}#sk-container-id-3 div.sk-estimator {font-family: monospace;background-color: #f0f8ff;border: 1px dotted black;border-radius: 0.25em;box-sizing: border-box;margin-bottom: 0.5em;}#sk-container-id-3 div.sk-estimator:hover {background-color: #d4ebff;}#sk-container-id-3 div.sk-parallel-item::after {content: \"\";width: 100%;border-bottom: 1px solid gray;flex-grow: 1;}#sk-container-id-3 div.sk-label:hover label.sk-toggleable__label {background-color: #d4ebff;}#sk-container-id-3 div.sk-serial::before {content: \"\";position: absolute;border-left: 1px solid gray;box-sizing: border-box;top: 0;bottom: 0;left: 50%;z-index: 0;}#sk-container-id-3 div.sk-serial {display: flex;flex-direction: column;align-items: center;background-color: white;padding-right: 0.2em;padding-left: 0.2em;position: relative;}#sk-container-id-3 div.sk-item {position: relative;z-index: 1;}#sk-container-id-3 div.sk-parallel {display: flex;align-items: stretch;justify-content: center;background-color: white;position: relative;}#sk-container-id-3 div.sk-item::before, #sk-container-id-3 div.sk-parallel-item::before {content: \"\";position: absolute;border-left: 1px solid gray;box-sizing: border-box;top: 0;bottom: 0;left: 50%;z-index: -1;}#sk-container-id-3 div.sk-parallel-item {display: flex;flex-direction: column;z-index: 1;position: relative;background-color: white;}#sk-container-id-3 div.sk-parallel-item:first-child::after {align-self: flex-end;width: 50%;}#sk-container-id-3 div.sk-parallel-item:last-child::after {align-self: flex-start;width: 50%;}#sk-container-id-3 div.sk-parallel-item:only-child::after {width: 0;}#sk-container-id-3 div.sk-dashed-wrapped {border: 1px dashed gray;margin: 0 0.4em 0.5em 0.4em;box-sizing: border-box;padding-bottom: 0.4em;background-color: white;}#sk-container-id-3 div.sk-label label {font-family: monospace;font-weight: bold;display: inline-block;line-height: 1.2em;}#sk-container-id-3 div.sk-label-container {text-align: center;}#sk-container-id-3 div.sk-container {/* jupyter's `normalize.less` sets `[hidden] { display: none; }` but bootstrap.min.css set `[hidden] { display: none !important; }` so we also need the `!important` here to be able to override the default hidden behavior on the sphinx rendered scikit-learn.org. See: https://github.com/scikit-learn/scikit-learn/issues/21755 */display: inline-block !important;position: relative;}#sk-container-id-3 div.sk-text-repr-fallback {display: none;}</style><div id=\"sk-container-id-3\" class=\"sk-top-container\"><div class=\"sk-text-repr-fallback\"><pre>DecisionTreeRegressor(random_state=0)</pre><b>In a Jupyter environment, please rerun this cell to show the HTML representation or trust the notebook. <br />On GitHub, the HTML representation is unable to render, please try loading this page with nbviewer.org.</b></div><div class=\"sk-container\" hidden><div class=\"sk-item\"><div class=\"sk-estimator sk-toggleable\"><input class=\"sk-toggleable__control sk-hidden--visually\" id=\"sk-estimator-id-5\" type=\"checkbox\" checked><label for=\"sk-estimator-id-5\" class=\"sk-toggleable__label sk-toggleable__label-arrow\">DecisionTreeRegressor</label><div class=\"sk-toggleable__content\"><pre>DecisionTreeRegressor(random_state=0)</pre></div></div></div></div></div>"
      ],
      "text/plain": [
       "DecisionTreeRegressor(random_state=0)"
      ]
     },
     "execution_count": 90,
     "metadata": {},
     "output_type": "execute_result"
    }
   ],
   "source": [
    "%%time\n",
    "tree = DecisionTreeRegressor(random_state = RANDOM_STATE)\n",
    "tree.fit(X_train, y_train)\n"
   ]
  },
  {
   "cell_type": "markdown",
   "metadata": {},
   "source": [
    "Дерево, что логично, обучается быстрее градиентного бустинга который по своей сути является ансамблем деревьев. ."
   ]
  },
  {
   "cell_type": "markdown",
   "metadata": {},
   "source": [
    "#### Дерево с оптимизацией гиперпараметров"
   ]
  },
  {
   "cell_type": "code",
   "execution_count": 93,
   "metadata": {
    "scrolled": true
   },
   "outputs": [
    {
     "name": "stderr",
     "output_type": "stream",
     "text": [
      "C:\\Users\\user\\AppData\\Local\\Temp\\ipykernel_5504\\2901186378.py:7: ExperimentalWarning: OptunaSearchCV is experimental (supported from v0.17.0). The interface can change in the future.\n",
      "  tree_optuna = OptunaSearchCV(\n"
     ]
    }
   ],
   "source": [
    "param_dist = {\n",
    "    'min_samples_split': distributions.IntDistribution(2, 20),\n",
    "    'min_samples_leaf': distributions.IntDistribution(1, 20),\n",
    "    'max_depth': distributions.IntDistribution(2, 10),\n",
    "    'max_features': distributions.IntDistribution(2, 10)\n",
    "}\n",
    "tree_optuna = OptunaSearchCV(\n",
    "    DecisionTreeRegressor(random_state=RANDOM_STATE),\n",
    "    param_dist,\n",
    "    cv = 5,\n",
    "    random_state=RANDOM_STATE,\n",
    "    n_jobs=-1,\n",
    "    scoring = 'neg_root_mean_squared_error',\n",
    "    n_trials=100\n",
    "    \n",
    ")"
   ]
  },
  {
   "cell_type": "code",
   "execution_count": 94,
   "metadata": {
    "scrolled": true
   },
   "outputs": [
    {
     "name": "stderr",
     "output_type": "stream",
     "text": [
      "[I 2024-08-11 15:38:17,459] A new study created in memory with name: no-name-1ffce523-4907-46fd-9a5f-8eb8e7842c10\n",
      "[I 2024-08-11 15:38:18,586] Trial 8 finished with value: -2438.5512689740854 and parameters: {'min_samples_split': 8, 'min_samples_leaf': 3, 'max_depth': 3, 'max_features': 3}. Best is trial 8 with value: -2438.5512689740854.\n",
      "[I 2024-08-11 15:38:18,958] Trial 4 finished with value: -2013.859795680696 and parameters: {'min_samples_split': 12, 'min_samples_leaf': 18, 'max_depth': 6, 'max_features': 3}. Best is trial 4 with value: -2013.859795680696.\n",
      "[I 2024-08-11 15:38:18,975] Trial 12 finished with value: -2670.5891027623065 and parameters: {'min_samples_split': 7, 'min_samples_leaf': 1, 'max_depth': 2, 'max_features': 3}. Best is trial 4 with value: -2013.859795680696.\n",
      "[I 2024-08-11 15:38:19,012] Trial 5 finished with value: -2419.209318127613 and parameters: {'min_samples_split': 17, 'min_samples_leaf': 6, 'max_depth': 3, 'max_features': 6}. Best is trial 4 with value: -2013.859795680696.\n",
      "[I 2024-08-11 15:38:19,117] Trial 15 finished with value: -2353.181511621819 and parameters: {'min_samples_split': 10, 'min_samples_leaf': 6, 'max_depth': 3, 'max_features': 7}. Best is trial 4 with value: -2013.859795680696.\n",
      "[I 2024-08-11 15:38:19,495] Trial 16 finished with value: -3064.085386419608 and parameters: {'min_samples_split': 14, 'min_samples_leaf': 2, 'max_depth': 4, 'max_features': 2}. Best is trial 4 with value: -2013.859795680696.\n",
      "[I 2024-08-11 15:38:19,679] Trial 3 finished with value: -2353.181511621819 and parameters: {'min_samples_split': 19, 'min_samples_leaf': 6, 'max_depth': 3, 'max_features': 7}. Best is trial 4 with value: -2013.859795680696.\n",
      "[I 2024-08-11 15:38:20,026] Trial 6 finished with value: -2030.1793730452105 and parameters: {'min_samples_split': 3, 'min_samples_leaf': 10, 'max_depth': 5, 'max_features': 10}. Best is trial 4 with value: -2013.859795680696.\n",
      "[I 2024-08-11 15:38:20,046] Trial 7 finished with value: -2030.1793730452105 and parameters: {'min_samples_split': 15, 'min_samples_leaf': 5, 'max_depth': 5, 'max_features': 9}. Best is trial 4 with value: -2013.859795680696.\n",
      "[I 2024-08-11 15:38:20,052] Trial 2 finished with value: -2003.0189915902888 and parameters: {'min_samples_split': 14, 'min_samples_leaf': 18, 'max_depth': 6, 'max_features': 4}. Best is trial 2 with value: -2003.0189915902888.\n",
      "[I 2024-08-11 15:38:20,421] Trial 9 finished with value: -1692.9864872208323 and parameters: {'min_samples_split': 16, 'min_samples_leaf': 8, 'max_depth': 10, 'max_features': 6}. Best is trial 9 with value: -1692.9864872208323.\n",
      "[I 2024-08-11 15:38:20,454] Trial 1 finished with value: -1771.6295567944883 and parameters: {'min_samples_split': 19, 'min_samples_leaf': 8, 'max_depth': 10, 'max_features': 3}. Best is trial 9 with value: -1692.9864872208323.\n",
      "[I 2024-08-11 15:38:20,477] Trial 13 finished with value: -1780.2986551704794 and parameters: {'min_samples_split': 18, 'min_samples_leaf': 11, 'max_depth': 10, 'max_features': 3}. Best is trial 9 with value: -1692.9864872208323.\n",
      "[I 2024-08-11 15:38:20,844] Trial 20 finished with value: -2569.104324186404 and parameters: {'min_samples_split': 16, 'min_samples_leaf': 20, 'max_depth': 7, 'max_features': 2}. Best is trial 9 with value: -1692.9864872208323.\n",
      "[I 2024-08-11 15:38:21,368] Trial 10 finished with value: -1737.1388401415074 and parameters: {'min_samples_split': 14, 'min_samples_leaf': 4, 'max_depth': 9, 'max_features': 6}. Best is trial 9 with value: -1692.9864872208323.\n",
      "[I 2024-08-11 15:38:21,671] Trial 0 finished with value: -1851.7120219613607 and parameters: {'min_samples_split': 9, 'min_samples_leaf': 11, 'max_depth': 7, 'max_features': 10}. Best is trial 9 with value: -1692.9864872208323.\n",
      "[I 2024-08-11 15:38:21,985] Trial 22 finished with value: -2317.3703847172123 and parameters: {'min_samples_split': 15, 'min_samples_leaf': 8, 'max_depth': 3, 'max_features': 10}. Best is trial 9 with value: -1692.9864872208323.\n",
      "[I 2024-08-11 15:38:22,130] Trial 14 finished with value: -1725.2952659373082 and parameters: {'min_samples_split': 15, 'min_samples_leaf': 2, 'max_depth': 9, 'max_features': 9}. Best is trial 9 with value: -1692.9864872208323.\n",
      "[I 2024-08-11 15:38:22,204] Trial 17 finished with value: -1692.9864872208323 and parameters: {'min_samples_split': 4, 'min_samples_leaf': 8, 'max_depth': 10, 'max_features': 6}. Best is trial 9 with value: -1692.9864872208323.\n",
      "[I 2024-08-11 15:38:22,213] Trial 21 finished with value: -1886.2585983565168 and parameters: {'min_samples_split': 3, 'min_samples_leaf': 3, 'max_depth': 7, 'max_features': 6}. Best is trial 9 with value: -1692.9864872208323.\n",
      "[I 2024-08-11 15:38:22,460] Trial 18 finished with value: -1854.548051218281 and parameters: {'min_samples_split': 4, 'min_samples_leaf': 12, 'max_depth': 7, 'max_features': 8}. Best is trial 9 with value: -1692.9864872208323.\n",
      "[I 2024-08-11 15:38:22,853] Trial 11 finished with value: -1723.9772742680711 and parameters: {'min_samples_split': 20, 'min_samples_leaf': 19, 'max_depth': 9, 'max_features': 10}. Best is trial 9 with value: -1692.9864872208323.\n",
      "[I 2024-08-11 15:38:23,061] Trial 24 finished with value: -1756.8245419401803 and parameters: {'min_samples_split': 20, 'min_samples_leaf': 20, 'max_depth': 9, 'max_features': 5}. Best is trial 9 with value: -1692.9864872208323.\n",
      "[I 2024-08-11 15:38:23,112] Trial 23 finished with value: -1756.8245419401803 and parameters: {'min_samples_split': 3, 'min_samples_leaf': 20, 'max_depth': 9, 'max_features': 5}. Best is trial 9 with value: -1692.9864872208323.\n",
      "[I 2024-08-11 15:38:23,688] Trial 19 finished with value: -1794.7744644526963 and parameters: {'min_samples_split': 17, 'min_samples_leaf': 8, 'max_depth': 8, 'max_features': 7}. Best is trial 9 with value: -1692.9864872208323.\n",
      "[I 2024-08-11 15:38:23,822] Trial 26 finished with value: -1706.2486783565132 and parameters: {'min_samples_split': 20, 'min_samples_leaf': 12, 'max_depth': 10, 'max_features': 5}. Best is trial 9 with value: -1692.9864872208323.\n",
      "[I 2024-08-11 15:38:24,024] Trial 25 finished with value: -1756.8245419401803 and parameters: {'min_samples_split': 20, 'min_samples_leaf': 20, 'max_depth': 9, 'max_features': 5}. Best is trial 9 with value: -1692.9864872208323.\n",
      "[I 2024-08-11 15:38:24,100] Trial 29 finished with value: -1706.8457152797685 and parameters: {'min_samples_split': 20, 'min_samples_leaf': 11, 'max_depth': 10, 'max_features': 5}. Best is trial 9 with value: -1692.9864872208323.\n",
      "[I 2024-08-11 15:38:24,287] Trial 27 finished with value: -1706.8457152797685 and parameters: {'min_samples_split': 19, 'min_samples_leaf': 11, 'max_depth': 10, 'max_features': 5}. Best is trial 9 with value: -1692.9864872208323.\n",
      "[I 2024-08-11 15:38:24,392] Trial 30 finished with value: -1818.7130723538987 and parameters: {'min_samples_split': 12, 'min_samples_leaf': 13, 'max_depth': 8, 'max_features': 5}. Best is trial 9 with value: -1692.9864872208323.\n",
      "[I 2024-08-11 15:38:24,530] Trial 28 finished with value: -1706.8457152797685 and parameters: {'min_samples_split': 20, 'min_samples_leaf': 11, 'max_depth': 10, 'max_features': 5}. Best is trial 9 with value: -1692.9864872208323.\n",
      "[I 2024-08-11 15:38:24,591] Trial 35 finished with value: -1756.1709947078743 and parameters: {'min_samples_split': 6, 'min_samples_leaf': 14, 'max_depth': 9, 'max_features': 5}. Best is trial 9 with value: -1692.9864872208323.\n",
      "[I 2024-08-11 15:38:24,873] Trial 34 finished with value: -1756.1709947078743 and parameters: {'min_samples_split': 12, 'min_samples_leaf': 14, 'max_depth': 9, 'max_features': 5}. Best is trial 9 with value: -1692.9864872208323.\n",
      "[I 2024-08-11 15:38:24,900] Trial 33 finished with value: -1756.1709947078743 and parameters: {'min_samples_split': 6, 'min_samples_leaf': 14, 'max_depth': 9, 'max_features': 5}. Best is trial 9 with value: -1692.9864872208323.\n",
      "[I 2024-08-11 15:38:25,211] Trial 32 finished with value: -1756.1709947078743 and parameters: {'min_samples_split': 12, 'min_samples_leaf': 14, 'max_depth': 9, 'max_features': 5}. Best is trial 9 with value: -1692.9864872208323.\n",
      "[I 2024-08-11 15:38:25,602] Trial 36 finished with value: -1756.1709947078743 and parameters: {'min_samples_split': 12, 'min_samples_leaf': 14, 'max_depth': 9, 'max_features': 5}. Best is trial 9 with value: -1692.9864872208323.\n",
      "[I 2024-08-11 15:38:25,772] Trial 31 finished with value: -1759.9958124220036 and parameters: {'min_samples_split': 12, 'min_samples_leaf': 13, 'max_depth': 9, 'max_features': 5}. Best is trial 9 with value: -1692.9864872208323.\n",
      "[I 2024-08-11 15:38:26,242] Trial 43 finished with value: -1851.487781984526 and parameters: {'min_samples_split': 6, 'min_samples_leaf': 13, 'max_depth': 8, 'max_features': 4}. Best is trial 9 with value: -1692.9864872208323.\n",
      "[I 2024-08-11 15:38:26,403] Trial 41 finished with value: -1709.4090231382156 and parameters: {'min_samples_split': 6, 'min_samples_leaf': 14, 'max_depth': 10, 'max_features': 5}. Best is trial 9 with value: -1692.9864872208323.\n",
      "[I 2024-08-11 15:38:26,641] Trial 37 finished with value: -1752.4391667180457 and parameters: {'min_samples_split': 6, 'min_samples_leaf': 15, 'max_depth': 9, 'max_features': 5}. Best is trial 9 with value: -1692.9864872208323.\n",
      "[I 2024-08-11 15:38:26,788] Trial 39 finished with value: -1686.9201989926776 and parameters: {'min_samples_split': 6, 'min_samples_leaf': 14, 'max_depth': 10, 'max_features': 7}. Best is trial 39 with value: -1686.9201989926776.\n",
      "[I 2024-08-11 15:38:26,973] Trial 38 finished with value: -1686.9201989926776 and parameters: {'min_samples_split': 6, 'min_samples_leaf': 14, 'max_depth': 10, 'max_features': 7}. Best is trial 39 with value: -1686.9201989926776.\n",
      "[I 2024-08-11 15:38:27,053] Trial 47 finished with value: -1740.3239943680685 and parameters: {'min_samples_split': 18, 'min_samples_leaf': 9, 'max_depth': 10, 'max_features': 4}. Best is trial 39 with value: -1686.9201989926776.\n",
      "[I 2024-08-11 15:38:27,347] Trial 44 finished with value: -1843.103521167722 and parameters: {'min_samples_split': 5, 'min_samples_leaf': 14, 'max_depth': 8, 'max_features': 4}. Best is trial 39 with value: -1686.9201989926776.\n",
      "[I 2024-08-11 15:38:27,424] Trial 48 finished with value: -1740.3239943680685 and parameters: {'min_samples_split': 18, 'min_samples_leaf': 9, 'max_depth': 10, 'max_features': 4}. Best is trial 39 with value: -1686.9201989926776.\n",
      "[I 2024-08-11 15:38:27,611] Trial 49 finished with value: -1740.3239943680685 and parameters: {'min_samples_split': 18, 'min_samples_leaf': 9, 'max_depth': 10, 'max_features': 4}. Best is trial 39 with value: -1686.9201989926776.\n",
      "[I 2024-08-11 15:38:27,632] Trial 40 finished with value: -1706.0196920244925 and parameters: {'min_samples_split': 12, 'min_samples_leaf': 15, 'max_depth': 10, 'max_features': 5}. Best is trial 39 with value: -1686.9201989926776.\n",
      "[I 2024-08-11 15:38:28,011] Trial 45 finished with value: -1851.487781984526 and parameters: {'min_samples_split': 7, 'min_samples_leaf': 13, 'max_depth': 8, 'max_features': 4}. Best is trial 39 with value: -1686.9201989926776.\n",
      "[I 2024-08-11 15:38:28,105] Trial 42 finished with value: -1843.103521167722 and parameters: {'min_samples_split': 5, 'min_samples_leaf': 14, 'max_depth': 8, 'max_features': 4}. Best is trial 39 with value: -1686.9201989926776.\n",
      "[I 2024-08-11 15:38:28,756] Trial 51 finished with value: -1730.955027462908 and parameters: {'min_samples_split': 18, 'min_samples_leaf': 8, 'max_depth': 10, 'max_features': 4}. Best is trial 39 with value: -1686.9201989926776.\n",
      "[I 2024-08-11 15:38:28,762] Trial 46 finished with value: -1843.103521167722 and parameters: {'min_samples_split': 18, 'min_samples_leaf': 14, 'max_depth': 8, 'max_features': 4}. Best is trial 39 with value: -1686.9201989926776.\n",
      "[I 2024-08-11 15:38:28,818] Trial 53 finished with value: -1727.4951726439297 and parameters: {'min_samples_split': 19, 'min_samples_leaf': 8, 'max_depth': 10, 'max_features': 4}. Best is trial 39 with value: -1686.9201989926776.\n",
      "[I 2024-08-11 15:38:28,858] Trial 50 finished with value: -1740.3239943680685 and parameters: {'min_samples_split': 18, 'min_samples_leaf': 9, 'max_depth': 10, 'max_features': 4}. Best is trial 39 with value: -1686.9201989926776.\n",
      "[I 2024-08-11 15:38:28,910] Trial 54 finished with value: -1740.3239943680685 and parameters: {'min_samples_split': 18, 'min_samples_leaf': 9, 'max_depth': 10, 'max_features': 4}. Best is trial 39 with value: -1686.9201989926776.\n",
      "[I 2024-08-11 15:38:29,210] Trial 52 finished with value: -1740.3239943680685 and parameters: {'min_samples_split': 18, 'min_samples_leaf': 9, 'max_depth': 10, 'max_features': 4}. Best is trial 39 with value: -1686.9201989926776.\n",
      "[I 2024-08-11 15:38:30,700] Trial 55 finished with value: -1730.955027462908 and parameters: {'min_samples_split': 18, 'min_samples_leaf': 8, 'max_depth': 10, 'max_features': 4}. Best is trial 39 with value: -1686.9201989926776.\n",
      "[I 2024-08-11 15:38:30,971] Trial 56 finished with value: -1687.2955532681449 and parameters: {'min_samples_split': 18, 'min_samples_leaf': 9, 'max_depth': 10, 'max_features': 7}. Best is trial 39 with value: -1686.9201989926776.\n",
      "[I 2024-08-11 15:38:31,015] Trial 58 finished with value: -1683.9503286000272 and parameters: {'min_samples_split': 4, 'min_samples_leaf': 16, 'max_depth': 10, 'max_features': 8}. Best is trial 58 with value: -1683.9503286000272.\n",
      "[I 2024-08-11 15:38:31,060] Trial 57 finished with value: -1687.2955532681449 and parameters: {'min_samples_split': 4, 'min_samples_leaf': 9, 'max_depth': 10, 'max_features': 7}. Best is trial 58 with value: -1683.9503286000272.\n",
      "[I 2024-08-11 15:38:31,100] Trial 60 finished with value: -1685.9692007984856 and parameters: {'min_samples_split': 2, 'min_samples_leaf': 16, 'max_depth': 10, 'max_features': 7}. Best is trial 58 with value: -1683.9503286000272.\n",
      "[I 2024-08-11 15:38:31,874] Trial 64 finished with value: -1944.9462652956768 and parameters: {'min_samples_split': 9, 'min_samples_leaf': 18, 'max_depth': 6, 'max_features': 8}. Best is trial 58 with value: -1683.9503286000272.\n",
      "[I 2024-08-11 15:38:32,150] Trial 61 finished with value: -1683.9503286000272 and parameters: {'min_samples_split': 2, 'min_samples_leaf': 16, 'max_depth': 10, 'max_features': 8}. Best is trial 58 with value: -1683.9503286000272.\n",
      "[I 2024-08-11 15:38:32,624] Trial 70 finished with value: -1945.4204210431155 and parameters: {'min_samples_split': 9, 'min_samples_leaf': 16, 'max_depth': 6, 'max_features': 7}. Best is trial 58 with value: -1683.9503286000272.\n",
      "[I 2024-08-11 15:38:32,726] Trial 65 finished with value: -1685.8919984588308 and parameters: {'min_samples_split': 2, 'min_samples_leaf': 17, 'max_depth': 10, 'max_features': 7}. Best is trial 58 with value: -1683.9503286000272.\n",
      "[I 2024-08-11 15:38:32,885] Trial 68 finished with value: -1945.4204210431155 and parameters: {'min_samples_split': 2, 'min_samples_leaf': 18, 'max_depth': 6, 'max_features': 7}. Best is trial 58 with value: -1683.9503286000272.\n",
      "[I 2024-08-11 15:38:32,920] Trial 69 finished with value: -1686.1720657047867 and parameters: {'min_samples_split': 2, 'min_samples_leaf': 18, 'max_depth': 10, 'max_features': 7}. Best is trial 58 with value: -1683.9503286000272.\n",
      "[I 2024-08-11 15:38:32,964] Trial 59 finished with value: -1683.9503286000272 and parameters: {'min_samples_split': 2, 'min_samples_leaf': 16, 'max_depth': 10, 'max_features': 8}. Best is trial 58 with value: -1683.9503286000272.\n",
      "[I 2024-08-11 15:38:33,015] Trial 62 finished with value: -1679.8463368416917 and parameters: {'min_samples_split': 8, 'min_samples_leaf': 17, 'max_depth': 10, 'max_features': 8}. Best is trial 62 with value: -1679.8463368416917.\n",
      "[I 2024-08-11 15:38:33,076] Trial 66 finished with value: -1685.9692007984856 and parameters: {'min_samples_split': 9, 'min_samples_leaf': 16, 'max_depth': 10, 'max_features': 7}. Best is trial 62 with value: -1679.8463368416917.\n",
      "[I 2024-08-11 15:38:33,270] Trial 67 finished with value: -1685.9692007984856 and parameters: {'min_samples_split': 8, 'min_samples_leaf': 16, 'max_depth': 10, 'max_features': 7}. Best is trial 62 with value: -1679.8463368416917.\n",
      "[I 2024-08-11 15:38:33,488] Trial 74 finished with value: -2029.5439510255594 and parameters: {'min_samples_split': 2, 'min_samples_leaf': 17, 'max_depth': 5, 'max_features': 8}. Best is trial 62 with value: -1679.8463368416917.\n",
      "[I 2024-08-11 15:38:33,595] Trial 73 finished with value: -2156.7125819805406 and parameters: {'min_samples_split': 2, 'min_samples_leaf': 17, 'max_depth': 4, 'max_features': 8}. Best is trial 62 with value: -1679.8463368416917.\n",
      "[I 2024-08-11 15:38:33,782] Trial 63 finished with value: -1683.9503286000272 and parameters: {'min_samples_split': 2, 'min_samples_leaf': 16, 'max_depth': 10, 'max_features': 8}. Best is trial 62 with value: -1679.8463368416917.\n",
      "[I 2024-08-11 15:38:33,863] Trial 75 finished with value: -1944.9462652956768 and parameters: {'min_samples_split': 2, 'min_samples_leaf': 17, 'max_depth': 6, 'max_features': 8}. Best is trial 62 with value: -1679.8463368416917.\n",
      "[I 2024-08-11 15:38:34,099] Trial 72 finished with value: -1944.9462652956768 and parameters: {'min_samples_split': 2, 'min_samples_leaf': 17, 'max_depth': 6, 'max_features': 8}. Best is trial 62 with value: -1679.8463368416917.\n",
      "[I 2024-08-11 15:38:34,159] Trial 71 finished with value: -1945.4204210431155 and parameters: {'min_samples_split': 2, 'min_samples_leaf': 16, 'max_depth': 6, 'max_features': 7}. Best is trial 62 with value: -1679.8463368416917.\n",
      "[I 2024-08-11 15:38:34,241] Trial 77 finished with value: -2029.5439510255594 and parameters: {'min_samples_split': 2, 'min_samples_leaf': 17, 'max_depth': 5, 'max_features': 8}. Best is trial 62 with value: -1679.8463368416917.\n",
      "[I 2024-08-11 15:38:34,759] Trial 76 finished with value: -2188.7602028177193 and parameters: {'min_samples_split': 2, 'min_samples_leaf': 16, 'max_depth': 4, 'max_features': 7}. Best is trial 62 with value: -1679.8463368416917.\n",
      "[I 2024-08-11 15:38:35,311] Trial 79 finished with value: -2029.5439510255594 and parameters: {'min_samples_split': 2, 'min_samples_leaf': 16, 'max_depth': 5, 'max_features': 8}. Best is trial 62 with value: -1679.8463368416917.\n",
      "[I 2024-08-11 15:38:35,669] Trial 78 finished with value: -2156.7125819805406 and parameters: {'min_samples_split': 2, 'min_samples_leaf': 17, 'max_depth': 4, 'max_features': 8}. Best is trial 62 with value: -1679.8463368416917.\n",
      "[I 2024-08-11 15:38:36,496] Trial 84 finished with value: -2156.7125819805406 and parameters: {'min_samples_split': 2, 'min_samples_leaf': 17, 'max_depth': 4, 'max_features': 8}. Best is trial 62 with value: -1679.8463368416917.\n",
      "[I 2024-08-11 15:38:37,034] Trial 82 finished with value: -2156.7125819805406 and parameters: {'min_samples_split': 2, 'min_samples_leaf': 17, 'max_depth': 4, 'max_features': 8}. Best is trial 62 with value: -1679.8463368416917.\n",
      "[I 2024-08-11 15:38:37,409] Trial 81 finished with value: -1730.0363834630468 and parameters: {'min_samples_split': 2, 'min_samples_leaf': 17, 'max_depth': 9, 'max_features': 8}. Best is trial 62 with value: -1679.8463368416917.\n",
      "[I 2024-08-11 15:38:37,429] Trial 85 finished with value: -1730.0363834630468 and parameters: {'min_samples_split': 2, 'min_samples_leaf': 17, 'max_depth': 9, 'max_features': 8}. Best is trial 62 with value: -1679.8463368416917.\n",
      "[I 2024-08-11 15:38:38,241] Trial 87 finished with value: -1723.6680499217546 and parameters: {'min_samples_split': 3, 'min_samples_leaf': 16, 'max_depth': 9, 'max_features': 9}. Best is trial 62 with value: -1679.8463368416917.\n",
      "[I 2024-08-11 15:38:38,392] Trial 86 finished with value: -1723.8683953528969 and parameters: {'min_samples_split': 3, 'min_samples_leaf': 17, 'max_depth': 9, 'max_features': 9}. Best is trial 62 with value: -1679.8463368416917.\n",
      "[I 2024-08-11 15:38:38,479] Trial 83 finished with value: -1730.0363834630468 and parameters: {'min_samples_split': 2, 'min_samples_leaf': 17, 'max_depth': 9, 'max_features': 8}. Best is trial 62 with value: -1679.8463368416917.\n",
      "[I 2024-08-11 15:38:38,650] Trial 89 finished with value: -1723.6680499217546 and parameters: {'min_samples_split': 3, 'min_samples_leaf': 16, 'max_depth': 9, 'max_features': 9}. Best is trial 62 with value: -1679.8463368416917.\n",
      "[I 2024-08-11 15:38:38,695] Trial 90 finished with value: -1723.6680499217546 and parameters: {'min_samples_split': 3, 'min_samples_leaf': 16, 'max_depth': 9, 'max_features': 9}. Best is trial 62 with value: -1679.8463368416917.\n",
      "[I 2024-08-11 15:38:38,848] Trial 80 finished with value: -1730.0363834630468 and parameters: {'min_samples_split': 2, 'min_samples_leaf': 17, 'max_depth': 9, 'max_features': 8}. Best is trial 62 with value: -1679.8463368416917.\n",
      "[I 2024-08-11 15:38:39,091] Trial 92 finished with value: -1723.9772742680711 and parameters: {'min_samples_split': 3, 'min_samples_leaf': 19, 'max_depth': 9, 'max_features': 9}. Best is trial 62 with value: -1679.8463368416917.\n",
      "[I 2024-08-11 15:38:39,209] Trial 88 finished with value: -1723.6680499217546 and parameters: {'min_samples_split': 3, 'min_samples_leaf': 16, 'max_depth': 9, 'max_features': 9}. Best is trial 62 with value: -1679.8463368416917.\n",
      "[I 2024-08-11 15:38:39,334] Trial 91 finished with value: -1723.9772742680711 and parameters: {'min_samples_split': 3, 'min_samples_leaf': 19, 'max_depth': 9, 'max_features': 9}. Best is trial 62 with value: -1679.8463368416917.\n",
      "[I 2024-08-11 15:38:39,513] Trial 93 finished with value: -1723.9772742680711 and parameters: {'min_samples_split': 3, 'min_samples_leaf': 19, 'max_depth': 9, 'max_features': 9}. Best is trial 62 with value: -1679.8463368416917.\n",
      "[I 2024-08-11 15:38:39,627] Trial 94 finished with value: -1723.9772742680711 and parameters: {'min_samples_split': 3, 'min_samples_leaf': 19, 'max_depth': 9, 'max_features': 9}. Best is trial 62 with value: -1679.8463368416917.\n",
      "[I 2024-08-11 15:38:39,784] Trial 95 finished with value: -1723.9772742680711 and parameters: {'min_samples_split': 3, 'min_samples_leaf': 19, 'max_depth': 9, 'max_features': 9}. Best is trial 62 with value: -1679.8463368416917.\n",
      "[I 2024-08-11 15:38:39,965] Trial 96 finished with value: -1723.9772742680711 and parameters: {'min_samples_split': 3, 'min_samples_leaf': 19, 'max_depth': 9, 'max_features': 9}. Best is trial 62 with value: -1679.8463368416917.\n",
      "[I 2024-08-11 15:38:40,013] Trial 97 finished with value: -1723.4327582121227 and parameters: {'min_samples_split': 3, 'min_samples_leaf': 15, 'max_depth': 9, 'max_features': 9}. Best is trial 62 with value: -1679.8463368416917.\n",
      "[I 2024-08-11 15:38:40,092] Trial 98 finished with value: -1723.4327582121227 and parameters: {'min_samples_split': 3, 'min_samples_leaf': 15, 'max_depth': 9, 'max_features': 9}. Best is trial 62 with value: -1679.8463368416917.\n",
      "[I 2024-08-11 15:38:40,186] Trial 99 finished with value: -1723.4327582121227 and parameters: {'min_samples_split': 3, 'min_samples_leaf': 15, 'max_depth': 9, 'max_features': 9}. Best is trial 62 with value: -1679.8463368416917.\n"
     ]
    },
    {
     "data": {
      "text/html": [
       "<style>#sk-container-id-4 {color: black;background-color: white;}#sk-container-id-4 pre{padding: 0;}#sk-container-id-4 div.sk-toggleable {background-color: white;}#sk-container-id-4 label.sk-toggleable__label {cursor: pointer;display: block;width: 100%;margin-bottom: 0;padding: 0.3em;box-sizing: border-box;text-align: center;}#sk-container-id-4 label.sk-toggleable__label-arrow:before {content: \"▸\";float: left;margin-right: 0.25em;color: #696969;}#sk-container-id-4 label.sk-toggleable__label-arrow:hover:before {color: black;}#sk-container-id-4 div.sk-estimator:hover label.sk-toggleable__label-arrow:before {color: black;}#sk-container-id-4 div.sk-toggleable__content {max-height: 0;max-width: 0;overflow: hidden;text-align: left;background-color: #f0f8ff;}#sk-container-id-4 div.sk-toggleable__content pre {margin: 0.2em;color: black;border-radius: 0.25em;background-color: #f0f8ff;}#sk-container-id-4 input.sk-toggleable__control:checked~div.sk-toggleable__content {max-height: 200px;max-width: 100%;overflow: auto;}#sk-container-id-4 input.sk-toggleable__control:checked~label.sk-toggleable__label-arrow:before {content: \"▾\";}#sk-container-id-4 div.sk-estimator input.sk-toggleable__control:checked~label.sk-toggleable__label {background-color: #d4ebff;}#sk-container-id-4 div.sk-label input.sk-toggleable__control:checked~label.sk-toggleable__label {background-color: #d4ebff;}#sk-container-id-4 input.sk-hidden--visually {border: 0;clip: rect(1px 1px 1px 1px);clip: rect(1px, 1px, 1px, 1px);height: 1px;margin: -1px;overflow: hidden;padding: 0;position: absolute;width: 1px;}#sk-container-id-4 div.sk-estimator {font-family: monospace;background-color: #f0f8ff;border: 1px dotted black;border-radius: 0.25em;box-sizing: border-box;margin-bottom: 0.5em;}#sk-container-id-4 div.sk-estimator:hover {background-color: #d4ebff;}#sk-container-id-4 div.sk-parallel-item::after {content: \"\";width: 100%;border-bottom: 1px solid gray;flex-grow: 1;}#sk-container-id-4 div.sk-label:hover label.sk-toggleable__label {background-color: #d4ebff;}#sk-container-id-4 div.sk-serial::before {content: \"\";position: absolute;border-left: 1px solid gray;box-sizing: border-box;top: 0;bottom: 0;left: 50%;z-index: 0;}#sk-container-id-4 div.sk-serial {display: flex;flex-direction: column;align-items: center;background-color: white;padding-right: 0.2em;padding-left: 0.2em;position: relative;}#sk-container-id-4 div.sk-item {position: relative;z-index: 1;}#sk-container-id-4 div.sk-parallel {display: flex;align-items: stretch;justify-content: center;background-color: white;position: relative;}#sk-container-id-4 div.sk-item::before, #sk-container-id-4 div.sk-parallel-item::before {content: \"\";position: absolute;border-left: 1px solid gray;box-sizing: border-box;top: 0;bottom: 0;left: 50%;z-index: -1;}#sk-container-id-4 div.sk-parallel-item {display: flex;flex-direction: column;z-index: 1;position: relative;background-color: white;}#sk-container-id-4 div.sk-parallel-item:first-child::after {align-self: flex-end;width: 50%;}#sk-container-id-4 div.sk-parallel-item:last-child::after {align-self: flex-start;width: 50%;}#sk-container-id-4 div.sk-parallel-item:only-child::after {width: 0;}#sk-container-id-4 div.sk-dashed-wrapped {border: 1px dashed gray;margin: 0 0.4em 0.5em 0.4em;box-sizing: border-box;padding-bottom: 0.4em;background-color: white;}#sk-container-id-4 div.sk-label label {font-family: monospace;font-weight: bold;display: inline-block;line-height: 1.2em;}#sk-container-id-4 div.sk-label-container {text-align: center;}#sk-container-id-4 div.sk-container {/* jupyter's `normalize.less` sets `[hidden] { display: none; }` but bootstrap.min.css set `[hidden] { display: none !important; }` so we also need the `!important` here to be able to override the default hidden behavior on the sphinx rendered scikit-learn.org. See: https://github.com/scikit-learn/scikit-learn/issues/21755 */display: inline-block !important;position: relative;}#sk-container-id-4 div.sk-text-repr-fallback {display: none;}</style><div id=\"sk-container-id-4\" class=\"sk-top-container\"><div class=\"sk-text-repr-fallback\"><pre>OptunaSearchCV(cv=5, estimator=DecisionTreeRegressor(random_state=0), n_jobs=-1,\n",
       "               n_trials=100,\n",
       "               param_distributions={&#x27;max_depth&#x27;: IntDistribution(high=10, log=False, low=2, step=1),\n",
       "                                    &#x27;max_features&#x27;: IntDistribution(high=10, log=False, low=2, step=1),\n",
       "                                    &#x27;min_samples_leaf&#x27;: IntDistribution(high=20, log=False, low=1, step=1),\n",
       "                                    &#x27;min_samples_split&#x27;: IntDistribution(high=20, log=False, low=2, step=1)},\n",
       "               random_state=0, scoring=&#x27;neg_root_mean_squared_error&#x27;)</pre><b>In a Jupyter environment, please rerun this cell to show the HTML representation or trust the notebook. <br />On GitHub, the HTML representation is unable to render, please try loading this page with nbviewer.org.</b></div><div class=\"sk-container\" hidden><div class=\"sk-item sk-dashed-wrapped\"><div class=\"sk-label-container\"><div class=\"sk-label sk-toggleable\"><input class=\"sk-toggleable__control sk-hidden--visually\" id=\"sk-estimator-id-6\" type=\"checkbox\" ><label for=\"sk-estimator-id-6\" class=\"sk-toggleable__label sk-toggleable__label-arrow\">OptunaSearchCV</label><div class=\"sk-toggleable__content\"><pre>OptunaSearchCV(cv=5, estimator=DecisionTreeRegressor(random_state=0), n_jobs=-1,\n",
       "               n_trials=100,\n",
       "               param_distributions={&#x27;max_depth&#x27;: IntDistribution(high=10, log=False, low=2, step=1),\n",
       "                                    &#x27;max_features&#x27;: IntDistribution(high=10, log=False, low=2, step=1),\n",
       "                                    &#x27;min_samples_leaf&#x27;: IntDistribution(high=20, log=False, low=1, step=1),\n",
       "                                    &#x27;min_samples_split&#x27;: IntDistribution(high=20, log=False, low=2, step=1)},\n",
       "               random_state=0, scoring=&#x27;neg_root_mean_squared_error&#x27;)</pre></div></div></div><div class=\"sk-parallel\"><div class=\"sk-parallel-item\"><div class=\"sk-item\"><div class=\"sk-label-container\"><div class=\"sk-label sk-toggleable\"><input class=\"sk-toggleable__control sk-hidden--visually\" id=\"sk-estimator-id-7\" type=\"checkbox\" ><label for=\"sk-estimator-id-7\" class=\"sk-toggleable__label sk-toggleable__label-arrow\">estimator: DecisionTreeRegressor</label><div class=\"sk-toggleable__content\"><pre>DecisionTreeRegressor(random_state=0)</pre></div></div></div><div class=\"sk-serial\"><div class=\"sk-item\"><div class=\"sk-estimator sk-toggleable\"><input class=\"sk-toggleable__control sk-hidden--visually\" id=\"sk-estimator-id-8\" type=\"checkbox\" ><label for=\"sk-estimator-id-8\" class=\"sk-toggleable__label sk-toggleable__label-arrow\">DecisionTreeRegressor</label><div class=\"sk-toggleable__content\"><pre>DecisionTreeRegressor(random_state=0)</pre></div></div></div></div></div></div></div></div></div></div>"
      ],
      "text/plain": [
       "OptunaSearchCV(cv=5, estimator=DecisionTreeRegressor(random_state=0), n_jobs=-1,\n",
       "               n_trials=100,\n",
       "               param_distributions={'max_depth': IntDistribution(high=10, log=False, low=2, step=1),\n",
       "                                    'max_features': IntDistribution(high=10, log=False, low=2, step=1),\n",
       "                                    'min_samples_leaf': IntDistribution(high=20, log=False, low=1, step=1),\n",
       "                                    'min_samples_split': IntDistribution(high=20, log=False, low=2, step=1)},\n",
       "               random_state=0, scoring='neg_root_mean_squared_error')"
      ]
     },
     "execution_count": 94,
     "metadata": {},
     "output_type": "execute_result"
    }
   ],
   "source": [
    "tree_optuna.fit(X_train, y_train)"
   ]
  },
  {
   "cell_type": "code",
   "execution_count": 95,
   "metadata": {},
   "outputs": [
    {
     "data": {
      "text/html": [
       "<style>#sk-container-id-5 {color: black;background-color: white;}#sk-container-id-5 pre{padding: 0;}#sk-container-id-5 div.sk-toggleable {background-color: white;}#sk-container-id-5 label.sk-toggleable__label {cursor: pointer;display: block;width: 100%;margin-bottom: 0;padding: 0.3em;box-sizing: border-box;text-align: center;}#sk-container-id-5 label.sk-toggleable__label-arrow:before {content: \"▸\";float: left;margin-right: 0.25em;color: #696969;}#sk-container-id-5 label.sk-toggleable__label-arrow:hover:before {color: black;}#sk-container-id-5 div.sk-estimator:hover label.sk-toggleable__label-arrow:before {color: black;}#sk-container-id-5 div.sk-toggleable__content {max-height: 0;max-width: 0;overflow: hidden;text-align: left;background-color: #f0f8ff;}#sk-container-id-5 div.sk-toggleable__content pre {margin: 0.2em;color: black;border-radius: 0.25em;background-color: #f0f8ff;}#sk-container-id-5 input.sk-toggleable__control:checked~div.sk-toggleable__content {max-height: 200px;max-width: 100%;overflow: auto;}#sk-container-id-5 input.sk-toggleable__control:checked~label.sk-toggleable__label-arrow:before {content: \"▾\";}#sk-container-id-5 div.sk-estimator input.sk-toggleable__control:checked~label.sk-toggleable__label {background-color: #d4ebff;}#sk-container-id-5 div.sk-label input.sk-toggleable__control:checked~label.sk-toggleable__label {background-color: #d4ebff;}#sk-container-id-5 input.sk-hidden--visually {border: 0;clip: rect(1px 1px 1px 1px);clip: rect(1px, 1px, 1px, 1px);height: 1px;margin: -1px;overflow: hidden;padding: 0;position: absolute;width: 1px;}#sk-container-id-5 div.sk-estimator {font-family: monospace;background-color: #f0f8ff;border: 1px dotted black;border-radius: 0.25em;box-sizing: border-box;margin-bottom: 0.5em;}#sk-container-id-5 div.sk-estimator:hover {background-color: #d4ebff;}#sk-container-id-5 div.sk-parallel-item::after {content: \"\";width: 100%;border-bottom: 1px solid gray;flex-grow: 1;}#sk-container-id-5 div.sk-label:hover label.sk-toggleable__label {background-color: #d4ebff;}#sk-container-id-5 div.sk-serial::before {content: \"\";position: absolute;border-left: 1px solid gray;box-sizing: border-box;top: 0;bottom: 0;left: 50%;z-index: 0;}#sk-container-id-5 div.sk-serial {display: flex;flex-direction: column;align-items: center;background-color: white;padding-right: 0.2em;padding-left: 0.2em;position: relative;}#sk-container-id-5 div.sk-item {position: relative;z-index: 1;}#sk-container-id-5 div.sk-parallel {display: flex;align-items: stretch;justify-content: center;background-color: white;position: relative;}#sk-container-id-5 div.sk-item::before, #sk-container-id-5 div.sk-parallel-item::before {content: \"\";position: absolute;border-left: 1px solid gray;box-sizing: border-box;top: 0;bottom: 0;left: 50%;z-index: -1;}#sk-container-id-5 div.sk-parallel-item {display: flex;flex-direction: column;z-index: 1;position: relative;background-color: white;}#sk-container-id-5 div.sk-parallel-item:first-child::after {align-self: flex-end;width: 50%;}#sk-container-id-5 div.sk-parallel-item:last-child::after {align-self: flex-start;width: 50%;}#sk-container-id-5 div.sk-parallel-item:only-child::after {width: 0;}#sk-container-id-5 div.sk-dashed-wrapped {border: 1px dashed gray;margin: 0 0.4em 0.5em 0.4em;box-sizing: border-box;padding-bottom: 0.4em;background-color: white;}#sk-container-id-5 div.sk-label label {font-family: monospace;font-weight: bold;display: inline-block;line-height: 1.2em;}#sk-container-id-5 div.sk-label-container {text-align: center;}#sk-container-id-5 div.sk-container {/* jupyter's `normalize.less` sets `[hidden] { display: none; }` but bootstrap.min.css set `[hidden] { display: none !important; }` so we also need the `!important` here to be able to override the default hidden behavior on the sphinx rendered scikit-learn.org. See: https://github.com/scikit-learn/scikit-learn/issues/21755 */display: inline-block !important;position: relative;}#sk-container-id-5 div.sk-text-repr-fallback {display: none;}</style><div id=\"sk-container-id-5\" class=\"sk-top-container\"><div class=\"sk-text-repr-fallback\"><pre>DecisionTreeRegressor(max_depth=10, max_features=8, min_samples_leaf=17,\n",
       "                      min_samples_split=8, random_state=0)</pre><b>In a Jupyter environment, please rerun this cell to show the HTML representation or trust the notebook. <br />On GitHub, the HTML representation is unable to render, please try loading this page with nbviewer.org.</b></div><div class=\"sk-container\" hidden><div class=\"sk-item\"><div class=\"sk-estimator sk-toggleable\"><input class=\"sk-toggleable__control sk-hidden--visually\" id=\"sk-estimator-id-9\" type=\"checkbox\" checked><label for=\"sk-estimator-id-9\" class=\"sk-toggleable__label sk-toggleable__label-arrow\">DecisionTreeRegressor</label><div class=\"sk-toggleable__content\"><pre>DecisionTreeRegressor(max_depth=10, max_features=8, min_samples_leaf=17,\n",
       "                      min_samples_split=8, random_state=0)</pre></div></div></div></div></div>"
      ],
      "text/plain": [
       "DecisionTreeRegressor(max_depth=10, max_features=8, min_samples_leaf=17,\n",
       "                      min_samples_split=8, random_state=0)"
      ]
     },
     "execution_count": 95,
     "metadata": {},
     "output_type": "execute_result"
    }
   ],
   "source": [
    "tree_optuna.best_estimator_"
   ]
  },
  {
   "cell_type": "code",
   "execution_count": 96,
   "metadata": {},
   "outputs": [
    {
     "name": "stdout",
     "output_type": "stream",
     "text": [
      "1679.8463368416917\n"
     ]
    }
   ],
   "source": [
    "print(tree_best_score := abs(tree_optuna.best_score_))"
   ]
  },
  {
   "cell_type": "code",
   "execution_count": 97,
   "metadata": {},
   "outputs": [
    {
     "name": "stdout",
     "output_type": "stream",
     "text": [
      "Лучшая модель:\n",
      "\n",
      "Время обучения 0.22 сек.\n",
      "Время предсказания 0.02 сек.\n",
      "RMSE: 1679.85\n",
      "\n"
     ]
    }
   ],
   "source": [
    "tree_best_model = tree_optuna.best_estimator_\n",
    "\n",
    "t_start = time()\n",
    "tree_best_model.fit(X_train, y_train)\n",
    "t_end = time()\n",
    "\n",
    "tree_best_model_fit_time = t_end - t_start\n",
    "\n",
    "t_start = time()\n",
    "tree_best_model.predict(X_train)\n",
    "t_end = time()\n",
    "\n",
    "tree_best_model_predict_time = t_end - t_start\n",
    "print(f'''Лучшая модель:\n",
    "\n",
    "Время обучения {tree_best_model_fit_time:.2f} сек.\n",
    "Время предсказания {tree_best_model_predict_time:.2f} сек.\n",
    "RMSE: {tree_best_score:.2f}\n",
    "''')"
   ]
  },
  {
   "cell_type": "markdown",
   "metadata": {},
   "source": [
    "***\n",
    "## Анализ моделей"
   ]
  },
  {
   "cell_type": "markdown",
   "metadata": {},
   "source": [
    "Я сравнил две модели: Решающее дерево и Градиентный бустинг. Время обучения бустинга намного дольше и напрямую зависит от кол-ва деревьев входящих в него, равно как и от других гиперпараметров влияющих на скорость обучения каждого конкретного дерева.  \n",
    "Что касается качества то тут бустинг показывает лучшие результаты метрики RMSE.  \n",
    "В данном случае, так-как обе модели удовлетворяют условиям качества метрики, можно выбрать модель Решающего дерева, однако если точность предсказаний всё-таки важнее качества то нужно выбирать модель Градиентного бустинга."
   ]
  },
  {
   "cell_type": "markdown",
   "metadata": {},
   "source": [
    "Также сравню модели с константным предсказателем."
   ]
  },
  {
   "cell_type": "code",
   "execution_count": 101,
   "metadata": {},
   "outputs": [
    {
     "data": {
      "text/plain": [
       "3791.7955974022857"
      ]
     },
     "execution_count": 101,
     "metadata": {},
     "output_type": "execute_result"
    }
   ],
   "source": [
    "dummy = DummyRegressor()\n",
    "dummy.fit(X_train, y_train)\n",
    "preds = dummy.predict(X_test)\n",
    "mean_squared_error(y_test, preds, squared=False)\n"
   ]
  },
  {
   "cell_type": "markdown",
   "metadata": {},
   "source": [
    "Результаты моделей намного лучше результатов константного предсказателя."
   ]
  },
  {
   "cell_type": "code",
   "execution_count": 103,
   "metadata": {
    "scrolled": true
   },
   "outputs": [
    {
     "name": "stdout",
     "output_type": "stream",
     "text": [
      "Сравнение двух моделей:\n",
      "                       | Tree  | LGBM  |\n",
      "Время обучения, c.     | 0.22  | 0.47  |\n",
      "Время предсказания, c. | 0.02  | 0.31  |\n",
      "RMSE:                  |1679.85|1458.77|\n",
      "\n"
     ]
    }
   ],
   "source": [
    "wide = 7\n",
    "print(f'''Сравнение двух моделей:\n",
    "                       | Tree  | LGBM  |\n",
    "Время обучения, c.     |{tree_best_model_fit_time:^{wide}.2f}|{lgbm_best_model_fit_time:^{wide}.2f}|\n",
    "Время предсказания, c. |{tree_best_model_predict_time:^{wide}.2f}|{lgbm_best_model_predict_time:^{wide}.2f}|\n",
    "RMSE:                  |{tree_best_score:^{wide}.2f}|{lgbm_best_score:^{wide}.2f}|\n",
    "''')"
   ]
  },
  {
   "cell_type": "markdown",
   "metadata": {},
   "source": [
    "Как видно по результатам сравнения дерево не сильно проигрывает в качестве метрики но значительно превосходит в скорости обучения и предсказания поэтому будет выбрана именно она.\n",
    "***\n",
    "\n",
    "Оценка лучшей модели на тестовой выборке:"
   ]
  },
  {
   "cell_type": "code",
   "execution_count": 105,
   "metadata": {
    "scrolled": true
   },
   "outputs": [
    {
     "name": "stdout",
     "output_type": "stream",
     "text": [
      "RMSE лучшей модели на тестовых данных: 1662.53\n",
      "Время предсказания: 7.00 мс.\n"
     ]
    }
   ],
   "source": [
    "t_start = time()\n",
    "preds = tree_optuna.predict(X_test) \n",
    "t_end = time()\n",
    "rmse = mean_squared_error(y_test, preds, squared=False)\n",
    "print(f'RMSE лучшей модели на тестовых данных: {rmse:.2f}\\nВремя предсказания: {1000*(t_end-t_start):.2f} мс.')"
   ]
  },
  {
   "cell_type": "markdown",
   "metadata": {},
   "source": [
    "## Вывод:\n",
    "После построения различных моделей определяющих стоимость подержанного автомобилей были проведены их сравнения по метрике RMSE, скорости обучения и скорости предсказания.\n",
    "По результатам сравнения **оптимальной по параметрам была выбрана модель DecisionTreeRegressor**, так-как из качеств моделей важных заказчику в сравнении с градиентным бустингом она:\n",
    " - В скорости обучения превосходит двукратно\n",
    " - В скорости предсказания превосходит значительно\n",
    " - В качестве предсказания не сильно уступает"
   ]
  }
 ],
 "metadata": {
  "ExecuteTimeLog": [
   {
    "duration": 382,
    "start_time": "2024-04-17T07:33:25.987Z"
   },
   {
    "duration": 61,
    "start_time": "2024-04-17T07:33:45.369Z"
   },
   {
    "duration": 1251,
    "start_time": "2024-04-17T07:33:52.672Z"
   },
   {
    "duration": 957,
    "start_time": "2024-04-17T07:34:14.091Z"
   },
   {
    "duration": 83,
    "start_time": "2024-04-17T07:35:10.264Z"
   },
   {
    "duration": 985,
    "start_time": "2024-04-17T07:35:36.055Z"
   },
   {
    "duration": 1026,
    "start_time": "2024-04-17T07:35:41.924Z"
   },
   {
    "duration": 1149,
    "start_time": "2024-04-17T07:35:51.792Z"
   },
   {
    "duration": 838,
    "start_time": "2024-04-17T07:36:04.110Z"
   },
   {
    "duration": 140,
    "start_time": "2024-04-17T07:36:18.420Z"
   },
   {
    "duration": 143,
    "start_time": "2024-04-17T07:36:23.948Z"
   },
   {
    "duration": 136,
    "start_time": "2024-04-17T07:36:47.594Z"
   },
   {
    "duration": 641,
    "start_time": "2024-04-17T07:36:54.563Z"
   },
   {
    "duration": 364,
    "start_time": "2024-04-17T07:38:04.722Z"
   },
   {
    "duration": 143,
    "start_time": "2024-04-17T07:38:46.097Z"
   },
   {
    "duration": 1521,
    "start_time": "2024-04-17T07:39:01.381Z"
   },
   {
    "duration": 1893,
    "start_time": "2024-04-17T07:39:49.121Z"
   },
   {
    "duration": 160,
    "start_time": "2024-04-17T07:40:00.896Z"
   },
   {
    "duration": 128,
    "start_time": "2024-04-17T07:40:14.226Z"
   },
   {
    "duration": 135,
    "start_time": "2024-04-17T07:40:21.413Z"
   },
   {
    "duration": 151,
    "start_time": "2024-04-17T07:44:42.131Z"
   },
   {
    "duration": 136,
    "start_time": "2024-04-17T07:45:15.221Z"
   },
   {
    "duration": 163,
    "start_time": "2024-04-17T07:48:29.805Z"
   },
   {
    "duration": 172,
    "start_time": "2024-04-17T07:48:36.327Z"
   },
   {
    "duration": 243,
    "start_time": "2024-04-17T07:48:57.456Z"
   },
   {
    "duration": 149,
    "start_time": "2024-04-17T07:51:09.320Z"
   },
   {
    "duration": 4,
    "start_time": "2024-04-17T07:51:16.558Z"
   },
   {
    "duration": 4,
    "start_time": "2024-04-17T07:51:28.710Z"
   },
   {
    "duration": 9,
    "start_time": "2024-04-17T07:52:55.990Z"
   },
   {
    "duration": 137,
    "start_time": "2024-04-17T07:53:05.408Z"
   },
   {
    "duration": 2,
    "start_time": "2024-04-17T07:53:10.636Z"
   },
   {
    "duration": 139,
    "start_time": "2024-04-17T07:53:17.781Z"
   },
   {
    "duration": 2,
    "start_time": "2024-04-17T07:55:21.356Z"
   },
   {
    "duration": 136,
    "start_time": "2024-04-17T07:56:21.354Z"
   },
   {
    "duration": 3,
    "start_time": "2024-04-17T07:56:28.420Z"
   },
   {
    "duration": 5,
    "start_time": "2024-04-17T07:56:56.772Z"
   },
   {
    "duration": 8,
    "start_time": "2024-04-17T07:57:15.730Z"
   },
   {
    "duration": 6,
    "start_time": "2024-04-17T07:57:26.231Z"
   },
   {
    "duration": 4,
    "start_time": "2024-04-17T07:57:35.855Z"
   },
   {
    "duration": 4,
    "start_time": "2024-04-17T07:58:56.622Z"
   },
   {
    "duration": 3,
    "start_time": "2024-04-17T08:03:39.990Z"
   },
   {
    "duration": 152,
    "start_time": "2024-04-17T08:04:06.355Z"
   },
   {
    "duration": 93,
    "start_time": "2024-04-17T08:04:35.219Z"
   },
   {
    "duration": 3,
    "start_time": "2024-04-17T08:04:48.253Z"
   },
   {
    "duration": 163,
    "start_time": "2024-04-17T08:04:49.516Z"
   },
   {
    "duration": 3,
    "start_time": "2024-04-17T08:05:05.958Z"
   },
   {
    "duration": 4,
    "start_time": "2024-04-17T08:07:19.381Z"
   },
   {
    "duration": 142,
    "start_time": "2024-04-17T08:07:21.447Z"
   },
   {
    "duration": 3,
    "start_time": "2024-04-17T08:07:22.335Z"
   },
   {
    "duration": 4,
    "start_time": "2024-04-17T08:07:28.432Z"
   },
   {
    "duration": 154,
    "start_time": "2024-04-17T08:07:30.240Z"
   },
   {
    "duration": 4,
    "start_time": "2024-04-17T08:07:31.290Z"
   },
   {
    "duration": 5,
    "start_time": "2024-04-17T08:08:31.227Z"
   },
   {
    "duration": 159,
    "start_time": "2024-04-17T08:08:32.260Z"
   },
   {
    "duration": 3,
    "start_time": "2024-04-17T08:08:40.646Z"
   },
   {
    "duration": 145,
    "start_time": "2024-04-17T08:08:41.889Z"
   },
   {
    "duration": 4,
    "start_time": "2024-04-17T08:08:43.268Z"
   },
   {
    "duration": 401,
    "start_time": "2024-04-17T14:06:37.484Z"
   },
   {
    "duration": 1210,
    "start_time": "2024-04-17T14:06:37.887Z"
   },
   {
    "duration": 690,
    "start_time": "2024-04-17T14:06:39.098Z"
   },
   {
    "duration": 190,
    "start_time": "2024-04-17T14:06:39.790Z"
   },
   {
    "duration": 6,
    "start_time": "2024-04-17T14:06:39.981Z"
   },
   {
    "duration": 171,
    "start_time": "2024-04-17T14:06:39.989Z"
   },
   {
    "duration": 16,
    "start_time": "2024-04-17T14:06:40.162Z"
   },
   {
    "duration": 4,
    "start_time": "2024-04-17T14:06:55.890Z"
   },
   {
    "duration": 148,
    "start_time": "2024-04-17T14:06:57.439Z"
   },
   {
    "duration": 4,
    "start_time": "2024-04-17T14:06:58.412Z"
   },
   {
    "duration": 4,
    "start_time": "2024-04-17T14:08:11.439Z"
   },
   {
    "duration": 152,
    "start_time": "2024-04-17T14:08:12.826Z"
   },
   {
    "duration": 4,
    "start_time": "2024-04-17T14:08:13.570Z"
   },
   {
    "duration": 4,
    "start_time": "2024-04-17T14:08:20.949Z"
   },
   {
    "duration": 164,
    "start_time": "2024-04-17T14:08:22.035Z"
   },
   {
    "duration": 4,
    "start_time": "2024-04-17T14:08:22.645Z"
   },
   {
    "duration": 4,
    "start_time": "2024-04-17T14:09:26.715Z"
   },
   {
    "duration": 3,
    "start_time": "2024-04-17T14:09:38.639Z"
   },
   {
    "duration": 5,
    "start_time": "2024-04-17T14:10:49.510Z"
   },
   {
    "duration": 153,
    "start_time": "2024-04-17T14:10:51.804Z"
   },
   {
    "duration": 4,
    "start_time": "2024-04-17T14:10:52.693Z"
   },
   {
    "duration": 5,
    "start_time": "2024-04-17T14:11:05.040Z"
   },
   {
    "duration": 155,
    "start_time": "2024-04-17T14:11:06.064Z"
   },
   {
    "duration": 4,
    "start_time": "2024-04-17T14:11:07.204Z"
   },
   {
    "duration": 5,
    "start_time": "2024-04-17T14:11:22.103Z"
   },
   {
    "duration": 153,
    "start_time": "2024-04-17T14:11:24.977Z"
   },
   {
    "duration": 4,
    "start_time": "2024-04-17T14:11:25.867Z"
   },
   {
    "duration": 5,
    "start_time": "2024-04-17T14:12:38.967Z"
   },
   {
    "duration": 5,
    "start_time": "2024-04-17T14:12:42.625Z"
   },
   {
    "duration": 157,
    "start_time": "2024-04-17T14:12:43.511Z"
   },
   {
    "duration": 4,
    "start_time": "2024-04-17T14:12:44.249Z"
   },
   {
    "duration": 5,
    "start_time": "2024-04-17T14:13:47.795Z"
   },
   {
    "duration": 149,
    "start_time": "2024-04-17T14:13:50.146Z"
   },
   {
    "duration": 5,
    "start_time": "2024-04-17T14:13:51.020Z"
   },
   {
    "duration": 5,
    "start_time": "2024-04-17T14:14:04.799Z"
   },
   {
    "duration": 160,
    "start_time": "2024-04-17T14:14:06.053Z"
   },
   {
    "duration": 6,
    "start_time": "2024-04-17T14:14:06.947Z"
   },
   {
    "duration": 6,
    "start_time": "2024-04-17T15:08:18.422Z"
   },
   {
    "duration": 165,
    "start_time": "2024-04-17T15:08:19.389Z"
   },
   {
    "duration": 5,
    "start_time": "2024-04-17T15:08:20.015Z"
   },
   {
    "duration": 49,
    "start_time": "2024-04-18T07:31:05.338Z"
   },
   {
    "duration": 425,
    "start_time": "2024-04-18T07:31:09.857Z"
   },
   {
    "duration": 1187,
    "start_time": "2024-04-18T07:31:10.284Z"
   },
   {
    "duration": 754,
    "start_time": "2024-04-18T07:31:11.472Z"
   },
   {
    "duration": 279,
    "start_time": "2024-04-18T07:31:23.429Z"
   },
   {
    "duration": 266,
    "start_time": "2024-04-18T07:31:43.426Z"
   },
   {
    "duration": 270,
    "start_time": "2024-04-18T07:31:59.628Z"
   },
   {
    "duration": 332,
    "start_time": "2024-04-18T07:32:09.992Z"
   },
   {
    "duration": 293,
    "start_time": "2024-04-18T07:32:14.346Z"
   },
   {
    "duration": 303,
    "start_time": "2024-04-18T07:35:15.967Z"
   },
   {
    "duration": 85,
    "start_time": "2024-04-18T07:36:15.097Z"
   },
   {
    "duration": 146,
    "start_time": "2024-04-18T07:36:28.513Z"
   },
   {
    "duration": 146,
    "start_time": "2024-04-18T07:36:48.515Z"
   },
   {
    "duration": 148,
    "start_time": "2024-04-18T07:37:01.524Z"
   },
   {
    "duration": 146,
    "start_time": "2024-04-18T07:37:23.528Z"
   },
   {
    "duration": 149,
    "start_time": "2024-04-18T07:37:49.168Z"
   },
   {
    "duration": 156,
    "start_time": "2024-04-18T07:38:05.149Z"
   },
   {
    "duration": 147,
    "start_time": "2024-04-18T07:38:15.066Z"
   },
   {
    "duration": 304,
    "start_time": "2024-04-18T07:38:47.775Z"
   },
   {
    "duration": 290,
    "start_time": "2024-04-18T07:39:34.714Z"
   },
   {
    "duration": 349,
    "start_time": "2024-04-18T08:47:50.750Z"
   },
   {
    "duration": 1032,
    "start_time": "2024-04-18T08:48:52.192Z"
   },
   {
    "duration": 6,
    "start_time": "2024-04-18T08:50:20.471Z"
   },
   {
    "duration": 14869,
    "start_time": "2024-04-18T08:50:31.506Z"
   },
   {
    "duration": 326,
    "start_time": "2024-04-18T08:51:37.254Z"
   },
   {
    "duration": 8,
    "start_time": "2024-04-18T08:52:52.600Z"
   },
   {
    "duration": 71,
    "start_time": "2024-04-18T08:53:30.951Z"
   },
   {
    "duration": 355,
    "start_time": "2024-04-18T08:53:40.808Z"
   },
   {
    "duration": 58,
    "start_time": "2024-04-18T08:54:00.755Z"
   },
   {
    "duration": 295,
    "start_time": "2024-04-18T08:54:05.657Z"
   },
   {
    "duration": 585,
    "start_time": "2024-04-18T08:54:28.194Z"
   },
   {
    "duration": 588,
    "start_time": "2024-04-18T08:54:38.912Z"
   },
   {
    "duration": 398,
    "start_time": "2024-04-18T08:54:58.282Z"
   },
   {
    "duration": 344,
    "start_time": "2024-04-18T08:55:18.861Z"
   },
   {
    "duration": 337,
    "start_time": "2024-04-18T08:55:46.420Z"
   },
   {
    "duration": 308,
    "start_time": "2024-04-18T08:56:26.510Z"
   },
   {
    "duration": 504,
    "start_time": "2024-04-18T09:38:10.390Z"
   },
   {
    "duration": 477,
    "start_time": "2024-04-18T09:38:30.975Z"
   },
   {
    "duration": 466,
    "start_time": "2024-04-18T09:39:21.283Z"
   },
   {
    "duration": 484,
    "start_time": "2024-04-18T09:39:30.426Z"
   },
   {
    "duration": 666,
    "start_time": "2024-04-18T09:40:07.491Z"
   },
   {
    "duration": 487,
    "start_time": "2024-04-18T09:40:13.763Z"
   },
   {
    "duration": 6,
    "start_time": "2024-04-18T09:41:31.766Z"
   },
   {
    "duration": 16,
    "start_time": "2024-04-18T09:41:42.477Z"
   },
   {
    "duration": 40,
    "start_time": "2024-04-18T09:42:06.895Z"
   },
   {
    "duration": 27,
    "start_time": "2024-04-18T09:42:14.092Z"
   },
   {
    "duration": 23,
    "start_time": "2024-04-18T09:42:17.343Z"
   },
   {
    "duration": 40,
    "start_time": "2024-04-18T09:42:28.099Z"
   },
   {
    "duration": 158,
    "start_time": "2024-04-18T09:42:45.928Z"
   },
   {
    "duration": 173,
    "start_time": "2024-04-18T09:43:13.526Z"
   },
   {
    "duration": 170,
    "start_time": "2024-04-18T09:43:44.522Z"
   },
   {
    "duration": 172,
    "start_time": "2024-04-18T09:43:49.099Z"
   },
   {
    "duration": 159,
    "start_time": "2024-04-18T09:43:53.003Z"
   },
   {
    "duration": 193,
    "start_time": "2024-04-18T09:44:44.765Z"
   },
   {
    "duration": 84,
    "start_time": "2024-04-18T09:45:12.874Z"
   },
   {
    "duration": 175,
    "start_time": "2024-04-18T09:45:29.331Z"
   },
   {
    "duration": 536,
    "start_time": "2024-04-18T09:46:01.739Z"
   },
   {
    "duration": 3,
    "start_time": "2024-04-18T09:47:21.222Z"
   },
   {
    "duration": 3,
    "start_time": "2024-04-18T09:47:43.431Z"
   },
   {
    "duration": 3,
    "start_time": "2024-04-18T09:52:17.033Z"
   },
   {
    "duration": 3,
    "start_time": "2024-04-18T09:52:49.220Z"
   },
   {
    "duration": 3,
    "start_time": "2024-04-18T09:52:50.498Z"
   },
   {
    "duration": 494,
    "start_time": "2024-04-18T09:52:56.050Z"
   },
   {
    "duration": 259,
    "start_time": "2024-04-18T09:53:41.498Z"
   },
   {
    "duration": 141,
    "start_time": "2024-04-18T09:53:46.804Z"
   },
   {
    "duration": 150,
    "start_time": "2024-04-18T09:54:06.076Z"
   },
   {
    "duration": 157,
    "start_time": "2024-04-18T09:54:42.331Z"
   },
   {
    "duration": 178,
    "start_time": "2024-04-18T09:55:04.897Z"
   },
   {
    "duration": 534,
    "start_time": "2024-04-18T09:55:37.642Z"
   },
   {
    "duration": 80,
    "start_time": "2024-04-18T09:55:56.801Z"
   },
   {
    "duration": 2013,
    "start_time": "2024-04-18T09:56:02.939Z"
   },
   {
    "duration": 46,
    "start_time": "2024-04-18T09:56:49.569Z"
   },
   {
    "duration": 50,
    "start_time": "2024-04-18T09:57:34.703Z"
   },
   {
    "duration": 2017,
    "start_time": "2024-04-18T09:57:39.049Z"
   },
   {
    "duration": 48,
    "start_time": "2024-04-18T09:58:31.363Z"
   },
   {
    "duration": 51,
    "start_time": "2024-04-18T09:58:43.550Z"
   },
   {
    "duration": 49,
    "start_time": "2024-04-18T09:59:38.231Z"
   },
   {
    "duration": 53,
    "start_time": "2024-04-18T09:59:52.180Z"
   },
   {
    "duration": 57,
    "start_time": "2024-04-18T10:00:17.896Z"
   },
   {
    "duration": 49,
    "start_time": "2024-04-18T10:00:26.461Z"
   },
   {
    "duration": 50,
    "start_time": "2024-04-18T10:00:55.012Z"
   },
   {
    "duration": 52,
    "start_time": "2024-04-18T10:01:47.063Z"
   },
   {
    "duration": 1392,
    "start_time": "2024-04-18T10:01:52.040Z"
   },
   {
    "duration": 1398,
    "start_time": "2024-04-18T10:02:44.675Z"
   },
   {
    "duration": 1383,
    "start_time": "2024-04-18T10:03:20.163Z"
   },
   {
    "duration": 1412,
    "start_time": "2024-04-18T10:03:27.971Z"
   },
   {
    "duration": 1392,
    "start_time": "2024-04-18T10:03:36.685Z"
   },
   {
    "duration": 1818,
    "start_time": "2024-04-18T10:04:08.255Z"
   },
   {
    "duration": 1391,
    "start_time": "2024-04-18T10:04:18.697Z"
   },
   {
    "duration": 156,
    "start_time": "2024-04-18T10:04:45.712Z"
   },
   {
    "duration": 51,
    "start_time": "2024-04-18T11:59:19.703Z"
   },
   {
    "duration": 820,
    "start_time": "2024-04-18T11:59:23.997Z"
   },
   {
    "duration": 3,
    "start_time": "2024-04-18T11:59:24.819Z"
   },
   {
    "duration": 21,
    "start_time": "2024-04-18T11:59:24.824Z"
   },
   {
    "duration": 2911,
    "start_time": "2024-04-18T11:59:24.848Z"
   },
   {
    "duration": 173,
    "start_time": "2024-04-18T11:59:27.761Z"
   },
   {
    "duration": 548,
    "start_time": "2024-04-18T11:59:27.936Z"
   },
   {
    "duration": 1087,
    "start_time": "2024-04-18T11:59:28.486Z"
   },
   {
    "duration": 431,
    "start_time": "2024-04-18T11:59:29.575Z"
   },
   {
    "duration": 188,
    "start_time": "2024-04-18T11:59:30.007Z"
   },
   {
    "duration": 1479,
    "start_time": "2024-04-18T11:59:30.197Z"
   },
   {
    "duration": 1440,
    "start_time": "2024-04-18T12:13:05.671Z"
   },
   {
    "duration": 7,
    "start_time": "2024-04-18T12:14:20.410Z"
   },
   {
    "duration": 23,
    "start_time": "2024-04-18T12:14:27.161Z"
   },
   {
    "duration": 69,
    "start_time": "2024-04-18T12:14:57.987Z"
   },
   {
    "duration": 73,
    "start_time": "2024-04-18T12:15:54.928Z"
   },
   {
    "duration": 5,
    "start_time": "2024-04-18T12:16:17.141Z"
   },
   {
    "duration": 51,
    "start_time": "2024-04-18T12:16:44.354Z"
   },
   {
    "duration": 442,
    "start_time": "2024-04-18T12:17:23.993Z"
   },
   {
    "duration": 41,
    "start_time": "2024-04-18T12:18:25.639Z"
   },
   {
    "duration": 365,
    "start_time": "2024-04-18T12:18:42.589Z"
   },
   {
    "duration": 369,
    "start_time": "2024-04-18T12:19:00.457Z"
   },
   {
    "duration": 374,
    "start_time": "2024-04-18T12:19:27.581Z"
   },
   {
    "duration": 358,
    "start_time": "2024-04-18T12:19:46.870Z"
   },
   {
    "duration": 25,
    "start_time": "2024-04-18T12:20:08.453Z"
   },
   {
    "duration": 323,
    "start_time": "2024-04-18T12:20:32.716Z"
   },
   {
    "duration": 13,
    "start_time": "2024-04-18T12:21:35.035Z"
   },
   {
    "duration": 44,
    "start_time": "2024-04-18T12:22:05.679Z"
   },
   {
    "duration": 66,
    "start_time": "2024-04-18T12:22:31.806Z"
   },
   {
    "duration": 15,
    "start_time": "2024-04-18T12:28:33.615Z"
   },
   {
    "duration": 52,
    "start_time": "2024-04-18T12:28:46.241Z"
   },
   {
    "duration": 96,
    "start_time": "2024-04-18T12:29:38.788Z"
   },
   {
    "duration": 113,
    "start_time": "2024-04-18T12:30:01.763Z"
   },
   {
    "duration": 143,
    "start_time": "2024-04-18T12:31:33.921Z"
   },
   {
    "duration": 182,
    "start_time": "2024-04-18T12:31:47.006Z"
   },
   {
    "duration": 191,
    "start_time": "2024-04-18T12:33:20.690Z"
   },
   {
    "duration": 172,
    "start_time": "2024-04-18T12:33:27.726Z"
   },
   {
    "duration": 177,
    "start_time": "2024-04-18T12:33:56.667Z"
   },
   {
    "duration": 178,
    "start_time": "2024-04-18T12:34:14.681Z"
   },
   {
    "duration": 30,
    "start_time": "2024-04-18T12:34:41.248Z"
   },
   {
    "duration": 38,
    "start_time": "2024-04-18T12:34:47.219Z"
   },
   {
    "duration": 43,
    "start_time": "2024-04-18T12:36:34.273Z"
   },
   {
    "duration": 26,
    "start_time": "2024-04-18T12:37:58.917Z"
   },
   {
    "duration": 44,
    "start_time": "2024-04-18T12:38:03.996Z"
   },
   {
    "duration": 195,
    "start_time": "2024-04-18T12:39:13.200Z"
   },
   {
    "duration": 214,
    "start_time": "2024-04-18T12:39:18.992Z"
   },
   {
    "duration": 193,
    "start_time": "2024-04-18T12:39:39.121Z"
   },
   {
    "duration": 217,
    "start_time": "2024-04-18T12:39:51.813Z"
   },
   {
    "duration": 250,
    "start_time": "2024-04-18T12:41:05.944Z"
   },
   {
    "duration": 220,
    "start_time": "2024-04-18T12:42:48.638Z"
   },
   {
    "duration": 220,
    "start_time": "2024-04-18T12:43:29.528Z"
   },
   {
    "duration": 231,
    "start_time": "2024-04-18T12:43:36.926Z"
   },
   {
    "duration": 261,
    "start_time": "2024-04-18T12:43:51.878Z"
   },
   {
    "duration": 227,
    "start_time": "2024-04-18T12:44:54.992Z"
   },
   {
    "duration": 932,
    "start_time": "2024-04-18T13:25:40.064Z"
   },
   {
    "duration": 6,
    "start_time": "2024-04-18T13:25:48.168Z"
   },
   {
    "duration": 9,
    "start_time": "2024-04-18T13:25:55.359Z"
   },
   {
    "duration": 182,
    "start_time": "2024-04-18T13:25:57.889Z"
   },
   {
    "duration": 285,
    "start_time": "2024-04-18T13:30:23.457Z"
   },
   {
    "duration": 285,
    "start_time": "2024-04-18T13:30:41.859Z"
   },
   {
    "duration": 275,
    "start_time": "2024-04-18T13:30:49.831Z"
   },
   {
    "duration": 286,
    "start_time": "2024-04-18T13:31:03.740Z"
   },
   {
    "duration": 261,
    "start_time": "2024-04-18T13:31:58.009Z"
   },
   {
    "duration": 141,
    "start_time": "2024-04-18T13:32:20.388Z"
   },
   {
    "duration": 182,
    "start_time": "2024-04-18T13:32:59.265Z"
   },
   {
    "duration": 42,
    "start_time": "2024-04-18T13:51:09.401Z"
   },
   {
    "duration": 6,
    "start_time": "2024-04-18T13:54:56.067Z"
   },
   {
    "duration": 38,
    "start_time": "2024-04-18T13:55:05.894Z"
   },
   {
    "duration": 68,
    "start_time": "2024-04-18T13:55:33.128Z"
   },
   {
    "duration": 334,
    "start_time": "2024-04-18T13:59:14.384Z"
   },
   {
    "duration": 6,
    "start_time": "2024-04-18T14:00:17.593Z"
   },
   {
    "duration": 168,
    "start_time": "2024-04-18T14:00:24.321Z"
   },
   {
    "duration": 5,
    "start_time": "2024-04-18T14:00:37.124Z"
   },
   {
    "duration": 910,
    "start_time": "2024-04-18T14:00:57.241Z"
   },
   {
    "duration": 6,
    "start_time": "2024-04-18T14:01:03.634Z"
   },
   {
    "duration": 5,
    "start_time": "2024-04-18T14:02:26.447Z"
   },
   {
    "duration": 11,
    "start_time": "2024-04-18T14:02:55.999Z"
   },
   {
    "duration": 14,
    "start_time": "2024-04-18T14:03:03.146Z"
   },
   {
    "duration": 82,
    "start_time": "2024-04-18T14:03:14.461Z"
   },
   {
    "duration": 119,
    "start_time": "2024-04-18T14:03:18.227Z"
   },
   {
    "duration": 38,
    "start_time": "2024-04-18T14:07:45.633Z"
   },
   {
    "duration": 415,
    "start_time": "2024-04-18T14:07:52.976Z"
   },
   {
    "duration": 743,
    "start_time": "2024-04-18T14:07:57.144Z"
   },
   {
    "duration": 190,
    "start_time": "2024-04-18T14:08:31.054Z"
   },
   {
    "duration": 786,
    "start_time": "2024-04-19T10:34:13.909Z"
   },
   {
    "duration": 3,
    "start_time": "2024-04-19T10:34:14.697Z"
   },
   {
    "duration": 18,
    "start_time": "2024-04-19T10:34:14.702Z"
   },
   {
    "duration": 1235,
    "start_time": "2024-04-19T10:34:14.722Z"
   },
   {
    "duration": 160,
    "start_time": "2024-04-19T10:34:15.959Z"
   },
   {
    "duration": 51,
    "start_time": "2024-04-19T10:34:16.121Z"
   },
   {
    "duration": 413,
    "start_time": "2024-04-19T10:34:16.174Z"
   },
   {
    "duration": 709,
    "start_time": "2024-04-19T10:34:16.591Z"
   },
   {
    "duration": 241,
    "start_time": "2024-04-19T10:34:17.301Z"
   },
   {
    "duration": 1455,
    "start_time": "2024-04-19T10:34:17.544Z"
   },
   {
    "duration": 69,
    "start_time": "2024-04-19T10:34:19.001Z"
   },
   {
    "duration": 351,
    "start_time": "2024-04-19T10:34:19.072Z"
   },
   {
    "duration": 222,
    "start_time": "2024-04-19T10:34:19.424Z"
   },
   {
    "duration": 297,
    "start_time": "2024-04-19T10:34:19.648Z"
   },
   {
    "duration": 49,
    "start_time": "2024-04-19T10:34:19.947Z"
   },
   {
    "duration": 55,
    "start_time": "2024-04-19T10:34:19.998Z"
   },
   {
    "duration": 230,
    "start_time": "2024-04-19T10:35:17.430Z"
   },
   {
    "duration": 254,
    "start_time": "2024-04-19T10:35:35.464Z"
   },
   {
    "duration": 244,
    "start_time": "2024-04-19T10:35:55.508Z"
   },
   {
    "duration": 295,
    "start_time": "2024-04-19T10:37:01.991Z"
   },
   {
    "duration": 28,
    "start_time": "2024-04-19T10:39:12.152Z"
   },
   {
    "duration": 37,
    "start_time": "2024-04-19T10:39:14.860Z"
   },
   {
    "duration": 272,
    "start_time": "2024-04-19T10:40:11.586Z"
   },
   {
    "duration": 45,
    "start_time": "2024-04-19T14:17:34.961Z"
   },
   {
    "duration": 741,
    "start_time": "2024-04-19T14:17:39.300Z"
   },
   {
    "duration": 3,
    "start_time": "2024-04-19T14:17:40.043Z"
   },
   {
    "duration": 14,
    "start_time": "2024-04-19T14:17:40.047Z"
   },
   {
    "duration": 956,
    "start_time": "2024-04-19T14:17:40.063Z"
   },
   {
    "duration": 138,
    "start_time": "2024-04-19T14:17:41.021Z"
   },
   {
    "duration": 49,
    "start_time": "2024-04-19T14:17:41.161Z"
   },
   {
    "duration": 290,
    "start_time": "2024-04-19T14:17:41.211Z"
   },
   {
    "duration": 586,
    "start_time": "2024-04-19T14:17:41.503Z"
   },
   {
    "duration": 205,
    "start_time": "2024-04-19T14:17:42.090Z"
   },
   {
    "duration": 35,
    "start_time": "2024-04-19T14:17:42.297Z"
   },
   {
    "duration": 0,
    "start_time": "2024-04-19T14:17:42.333Z"
   },
   {
    "duration": 0,
    "start_time": "2024-04-19T14:17:42.334Z"
   },
   {
    "duration": 0,
    "start_time": "2024-04-19T14:17:42.335Z"
   },
   {
    "duration": 0,
    "start_time": "2024-04-19T14:17:42.336Z"
   },
   {
    "duration": 0,
    "start_time": "2024-04-19T14:17:42.337Z"
   },
   {
    "duration": 0,
    "start_time": "2024-04-19T14:17:42.338Z"
   },
   {
    "duration": 1091,
    "start_time": "2024-04-19T14:20:06.756Z"
   },
   {
    "duration": 325,
    "start_time": "2024-04-19T14:20:21.203Z"
   },
   {
    "duration": 10,
    "start_time": "2024-04-19T14:35:08.526Z"
   },
   {
    "duration": 8,
    "start_time": "2024-04-19T14:35:20.409Z"
   },
   {
    "duration": 45,
    "start_time": "2024-04-19T14:36:03.591Z"
   },
   {
    "duration": 37,
    "start_time": "2024-04-19T14:36:10.949Z"
   },
   {
    "duration": 28,
    "start_time": "2024-04-19T14:36:28.464Z"
   },
   {
    "duration": 28,
    "start_time": "2024-04-19T14:36:29.800Z"
   },
   {
    "duration": 60,
    "start_time": "2024-04-19T14:36:31.236Z"
   },
   {
    "duration": 275,
    "start_time": "2024-04-19T14:36:33.403Z"
   },
   {
    "duration": 259,
    "start_time": "2024-04-19T14:41:36.474Z"
   },
   {
    "duration": 278,
    "start_time": "2024-04-19T14:42:05.443Z"
   },
   {
    "duration": 222,
    "start_time": "2024-04-19T14:42:28.809Z"
   },
   {
    "duration": 214,
    "start_time": "2024-04-19T14:43:00.126Z"
   },
   {
    "duration": 36,
    "start_time": "2024-04-19T14:43:04.743Z"
   },
   {
    "duration": 87,
    "start_time": "2024-04-19T14:43:44.971Z"
   },
   {
    "duration": 34,
    "start_time": "2024-04-19T14:44:40.378Z"
   },
   {
    "duration": 233,
    "start_time": "2024-04-19T14:44:43.381Z"
   },
   {
    "duration": 39,
    "start_time": "2024-04-19T14:44:46.070Z"
   },
   {
    "duration": 86,
    "start_time": "2024-04-19T14:44:47.718Z"
   },
   {
    "duration": 76,
    "start_time": "2024-04-19T14:45:51.992Z"
   },
   {
    "duration": 79,
    "start_time": "2024-04-19T14:45:59.889Z"
   },
   {
    "duration": 72,
    "start_time": "2024-04-19T14:46:09.315Z"
   },
   {
    "duration": 3,
    "start_time": "2024-04-19T14:46:29.298Z"
   },
   {
    "duration": 7,
    "start_time": "2024-04-19T14:46:29.302Z"
   },
   {
    "duration": 11,
    "start_time": "2024-04-19T14:46:29.310Z"
   },
   {
    "duration": 704,
    "start_time": "2024-04-19T14:46:29.322Z"
   },
   {
    "duration": 104,
    "start_time": "2024-04-19T14:46:30.028Z"
   },
   {
    "duration": 89,
    "start_time": "2024-04-19T14:46:30.133Z"
   },
   {
    "duration": 341,
    "start_time": "2024-04-19T14:46:30.224Z"
   },
   {
    "duration": 610,
    "start_time": "2024-04-19T14:46:30.566Z"
   },
   {
    "duration": 202,
    "start_time": "2024-04-19T14:46:31.177Z"
   },
   {
    "duration": 334,
    "start_time": "2024-04-19T14:46:31.384Z"
   },
   {
    "duration": 27,
    "start_time": "2024-04-19T14:46:31.719Z"
   },
   {
    "duration": 40,
    "start_time": "2024-04-19T14:46:31.747Z"
   },
   {
    "duration": 65,
    "start_time": "2024-04-19T14:46:31.788Z"
   },
   {
    "duration": 82,
    "start_time": "2024-04-19T14:46:31.855Z"
   },
   {
    "duration": 260,
    "start_time": "2024-04-19T14:46:31.939Z"
   },
   {
    "duration": 25,
    "start_time": "2024-04-19T14:46:32.200Z"
   },
   {
    "duration": 274,
    "start_time": "2024-04-19T14:46:32.227Z"
   },
   {
    "duration": 33,
    "start_time": "2024-04-19T14:46:32.502Z"
   },
   {
    "duration": 82,
    "start_time": "2024-04-19T14:46:32.536Z"
   },
   {
    "duration": 82,
    "start_time": "2024-04-19T14:46:32.620Z"
   },
   {
    "duration": 704,
    "start_time": "2024-04-20T12:56:44.276Z"
   },
   {
    "duration": 3,
    "start_time": "2024-04-20T12:58:09.621Z"
   },
   {
    "duration": 107,
    "start_time": "2024-04-20T13:00:39.422Z"
   },
   {
    "duration": 3,
    "start_time": "2024-04-20T13:01:00.441Z"
   },
   {
    "duration": 166,
    "start_time": "2024-04-20T13:01:00.446Z"
   },
   {
    "duration": 151,
    "start_time": "2024-04-20T13:01:00.614Z"
   },
   {
    "duration": 1393,
    "start_time": "2024-04-20T13:01:00.767Z"
   },
   {
    "duration": 160,
    "start_time": "2024-04-20T13:01:02.163Z"
   },
   {
    "duration": 378,
    "start_time": "2024-04-20T13:01:02.325Z"
   },
   {
    "duration": 771,
    "start_time": "2024-04-20T13:01:02.705Z"
   },
   {
    "duration": 870,
    "start_time": "2024-04-20T13:01:03.477Z"
   },
   {
    "duration": 183,
    "start_time": "2024-04-20T13:01:04.348Z"
   },
   {
    "duration": 434,
    "start_time": "2024-04-20T13:01:04.533Z"
   },
   {
    "duration": 54,
    "start_time": "2024-04-20T13:01:04.969Z"
   },
   {
    "duration": 37,
    "start_time": "2024-04-20T13:01:05.025Z"
   },
   {
    "duration": 61,
    "start_time": "2024-04-20T13:01:05.063Z"
   },
   {
    "duration": 85,
    "start_time": "2024-04-20T13:01:05.126Z"
   },
   {
    "duration": 324,
    "start_time": "2024-04-20T13:01:05.212Z"
   },
   {
    "duration": 35,
    "start_time": "2024-04-20T13:01:05.537Z"
   },
   {
    "duration": 308,
    "start_time": "2024-04-20T13:01:05.573Z"
   },
   {
    "duration": 48,
    "start_time": "2024-04-20T13:01:05.891Z"
   },
   {
    "duration": 148,
    "start_time": "2024-04-20T13:01:05.941Z"
   },
   {
    "duration": 121,
    "start_time": "2024-04-20T13:01:06.091Z"
   },
   {
    "duration": 29,
    "start_time": "2024-04-20T13:01:06.213Z"
   },
   {
    "duration": 25,
    "start_time": "2024-04-20T13:18:32.347Z"
   },
   {
    "duration": 72,
    "start_time": "2024-04-20T13:18:55.078Z"
   },
   {
    "duration": 4,
    "start_time": "2024-04-20T13:21:05.225Z"
   },
   {
    "duration": 10,
    "start_time": "2024-04-20T13:21:21.502Z"
   },
   {
    "duration": 3,
    "start_time": "2024-04-20T13:21:29.707Z"
   },
   {
    "duration": 4,
    "start_time": "2024-04-20T13:22:03.148Z"
   },
   {
    "duration": 18,
    "start_time": "2024-04-20T13:22:15.787Z"
   },
   {
    "duration": 5,
    "start_time": "2024-04-20T13:22:51.828Z"
   },
   {
    "duration": 6,
    "start_time": "2024-04-20T13:22:59.984Z"
   },
   {
    "duration": 16,
    "start_time": "2024-04-20T13:23:05.927Z"
   },
   {
    "duration": 13,
    "start_time": "2024-04-20T13:28:29.476Z"
   },
   {
    "duration": 37,
    "start_time": "2024-04-20T13:33:36.824Z"
   },
   {
    "duration": 19,
    "start_time": "2024-04-20T13:56:17.491Z"
   },
   {
    "duration": 4037,
    "start_time": "2024-04-20T13:56:40.124Z"
   },
   {
    "duration": 659,
    "start_time": "2024-04-20T13:56:48.267Z"
   },
   {
    "duration": 3506,
    "start_time": "2024-04-20T13:57:20.769Z"
   },
   {
    "duration": 23,
    "start_time": "2024-04-20T13:57:35.541Z"
   },
   {
    "duration": 28,
    "start_time": "2024-04-20T14:07:09.675Z"
   },
   {
    "duration": 6,
    "start_time": "2024-04-20T14:13:30.230Z"
   },
   {
    "duration": 2560,
    "start_time": "2024-04-20T14:34:26.732Z"
   },
   {
    "duration": 4,
    "start_time": "2024-04-20T14:34:29.295Z"
   },
   {
    "duration": 26,
    "start_time": "2024-04-20T14:34:29.300Z"
   },
   {
    "duration": 11,
    "start_time": "2024-04-20T14:34:29.327Z"
   },
   {
    "duration": 952,
    "start_time": "2024-04-20T14:34:29.340Z"
   },
   {
    "duration": 149,
    "start_time": "2024-04-20T14:34:30.293Z"
   },
   {
    "duration": 126,
    "start_time": "2024-04-20T14:34:30.444Z"
   },
   {
    "duration": 393,
    "start_time": "2024-04-20T14:34:30.572Z"
   },
   {
    "duration": 625,
    "start_time": "2024-04-20T14:34:30.966Z"
   },
   {
    "duration": 225,
    "start_time": "2024-04-20T14:34:31.593Z"
   },
   {
    "duration": 482,
    "start_time": "2024-04-20T14:34:31.819Z"
   },
   {
    "duration": 37,
    "start_time": "2024-04-20T14:34:32.302Z"
   },
   {
    "duration": 274,
    "start_time": "2024-04-20T14:34:32.340Z"
   },
   {
    "duration": 28,
    "start_time": "2024-04-20T14:34:32.616Z"
   },
   {
    "duration": 83,
    "start_time": "2024-04-20T14:34:32.646Z"
   },
   {
    "duration": 311,
    "start_time": "2024-04-20T14:34:32.731Z"
   },
   {
    "duration": 26,
    "start_time": "2024-04-20T14:34:33.044Z"
   },
   {
    "duration": 607,
    "start_time": "2024-04-20T14:34:33.072Z"
   },
   {
    "duration": 51,
    "start_time": "2024-04-20T14:34:33.681Z"
   },
   {
    "duration": 112,
    "start_time": "2024-04-20T14:34:33.733Z"
   },
   {
    "duration": 105,
    "start_time": "2024-04-20T14:34:33.846Z"
   },
   {
    "duration": 90,
    "start_time": "2024-04-20T14:34:33.953Z"
   },
   {
    "duration": 12,
    "start_time": "2024-04-20T14:34:34.045Z"
   },
   {
    "duration": 16,
    "start_time": "2024-04-20T14:34:34.059Z"
   },
   {
    "duration": 4,
    "start_time": "2024-04-20T14:37:31.864Z"
   },
   {
    "duration": 19,
    "start_time": "2024-04-20T14:40:07.090Z"
   },
   {
    "duration": 2620,
    "start_time": "2024-04-20T14:40:18.366Z"
   },
   {
    "duration": 4,
    "start_time": "2024-04-20T14:40:20.988Z"
   },
   {
    "duration": 61,
    "start_time": "2024-04-20T14:40:20.995Z"
   },
   {
    "duration": 38,
    "start_time": "2024-04-20T14:40:21.058Z"
   },
   {
    "duration": 877,
    "start_time": "2024-04-20T14:40:21.098Z"
   },
   {
    "duration": 172,
    "start_time": "2024-04-20T14:40:21.977Z"
   },
   {
    "duration": 3,
    "start_time": "2024-04-20T14:58:22.961Z"
   },
   {
    "duration": 4,
    "start_time": "2024-04-20T15:08:41.310Z"
   },
   {
    "duration": 4199,
    "start_time": "2024-04-21T12:00:42.325Z"
   },
   {
    "duration": 1618,
    "start_time": "2024-04-21T12:00:46.527Z"
   },
   {
    "duration": 2,
    "start_time": "2024-04-21T12:00:48.147Z"
   },
   {
    "duration": 12,
    "start_time": "2024-04-21T12:00:48.151Z"
   },
   {
    "duration": 3017,
    "start_time": "2024-04-21T12:00:48.164Z"
   },
   {
    "duration": 137,
    "start_time": "2024-04-21T12:00:51.182Z"
   },
   {
    "duration": 52,
    "start_time": "2024-04-21T12:00:51.320Z"
   },
   {
    "duration": 370,
    "start_time": "2024-04-21T12:00:51.373Z"
   },
   {
    "duration": 802,
    "start_time": "2024-04-21T12:00:51.745Z"
   },
   {
    "duration": 170,
    "start_time": "2024-04-21T12:00:52.549Z"
   },
   {
    "duration": 383,
    "start_time": "2024-04-21T12:00:52.720Z"
   },
   {
    "duration": 33,
    "start_time": "2024-04-21T12:00:53.105Z"
   },
   {
    "duration": 41,
    "start_time": "2024-04-21T12:00:53.140Z"
   },
   {
    "duration": 25,
    "start_time": "2024-04-21T12:00:53.182Z"
   },
   {
    "duration": 78,
    "start_time": "2024-04-21T12:00:53.209Z"
   },
   {
    "duration": 292,
    "start_time": "2024-04-21T12:00:53.288Z"
   },
   {
    "duration": 26,
    "start_time": "2024-04-21T12:00:53.582Z"
   },
   {
    "duration": 316,
    "start_time": "2024-04-21T12:00:53.610Z"
   },
   {
    "duration": 54,
    "start_time": "2024-04-21T12:00:53.928Z"
   },
   {
    "duration": 102,
    "start_time": "2024-04-21T12:00:53.983Z"
   },
   {
    "duration": 96,
    "start_time": "2024-04-21T12:00:54.087Z"
   },
   {
    "duration": 71,
    "start_time": "2024-04-21T12:00:54.185Z"
   },
   {
    "duration": 11,
    "start_time": "2024-04-21T12:00:54.265Z"
   },
   {
    "duration": 17,
    "start_time": "2024-04-21T12:00:54.277Z"
   },
   {
    "duration": 3,
    "start_time": "2024-04-21T12:00:54.296Z"
   },
   {
    "duration": 910877,
    "start_time": "2024-04-21T12:00:54.300Z"
   },
   {
    "duration": 9,
    "start_time": "2024-04-21T12:18:27.961Z"
   },
   {
    "duration": 6700,
    "start_time": "2024-04-21T12:18:32.811Z"
   },
   {
    "duration": 3452,
    "start_time": "2024-04-21T12:18:48.974Z"
   },
   {
    "duration": 4,
    "start_time": "2024-04-21T13:30:29.988Z"
   },
   {
    "duration": 25,
    "start_time": "2024-04-21T13:32:40.745Z"
   },
   {
    "duration": 3,
    "start_time": "2024-04-21T13:59:55.831Z"
   },
   {
    "duration": 4,
    "start_time": "2024-04-21T14:00:01.235Z"
   },
   {
    "duration": 38,
    "start_time": "2024-04-21T14:11:44.337Z"
   },
   {
    "duration": 3,
    "start_time": "2024-04-21T14:17:01.683Z"
   },
   {
    "duration": 21,
    "start_time": "2024-04-21T14:17:03.525Z"
   },
   {
    "duration": 445,
    "start_time": "2024-04-21T14:22:47.414Z"
   },
   {
    "duration": 13,
    "start_time": "2024-04-21T15:01:27.983Z"
   },
   {
    "duration": 399,
    "start_time": "2024-04-21T15:01:40.890Z"
   },
   {
    "duration": 396,
    "start_time": "2024-04-21T15:02:26.803Z"
   },
   {
    "duration": 410,
    "start_time": "2024-04-21T15:03:00.937Z"
   },
   {
    "duration": 419,
    "start_time": "2024-04-21T15:03:35.166Z"
   },
   {
    "duration": 427,
    "start_time": "2024-04-21T15:04:28.378Z"
   },
   {
    "duration": 396,
    "start_time": "2024-04-21T15:05:23.269Z"
   },
   {
    "duration": 30,
    "start_time": "2024-04-21T15:06:47.812Z"
   },
   {
    "duration": 399,
    "start_time": "2024-04-21T15:07:11.172Z"
   },
   {
    "duration": 3,
    "start_time": "2024-04-21T15:12:45.689Z"
   },
   {
    "duration": 18,
    "start_time": "2024-04-21T15:12:47.321Z"
   },
   {
    "duration": 385,
    "start_time": "2024-04-21T15:13:06.660Z"
   },
   {
    "duration": 3,
    "start_time": "2024-04-21T15:13:14.299Z"
   },
   {
    "duration": 283,
    "start_time": "2024-04-21T15:13:16.801Z"
   },
   {
    "duration": 1735,
    "start_time": "2024-04-23T04:02:42.334Z"
   },
   {
    "duration": 4823,
    "start_time": "2024-04-23T04:02:48.672Z"
   },
   {
    "duration": 94,
    "start_time": "2024-04-23T04:32:20.479Z"
   },
   {
    "duration": 8,
    "start_time": "2024-04-23T10:26:21.262Z"
   },
   {
    "duration": 4615,
    "start_time": "2024-04-26T11:15:13.961Z"
   },
   {
    "duration": 1697,
    "start_time": "2024-04-26T11:15:18.578Z"
   },
   {
    "duration": 4,
    "start_time": "2024-04-26T11:15:20.277Z"
   },
   {
    "duration": 25,
    "start_time": "2024-04-26T11:15:20.283Z"
   },
   {
    "duration": 1189,
    "start_time": "2024-04-26T11:15:20.310Z"
   },
   {
    "duration": 150,
    "start_time": "2024-04-26T11:15:21.501Z"
   },
   {
    "duration": 46,
    "start_time": "2024-04-26T11:15:21.653Z"
   },
   {
    "duration": 399,
    "start_time": "2024-04-26T11:15:21.702Z"
   },
   {
    "duration": 847,
    "start_time": "2024-04-26T11:15:22.103Z"
   },
   {
    "duration": 181,
    "start_time": "2024-04-26T11:15:22.952Z"
   },
   {
    "duration": 407,
    "start_time": "2024-04-26T11:15:23.135Z"
   },
   {
    "duration": 44,
    "start_time": "2024-04-26T11:15:23.544Z"
   },
   {
    "duration": 38,
    "start_time": "2024-04-26T11:15:23.590Z"
   },
   {
    "duration": 54,
    "start_time": "2024-04-26T11:15:23.630Z"
   },
   {
    "duration": 79,
    "start_time": "2024-04-26T11:15:23.686Z"
   },
   {
    "duration": 297,
    "start_time": "2024-04-26T11:15:23.767Z"
   },
   {
    "duration": 36,
    "start_time": "2024-04-26T11:15:24.066Z"
   },
   {
    "duration": 305,
    "start_time": "2024-04-26T11:15:24.103Z"
   },
   {
    "duration": 46,
    "start_time": "2024-04-26T11:15:24.410Z"
   },
   {
    "duration": 141,
    "start_time": "2024-04-26T11:15:24.458Z"
   },
   {
    "duration": 105,
    "start_time": "2024-04-26T11:15:24.601Z"
   },
   {
    "duration": 77,
    "start_time": "2024-04-26T11:15:24.707Z"
   },
   {
    "duration": 11,
    "start_time": "2024-04-26T11:15:24.786Z"
   },
   {
    "duration": 44,
    "start_time": "2024-04-26T11:15:24.798Z"
   },
   {
    "duration": 426,
    "start_time": "2024-04-26T11:15:24.847Z"
   },
   {
    "duration": 117,
    "start_time": "2024-04-26T11:15:25.274Z"
   },
   {
    "duration": 4,
    "start_time": "2024-04-26T11:16:01.422Z"
   },
   {
    "duration": 4,
    "start_time": "2024-04-26T11:16:07.374Z"
   },
   {
    "duration": 4,
    "start_time": "2024-04-26T11:17:11.691Z"
   },
   {
    "duration": 54,
    "start_time": "2024-04-26T11:17:32.999Z"
   },
   {
    "duration": 17,
    "start_time": "2024-04-26T11:17:58.661Z"
   },
   {
    "duration": 11,
    "start_time": "2024-04-26T11:18:48.245Z"
   },
   {
    "duration": 19,
    "start_time": "2024-04-26T11:18:53.463Z"
   },
   {
    "duration": 17,
    "start_time": "2024-04-26T11:19:44.051Z"
   },
   {
    "duration": 20,
    "start_time": "2024-04-26T11:19:54.126Z"
   },
   {
    "duration": 40,
    "start_time": "2024-04-26T11:20:02.157Z"
   },
   {
    "duration": 15,
    "start_time": "2024-04-26T11:20:04.161Z"
   },
   {
    "duration": 22,
    "start_time": "2024-04-26T11:20:05.447Z"
   },
   {
    "duration": 2699,
    "start_time": "2024-04-26T11:20:39.664Z"
   },
   {
    "duration": 1689,
    "start_time": "2024-04-26T11:20:42.366Z"
   },
   {
    "duration": 3,
    "start_time": "2024-04-26T11:20:44.057Z"
   },
   {
    "duration": 6,
    "start_time": "2024-04-26T11:20:44.062Z"
   },
   {
    "duration": 1208,
    "start_time": "2024-04-26T11:20:44.069Z"
   },
   {
    "duration": 154,
    "start_time": "2024-04-26T11:20:45.279Z"
   },
   {
    "duration": 79,
    "start_time": "2024-04-26T11:20:45.435Z"
   },
   {
    "duration": 432,
    "start_time": "2024-04-26T11:20:45.515Z"
   },
   {
    "duration": 807,
    "start_time": "2024-04-26T11:20:45.949Z"
   },
   {
    "duration": 194,
    "start_time": "2024-04-26T11:20:46.758Z"
   },
   {
    "duration": 445,
    "start_time": "2024-04-26T11:20:46.953Z"
   },
   {
    "duration": 38,
    "start_time": "2024-04-26T11:20:47.401Z"
   },
   {
    "duration": 53,
    "start_time": "2024-04-26T11:20:47.441Z"
   },
   {
    "duration": 33,
    "start_time": "2024-04-26T11:20:47.497Z"
   },
   {
    "duration": 90,
    "start_time": "2024-04-26T11:20:47.532Z"
   },
   {
    "duration": 326,
    "start_time": "2024-04-26T11:20:47.624Z"
   },
   {
    "duration": 33,
    "start_time": "2024-04-26T11:20:47.952Z"
   },
   {
    "duration": 305,
    "start_time": "2024-04-26T11:20:47.987Z"
   },
   {
    "duration": 49,
    "start_time": "2024-04-26T11:20:48.294Z"
   },
   {
    "duration": 115,
    "start_time": "2024-04-26T11:20:48.344Z"
   },
   {
    "duration": 133,
    "start_time": "2024-04-26T11:20:48.461Z"
   },
   {
    "duration": 468,
    "start_time": "2024-04-26T11:20:48.596Z"
   },
   {
    "duration": 29,
    "start_time": "2024-04-26T11:20:49.066Z"
   },
   {
    "duration": 33,
    "start_time": "2024-04-26T11:20:49.097Z"
   },
   {
    "duration": 15,
    "start_time": "2024-04-26T11:20:49.131Z"
   },
   {
    "duration": 35,
    "start_time": "2024-04-26T11:20:49.148Z"
   },
   {
    "duration": 16,
    "start_time": "2024-04-26T11:20:49.185Z"
   },
   {
    "duration": 373,
    "start_time": "2024-04-26T11:21:21.725Z"
   },
   {
    "duration": 4,
    "start_time": "2024-04-26T11:21:30.243Z"
   },
   {
    "duration": 119,
    "start_time": "2024-04-26T11:21:33.115Z"
   },
   {
    "duration": 2657,
    "start_time": "2024-04-26T11:21:37.475Z"
   },
   {
    "duration": 5,
    "start_time": "2024-04-26T11:21:40.134Z"
   },
   {
    "duration": 18,
    "start_time": "2024-04-26T11:21:40.140Z"
   },
   {
    "duration": 24,
    "start_time": "2024-04-26T11:21:40.160Z"
   },
   {
    "duration": 1234,
    "start_time": "2024-04-26T11:21:40.186Z"
   },
   {
    "duration": 160,
    "start_time": "2024-04-26T11:21:41.421Z"
   },
   {
    "duration": 43,
    "start_time": "2024-04-26T11:21:41.583Z"
   },
   {
    "duration": 402,
    "start_time": "2024-04-26T11:21:41.627Z"
   },
   {
    "duration": 959,
    "start_time": "2024-04-26T11:21:42.031Z"
   },
   {
    "duration": 187,
    "start_time": "2024-04-26T11:21:42.993Z"
   },
   {
    "duration": 409,
    "start_time": "2024-04-26T11:21:43.181Z"
   },
   {
    "duration": 35,
    "start_time": "2024-04-26T11:21:43.591Z"
   },
   {
    "duration": 53,
    "start_time": "2024-04-26T11:21:43.628Z"
   },
   {
    "duration": 29,
    "start_time": "2024-04-26T11:21:43.683Z"
   },
   {
    "duration": 90,
    "start_time": "2024-04-26T11:21:43.713Z"
   },
   {
    "duration": 310,
    "start_time": "2024-04-26T11:21:43.805Z"
   },
   {
    "duration": 24,
    "start_time": "2024-04-26T11:21:44.117Z"
   },
   {
    "duration": 328,
    "start_time": "2024-04-26T11:21:44.143Z"
   },
   {
    "duration": 52,
    "start_time": "2024-04-26T11:21:44.472Z"
   },
   {
    "duration": 119,
    "start_time": "2024-04-26T11:21:44.525Z"
   },
   {
    "duration": 109,
    "start_time": "2024-04-26T11:21:44.646Z"
   },
   {
    "duration": 441,
    "start_time": "2024-04-26T11:21:44.757Z"
   },
   {
    "duration": 32,
    "start_time": "2024-04-26T11:21:45.200Z"
   },
   {
    "duration": 50,
    "start_time": "2024-04-26T11:21:45.233Z"
   },
   {
    "duration": 37,
    "start_time": "2024-04-26T11:21:45.285Z"
   },
   {
    "duration": 82,
    "start_time": "2024-04-26T11:21:45.323Z"
   },
   {
    "duration": 93,
    "start_time": "2024-04-26T11:21:45.406Z"
   },
   {
    "duration": 4930,
    "start_time": "2024-04-26T11:21:47.364Z"
   },
   {
    "duration": 5680,
    "start_time": "2024-04-26T11:22:01.113Z"
   },
   {
    "duration": 6,
    "start_time": "2024-04-26T11:22:35.547Z"
   },
   {
    "duration": 5,
    "start_time": "2024-04-26T11:22:47.244Z"
   },
   {
    "duration": 5294,
    "start_time": "2024-04-26T11:50:33.502Z"
   },
   {
    "duration": 2848,
    "start_time": "2024-04-26T11:51:04.733Z"
   },
   {
    "duration": 3558,
    "start_time": "2024-04-26T12:10:54.945Z"
   },
   {
    "duration": 4680,
    "start_time": "2024-04-26T12:11:04.811Z"
   },
   {
    "duration": 5873,
    "start_time": "2024-04-26T12:11:14.509Z"
   },
   {
    "duration": 3124,
    "start_time": "2024-04-26T12:12:16.177Z"
   },
   {
    "duration": 4465,
    "start_time": "2024-04-26T12:12:33.717Z"
   },
   {
    "duration": 2169,
    "start_time": "2024-04-26T12:12:43.624Z"
   },
   {
    "duration": 5491,
    "start_time": "2024-04-26T12:12:50.893Z"
   },
   {
    "duration": 5909,
    "start_time": "2024-04-26T12:13:03.285Z"
   },
   {
    "duration": 5395,
    "start_time": "2024-04-26T12:13:50.587Z"
   },
   {
    "duration": 469,
    "start_time": "2024-04-26T12:15:58.516Z"
   },
   {
    "duration": 540,
    "start_time": "2024-04-26T12:16:05.044Z"
   },
   {
    "duration": 3515,
    "start_time": "2024-04-26T12:16:10.371Z"
   },
   {
    "duration": 926,
    "start_time": "2024-04-26T12:17:01.855Z"
   },
   {
    "duration": 1402,
    "start_time": "2024-04-26T12:17:03.786Z"
   },
   {
    "duration": 3175,
    "start_time": "2024-04-26T12:17:06.820Z"
   },
   {
    "duration": 8979,
    "start_time": "2024-04-26T12:17:11.510Z"
   },
   {
    "duration": 5038,
    "start_time": "2024-04-26T12:18:35.444Z"
   },
   {
    "duration": 37,
    "start_time": "2024-04-26T12:18:42.293Z"
   },
   {
    "duration": 337,
    "start_time": "2024-04-26T12:18:49.451Z"
   },
   {
    "duration": 964,
    "start_time": "2024-04-26T12:20:26.521Z"
   },
   {
    "duration": 24,
    "start_time": "2024-04-26T12:20:38.712Z"
   },
   {
    "duration": 1710,
    "start_time": "2024-04-26T13:19:45.477Z"
   },
   {
    "duration": 26,
    "start_time": "2024-04-26T13:19:48.454Z"
   },
   {
    "duration": 2755,
    "start_time": "2024-04-26T13:21:53.934Z"
   },
   {
    "duration": 243,
    "start_time": "2024-04-26T13:21:58.946Z"
   },
   {
    "duration": 4676,
    "start_time": "2024-04-26T13:22:57.709Z"
   },
   {
    "duration": 338,
    "start_time": "2024-04-26T13:23:03.848Z"
   },
   {
    "duration": 7432,
    "start_time": "2024-04-26T14:05:52.359Z"
   },
   {
    "duration": 636,
    "start_time": "2024-04-26T14:06:01.971Z"
   },
   {
    "duration": 6084,
    "start_time": "2024-04-26T14:06:42.301Z"
   },
   {
    "duration": 371,
    "start_time": "2024-04-26T14:08:25.923Z"
   },
   {
    "duration": 3407,
    "start_time": "2024-04-26T14:08:52.081Z"
   },
   {
    "duration": 258,
    "start_time": "2024-04-26T14:08:56.231Z"
   },
   {
    "duration": 5284,
    "start_time": "2024-04-26T14:08:58.103Z"
   },
   {
    "duration": 374,
    "start_time": "2024-04-26T14:09:04.208Z"
   },
   {
    "duration": 24,
    "start_time": "2024-04-26T14:18:38.999Z"
   },
   {
    "duration": 14,
    "start_time": "2024-04-26T14:18:40.395Z"
   },
   {
    "duration": 35,
    "start_time": "2024-04-26T14:18:42.320Z"
   },
   {
    "duration": 7167,
    "start_time": "2024-04-26T14:18:46.018Z"
   },
   {
    "duration": 388,
    "start_time": "2024-04-26T14:18:55.094Z"
   },
   {
    "duration": 25,
    "start_time": "2024-04-26T14:42:43.008Z"
   },
   {
    "duration": 32,
    "start_time": "2024-04-26T15:05:42.876Z"
   },
   {
    "duration": 28,
    "start_time": "2024-04-26T15:06:16.994Z"
   },
   {
    "duration": 503,
    "start_time": "2024-04-26T15:06:32.304Z"
   },
   {
    "duration": 35,
    "start_time": "2024-04-26T15:06:43.519Z"
   },
   {
    "duration": 456,
    "start_time": "2024-04-26T15:09:15.372Z"
   },
   {
    "duration": 33,
    "start_time": "2024-04-26T15:09:20.869Z"
   },
   {
    "duration": 468,
    "start_time": "2024-04-26T15:23:31.663Z"
   },
   {
    "duration": 28,
    "start_time": "2024-04-26T15:23:33.513Z"
   },
   {
    "duration": 4300,
    "start_time": "2024-04-29T04:17:16.447Z"
   },
   {
    "duration": 1486,
    "start_time": "2024-04-29T04:17:20.749Z"
   },
   {
    "duration": 3,
    "start_time": "2024-04-29T04:17:22.236Z"
   },
   {
    "duration": 41,
    "start_time": "2024-04-29T04:17:22.240Z"
   },
   {
    "duration": 2818,
    "start_time": "2024-04-29T04:17:22.282Z"
   },
   {
    "duration": 118,
    "start_time": "2024-04-29T04:17:25.102Z"
   },
   {
    "duration": 42,
    "start_time": "2024-04-29T04:17:25.221Z"
   },
   {
    "duration": 294,
    "start_time": "2024-04-29T04:17:25.265Z"
   },
   {
    "duration": 633,
    "start_time": "2024-04-29T04:17:25.561Z"
   },
   {
    "duration": 135,
    "start_time": "2024-04-29T04:17:26.202Z"
   },
   {
    "duration": 335,
    "start_time": "2024-04-29T04:17:26.338Z"
   },
   {
    "duration": 39,
    "start_time": "2024-04-29T04:17:26.675Z"
   },
   {
    "duration": 28,
    "start_time": "2024-04-29T04:17:26.716Z"
   },
   {
    "duration": 28,
    "start_time": "2024-04-29T04:17:26.746Z"
   },
   {
    "duration": 59,
    "start_time": "2024-04-29T04:17:26.775Z"
   },
   {
    "duration": 245,
    "start_time": "2024-04-29T04:17:26.835Z"
   },
   {
    "duration": 26,
    "start_time": "2024-04-29T04:17:27.082Z"
   },
   {
    "duration": 241,
    "start_time": "2024-04-29T04:17:27.110Z"
   },
   {
    "duration": 36,
    "start_time": "2024-04-29T04:17:27.353Z"
   },
   {
    "duration": 69,
    "start_time": "2024-04-29T04:17:27.401Z"
   },
   {
    "duration": 82,
    "start_time": "2024-04-29T04:17:27.472Z"
   },
   {
    "duration": 340,
    "start_time": "2024-04-29T04:17:27.555Z"
   },
   {
    "duration": 20,
    "start_time": "2024-04-29T04:17:27.896Z"
   },
   {
    "duration": 16,
    "start_time": "2024-04-29T04:17:27.918Z"
   },
   {
    "duration": 12,
    "start_time": "2024-04-29T04:17:27.936Z"
   },
   {
    "duration": 15,
    "start_time": "2024-04-29T04:17:27.949Z"
   },
   {
    "duration": 4739,
    "start_time": "2024-04-29T04:17:27.966Z"
   },
   {
    "duration": 496,
    "start_time": "2024-04-29T04:17:32.708Z"
   },
   {
    "duration": 2197,
    "start_time": "2024-04-29T04:17:33.206Z"
   },
   {
    "duration": 209,
    "start_time": "2024-04-29T04:17:35.405Z"
   },
   {
    "duration": 7893,
    "start_time": "2024-04-29T04:17:35.616Z"
   },
   {
    "duration": 692,
    "start_time": "2024-04-29T04:17:43.510Z"
   },
   {
    "duration": 3303,
    "start_time": "2024-04-29T04:17:44.204Z"
   },
   {
    "duration": 400,
    "start_time": "2024-04-29T04:17:47.509Z"
   },
   {
    "duration": 5798,
    "start_time": "2024-04-29T04:17:47.910Z"
   },
   {
    "duration": 500,
    "start_time": "2024-04-29T04:17:53.709Z"
   },
   {
    "duration": 3796,
    "start_time": "2024-04-29T04:17:54.211Z"
   },
   {
    "duration": 393,
    "start_time": "2024-04-29T04:17:58.009Z"
   },
   {
    "duration": 4502,
    "start_time": "2024-04-29T04:17:58.404Z"
   },
   {
    "duration": 404,
    "start_time": "2024-04-29T04:18:02.908Z"
   },
   {
    "duration": 12,
    "start_time": "2024-04-29T04:18:03.313Z"
   },
   {
    "duration": 354,
    "start_time": "2024-04-29T04:18:03.402Z"
   },
   {
    "duration": 13,
    "start_time": "2024-04-29T04:18:03.758Z"
   },
   {
    "duration": 673,
    "start_time": "2024-04-29T04:20:34.460Z"
   },
   {
    "duration": 26,
    "start_time": "2024-04-29T04:21:21.387Z"
   },
   {
    "duration": 24,
    "start_time": "2024-04-29T04:21:34.953Z"
   },
   {
    "duration": 2,
    "start_time": "2024-04-29T04:21:44.178Z"
   },
   {
    "duration": 25,
    "start_time": "2024-04-29T04:21:49.895Z"
   },
   {
    "duration": 54,
    "start_time": "2024-04-29T04:23:55.990Z"
   },
   {
    "duration": 2,
    "start_time": "2024-04-29T04:23:59.493Z"
   },
   {
    "duration": 3,
    "start_time": "2024-04-29T04:24:06.441Z"
   },
   {
    "duration": 2,
    "start_time": "2024-04-29T04:24:09.941Z"
   },
   {
    "duration": 2,
    "start_time": "2024-04-29T04:25:01.484Z"
   },
   {
    "duration": 9,
    "start_time": "2024-04-29T04:26:24.790Z"
   },
   {
    "duration": 100,
    "start_time": "2024-04-29T04:32:33.897Z"
   },
   {
    "duration": 3,
    "start_time": "2024-04-29T04:33:00.211Z"
   },
   {
    "duration": 17,
    "start_time": "2024-04-29T04:34:23.324Z"
   },
   {
    "duration": 8,
    "start_time": "2024-04-29T04:34:39.349Z"
   },
   {
    "duration": 3,
    "start_time": "2024-04-29T04:34:56.783Z"
   },
   {
    "duration": 3,
    "start_time": "2024-04-29T04:35:03.215Z"
   },
   {
    "duration": 3,
    "start_time": "2024-04-29T04:39:37.689Z"
   },
   {
    "duration": 9375,
    "start_time": "2024-04-29T04:39:39.540Z"
   },
   {
    "duration": 4,
    "start_time": "2024-04-29T04:40:42.850Z"
   },
   {
    "duration": 10652,
    "start_time": "2024-04-29T04:40:45.006Z"
   },
   {
    "duration": 4,
    "start_time": "2024-04-29T04:42:16.815Z"
   },
   {
    "duration": 8620,
    "start_time": "2024-04-29T04:42:18.271Z"
   },
   {
    "duration": 4,
    "start_time": "2024-04-29T04:42:46.608Z"
   },
   {
    "duration": 147973,
    "start_time": "2024-04-29T04:42:49.361Z"
   },
   {
    "duration": 4,
    "start_time": "2024-04-29T04:46:25.256Z"
   },
   {
    "duration": 9,
    "start_time": "2024-04-29T04:47:58.970Z"
   },
   {
    "duration": 3,
    "start_time": "2024-04-29T04:58:43.688Z"
   },
   {
    "duration": 162473,
    "start_time": "2024-04-29T04:59:03.137Z"
   },
   {
    "duration": 268,
    "start_time": "2024-04-29T05:03:06.034Z"
   },
   {
    "duration": 373,
    "start_time": "2024-04-29T05:03:14.632Z"
   },
   {
    "duration": 665,
    "start_time": "2024-04-29T07:04:11.388Z"
   },
   {
    "duration": 26,
    "start_time": "2024-04-29T07:04:14.138Z"
   },
   {
    "duration": 5107,
    "start_time": "2024-04-29T07:04:21.000Z"
   },
   {
    "duration": 361,
    "start_time": "2024-04-29T07:04:27.661Z"
   },
   {
    "duration": 8,
    "start_time": "2024-04-29T07:27:57.172Z"
   },
   {
    "duration": 3,
    "start_time": "2024-04-29T07:28:04.212Z"
   },
   {
    "duration": 54187,
    "start_time": "2024-04-29T07:28:11.319Z"
   },
   {
    "duration": 4,
    "start_time": "2024-04-29T07:29:05.508Z"
   },
   {
    "duration": 117893,
    "start_time": "2024-04-29T07:29:09.809Z"
   },
   {
    "duration": 4,
    "start_time": "2024-04-29T07:31:07.704Z"
   },
   {
    "duration": 4,
    "start_time": "2024-04-29T07:33:19.243Z"
   },
   {
    "duration": 137367,
    "start_time": "2024-04-29T07:33:21.543Z"
   },
   {
    "duration": 264,
    "start_time": "2024-04-29T07:35:43.648Z"
   },
   {
    "duration": 3,
    "start_time": "2024-04-29T07:36:06.466Z"
   },
   {
    "duration": 248,
    "start_time": "2024-04-29T07:37:26.265Z"
   },
   {
    "duration": 4914,
    "start_time": "2024-04-29T07:37:41.496Z"
   },
   {
    "duration": 131394,
    "start_time": "2024-04-29T07:37:46.412Z"
   },
   {
    "duration": 3,
    "start_time": "2024-04-29T07:39:57.810Z"
   },
   {
    "duration": 396,
    "start_time": "2024-04-29T07:39:57.815Z"
   },
   {
    "duration": 5573,
    "start_time": "2024-04-29T11:16:22.209Z"
   },
   {
    "duration": 39,
    "start_time": "2024-04-29T11:16:38.309Z"
   },
   {
    "duration": 3620,
    "start_time": "2024-04-29T11:17:29.903Z"
   },
   {
    "duration": 8,
    "start_time": "2024-04-29T11:18:39.910Z"
   },
   {
    "duration": 4903,
    "start_time": "2024-04-29T11:19:38.413Z"
   },
   {
    "duration": 5,
    "start_time": "2024-04-29T11:19:43.318Z"
   },
   {
    "duration": 7,
    "start_time": "2024-04-29T11:19:43.324Z"
   },
   {
    "duration": 10,
    "start_time": "2024-04-29T11:19:43.333Z"
   },
   {
    "duration": 649,
    "start_time": "2024-04-29T11:19:43.344Z"
   },
   {
    "duration": 98,
    "start_time": "2024-04-29T11:19:43.994Z"
   },
   {
    "duration": 15,
    "start_time": "2024-04-29T11:19:50.478Z"
   },
   {
    "duration": 4,
    "start_time": "2024-04-29T11:20:16.416Z"
   },
   {
    "duration": 4919,
    "start_time": "2024-04-29T12:21:19.285Z"
   },
   {
    "duration": 1450,
    "start_time": "2024-04-29T12:21:24.207Z"
   },
   {
    "duration": 2,
    "start_time": "2024-04-29T12:21:25.658Z"
   },
   {
    "duration": 11,
    "start_time": "2024-04-29T12:21:25.662Z"
   },
   {
    "duration": 2796,
    "start_time": "2024-04-29T12:21:25.674Z"
   },
   {
    "duration": 98,
    "start_time": "2024-04-29T12:21:28.472Z"
   },
   {
    "duration": 11572,
    "start_time": "2024-04-29T12:25:16.520Z"
   },
   {
    "duration": 9,
    "start_time": "2024-04-29T12:25:41.718Z"
   },
   {
    "duration": 43,
    "start_time": "2024-04-29T12:34:46.063Z"
   },
   {
    "duration": 4890,
    "start_time": "2024-04-29T12:34:52.369Z"
   },
   {
    "duration": 1525,
    "start_time": "2024-04-29T12:34:57.261Z"
   },
   {
    "duration": 2,
    "start_time": "2024-04-29T12:34:58.787Z"
   },
   {
    "duration": 24,
    "start_time": "2024-04-29T12:34:58.791Z"
   },
   {
    "duration": 2812,
    "start_time": "2024-04-29T12:34:58.816Z"
   },
   {
    "duration": 97,
    "start_time": "2024-04-29T12:35:01.630Z"
   },
   {
    "duration": 20,
    "start_time": "2024-04-29T12:35:07.451Z"
   },
   {
    "duration": 3,
    "start_time": "2024-04-29T12:53:32.380Z"
   },
   {
    "duration": 4,
    "start_time": "2024-04-29T13:42:31.230Z"
   },
   {
    "duration": 73,
    "start_time": "2024-04-29T13:42:33.393Z"
   },
   {
    "duration": 4884,
    "start_time": "2024-04-29T13:42:38.968Z"
   },
   {
    "duration": 4,
    "start_time": "2024-04-29T13:42:43.854Z"
   },
   {
    "duration": 16,
    "start_time": "2024-04-29T13:42:43.859Z"
   },
   {
    "duration": 17,
    "start_time": "2024-04-29T13:42:43.876Z"
   },
   {
    "duration": 700,
    "start_time": "2024-04-29T13:42:43.894Z"
   },
   {
    "duration": 97,
    "start_time": "2024-04-29T13:42:44.595Z"
   },
   {
    "duration": 21,
    "start_time": "2024-04-29T13:42:44.693Z"
   },
   {
    "duration": 41,
    "start_time": "2024-04-29T13:42:44.715Z"
   },
   {
    "duration": 322,
    "start_time": "2024-04-29T13:42:44.757Z"
   },
   {
    "duration": 577,
    "start_time": "2024-04-29T13:42:45.082Z"
   },
   {
    "duration": 136,
    "start_time": "2024-04-29T13:42:45.661Z"
   },
   {
    "duration": 375,
    "start_time": "2024-04-29T13:42:45.798Z"
   },
   {
    "duration": 37,
    "start_time": "2024-04-29T13:42:46.174Z"
   },
   {
    "duration": 27,
    "start_time": "2024-04-29T13:42:46.212Z"
   },
   {
    "duration": 32,
    "start_time": "2024-04-29T13:42:46.241Z"
   },
   {
    "duration": 58,
    "start_time": "2024-04-29T13:42:46.274Z"
   },
   {
    "duration": 411,
    "start_time": "2024-04-29T13:42:46.333Z"
   },
   {
    "duration": 23,
    "start_time": "2024-04-29T13:42:46.745Z"
   },
   {
    "duration": 215,
    "start_time": "2024-04-29T13:42:46.769Z"
   },
   {
    "duration": 34,
    "start_time": "2024-04-29T13:42:46.985Z"
   },
   {
    "duration": 67,
    "start_time": "2024-04-29T13:42:47.021Z"
   },
   {
    "duration": 76,
    "start_time": "2024-04-29T13:42:47.089Z"
   },
   {
    "duration": 365,
    "start_time": "2024-04-29T13:42:47.166Z"
   },
   {
    "duration": 15,
    "start_time": "2024-04-29T13:42:47.533Z"
   },
   {
    "duration": 56,
    "start_time": "2024-04-29T13:42:47.549Z"
   },
   {
    "duration": 47,
    "start_time": "2024-04-29T13:42:47.607Z"
   },
   {
    "duration": 32,
    "start_time": "2024-04-29T13:42:47.655Z"
   },
   {
    "duration": 5020,
    "start_time": "2024-04-29T13:42:47.690Z"
   },
   {
    "duration": 131697,
    "start_time": "2024-04-29T13:42:52.711Z"
   },
   {
    "duration": 3,
    "start_time": "2024-04-29T13:45:04.412Z"
   },
   {
    "duration": 586,
    "start_time": "2024-04-29T13:45:04.416Z"
   },
   {
    "duration": 1905,
    "start_time": "2024-04-29T13:45:05.003Z"
   },
   {
    "duration": 192,
    "start_time": "2024-04-29T13:45:06.909Z"
   },
   {
    "duration": 7909,
    "start_time": "2024-04-29T13:45:07.103Z"
   },
   {
    "duration": 697,
    "start_time": "2024-04-29T13:45:15.014Z"
   },
   {
    "duration": 3489,
    "start_time": "2024-04-29T13:45:15.719Z"
   },
   {
    "duration": 393,
    "start_time": "2024-04-29T13:45:19.210Z"
   },
   {
    "duration": 7704,
    "start_time": "2024-04-29T13:45:19.604Z"
   },
   {
    "duration": 503,
    "start_time": "2024-04-29T13:45:27.309Z"
   },
   {
    "duration": 3795,
    "start_time": "2024-04-29T13:45:27.813Z"
   },
   {
    "duration": 305,
    "start_time": "2024-04-29T13:45:31.609Z"
   },
   {
    "duration": 4995,
    "start_time": "2024-04-29T13:45:31.915Z"
   },
   {
    "duration": 406,
    "start_time": "2024-04-29T13:45:36.912Z"
   },
   {
    "duration": 85,
    "start_time": "2024-04-29T13:45:37.319Z"
   },
   {
    "duration": 289797,
    "start_time": "2024-04-29T13:45:37.405Z"
   },
   {
    "duration": 404,
    "start_time": "2024-04-29T13:50:27.204Z"
   },
   {
    "duration": 4909,
    "start_time": "2024-04-29T15:33:53.627Z"
   },
   {
    "duration": 6,
    "start_time": "2024-04-29T15:33:58.538Z"
   },
   {
    "duration": 30,
    "start_time": "2024-04-29T15:33:58.545Z"
   },
   {
    "duration": 29,
    "start_time": "2024-04-29T15:33:58.577Z"
   },
   {
    "duration": 681,
    "start_time": "2024-04-29T15:33:58.608Z"
   },
   {
    "duration": 100,
    "start_time": "2024-04-29T15:33:59.291Z"
   },
   {
    "duration": 25,
    "start_time": "2024-04-29T15:33:59.392Z"
   },
   {
    "duration": 35,
    "start_time": "2024-04-29T15:34:02.251Z"
   },
   {
    "duration": 277,
    "start_time": "2024-04-29T15:34:04.914Z"
   },
   {
    "duration": 266,
    "start_time": "2024-04-29T15:34:37.597Z"
   },
   {
    "duration": 307,
    "start_time": "2024-04-29T15:34:56.992Z"
   },
   {
    "duration": 292,
    "start_time": "2024-04-29T15:35:15.070Z"
   },
   {
    "duration": 269,
    "start_time": "2024-04-29T15:35:20.693Z"
   },
   {
    "duration": 264,
    "start_time": "2024-04-29T15:35:27.832Z"
   },
   {
    "duration": 460,
    "start_time": "2024-04-29T15:35:43.857Z"
   },
   {
    "duration": 368,
    "start_time": "2024-04-29T15:36:37.880Z"
   },
   {
    "duration": 463,
    "start_time": "2024-04-29T15:36:48.742Z"
   },
   {
    "duration": 482,
    "start_time": "2024-04-29T15:37:00.111Z"
   },
   {
    "duration": 450,
    "start_time": "2024-04-29T15:58:11.414Z"
   },
   {
    "duration": 433,
    "start_time": "2024-04-29T15:58:25.417Z"
   },
   {
    "duration": 448,
    "start_time": "2024-04-29T15:58:43.963Z"
   },
   {
    "duration": 135,
    "start_time": "2024-04-29T15:59:11.735Z"
   },
   {
    "duration": 349,
    "start_time": "2024-04-29T15:59:45.515Z"
   },
   {
    "duration": 135,
    "start_time": "2024-04-29T16:00:16.484Z"
   },
   {
    "duration": 144,
    "start_time": "2024-04-29T16:00:24.004Z"
   },
   {
    "duration": 143,
    "start_time": "2024-04-29T16:00:46.977Z"
   },
   {
    "duration": 685,
    "start_time": "2024-04-29T16:01:44.765Z"
   },
   {
    "duration": 20,
    "start_time": "2024-04-29T16:01:57.513Z"
   },
   {
    "duration": 5538,
    "start_time": "2024-04-29T16:03:12.649Z"
   },
   {
    "duration": 5,
    "start_time": "2024-04-29T16:03:18.189Z"
   },
   {
    "duration": 5,
    "start_time": "2024-04-29T16:03:18.195Z"
   },
   {
    "duration": 3,
    "start_time": "2024-04-29T16:03:18.202Z"
   },
   {
    "duration": 651,
    "start_time": "2024-04-29T16:03:18.206Z"
   },
   {
    "duration": 99,
    "start_time": "2024-04-29T16:03:18.858Z"
   },
   {
    "duration": 18,
    "start_time": "2024-04-29T16:03:18.958Z"
   },
   {
    "duration": 20,
    "start_time": "2024-04-29T16:03:22.606Z"
   },
   {
    "duration": 65,
    "start_time": "2024-04-29T16:03:59.659Z"
   },
   {
    "duration": 3,
    "start_time": "2024-04-29T16:04:07.787Z"
   },
   {
    "duration": 4,
    "start_time": "2024-04-29T16:04:16.054Z"
   },
   {
    "duration": 21,
    "start_time": "2024-04-29T16:04:36.420Z"
   },
   {
    "duration": 3,
    "start_time": "2024-04-29T16:04:40.757Z"
   },
   {
    "duration": 7479,
    "start_time": "2024-04-30T05:27:08.386Z"
   },
   {
    "duration": 1705,
    "start_time": "2024-04-30T05:27:15.868Z"
   },
   {
    "duration": 2,
    "start_time": "2024-04-30T05:27:17.575Z"
   },
   {
    "duration": 9,
    "start_time": "2024-04-30T05:27:17.579Z"
   },
   {
    "duration": 1178,
    "start_time": "2024-04-30T05:27:17.589Z"
   },
   {
    "duration": 145,
    "start_time": "2024-04-30T05:27:18.769Z"
   },
   {
    "duration": 28,
    "start_time": "2024-04-30T05:27:18.916Z"
   },
   {
    "duration": 120,
    "start_time": "2024-04-30T05:27:18.945Z"
   },
   {
    "duration": 394,
    "start_time": "2024-04-30T05:27:19.066Z"
   },
   {
    "duration": 611,
    "start_time": "2024-04-30T05:27:19.462Z"
   },
   {
    "duration": 184,
    "start_time": "2024-04-30T05:27:20.074Z"
   },
   {
    "duration": 398,
    "start_time": "2024-04-30T05:27:20.260Z"
   },
   {
    "duration": 40,
    "start_time": "2024-04-30T05:27:20.659Z"
   },
   {
    "duration": 34,
    "start_time": "2024-04-30T05:27:20.700Z"
   },
   {
    "duration": 38,
    "start_time": "2024-04-30T05:27:20.735Z"
   },
   {
    "duration": 82,
    "start_time": "2024-04-30T05:27:20.775Z"
   },
   {
    "duration": 411,
    "start_time": "2024-04-30T05:27:20.858Z"
   },
   {
    "duration": 0,
    "start_time": "2024-04-30T05:27:21.272Z"
   },
   {
    "duration": 0,
    "start_time": "2024-04-30T05:27:21.274Z"
   },
   {
    "duration": 0,
    "start_time": "2024-04-30T05:27:21.275Z"
   },
   {
    "duration": 0,
    "start_time": "2024-04-30T05:27:21.277Z"
   },
   {
    "duration": 0,
    "start_time": "2024-04-30T05:27:21.278Z"
   },
   {
    "duration": 0,
    "start_time": "2024-04-30T05:27:21.279Z"
   },
   {
    "duration": 0,
    "start_time": "2024-04-30T05:27:21.294Z"
   },
   {
    "duration": 0,
    "start_time": "2024-04-30T05:27:21.296Z"
   },
   {
    "duration": 0,
    "start_time": "2024-04-30T05:27:21.297Z"
   },
   {
    "duration": 0,
    "start_time": "2024-04-30T05:27:21.299Z"
   },
   {
    "duration": 0,
    "start_time": "2024-04-30T05:27:21.300Z"
   },
   {
    "duration": 1,
    "start_time": "2024-04-30T05:27:21.301Z"
   },
   {
    "duration": 0,
    "start_time": "2024-04-30T05:27:21.303Z"
   },
   {
    "duration": 0,
    "start_time": "2024-04-30T05:27:21.304Z"
   },
   {
    "duration": 0,
    "start_time": "2024-04-30T05:27:21.306Z"
   },
   {
    "duration": 0,
    "start_time": "2024-04-30T05:27:21.307Z"
   },
   {
    "duration": 1,
    "start_time": "2024-04-30T05:27:21.308Z"
   },
   {
    "duration": 0,
    "start_time": "2024-04-30T05:27:21.310Z"
   },
   {
    "duration": 0,
    "start_time": "2024-04-30T05:27:21.311Z"
   },
   {
    "duration": 0,
    "start_time": "2024-04-30T05:27:21.313Z"
   },
   {
    "duration": 0,
    "start_time": "2024-04-30T05:27:21.314Z"
   },
   {
    "duration": 0,
    "start_time": "2024-04-30T05:27:21.316Z"
   },
   {
    "duration": 0,
    "start_time": "2024-04-30T05:27:21.317Z"
   },
   {
    "duration": 0,
    "start_time": "2024-04-30T05:27:21.318Z"
   },
   {
    "duration": 0,
    "start_time": "2024-04-30T05:27:21.320Z"
   },
   {
    "duration": 0,
    "start_time": "2024-04-30T05:27:21.321Z"
   },
   {
    "duration": 0,
    "start_time": "2024-04-30T05:27:21.323Z"
   },
   {
    "duration": 0,
    "start_time": "2024-04-30T05:27:21.324Z"
   },
   {
    "duration": 0,
    "start_time": "2024-04-30T05:27:21.326Z"
   },
   {
    "duration": 0,
    "start_time": "2024-04-30T05:27:21.327Z"
   },
   {
    "duration": 0,
    "start_time": "2024-04-30T05:27:21.328Z"
   },
   {
    "duration": 0,
    "start_time": "2024-04-30T05:27:21.330Z"
   },
   {
    "duration": 289,
    "start_time": "2024-04-30T05:28:20.271Z"
   },
   {
    "duration": 405,
    "start_time": "2024-04-30T05:28:51.157Z"
   },
   {
    "duration": 311,
    "start_time": "2024-04-30T05:30:07.457Z"
   },
   {
    "duration": 296,
    "start_time": "2024-04-30T05:30:31.599Z"
   },
   {
    "duration": 31,
    "start_time": "2024-04-30T05:34:28.902Z"
   },
   {
    "duration": 6,
    "start_time": "2024-04-30T05:34:45.887Z"
   },
   {
    "duration": 173,
    "start_time": "2024-04-30T05:34:52.188Z"
   },
   {
    "duration": 14,
    "start_time": "2024-04-30T05:35:13.687Z"
   },
   {
    "duration": 321,
    "start_time": "2024-04-30T05:36:44.920Z"
   },
   {
    "duration": 452,
    "start_time": "2024-04-30T05:37:30.161Z"
   },
   {
    "duration": 546,
    "start_time": "2024-04-30T05:37:52.896Z"
   },
   {
    "duration": 326,
    "start_time": "2024-04-30T05:38:00.566Z"
   },
   {
    "duration": 438,
    "start_time": "2024-04-30T05:38:15.661Z"
   },
   {
    "duration": 440,
    "start_time": "2024-04-30T05:40:17.823Z"
   },
   {
    "duration": 564,
    "start_time": "2024-04-30T05:40:24.036Z"
   },
   {
    "duration": 450,
    "start_time": "2024-04-30T05:52:56.215Z"
   },
   {
    "duration": 111,
    "start_time": "2024-04-30T05:55:16.103Z"
   },
   {
    "duration": 11,
    "start_time": "2024-04-30T05:55:52.224Z"
   },
   {
    "duration": 12,
    "start_time": "2024-04-30T05:55:58.630Z"
   },
   {
    "duration": 8,
    "start_time": "2024-04-30T05:56:06.655Z"
   },
   {
    "duration": 12,
    "start_time": "2024-04-30T05:57:33.710Z"
   },
   {
    "duration": 13,
    "start_time": "2024-04-30T05:57:50.917Z"
   },
   {
    "duration": 17,
    "start_time": "2024-04-30T06:06:16.578Z"
   },
   {
    "duration": 35,
    "start_time": "2024-04-30T06:11:09.131Z"
   },
   {
    "duration": 601,
    "start_time": "2024-04-30T06:11:12.835Z"
   },
   {
    "duration": 0,
    "start_time": "2024-04-30T06:12:13.927Z"
   },
   {
    "duration": 13,
    "start_time": "2024-04-30T06:12:20.222Z"
   },
   {
    "duration": 1381,
    "start_time": "2024-04-30T06:12:37.514Z"
   },
   {
    "duration": 181,
    "start_time": "2024-04-30T06:12:57.724Z"
   },
   {
    "duration": 14,
    "start_time": "2024-04-30T06:13:18.309Z"
   },
   {
    "duration": 13,
    "start_time": "2024-04-30T06:13:29.644Z"
   },
   {
    "duration": 172,
    "start_time": "2024-04-30T06:13:33.165Z"
   },
   {
    "duration": 208,
    "start_time": "2024-04-30T06:14:40.720Z"
   },
   {
    "duration": 205,
    "start_time": "2024-04-30T06:15:04.936Z"
   },
   {
    "duration": 133,
    "start_time": "2024-04-30T06:43:05.694Z"
   },
   {
    "duration": 71,
    "start_time": "2024-04-30T06:43:09.840Z"
   },
   {
    "duration": 208,
    "start_time": "2024-04-30T06:43:13.016Z"
   },
   {
    "duration": 48,
    "start_time": "2024-04-30T06:53:24.501Z"
   },
   {
    "duration": 109,
    "start_time": "2024-04-30T06:53:26.196Z"
   },
   {
    "duration": 87,
    "start_time": "2024-04-30T06:53:27.696Z"
   },
   {
    "duration": 110,
    "start_time": "2024-04-30T06:54:34.855Z"
   },
   {
    "duration": 98,
    "start_time": "2024-04-30T06:55:10.641Z"
   },
   {
    "duration": 10,
    "start_time": "2024-04-30T06:55:20.299Z"
   },
   {
    "duration": 18,
    "start_time": "2024-04-30T06:55:35.082Z"
   },
   {
    "duration": 4,
    "start_time": "2024-04-30T06:55:39.842Z"
   },
   {
    "duration": 349,
    "start_time": "2024-04-30T07:02:04.942Z"
   },
   {
    "duration": 321,
    "start_time": "2024-04-30T07:02:28.022Z"
   },
   {
    "duration": 19,
    "start_time": "2024-04-30T07:02:30.158Z"
   },
   {
    "duration": 18,
    "start_time": "2024-04-30T07:02:32.548Z"
   },
   {
    "duration": 12,
    "start_time": "2024-04-30T07:02:33.888Z"
   },
   {
    "duration": 17,
    "start_time": "2024-04-30T07:02:34.739Z"
   },
   {
    "duration": 398481,
    "start_time": "2024-04-30T07:02:37.019Z"
   },
   {
    "duration": 5233,
    "start_time": "2024-04-30T07:13:45.904Z"
   },
   {
    "duration": 5,
    "start_time": "2024-04-30T07:13:51.139Z"
   },
   {
    "duration": 21,
    "start_time": "2024-04-30T07:13:51.146Z"
   },
   {
    "duration": 4,
    "start_time": "2024-04-30T07:13:51.169Z"
   },
   {
    "duration": 830,
    "start_time": "2024-04-30T07:13:51.175Z"
   },
   {
    "duration": 144,
    "start_time": "2024-04-30T07:13:52.007Z"
   },
   {
    "duration": 32,
    "start_time": "2024-04-30T07:13:52.152Z"
   },
   {
    "duration": 95,
    "start_time": "2024-04-30T07:13:52.185Z"
   },
   {
    "duration": 371,
    "start_time": "2024-04-30T07:13:52.283Z"
   },
   {
    "duration": 548,
    "start_time": "2024-04-30T07:13:52.655Z"
   },
   {
    "duration": 194,
    "start_time": "2024-04-30T07:13:53.204Z"
   },
   {
    "duration": 408,
    "start_time": "2024-04-30T07:13:53.400Z"
   },
   {
    "duration": 26,
    "start_time": "2024-04-30T07:13:53.809Z"
   },
   {
    "duration": 34,
    "start_time": "2024-04-30T07:13:53.836Z"
   },
   {
    "duration": 41,
    "start_time": "2024-04-30T07:13:53.872Z"
   },
   {
    "duration": 67,
    "start_time": "2024-04-30T07:13:53.915Z"
   },
   {
    "duration": 317,
    "start_time": "2024-04-30T07:13:53.984Z"
   },
   {
    "duration": 28,
    "start_time": "2024-04-30T07:13:54.303Z"
   },
   {
    "duration": 483,
    "start_time": "2024-04-30T07:13:54.333Z"
   },
   {
    "duration": 31,
    "start_time": "2024-04-30T07:13:54.818Z"
   },
   {
    "duration": 244,
    "start_time": "2024-04-30T07:13:54.851Z"
   },
   {
    "duration": 43,
    "start_time": "2024-04-30T07:13:55.097Z"
   },
   {
    "duration": 102,
    "start_time": "2024-04-30T07:13:55.141Z"
   },
   {
    "duration": 89,
    "start_time": "2024-04-30T07:13:55.245Z"
   },
   {
    "duration": 99,
    "start_time": "2024-04-30T07:13:55.336Z"
   },
   {
    "duration": 112,
    "start_time": "2024-04-30T07:13:55.437Z"
   },
   {
    "duration": 3,
    "start_time": "2024-04-30T07:13:55.553Z"
   },
   {
    "duration": 336,
    "start_time": "2024-04-30T07:13:55.558Z"
   },
   {
    "duration": 19,
    "start_time": "2024-04-30T07:13:55.896Z"
   },
   {
    "duration": 40,
    "start_time": "2024-04-30T07:13:55.916Z"
   },
   {
    "duration": 16,
    "start_time": "2024-04-30T07:13:55.958Z"
   },
   {
    "duration": 41,
    "start_time": "2024-04-30T07:13:55.976Z"
   },
   {
    "duration": 3978,
    "start_time": "2024-04-30T07:13:56.018Z"
   },
   {
    "duration": 781405,
    "start_time": "2024-04-30T07:13:59.997Z"
   },
   {
    "duration": 4,
    "start_time": "2024-04-30T07:27:01.404Z"
   },
   {
    "duration": 386,
    "start_time": "2024-04-30T07:27:01.410Z"
   },
   {
    "duration": 1302,
    "start_time": "2024-04-30T07:27:01.797Z"
   },
   {
    "duration": 98,
    "start_time": "2024-04-30T07:27:03.101Z"
   },
   {
    "duration": 6895,
    "start_time": "2024-04-30T07:27:03.201Z"
   },
   {
    "duration": 502,
    "start_time": "2024-04-30T07:27:10.098Z"
   },
   {
    "duration": 2706,
    "start_time": "2024-04-30T07:27:10.601Z"
   },
   {
    "duration": 296,
    "start_time": "2024-04-30T07:27:13.308Z"
   },
   {
    "duration": 5000,
    "start_time": "2024-04-30T07:27:13.606Z"
   },
   {
    "duration": 397,
    "start_time": "2024-04-30T07:27:18.608Z"
   },
   {
    "duration": 2401,
    "start_time": "2024-04-30T07:27:19.007Z"
   },
   {
    "duration": 303,
    "start_time": "2024-04-30T07:27:21.410Z"
   },
   {
    "duration": 3908,
    "start_time": "2024-04-30T07:27:21.793Z"
   },
   {
    "duration": 307,
    "start_time": "2024-04-30T07:27:25.703Z"
   },
   {
    "duration": 508,
    "start_time": "2024-04-30T07:27:26.011Z"
   },
   {
    "duration": 20,
    "start_time": "2024-04-30T07:27:26.520Z"
   },
   {
    "duration": 38,
    "start_time": "2024-04-30T07:27:26.542Z"
   },
   {
    "duration": 80901,
    "start_time": "2024-04-30T07:27:26.582Z"
   },
   {
    "duration": 10,
    "start_time": "2024-04-30T07:28:47.485Z"
   },
   {
    "duration": 14,
    "start_time": "2024-04-30T07:28:47.497Z"
   },
   {
    "duration": 4,
    "start_time": "2024-04-30T07:35:46.488Z"
   },
   {
    "duration": 1398664,
    "start_time": "2024-04-30T07:36:15.435Z"
   },
   {
    "duration": 5,
    "start_time": "2024-04-30T09:06:32.281Z"
   },
   {
    "duration": 11,
    "start_time": "2024-04-30T09:06:33.798Z"
   },
   {
    "duration": 5,
    "start_time": "2024-04-30T10:52:18.351Z"
   },
   {
    "duration": 4,
    "start_time": "2024-04-30T10:52:53.750Z"
   },
   {
    "duration": 4,
    "start_time": "2024-04-30T10:53:00.758Z"
   },
   {
    "duration": 3,
    "start_time": "2024-04-30T10:53:09.965Z"
   },
   {
    "duration": 3,
    "start_time": "2024-04-30T10:55:01.017Z"
   },
   {
    "duration": 248,
    "start_time": "2024-04-30T10:55:52.479Z"
   },
   {
    "duration": 5,
    "start_time": "2024-04-30T10:57:38.821Z"
   },
   {
    "duration": 76,
    "start_time": "2024-04-30T10:59:34.489Z"
   },
   {
    "duration": 3,
    "start_time": "2024-04-30T10:59:38.513Z"
   },
   {
    "duration": 17,
    "start_time": "2024-04-30T11:00:12.446Z"
   },
   {
    "duration": 4,
    "start_time": "2024-04-30T11:00:26.619Z"
   },
   {
    "duration": 4,
    "start_time": "2024-04-30T11:00:36.134Z"
   },
   {
    "duration": 4,
    "start_time": "2024-04-30T11:00:52.962Z"
   },
   {
    "duration": 2,
    "start_time": "2024-04-30T11:01:17.972Z"
   },
   {
    "duration": 2,
    "start_time": "2024-04-30T11:01:22.501Z"
   },
   {
    "duration": 5868,
    "start_time": "2024-04-30T11:05:45.942Z"
   },
   {
    "duration": 5820,
    "start_time": "2024-04-30T11:06:13.301Z"
   },
   {
    "duration": 7529,
    "start_time": "2024-04-30T11:07:09.674Z"
   },
   {
    "duration": 438,
    "start_time": "2024-04-30T11:08:06.104Z"
   },
   {
    "duration": 63,
    "start_time": "2024-04-30T11:08:07.780Z"
   },
   {
    "duration": 4,
    "start_time": "2024-04-30T11:10:28.724Z"
   },
   {
    "duration": 3,
    "start_time": "2024-04-30T11:10:30.031Z"
   },
   {
    "duration": 284,
    "start_time": "2024-04-30T11:10:31.410Z"
   },
   {
    "duration": 3,
    "start_time": "2024-04-30T11:16:24.350Z"
   },
   {
    "duration": 5,
    "start_time": "2024-04-30T11:16:42.949Z"
   },
   {
    "duration": 3,
    "start_time": "2024-04-30T11:16:47.942Z"
   },
   {
    "duration": 3,
    "start_time": "2024-04-30T11:16:53.768Z"
   },
   {
    "duration": 4,
    "start_time": "2024-04-30T11:17:02.418Z"
   },
   {
    "duration": 3,
    "start_time": "2024-04-30T11:17:06.883Z"
   },
   {
    "duration": 3,
    "start_time": "2024-04-30T11:17:42.829Z"
   },
   {
    "duration": 4,
    "start_time": "2024-04-30T11:17:52.251Z"
   },
   {
    "duration": 4,
    "start_time": "2024-04-30T11:18:00.388Z"
   },
   {
    "duration": 10,
    "start_time": "2024-04-30T11:32:28.524Z"
   },
   {
    "duration": 3,
    "start_time": "2024-04-30T11:33:12.325Z"
   },
   {
    "duration": 10,
    "start_time": "2024-04-30T11:33:23.452Z"
   },
   {
    "duration": 10,
    "start_time": "2024-04-30T11:33:26.753Z"
   },
   {
    "duration": 10,
    "start_time": "2024-04-30T11:33:33.103Z"
   },
   {
    "duration": 10,
    "start_time": "2024-04-30T11:34:11.307Z"
   },
   {
    "duration": 10,
    "start_time": "2024-04-30T11:34:18.825Z"
   },
   {
    "duration": 11,
    "start_time": "2024-04-30T11:34:22.886Z"
   },
   {
    "duration": 11,
    "start_time": "2024-04-30T11:34:23.558Z"
   },
   {
    "duration": 11,
    "start_time": "2024-04-30T11:34:24.160Z"
   },
   {
    "duration": 10,
    "start_time": "2024-04-30T11:34:24.689Z"
   },
   {
    "duration": 9,
    "start_time": "2024-04-30T11:34:25.267Z"
   },
   {
    "duration": 10,
    "start_time": "2024-04-30T11:34:25.898Z"
   },
   {
    "duration": 5,
    "start_time": "2024-04-30T11:39:22.827Z"
   },
   {
    "duration": 36,
    "start_time": "2024-04-30T11:43:15.370Z"
   },
   {
    "duration": 32,
    "start_time": "2024-04-30T11:43:46.477Z"
   },
   {
    "duration": 35,
    "start_time": "2024-04-30T11:43:53.090Z"
   },
   {
    "duration": 7919,
    "start_time": "2024-05-01T10:45:18.018Z"
   },
   {
    "duration": 1853,
    "start_time": "2024-05-01T10:45:25.939Z"
   },
   {
    "duration": 3,
    "start_time": "2024-05-01T10:45:27.794Z"
   },
   {
    "duration": 32,
    "start_time": "2024-05-01T10:45:27.799Z"
   },
   {
    "duration": 1295,
    "start_time": "2024-05-01T10:45:27.834Z"
   },
   {
    "duration": 188,
    "start_time": "2024-05-01T10:45:29.131Z"
   },
   {
    "duration": 36,
    "start_time": "2024-05-01T10:45:29.321Z"
   },
   {
    "duration": 109,
    "start_time": "2024-05-01T10:45:29.359Z"
   },
   {
    "duration": 404,
    "start_time": "2024-05-01T10:45:29.470Z"
   },
   {
    "duration": 682,
    "start_time": "2024-05-01T10:45:29.876Z"
   },
   {
    "duration": 219,
    "start_time": "2024-05-01T10:45:30.561Z"
   },
   {
    "duration": 422,
    "start_time": "2024-05-01T10:45:58.736Z"
   },
   {
    "duration": 446,
    "start_time": "2024-05-01T10:46:06.616Z"
   },
   {
    "duration": 278,
    "start_time": "2024-05-01T10:48:05.934Z"
   },
   {
    "duration": 407,
    "start_time": "2024-05-01T10:48:13.221Z"
   },
   {
    "duration": 301,
    "start_time": "2024-05-01T10:49:08.309Z"
   },
   {
    "duration": 54,
    "start_time": "2024-05-01T10:49:47.687Z"
   },
   {
    "duration": 44,
    "start_time": "2024-05-01T10:49:56.719Z"
   },
   {
    "duration": 107,
    "start_time": "2024-05-01T10:50:04.282Z"
   },
   {
    "duration": 118,
    "start_time": "2024-05-01T10:50:05.467Z"
   },
   {
    "duration": 97,
    "start_time": "2024-05-01T10:50:07.392Z"
   },
   {
    "duration": 107,
    "start_time": "2024-05-01T10:50:08.457Z"
   },
   {
    "duration": 4,
    "start_time": "2024-05-01T10:50:09.845Z"
   },
   {
    "duration": 143,
    "start_time": "2024-05-01T10:52:04.811Z"
   },
   {
    "duration": 5193,
    "start_time": "2024-05-01T10:52:31.837Z"
   },
   {
    "duration": 6,
    "start_time": "2024-05-01T10:52:37.033Z"
   },
   {
    "duration": 48,
    "start_time": "2024-05-01T10:52:37.040Z"
   },
   {
    "duration": 70,
    "start_time": "2024-05-01T10:52:37.090Z"
   },
   {
    "duration": 853,
    "start_time": "2024-05-01T10:52:37.162Z"
   },
   {
    "duration": 154,
    "start_time": "2024-05-01T10:52:38.016Z"
   },
   {
    "duration": 23,
    "start_time": "2024-05-01T10:52:38.172Z"
   },
   {
    "duration": 136,
    "start_time": "2024-05-01T10:52:38.197Z"
   },
   {
    "duration": 417,
    "start_time": "2024-05-01T10:52:38.335Z"
   },
   {
    "duration": 713,
    "start_time": "2024-05-01T10:52:38.758Z"
   },
   {
    "duration": 217,
    "start_time": "2024-05-01T10:52:39.473Z"
   },
   {
    "duration": 446,
    "start_time": "2024-05-01T10:52:39.691Z"
   },
   {
    "duration": 39,
    "start_time": "2024-05-01T10:52:40.139Z"
   },
   {
    "duration": 50,
    "start_time": "2024-05-01T10:52:40.182Z"
   },
   {
    "duration": 42,
    "start_time": "2024-05-01T10:52:40.234Z"
   },
   {
    "duration": 83,
    "start_time": "2024-05-01T10:52:40.278Z"
   },
   {
    "duration": 324,
    "start_time": "2024-05-01T10:52:40.364Z"
   },
   {
    "duration": 30,
    "start_time": "2024-05-01T10:52:40.689Z"
   },
   {
    "duration": 528,
    "start_time": "2024-05-01T10:52:40.720Z"
   },
   {
    "duration": 47,
    "start_time": "2024-05-01T10:52:41.250Z"
   },
   {
    "duration": 243,
    "start_time": "2024-05-01T10:52:41.299Z"
   },
   {
    "duration": 50,
    "start_time": "2024-05-01T10:52:41.543Z"
   },
   {
    "duration": 97,
    "start_time": "2024-05-01T10:52:41.595Z"
   },
   {
    "duration": 92,
    "start_time": "2024-05-01T10:52:41.694Z"
   },
   {
    "duration": 118,
    "start_time": "2024-05-01T10:52:41.788Z"
   },
   {
    "duration": 119,
    "start_time": "2024-05-01T10:52:41.908Z"
   },
   {
    "duration": 5,
    "start_time": "2024-05-01T10:52:42.028Z"
   },
   {
    "duration": 358,
    "start_time": "2024-05-01T10:52:42.035Z"
   },
   {
    "duration": 20,
    "start_time": "2024-05-01T10:52:42.395Z"
   },
   {
    "duration": 50,
    "start_time": "2024-05-01T10:52:42.416Z"
   },
   {
    "duration": 22,
    "start_time": "2024-05-01T10:52:42.468Z"
   },
   {
    "duration": 42,
    "start_time": "2024-05-01T10:52:42.492Z"
   },
   {
    "duration": 6,
    "start_time": "2024-05-01T10:53:02.512Z"
   }
  ],
  "kernelspec": {
   "display_name": "Python 3 (ipykernel)",
   "language": "python",
   "name": "python3"
  },
  "language_info": {
   "codemirror_mode": {
    "name": "ipython",
    "version": 3
   },
   "file_extension": ".py",
   "mimetype": "text/x-python",
   "name": "python",
   "nbconvert_exporter": "python",
   "pygments_lexer": "ipython3",
   "version": "3.11.7"
  },
  "toc": {
   "base_numbering": 1,
   "nav_menu": {},
   "number_sections": true,
   "sideBar": true,
   "skip_h1_title": true,
   "title_cell": "Table of Contents",
   "title_sidebar": "Contents",
   "toc_cell": false,
   "toc_position": {
    "height": "calc(100% - 180px)",
    "left": "10px",
    "top": "150px",
    "width": "284.391px"
   },
   "toc_section_display": true,
   "toc_window_display": true
  }
 },
 "nbformat": 4,
 "nbformat_minor": 4
}
